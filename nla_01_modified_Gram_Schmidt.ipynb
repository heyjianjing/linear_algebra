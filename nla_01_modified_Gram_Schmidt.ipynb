{
  "nbformat": 4,
  "nbformat_minor": 0,
  "metadata": {
    "colab": {
      "provenance": []
    },
    "kernelspec": {
      "name": "python3",
      "display_name": "Python 3"
    },
    "language_info": {
      "name": "python"
    }
  },
  "cells": [
    {
      "cell_type": "markdown",
      "source": [
        "#### `Gram–Schmidt` procedure"
      ],
      "metadata": {
        "id": "RzSDlfgPUCzC"
      }
    },
    {
      "cell_type": "markdown",
      "source": [
        "Suppose $A=\\begin{bmatrix}a_1 & a_2 & \\cdots & a_k\\end{bmatrix}\\in \\mathbf{R}^{n \\times k}$ is `full rank`, recall the classic G-S (CGS) procedure wants to find the $Q$ and $R$ matrices such that\n",
        "\n",
        "$$\\begin{bmatrix}a_1 & a_2 & \\cdots & a_k\\end{bmatrix}=\\begin{bmatrix}q_1 & q_2 & \\cdots & q_k\\end{bmatrix}\\begin{bmatrix}r_{11} & r_{12} & \\cdots & r_{1k} \\\\ 0 & r_{22} & \\cdots & r_{2k} \\\\ \\vdots & \\vdots & \\ddots & \\vdots \\\\ 0 & 0& \\cdots & r_{kk} \\end{bmatrix}$$\n",
        "\n",
        "\n",
        "$$a_i = (q_1^Ta_i)q_1 + (q_2^Ta_i)q_2 +\\cdots+ (q_{i-1}^Ta_i)q_{i-1} + \\|\\tilde{q_i}\\|q_i$$"
      ],
      "metadata": {
        "id": "89Q1kQiiwtRv"
      }
    },
    {
      "cell_type": "markdown",
      "source": [
        "We write the expression in the form of `sum of coefficients times vectors`\n",
        "\n",
        "$$\\begin{align*}\n",
        "\\tilde{q_i} &= a_i - (q_1^Ta_i)q_1 - (q_2^Ta_i)q_2 -\\cdots- (q_{i-1}^Ta_i)q_{i-1}, q_i = \\frac{\\tilde{q_i}}{\\|\\tilde{q_i}\\|}\n",
        "\\end{align*}$$\n",
        "\n",
        "and we sequentially compute each term $(q_1^Ta_i)q_1$ and `subtract` it from $a_i$ to get $q_i$ (after normalization)"
      ],
      "metadata": {
        "id": "rjznoSeKpue0"
      }
    },
    {
      "cell_type": "markdown",
      "source": [
        "#### `Equivalent` iterative procedure"
      ],
      "metadata": {
        "id": "pfwyLFHmqQHV"
      }
    },
    {
      "cell_type": "markdown",
      "source": [
        "On the other hand, we know that we can also write the expression in the form of `rank-one projection matrix`\n",
        "\n",
        "$$\\begin{align*}\n",
        "\\tilde{q_i} &= a_i - (q_1q_1^T)a_i - (q_2q_2^T)a_i -\\cdots- (q_{i-1}q_{i-1})^Ta_i\\\\\n",
        "&=(I-Q_{i-1}Q_{i-1}^T)a_i \\\\\n",
        "&=(I-q_{i-1}q_{i-1}^T)(I-q_{i-2}q_{i-2}^T)\\cdots (I-q_1q_1^T) a_i\n",
        "\\end{align*}$$\n",
        "\n",
        "where $Q_{i-1}=\\begin{bmatrix}q_1 & q_2 & \\cdots & q_{i-1}\\end{bmatrix}$\n",
        "\n",
        "The equality\n",
        "\n",
        "$$(I-Q_{i-1}Q_{i-1}^T)a_i =(I-q_{i-1}q_{i-1}^T)(I-q_{i-2}q_{i-2}^T)\\cdots (I-q_1q_1^T) a_i$$\n",
        "\n",
        "follows from the fact that when two unit vectors $u, v$ are orthogonal, the projection onto the complement of $R([u, v])$ is equivalent to projection first onto the complement of $R(u)$ and then to the complement of $R(v)$\n",
        "\n",
        "$$(I-vv^T)(I-uu^T)=I-uu^T-vv^T+u(u^Tv)v^T=I-vv^T-uu^T=(I-[u, v][u,v]^T)$$\n",
        "\n",
        "This also indicates that at every iteration when we subtract $-q_{j}q_{j}^Ta_i$, it is equivalent to left multiplying $(I-q_{j}q_{j}^T)$"
      ],
      "metadata": {
        "id": "jdGjqsPbnVMQ"
      }
    },
    {
      "cell_type": "markdown",
      "source": [
        "#### `Modified` G-S (MGS)"
      ],
      "metadata": {
        "id": "lVuwn1QkC_5h"
      }
    },
    {
      "cell_type": "markdown",
      "source": [
        "With this formulation, the MGS utilizes the following iterative procedure which allows to use prior result of $q_i$ in computation rather than always using $a_i$\n",
        "\n",
        "$$\\begin{align*}\n",
        "q_i^{(1)}&=a_i \\\\\n",
        "q_i^{(2)}&=a_i-(q_1^Ta_i)q_1 \\,\\,\\text{(same as CGS)} \\\\\n",
        "q_i^{(3)}&=(I-q_2q_2^T)q_i^{(2)}=q_i^{(2)}-\\left(q_2^Tq_i^{(2)}\\right)q_2 \\,\\,\\text{(different from CGS)} \\\\\n",
        "q_i^{(4)}&=(I-q_3q_3^T)q_i^{(3)}=q_i^{(3)}-\\left(q_3^Tq_i^{(3)}\\right)q_3 \\,\\,\\text{(different from CGS)} \\\\\n",
        "&\\vdots \\\\\n",
        "q_i^{(i)}&=(I-q_{i-1}q_{i-1}^T)q_i^{({i-1})}=q_i^{({i-1})}-\\left(q_{i-1}^Tq_i^{({i-1})}\\right)q_{i-1} \\,\\,\\text{(different from CGS)}\n",
        "\\end{align*}$$\n",
        "\n",
        "In the algorithm, we need to revise `R[j, i] = np.dot(Q[:, j], A[:, i])` to `R[j, i] = np.dot(Q[:, j], q)`"
      ],
      "metadata": {
        "id": "MLhWh1rSDCeZ"
      }
    },
    {
      "cell_type": "markdown",
      "source": [
        "#### Intuition of better `numerical stability` of MGS"
      ],
      "metadata": {
        "id": "puSDID8UMklv"
      }
    },
    {
      "cell_type": "markdown",
      "source": [
        "The orthogonalization coefficient computation in MGS $q_j^Tq_i^{(k)}$ only allows to propagate the potential error in $q_j$, which may span high dimension, to be restricted to $q_i^{(k)}$, whose dimension is getting lower as iteration $k$ moves on. Therefore, error propagation is getting limited\n",
        "\n",
        "\n",
        "However, in CGS, the coefficient computation always involves $a_i$ (which is in high dimension) in $q_j^Ta_i$, therefore, error in $q_j$ won't be restricted to a lower dimension"
      ],
      "metadata": {
        "id": "3lxX8zCmMrNu"
      }
    },
    {
      "cell_type": "markdown",
      "source": [
        "#### Example"
      ],
      "metadata": {
        "id": "ncFPaeqU6GH6"
      }
    },
    {
      "cell_type": "code",
      "source": [
        "import matplotlib.pyplot as plt\n",
        "import numpy as np\n",
        "np.set_printoptions(formatter={'float': '{: 0.4f}'.format})\n",
        "\n",
        "plt.style.use('dark_background')\n",
        "# color: https://matplotlib.org/stable/gallery/color/named_colors.htm"
      ],
      "metadata": {
        "id": "E7IXLxroydqP"
      },
      "execution_count": 1,
      "outputs": []
    },
    {
      "cell_type": "code",
      "source": [
        "def gram_schmidt(A, modified=True):\n",
        "    # Columns of A are independent\n",
        "    n = A.shape[1]\n",
        "    Q = np.zeros_like(A)\n",
        "    R = np.zeros((n, n))\n",
        "\n",
        "    for i in range(n):\n",
        "        q = A[:, i].copy()\n",
        "\n",
        "        for j in range(i):\n",
        "            if modified:\n",
        "                R[j, i] = np.dot(Q[:, j], q)\n",
        "            else:\n",
        "                R[j, i] = np.dot(Q[:, j], A[:, i])\n",
        "            q -= R[j, i] * Q[:, j]\n",
        "\n",
        "        R[i, i] = np.sqrt(np.dot(q, q))\n",
        "        q /=  R[i, i]\n",
        "        Q[:, i] = q\n",
        "\n",
        "    return Q, R"
      ],
      "metadata": {
        "id": "98FoAhzR6Icm"
      },
      "execution_count": 2,
      "outputs": []
    },
    {
      "cell_type": "code",
      "source": [
        "mat_list = ['square', 'non-square', 'ill-conditioned']\n",
        "mat = mat_list[2]\n",
        "epsilon = 1e-8\n",
        "\n",
        "if mat == 'square':\n",
        "    A = np.array([[1.0, 2.0, 3.0, 4.0],\n",
        "                  [4.0, 1.0, 0.0, -1.0],\n",
        "                  [3.0, 5.0, -2.0, 1.0],\n",
        "                  [2.0, 0.0, 1.0, 2.0]])\n",
        "elif mat == 'non-square':\n",
        "    A = np.array([[1.0, 2.0, 3.0],\n",
        "                  [4.0, 1.0, 0.0],\n",
        "                  [3.0, 5.0, -2.0],\n",
        "                  [2.0, 0.0, 1.0]])\n",
        "elif mat == 'ill-conditioned':\n",
        "    A = np.array([[1, 1, 1],\n",
        "                  [epsilon, 0, 0],\n",
        "                  [0, epsilon, 0],\n",
        "                  [0, 0, epsilon]])\n",
        "\n",
        "Q, R = gram_schmidt(A, modified=True)\n",
        "\n",
        "print(\"Orthonormal basis Q:\")\n",
        "print(Q)\n",
        "\n",
        "print(\"\\nUpper triangular matrix R:\")\n",
        "print(R)\n",
        "\n",
        "# Verify Q is orthonormal\n",
        "print(f\"\\nQ^TQ:\\n{np.dot(Q.T, Q)}\")\n",
        "print(f\"Norms: \\n{np.linalg.norm(Q, axis=0)}\")\n",
        "\n",
        "# Verify that A = QR\n",
        "A_reconstructed = np.dot(Q, R)\n",
        "print(\"\\nOriginal matrix A:\")\n",
        "print(A)\n",
        "print(\"\\nReconstructed matrix A from Q and R:\")\n",
        "print(A_reconstructed)"
      ],
      "metadata": {
        "colab": {
          "base_uri": "https://localhost:8080/"
        },
        "id": "r7hJ0x0u6KXR",
        "outputId": "e517f9a5-2edb-40ad-bc9c-7554dd08b0f4"
      },
      "execution_count": 3,
      "outputs": [
        {
          "output_type": "stream",
          "name": "stdout",
          "text": [
            "Orthonormal basis Q:\n",
            "[[ 1.0000  0.0000  0.0000]\n",
            " [ 0.0000 -0.7071 -0.4082]\n",
            " [ 0.0000  0.7071 -0.4082]\n",
            " [ 0.0000  0.0000  0.8165]]\n",
            "\n",
            "Upper triangular matrix R:\n",
            "[[ 1.0000  1.0000  1.0000]\n",
            " [ 0.0000  0.0000  0.0000]\n",
            " [ 0.0000  0.0000  0.0000]]\n",
            "\n",
            "Q^TQ:\n",
            "[[ 1.0000 -0.0000 -0.0000]\n",
            " [-0.0000  1.0000  0.0000]\n",
            " [-0.0000  0.0000  1.0000]]\n",
            "Norms: \n",
            "[ 1.0000  1.0000  1.0000]\n",
            "\n",
            "Original matrix A:\n",
            "[[ 1.0000  1.0000  1.0000]\n",
            " [ 0.0000  0.0000  0.0000]\n",
            " [ 0.0000  0.0000  0.0000]\n",
            " [ 0.0000  0.0000  0.0000]]\n",
            "\n",
            "Reconstructed matrix A from Q and R:\n",
            "[[ 1.0000  1.0000  1.0000]\n",
            " [ 0.0000  0.0000  0.0000]\n",
            " [ 0.0000  0.0000 -0.0000]\n",
            " [ 0.0000  0.0000  0.0000]]\n"
          ]
        }
      ]
    },
    {
      "cell_type": "code",
      "source": [
        "Q, R = gram_schmidt(A, modified=False)\n",
        "\n",
        "print(\"Orthonormal basis Q:\")\n",
        "print(Q)\n",
        "\n",
        "print(\"\\nUpper triangular matrix R:\")\n",
        "print(R)\n",
        "\n",
        "# Verify Q is orthonormal\n",
        "print(f\"\\nQ^TQ:\\n{np.dot(Q.T, Q)}\")\n",
        "print(f\"Norms: \\n{np.linalg.norm(Q, axis=0)}\")\n",
        "\n",
        "# Verify that A = QR\n",
        "A_reconstructed = np.dot(Q, R)\n",
        "print(\"\\nOriginal matrix A:\")\n",
        "print(A)\n",
        "print(\"\\nReconstructed matrix A from Q and R:\")\n",
        "print(A_reconstructed)"
      ],
      "metadata": {
        "colab": {
          "base_uri": "https://localhost:8080/"
        },
        "id": "2G9BRFvtG2NR",
        "outputId": "0ae1f9ab-8fd9-4d39-d582-614dff6ffc30"
      },
      "execution_count": 4,
      "outputs": [
        {
          "output_type": "stream",
          "name": "stdout",
          "text": [
            "Orthonormal basis Q:\n",
            "[[ 1.0000  0.0000  0.0000]\n",
            " [ 0.0000 -0.7071 -0.7071]\n",
            " [ 0.0000  0.7071  0.0000]\n",
            " [ 0.0000  0.0000  0.7071]]\n",
            "\n",
            "Upper triangular matrix R:\n",
            "[[ 1.0000  1.0000  1.0000]\n",
            " [ 0.0000  0.0000  0.0000]\n",
            " [ 0.0000  0.0000  0.0000]]\n",
            "\n",
            "Q^TQ:\n",
            "[[ 1.0000 -0.0000 -0.0000]\n",
            " [-0.0000  1.0000  0.5000]\n",
            " [-0.0000  0.5000  1.0000]]\n",
            "Norms: \n",
            "[ 1.0000  1.0000  1.0000]\n",
            "\n",
            "Original matrix A:\n",
            "[[ 1.0000  1.0000  1.0000]\n",
            " [ 0.0000  0.0000  0.0000]\n",
            " [ 0.0000  0.0000  0.0000]\n",
            " [ 0.0000  0.0000  0.0000]]\n",
            "\n",
            "Reconstructed matrix A from Q and R:\n",
            "[[ 1.0000  1.0000  1.0000]\n",
            " [ 0.0000  0.0000  0.0000]\n",
            " [ 0.0000  0.0000  0.0000]\n",
            " [ 0.0000  0.0000  0.0000]]\n"
          ]
        }
      ]
    },
    {
      "cell_type": "markdown",
      "source": [
        "Here, we see that $Q^TQ$ is no longer producing identity matrix, indicating the CGS failed to find the orthonormal basis\n",
        "\n",
        "However, MGS still produces orthonormal basis"
      ],
      "metadata": {
        "id": "SDG3OxILHYyw"
      }
    },
    {
      "cell_type": "code",
      "source": [],
      "metadata": {
        "id": "YQmDhbUEHkiD"
      },
      "execution_count": 4,
      "outputs": []
    }
  ]
}