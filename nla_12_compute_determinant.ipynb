{
  "nbformat": 4,
  "nbformat_minor": 0,
  "metadata": {
    "colab": {
      "provenance": []
    },
    "kernelspec": {
      "name": "python3",
      "display_name": "Python 3"
    },
    "language_info": {
      "name": "python"
    }
  },
  "cells": [
    {
      "cell_type": "markdown",
      "source": [
        "#### Property of determinant"
      ],
      "metadata": {
        "id": "s9JRN0lOHziu"
      }
    },
    {
      "cell_type": "markdown",
      "source": [
        "Use the property of determinant\n",
        "\n",
        "$$\\det AB = \\det A \\det B$$\n",
        "\n",
        "and\n",
        "\n",
        "$$\\det A = \\prod \\lambda_i(A)$$\n",
        "\n",
        "We can compute determinant of a square matrix using Cholesky and LU with partial pivoting"
      ],
      "metadata": {
        "id": "LPIeN-tCB2ps"
      }
    },
    {
      "cell_type": "markdown",
      "source": [
        "#### Cholesky factorization"
      ],
      "metadata": {
        "id": "4YjSGPFGlzyu"
      }
    },
    {
      "cell_type": "markdown",
      "source": [
        "Use Cholesky, for matrix $A$ that is `positive definite`, we have\n",
        "\n",
        "$$A=LL^T$$\n",
        "\n",
        "and\n",
        "\n",
        "$$\\det A = \\det L \\det L^T = \\left(\\prod L_{ii}\\right)^2$$"
      ],
      "metadata": {
        "id": "-OSbjoRymnvB"
      }
    },
    {
      "cell_type": "code",
      "source": [
        "import matplotlib.pyplot as plt\n",
        "import numpy as np\n",
        "np.set_printoptions(formatter={'float': '{: 0.4f}'.format})\n",
        "\n",
        "plt.style.use('dark_background')\n",
        "# color: https://matplotlib.org/stable/gallery/color/named_colors.htm"
      ],
      "metadata": {
        "id": "64VKzPhM8fWC"
      },
      "execution_count": null,
      "outputs": []
    },
    {
      "cell_type": "code",
      "source": [
        "def cholesky_factorization(A):\n",
        "    m = A.shape[0]\n",
        "    l_mat = A.copy().astype(float)\n",
        "\n",
        "    for k in range(m):\n",
        "        if l_mat[k, k] <= 0:\n",
        "            return print('Input is not positive definite')\n",
        "\n",
        "        # Follow the first step, iteratively apply to a smaller and smaller K\n",
        "        l_mat[k+1:, k+1:] -= np.outer(l_mat[k+1:, k], l_mat[k+1:, k]) / l_mat[k, k]\n",
        "        l_mat[k:, k] /= np.sqrt(l_mat[k, k])\n",
        "\n",
        "    return np.tril(l_mat)"
      ],
      "metadata": {
        "id": "s4WzTQpWAaWU"
      },
      "execution_count": null,
      "outputs": []
    },
    {
      "cell_type": "code",
      "source": [
        "np.random.seed(42)\n",
        "m = 15\n",
        "\n",
        "A = np.random.randn(m, m)\n",
        "A_sym = A.T @ A\n",
        "l = cholesky_factorization(A_sym)\n",
        "det_A_sym = np.prod(np.diag(l))**2\n",
        "det_A_sym_np = np.linalg.det(A_sym)\n",
        "\n",
        "print(f'Determinant (Cholesky): {det_A_sym}')\n",
        "print(f'Determinant (NumPy): {det_A_sym_np}')"
      ],
      "metadata": {
        "id": "DeCaeG48pzqu",
        "colab": {
          "base_uri": "https://localhost:8080/"
        },
        "outputId": "0c80fc75-8843-4cb2-8d92-a4e016892236"
      },
      "execution_count": null,
      "outputs": [
        {
          "output_type": "stream",
          "name": "stdout",
          "text": [
            "Determinant (Cholesky): 251849047.3242578\n",
            "Determinant (NumPy): 251849047.3240416\n"
          ]
        }
      ]
    },
    {
      "cell_type": "markdown",
      "source": [
        "#### LU with partial pivoting"
      ],
      "metadata": {
        "id": "hOK0FNRNZvnv"
      }
    },
    {
      "cell_type": "markdown",
      "source": [
        "For full rank square matrix $A$, we find $P$, $L$, $U$ such that $PA=LU$\n",
        "\n",
        "Then, we have\n",
        "\n",
        "$$\\det PA = \\det P \\det A = \\pm \\det A$$\n",
        "\n",
        "and\n",
        "\n",
        "$$\\det LU = \\det L \\det U = \\prod u_{ii}$$"
      ],
      "metadata": {
        "id": "fH-X1-UaZ0fv"
      }
    },
    {
      "cell_type": "code",
      "source": [
        "def lu_factorization(A):\n",
        "    m, n = A.shape\n",
        "    u_mat = A.copy().astype(float)\n",
        "    l_mat = np.identity(m)\n",
        "    p_mat = np.identity(m)\n",
        "\n",
        "    for k in range(m-1):\n",
        "        # Find pivot\n",
        "        pivot = np.argmax(np.abs(u_mat[k:, k])) + k\n",
        "\n",
        "        if pivot != k:\n",
        "            # Swap rows in u, p, and l\n",
        "            u_mat[[k, pivot], :] = u_mat[[pivot, k], :]\n",
        "            p_mat[[k, pivot], :] = p_mat[[pivot, k], :]\n",
        "            l_mat[[k, pivot], :k] = l_mat[[pivot, k], :k]\n",
        "\n",
        "        for j in range(k + 1, m):\n",
        "            l_mat[j, k] = u_mat[j, k] / u_mat[k, k]\n",
        "            # Subtract multiply of kth row from jth row\n",
        "            u_mat[j, k:] -= l_mat[j, k] * u_mat[k, k:]\n",
        "\n",
        "    return p_mat, l_mat, u_mat"
      ],
      "metadata": {
        "id": "gd5ecpksZnBu"
      },
      "execution_count": null,
      "outputs": []
    },
    {
      "cell_type": "code",
      "source": [
        "p, l, u = lu_factorization(A)\n",
        "\n",
        "det_A = np.prod(np.diag(u))\n",
        "det_A_np = np.linalg.det(A)\n",
        "\n",
        "print(f'Determinant (LU): {det_A}')\n",
        "print(f'Determinant (NumPy): {det_A_np}')"
      ],
      "metadata": {
        "colab": {
          "base_uri": "https://localhost:8080/"
        },
        "id": "IyfQVQGyaWNR",
        "outputId": "ea24f5cc-c59a-4966-aee1-2d876e8581b2"
      },
      "execution_count": null,
      "outputs": [
        {
          "output_type": "stream",
          "name": "stdout",
          "text": [
            "Determinant (LU): -15869.752591777115\n",
            "Determinant (NumPy): -15869.752591777273\n"
          ]
        }
      ]
    }
  ]
}