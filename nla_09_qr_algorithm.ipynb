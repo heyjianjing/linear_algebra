{
  "nbformat": 4,
  "nbformat_minor": 0,
  "metadata": {
    "colab": {
      "provenance": []
    },
    "kernelspec": {
      "name": "python3",
      "display_name": "Python 3"
    },
    "language_info": {
      "name": "python"
    }
  },
  "cells": [
    {
      "cell_type": "markdown",
      "source": [
        "#### `QR algorithm`"
      ],
      "metadata": {
        "id": "dBkY7bLvloWD"
      }
    },
    {
      "cell_type": "markdown",
      "source": [
        "So far, we iterate based on\n",
        "\n",
        "$$Q_{i+1}R_{i+1}=AQ_i$$\n",
        "\n",
        "We can rearrange to do it slightly differently\n",
        "\n",
        "$$Q_i^TQ_{i+1}R_{i+1}=Q_i^TAQ_i$$\n",
        "\n",
        "If we denote $\\tilde{Q}_{i+1}=Q_i^TQ_{i+1}$, and $Q_i^TAQ_i=A_i$, then, by construction, $\\tilde{Q}_{i+1}$ is `orthogonal`, and $A_i$ is `similar` to $A$ and therefore, have the same eigenvalues\n",
        "\n",
        "So we have\n",
        "\n",
        "$$\\tilde{Q}_{i+1}R_{i+1}=A_i$$"
      ],
      "metadata": {
        "id": "INpXRxSrlxAG"
      }
    },
    {
      "cell_type": "markdown",
      "source": [
        "Now if we swap the factors, we get\n",
        "\n",
        "$$\\begin{align*}\n",
        "R_{i+1}\\tilde{Q}_{i+1}&=\\left(Q^T_{i+1}AQ_i\\right)\\left(Q_i^TQ_{i+1}\\right) \\\\\n",
        "&=Q^T_{i+1}AQ_{i+1} \\\\\n",
        "&=A_{i+1}\n",
        "\\end{align*}$$\n",
        "\n",
        "So far, we haven't really changed anything to orthogonal iterations, just reformulate it at each step by regrouping and reusing the outcomes from orthogonal iterations\n",
        "\n",
        "Therefore, if orthogonal iterations converge as $i\\rightarrow \\infty$, then\n",
        "\n",
        "$$Q^TAQ=A_{i+1}$$\n",
        "\n",
        "and $T$ in Schur decomposition is $A_{i+1}$\n",
        "\n",
        "This indicates that instead of iterating over $Q$ as in orthogonal iterations, equivalently, we can also iterate over $T$ (in this case, $A$ itself)\n",
        "\n",
        "This is the basic `QR algorithm` for finding eigenvalues of general matrices\n",
        "\n",
        "(In practice, many other tricks would be needed, such as transformation into upper Hessenberg form)"
      ],
      "metadata": {
        "id": "EXLfOprdwnV3"
      }
    },
    {
      "cell_type": "code",
      "source": [
        "import matplotlib.pyplot as plt\n",
        "import numpy as np\n",
        "np.set_printoptions(formatter={'float': '{: 0.4f}'.format})\n",
        "\n",
        "plt.style.use('dark_background')\n",
        "# color: https://matplotlib.org/stable/gallery/color/named_colors.htm"
      ],
      "metadata": {
        "id": "E7IXLxroydqP"
      },
      "execution_count": 1,
      "outputs": []
    },
    {
      "cell_type": "code",
      "source": [
        "def householder(A):\n",
        "    m, n = A.shape\n",
        "    R = A.copy()\n",
        "    Q = np.identity(m)\n",
        "\n",
        "    for i in range(n):\n",
        "        x = R[i:, i]\n",
        "        v = x.copy()\n",
        "        sng = np.sign(x[0]) if x[0] != 0 else 1.0\n",
        "        v[0] += sng * np.linalg.norm(x)\n",
        "        v /= np.linalg.norm(v)\n",
        "\n",
        "        # Since all entries in R[i:, :i] are zero from previous iteration\n",
        "        # applying transformation to R[i:, i:] would suffice\n",
        "        R[i:, i:] -= 2 * np.outer(v, v) @ R[i:, i:]\n",
        "\n",
        "        # If Q is needed explicitly\n",
        "        Q[i:, :] -= 2 * np.outer(v, v) @ Q[i:, :]\n",
        "\n",
        "    return Q.T, R\n",
        "\n",
        "def back_substitution(T, i):\n",
        "    n = T.shape[0]\n",
        "    v_i = np.zeros(n)\n",
        "    v_i[i] = 1\n",
        "    T_modified = T[:i, :i] - np.eye(i) * T[i, i]\n",
        "\n",
        "    for j in range(i-1, -1, -1):\n",
        "        if T_modified[j, j] == 0:\n",
        "            raise ValueError(\"Singular matrix\")\n",
        "        v_i[j] = -(T[j, j+1:i+1] @ v_i[j+1:i+1]) / T_modified[j, j]\n",
        "    return v_i\n",
        "\n",
        "\n",
        "def diagonalizable_mat(n):\n",
        "    # Create diagonal matrix D with eigenvalues\n",
        "    D = np.diag(np.concatenate((200*np.random.rand(n//2)-100, 0.1*np.random.rand(n-n//2))))\n",
        "\n",
        "    # Generate a random invertible matrix\n",
        "    P = np.random.rand(n, n)\n",
        "    while np.linalg.cond(P) > 1e8:  # Check conditioning\n",
        "        P = np.random.rand(n, n)\n",
        "\n",
        "    # Use similarity transformation to create diagonalizable, but nonsymmetric matrix\n",
        "    return P @ D @ np.linalg.inv(P)"
      ],
      "metadata": {
        "id": "BF5Ag0ajpknc"
      },
      "execution_count": 2,
      "outputs": []
    },
    {
      "cell_type": "code",
      "source": [
        "np.random.seed(50)\n",
        "\n",
        "A_size = 8\n",
        "A = diagonalizable_mat(A_size)\n",
        "A_original = A.copy()\n",
        "Q = np.eye(A.shape[0])\n",
        "Q_final = np.eye(A.shape[0])\n",
        "\n",
        "num_iter = 201\n",
        "\n",
        "# QR algorithm\n",
        "for i in range(num_iter):\n",
        "    Q, R = householder(A)\n",
        "    A = R @ Q\n",
        "    Q_final = Q_final @ Q # Iterate to get Q in Schur form\n",
        "\n",
        "    # Diagonal elements of A are approximation of eigenvalues\n",
        "    if i % 40 == 0:\n",
        "        print(np.diag(A))\n",
        "\n",
        "v = []\n",
        "for i in range(R.shape[0]):\n",
        "    v_i = back_substitution(A, i)\n",
        "    v_i /= np.linalg.norm(v_i)\n",
        "    v.append(v_i)\n",
        "\n",
        "v = np.column_stack(v)\n",
        "print(f'\\nEigenvectors from QR algorithm: \\n{Q_final @ v}')\n",
        "\n",
        "# Compare to NumPy\n",
        "eigenvalues, eigenvectors = np.linalg.eig(A_original)\n",
        "print(f'\\nEigenvalues from NumPy: \\n{eigenvalues}')\n",
        "print(f'\\nEigenvectors from NumPy: \\n{eigenvectors}')"
      ],
      "metadata": {
        "id": "ooSPXcIblZ5d",
        "colab": {
          "base_uri": "https://localhost:8080/"
        },
        "outputId": "e884c2d8-4967-4a8f-dc56-613d80327ebe"
      },
      "execution_count": 3,
      "outputs": [
        {
          "output_type": "stream",
          "name": "stdout",
          "text": [
            "[-42.0239 -41.1004 -42.6385  0.8502 -0.0361  0.0942  0.0068  0.0009]\n",
            "[-54.3942 -48.8944 -20.7340 -1.0797  0.0997  0.0772  0.0408  0.0378]\n",
            "[-54.3835 -48.9051 -20.7340 -1.0797  0.0997  0.0772  0.0408  0.0377]\n",
            "[-54.3834 -48.9052 -20.7340 -1.0797  0.0997  0.0772  0.0408  0.0377]\n",
            "[-54.3834 -48.9052 -20.7340 -1.0797  0.0997  0.0772  0.0408  0.0377]\n",
            "[-54.3834 -48.9052 -20.7340 -1.0797  0.0997  0.0772  0.0408  0.0377]\n",
            "\n",
            "Eigenvectors from QR algorithm: \n",
            "[[-0.1853  0.2079  0.2574  0.3834  0.5393  0.3564 -0.4128 -0.0885]\n",
            " [-0.5309  0.4047  0.2861  0.1581  0.2906  0.3637 -0.4213 -0.3085]\n",
            " [-0.0312  0.1962  0.0413  0.3369  0.5134  0.4545 -0.4259 -0.1094]\n",
            " [-0.2760  0.5588  0.2974  0.3694  0.3603  0.1413 -0.2719 -0.4155]\n",
            " [-0.5249  0.4780  0.3161  0.3440  0.4335  0.0795 -0.3295 -0.5583]\n",
            " [-0.2318  0.1769  0.4512  0.4619  0.1416  0.1137 -0.3809 -0.2846]\n",
            " [-0.3945  0.2875  0.0537  0.1145  0.0623  0.3439 -0.2169 -0.0845]\n",
            " [-0.3490  0.3160  0.6748  0.4830  0.1397  0.6137 -0.3099 -0.5591]]\n",
            "\n",
            "Eigenvalues from NumPy: \n",
            "[-54.3834 -48.9052 -20.7340 -1.0797  0.0997  0.0377  0.0408  0.0772]\n",
            "\n",
            "Eigenvectors from NumPy: \n",
            "[[ 0.1853 -0.2079  0.2574 -0.3834 -0.5393  0.0885 -0.4128  0.3564]\n",
            " [ 0.5309 -0.4047  0.2861 -0.1581 -0.2906  0.3085 -0.4213  0.3637]\n",
            " [ 0.0312 -0.1962  0.0413 -0.3369 -0.5134  0.1094 -0.4259  0.4545]\n",
            " [ 0.2760 -0.5588  0.2974 -0.3694 -0.3603  0.4155 -0.2719  0.1413]\n",
            " [ 0.5249 -0.4780  0.3161 -0.3440 -0.4335  0.5583 -0.3295  0.0795]\n",
            " [ 0.2318 -0.1769  0.4512 -0.4619 -0.1416  0.2846 -0.3809  0.1137]\n",
            " [ 0.3945 -0.2875  0.0537 -0.1145 -0.0623  0.0845 -0.2169  0.3439]\n",
            " [ 0.3490 -0.3160  0.6748 -0.4830 -0.1397  0.5591 -0.3099  0.6137]]\n"
          ]
        }
      ]
    },
    {
      "cell_type": "markdown",
      "source": [
        "For convergence analysis of QR algorithm, see `Convergence of the LR, QR, and Related Algorithms` by J.H. Wilkinson"
      ],
      "metadata": {
        "id": "6kEoq8SE5pz2"
      }
    },
    {
      "cell_type": "code",
      "source": [],
      "metadata": {
        "id": "o4-7tX7iho_c"
      },
      "execution_count": 3,
      "outputs": []
    }
  ]
}