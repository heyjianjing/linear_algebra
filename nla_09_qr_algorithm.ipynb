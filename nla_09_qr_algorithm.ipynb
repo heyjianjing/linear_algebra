{
  "nbformat": 4,
  "nbformat_minor": 0,
  "metadata": {
    "colab": {
      "provenance": []
    },
    "kernelspec": {
      "name": "python3",
      "display_name": "Python 3"
    },
    "language_info": {
      "name": "python"
    }
  },
  "cells": [
    {
      "cell_type": "markdown",
      "source": [
        "#### `QR algorithm`"
      ],
      "metadata": {
        "id": "dBkY7bLvloWD"
      }
    },
    {
      "cell_type": "markdown",
      "source": [
        "So far, we iterate based on\n",
        "\n",
        "$$Q_{i+1}R_{i+1}=AQ_i$$\n",
        "\n",
        "We can rearrange to do it slightly differently\n",
        "\n",
        "$$Q_i^TQ_{i+1}R_{i+1}=Q_i^TAQ_i$$\n",
        "\n",
        "If we denote $\\tilde{Q}_{i+1}=Q_i^TQ_{i+1}$, and $Q_i^TAQ_i=A_i$, then, by construction, $\\tilde{Q}_{i+1}$ is `orthogonal`, and $A_i$ is `similar` to $A$ and therefore, have the same eigenvalues\n",
        "\n",
        "So we have\n",
        "\n",
        "$$\\tilde{Q}_{i+1}R_{i+1}=A_i$$"
      ],
      "metadata": {
        "id": "INpXRxSrlxAG"
      }
    },
    {
      "cell_type": "markdown",
      "source": [
        "Now if we swap the factors, we get\n",
        "\n",
        "$$\\begin{align*}\n",
        "R_{i+1}\\tilde{Q}_{i+1}&=\\left(Q^T_{i+1}AQ_i\\right)\\left(Q_i^TQ_{i+1}\\right) \\\\\n",
        "&=Q^T_{i+1}AQ_{i+1} \\\\\n",
        "&=A_{i+1}\n",
        "\\end{align*}$$\n",
        "\n",
        "So far, we haven't really changed anything to orthogonal iterations, just reformulate it at each step by regrouping and reusing the outcomes from orthogonal iterations\n",
        "\n",
        "Therefore, if orthogonal iterations converge as $i\\rightarrow \\infty$, then\n",
        "\n",
        "$$Q^TAQ=A_{i+1}$$\n",
        "\n",
        "and $T$ in Schur decomposition is $A_{i+1}$\n",
        "\n",
        "This indicates that instead of iterating over $Q$ as in orthogonal iterations, equivalently, we can also iterate over $T$ (in this case, $A$ itself)\n",
        "\n",
        "This is the basic `QR algorithm` for finding eigenvalues of general matrices\n",
        "\n",
        "(In practice, many other tricks would be needed, as usual...)"
      ],
      "metadata": {
        "id": "EXLfOprdwnV3"
      }
    },
    {
      "cell_type": "code",
      "source": [
        "import matplotlib.pyplot as plt\n",
        "import numpy as np\n",
        "np.set_printoptions(formatter={'float': '{: 0.4f}'.format})\n",
        "\n",
        "plt.style.use('dark_background')\n",
        "# color: https://matplotlib.org/stable/gallery/color/named_colors.htm"
      ],
      "metadata": {
        "id": "E7IXLxroydqP"
      },
      "execution_count": 4,
      "outputs": []
    },
    {
      "cell_type": "code",
      "source": [
        "def householder(A):\n",
        "    m, n = A.shape\n",
        "    R = A.copy()\n",
        "    Q = np.identity(m)\n",
        "\n",
        "    for i in range(n):\n",
        "        x = R[i:, i]\n",
        "        v = np.sign(x[0]) * np.linalg.norm(x) * np.eye(x.shape[0])[:,0] + x\n",
        "        v /= np.linalg.norm(v)\n",
        "\n",
        "        # Since all entries in R[i:, :i] are zero from previous iteration\n",
        "        # applying transformation to R[i:, i:] would suffice\n",
        "        R[i:, i:] -= 2 * np.outer(v, v) @ R[i:, i:]\n",
        "\n",
        "        # If Q is needed explicitly\n",
        "        Q[i:, :] -= 2 * np.outer(v, v) @ Q[i:, :]\n",
        "\n",
        "    return Q.T, R\n",
        "\n",
        "def diagonalizable_mat(n):\n",
        "    # Create diagonal matrix D with eigenvalues\n",
        "    D = np.diag(np.concatenate((200*np.random.rand(n//2)-100, 0.1*np.random.rand(n-n//2))))\n",
        "\n",
        "    # Generate a random invertible matrix\n",
        "    P = np.random.rand(n, n)\n",
        "    while np.linalg.cond(P) > 1e8:  # Check conditioning\n",
        "        P = np.random.rand(n, n)\n",
        "\n",
        "    # Use similarity transformation to create diagonalizable, but nonsymmetric matrix\n",
        "    return P @ D @ np.linalg.inv(P)"
      ],
      "metadata": {
        "id": "BF5Ag0ajpknc"
      },
      "execution_count": 5,
      "outputs": []
    },
    {
      "cell_type": "code",
      "source": [
        "np.random.seed(50)\n",
        "\n",
        "A_size = 8\n",
        "A = diagonalizable_mat(A_size)\n",
        "A_original = A.copy()\n",
        "Q = np.eye(A.shape[0])\n",
        "\n",
        "num_iter = 51\n",
        "\n",
        "# QR algorithm\n",
        "for i in range(num_iter):\n",
        "    Q, R = householder(A)\n",
        "    A = R @ Q\n",
        "\n",
        "    # Diagonal elements of A are approximation of eigenvalues\n",
        "    if i % 10 == 0:\n",
        "        print(np.diag(A))\n",
        "\n",
        "# Compare to NumPy\n",
        "eigenvalues, _ = np.linalg.eig(A_original)\n",
        "print(f'\\nEigenvalues from NumPy: \\n{eigenvalues}')"
      ],
      "metadata": {
        "id": "ooSPXcIblZ5d",
        "colab": {
          "base_uri": "https://localhost:8080/"
        },
        "outputId": "d278ece3-4abe-43b5-9f98-752c0a57159f"
      },
      "execution_count": 6,
      "outputs": [
        {
          "output_type": "stream",
          "name": "stdout",
          "text": [
            "[-42.0239 -41.1004 -42.6385  0.8502 -0.0361  0.0942  0.0068  0.0009]\n",
            "[-54.6554 -48.6274 -20.7398 -1.0797  0.0996  0.0772  0.0403  0.0383]\n",
            "[-54.4753 -48.8133 -20.7340 -1.0797  0.0997  0.0772  0.0406  0.0380]\n",
            "[-54.4149 -48.8737 -20.7340 -1.0797  0.0997  0.0772  0.0407  0.0378]\n",
            "[-54.3942 -48.8944 -20.7340 -1.0797  0.0997  0.0772  0.0408  0.0378]\n",
            "[-54.3871 -48.9015 -20.7340 -1.0797  0.0997  0.0772  0.0408  0.0377]\n",
            "\n",
            "Eigenvalues from NumPy: \n",
            "[-54.3834 -48.9052 -20.7340 -1.0797  0.0997  0.0377  0.0408  0.0772]\n"
          ]
        }
      ]
    },
    {
      "cell_type": "code",
      "source": [],
      "metadata": {
        "id": "o4-7tX7iho_c"
      },
      "execution_count": 6,
      "outputs": []
    }
  ]
}