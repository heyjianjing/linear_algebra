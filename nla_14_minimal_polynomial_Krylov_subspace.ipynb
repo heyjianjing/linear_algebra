{
  "nbformat": 4,
  "nbformat_minor": 0,
  "metadata": {
    "colab": {
      "provenance": []
    },
    "kernelspec": {
      "name": "python3",
      "display_name": "Python 3"
    },
    "language_info": {
      "name": "python"
    }
  },
  "cells": [
    {
      "cell_type": "markdown",
      "source": [
        "#### Recap, Jordan canonical form, Cayley Hamilton theorem"
      ],
      "metadata": {
        "id": "s9JRN0lOHziu"
      }
    },
    {
      "cell_type": "markdown",
      "source": [
        "##### Jordan canonical form"
      ],
      "metadata": {
        "id": "2y7wLKuAFMGp"
      }
    },
    {
      "cell_type": "markdown",
      "source": [
        "`Any` matrix $A\\in \\mathbf{R}^{n \\times n}$ can be put in `Jordan canonical form`(JCF) through a similarity transformation\n",
        "\n",
        "$$T^{-1}AT=J=\\begin{bmatrix}J_1 & & \\\\\n",
        " & \\ddots & \\\\ & & J_q\\end{bmatrix}$$\n",
        "\n",
        "where each `Jordan block`\n",
        "\n",
        "$$J_i=\\begin{bmatrix}\\lambda_i & 1 &  &\\\\\n",
        " & \\lambda_i & \\ddots & \\\\ & & \\ddots &1 \\\\ & & & \\lambda_i\\end{bmatrix}\\in C^{n_i \\times n_i}$$\n",
        "\n",
        "and $n=\\sum_{i=1}^q n_i$\n",
        "\n",
        "`Diagonal matrix` is a special case of Jordan canonical form with $q=n$ and $n_i=1$\n",
        "\n",
        "Jordan canonical form can have `multiple` blocks with `same eigenvalue`"
      ],
      "metadata": {
        "id": "BxzeF_Ogp0bh"
      }
    },
    {
      "cell_type": "markdown",
      "source": [
        "For JCF, we can write the `characteristic polynomial` as\n",
        "\n",
        "$$\\det (sI-A)=(s-\\lambda_1)^{n_1}\\cdots(s-\\lambda_q)^{n_q}$$\n",
        "\n",
        "Here, $\\lambda_i's$ are not necessarily distinct, since the same eigenvalue can occupy different Jordan blocks"
      ],
      "metadata": {
        "id": "f1A0CGa1qFcW"
      }
    },
    {
      "cell_type": "markdown",
      "source": [
        "##### `Cayley-Hamilton` theorem"
      ],
      "metadata": {
        "id": "pJ2OwQud9kI7"
      }
    },
    {
      "cell_type": "markdown",
      "source": [
        "If we have a polynomial $p(s)=a_0+a_1s+\\cdots+a_ks^k$, we `define` polynomial of matrix $A\\in \\mathbf{R}^{n \\times n}$ as\n",
        "\n",
        "$$p(A)=a_0I+a_1A+\\cdots+a_kA^k$$\n",
        "\n",
        "Cayley-Hamilton theorem says that for any $A\\in \\mathbf{R}^{n \\times n}$ and $p(s)=\\det (sI-A)$, we have $\\boxed{p(A)=0}$"
      ],
      "metadata": {
        "id": "whLsM1QK-5hy"
      }
    },
    {
      "cell_type": "markdown",
      "source": [
        "Based on C-H theorem, we further have the following\n",
        "\n",
        "For every positive integer $p$, we have\n",
        "\n",
        "$$\\boxed{A^p\\in \\text{span}\\{I, A, A^2, \\cdots, A^{n-1}\\}}$$"
      ],
      "metadata": {
        "id": "ZhKLyopdCPMw"
      }
    },
    {
      "cell_type": "markdown",
      "source": [
        "##### Relation to `inverse` of A"
      ],
      "metadata": {
        "id": "JjdRX32PFCgF"
      }
    },
    {
      "cell_type": "markdown",
      "source": [
        "$$p(A)=A^n+a_{n-1}A^{n-1}+\\cdots+a_0I=0$$\n",
        "\n",
        "If we separate $I$ and assume $A$ is `invertible`, we get\n",
        "\n",
        "$$\\begin{align*}I&=A\\left(-\\frac{a_1}{a_0}I-\\frac{a_2}{a_0}A\\cdots -\\frac{1}{a_0}A^{n-1}\\right)\\\\\n",
        "&=AA^{-1}\n",
        "\\end{align*}$$\n",
        "\n",
        "Therefore, the `inverse` of $A$ is a linear combination of $I, A, \\cdots, A^{n-1}$, and the `coefficients are from the characteristic polynomial`\n",
        "\n",
        "Of course, it requires that $a_0\\neq 0$\n",
        "\n",
        "But since $a_0=p(0)=\\det (0I-A)=\\det (-A)$, therefore, when $A$ is invertible, we know that\n",
        "\n",
        "$$a_0=\\det (-A)=(-1)^n \\det A \\neq 0$$"
      ],
      "metadata": {
        "id": "jhGNMqqqFJ5w"
      }
    },
    {
      "cell_type": "markdown",
      "source": [
        "#### `Minimal` polynomial"
      ],
      "metadata": {
        "id": "IeJkn8zmFmBZ"
      }
    },
    {
      "cell_type": "markdown",
      "source": [
        "From the characteristic polynomial $p(s)=\\det (sI-A)$, we can show that there exists a minimal polynomial $q(s)$ of `least degree` $m\\leq n$ such that $q(A)=0$, and $p(s)$ is divisible by $q(s)$"
      ],
      "metadata": {
        "id": "qgKPx3C9Fn6s"
      }
    },
    {
      "cell_type": "markdown",
      "source": [
        "If $A$ is `diagonalizable`, then $q(s)$ has a degree less than $n$ when there are repeated eigenvalues, and it can be obtained by reducing all exponents of $(s-\\lambda_i)$ in $p(s)$ to one"
      ],
      "metadata": {
        "id": "04Pcsw3HKJTx"
      }
    },
    {
      "cell_type": "markdown",
      "source": [
        "If $A$ is `non-diagonalizable`, the minimal polynomial $q(s)$ reflects the sizes of the largest Jordan blocks associated with each eigenvalue in the Jordan canonical form of $A$\n",
        "\n",
        "In cases where an eigenvalue has an algebraic multiplicity $n$ greater than size of its largest Jordan block $d$, the minimal polynomial $q(s)$ will have a degree less than $n$"
      ],
      "metadata": {
        "id": "FX_UBUR5ZQDb"
      }
    },
    {
      "cell_type": "markdown",
      "source": [
        "##### Example"
      ],
      "metadata": {
        "id": "_7P2Pnkyo2ju"
      }
    },
    {
      "cell_type": "markdown",
      "source": [
        "For `example`, if we have a 4 x 4 matrix in Jordan canonical form\n",
        "\n",
        "$$A=\\begin{bmatrix}J_1 & 0 \\\\ 0 & J_2\\end{bmatrix}$$\n",
        "\n",
        "where\n",
        "\n",
        "$$J_1=J_2 = \\begin{bmatrix}\\lambda & 1 \\\\ 0 & \\lambda\\end{bmatrix}$$\n",
        "\n",
        "then, characteristic polynomial is\n",
        "\n",
        "$$p(s)=\\det (sI-A)=(s-\\lambda)^4$$\n",
        "\n",
        "However, we see the largest Jordan block of $\\lambda$ is of size 2\n",
        "\n",
        "Therefore, we can look at\n",
        "\n",
        "$$q(s)=(s-\\lambda)^2$$\n",
        "\n",
        "We can verify that\n",
        "\n",
        "$$q(A)=(A-\\lambda I)^2=0$$"
      ],
      "metadata": {
        "id": "BpIoE5p-KFKP"
      }
    },
    {
      "cell_type": "markdown",
      "source": [
        "##### Intuition via `generalized eigenvectors`"
      ],
      "metadata": {
        "id": "dI8qLIcQo6DU"
      }
    },
    {
      "cell_type": "markdown",
      "source": [
        "For example, for a Jordan block of size $d$ for eigenvalue $\\lambda$\n",
        "\n",
        "Recall that generalized eigenvectors $v_1,\\cdots, v_d$ satisfies\n",
        "\n",
        "$$(A-\\lambda I)v_1=0, (A-\\lambda I)v_2=v_1, \\cdots, (A-\\lambda I)v_d=v_{d-1}$$\n",
        "\n",
        "For any vector in the subspace spanned by generalized eigenvectors corresponding to $\\lambda$ (meaning that it can be expressed as linear combination of these generalized eigenvectors), we can see that this vector must be in the `nullspace` of $(A-\\lambda I)^d$ based on the chain above"
      ],
      "metadata": {
        "id": "O3wQW1B6YDTK"
      }
    },
    {
      "cell_type": "markdown",
      "source": [
        "Further, we can see that for any eigenvector $\\lambda_i$ with `largest Jordan block` of size $d_i$, $d_i$ would be the minimal degree to guarantee that $(A-\\lambda_i I)^{d_i}$ will turn any vector in the combined generalized eigenspace corresponding to $\\lambda_i$ (potentially across multiple Jordan blocks) into zero\n",
        "\n",
        "For example, assume we have two Jordan blocks of size $d_{1,1}=4$ and $d_{1,2}=2$ that correspond to same eigenvalue $\\lambda_1$, then for generalized eigenvectors for Jordan block of size 4, we have\n",
        "\n",
        "$$(A-\\lambda_1 I)v_4 = v_3, (A-\\lambda_1 I)v_3 = v_2, (A-\\lambda_1 I)v_2 = v_1, (A-\\lambda_1 I)v_1 = 0$$\n",
        "\n",
        "and for Jordan block of size 2, we have\n",
        "\n",
        "$$(A-\\lambda_1 I)w_2 = w_1, (A-\\lambda_1 I)w_1 = 0$$\n",
        "\n",
        "Therefore, we can see that by choosing $d_i=4$, $(A-\\lambda_1 I)^4$ would turn all these generalized eigenvectors to zero (it just does more work than needed for the smaller Jordan block) and effectively handling all vectors in the generalized eigenspace corresponding to $\\lambda_1$"
      ],
      "metadata": {
        "id": "guO_sI-dbO4G"
      }
    },
    {
      "cell_type": "markdown",
      "source": [
        "Further, it can be shown that the `sum` of the generalized eigenspaces corresponding to all eigenvalues of a matrix is equal to the `entire vector space` that the matrix operates on, this indicates that\n",
        "\n",
        "For any vector $v\\in \\mathbf{R}^n$, applying the following polynomial evaluated at $A$ yields zero\n",
        "\n",
        "$$\\left(\\prod_i (A-\\lambda_i I)^{d_i}\\right)v=0$$\n",
        "\n",
        "Since $q(A)=\\prod_i (A-\\lambda_i I)^{d_i}$ maps every vector $v\\in \\mathbf{R}^n$ to zero, it means\n",
        "\n",
        "$$q(A)=0$$\n",
        "\n",
        "and we can choose it to be the `minimal polynomial`\n",
        "\n",
        "$$q(s)=\\prod_i (s-\\lambda_i)^{d_i}$$"
      ],
      "metadata": {
        "id": "nWl4v2HX2utg"
      }
    },
    {
      "cell_type": "markdown",
      "source": [
        "In addition, if $A$ is `invertible`, then $\\lambda_i$ are all nonzero and\n",
        "\n",
        "$$q(0)=(-1)^{c}\\prod_i \\lambda_i^{d_i}\\neq 0$$"
      ],
      "metadata": {
        "id": "SGcdDB2W_8Yx"
      }
    },
    {
      "cell_type": "markdown",
      "source": [
        "#### Krylov subspace"
      ],
      "metadata": {
        "id": "iAdicnli-CYS"
      }
    },
    {
      "cell_type": "markdown",
      "source": [
        "Assume we have $q(s)$ of degree $m\\leq n$\n",
        "\n",
        "$$q(A)=c_mA^m+c_{m-1}A^{m-1}+\\cdots+c_1A+c_0I=0$$\n",
        "\n",
        "Obviously, $q(A)x=0$, or\n",
        "\n",
        "$$c_mA^mx+c_{m-1}A^{m-1}x+\\cdots+c_1Ax+c_0x=0$$\n",
        "\n",
        "If we are dealing with linear system of equations and $Ax=b$, where $A$ is invertible, then $c_0\\neq 0$ and we have\n",
        "\n",
        "$$x = -\\frac{c_1}{c_0}b-\\frac{c_2}{c_0}Ab-\\cdots-\\frac{c_{m-1}}{c_0}A^{m-2}b-\\frac{c_{m}}{c_0}A^{m-1}b$$\n",
        "\n",
        "or\n",
        "\n",
        "$$x\\in \\text{span}\\left(b, Ab, \\cdots, A^{m-1}b\\right)$$\n",
        "\n",
        "This is known as `Krylov` subspace"
      ],
      "metadata": {
        "id": "-ZiHNPJQ-F3k"
      }
    },
    {
      "cell_type": "code",
      "source": [],
      "metadata": {
        "id": "FjWRqVLCFnZ9"
      },
      "execution_count": null,
      "outputs": []
    }
  ]
}