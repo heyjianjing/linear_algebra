{
  "nbformat": 4,
  "nbformat_minor": 0,
  "metadata": {
    "colab": {
      "provenance": []
    },
    "kernelspec": {
      "name": "python3",
      "display_name": "Python 3"
    },
    "language_info": {
      "name": "python"
    }
  },
  "cells": [
    {
      "cell_type": "markdown",
      "source": [
        "#### Power iterations"
      ],
      "metadata": {
        "id": "RzSDlfgPUCzC"
      }
    },
    {
      "cell_type": "markdown",
      "source": [
        "Assume $A\\in \\mathbf{R}^{n \\times n}$ is `diagonalizable`, we know its `eigenvectors` (normalized) $v_i, \\cdots, v_n$ form a `basis` for $\\mathbf{R}^n$\n",
        "\n",
        "For a vector $x\\in \\mathbf{R}^n$, we can express it using the eigenvectors of $A$ as\n",
        "\n",
        "$$x=c_1v_1 + c_2v_2 + \\cdots + c_nv_n$$"
      ],
      "metadata": {
        "id": "89Q1kQiiwtRv"
      }
    },
    {
      "cell_type": "markdown",
      "source": [
        "If we compute $Ax$ and assume $|\\lambda_1|>|\\lambda_2|\\geq|\\lambda_3| \\cdots \\geq |\\lambda_n|$, we can write\n",
        "\n",
        "$$\\begin{align*}\n",
        "Ax&=A(c_1v_1 + c_2v_2 + \\cdots + c_nv_n) \\\\\n",
        "&=c_1\\lambda_1v_1 + c_2\\lambda_2v_2+\\cdots + c_n\\lambda_nv_n\n",
        "\\end{align*}$$\n",
        "\n",
        "If we keep multiplying A on the left, we get\n",
        "\n",
        "$$\\begin{align*}\n",
        "A^kx&=A(c_1v_1 + c_2v_2 + \\cdots + c_nv_n) \\\\\n",
        "&=c_1\\lambda_1^kv_1 + c_2\\lambda_2^kv_2+\\cdots + c_n\\lambda_n^kv_n \\\\\n",
        "&=\\sum_{j=1}^n c_j\\lambda_j^kv_j \\\\\n",
        "&=\\lambda_1^k\\left(c_1v_1+c_2\\left(\\frac{\\lambda_2}{\\lambda_1}\\right)^kv_2 + \\cdots + c_n\\left(\\frac{\\lambda_n}{\\lambda_1}\\right)^kv_n\\right) \\\\\n",
        "& k \\rightarrow \\infty, \\left(\\frac{\\lambda_i}{\\lambda_1}\\right)\\rightarrow 0, i\\neq 1 \\\\\n",
        "&=\\lambda_1^kc_1v_1\n",
        "\\end{align*}$$\n",
        "\n",
        "Therefore, we have a way to `converge to eigenvector` $v_1$, with error in the order of $\\left(\\frac{\\lambda_2}{\\lambda_1}\\right)^k$"
      ],
      "metadata": {
        "id": "gTxTWHE-Sa_x"
      }
    },
    {
      "cell_type": "markdown",
      "source": [
        "#### Rayleigh quotient"
      ],
      "metadata": {
        "id": "jQi4y0cUjXUy"
      }
    },
    {
      "cell_type": "markdown",
      "source": [
        "After we get $x^k\\rightarrow cv_1$, the corresponding eigenvalue $\\lambda_1$ is obtained by noticing $Ax^k \\rightarrow \\lambda_1cv_1$ and computing `Rayleigh quotient`\n",
        "\n",
        "$$ \\frac{(x^k)^T A x^k}{(x^k)^Tx^k}$$\n",
        "\n",
        "To see this, we can plug $x^k=A^kx=\\sum_{j=1}^n c_j\\lambda_j^kv_j$ into the numerator and denominator\n",
        "\n",
        "$$(x^k)^TAx^k=(x^k)^Tx^{k+1}=\\sum_{j=1}^n\\sum_{l=1}^n c_jc_l\\lambda_j^k\\lambda_l^{k+1}v_j^Tv_l$$\n",
        "\n",
        "and\n",
        "\n",
        "$$(x^k)^Tx^k=\\sum_{j=1}^n\\sum_{l=1}^n c_jc_l\\lambda_j^k\\lambda_l^kv_j^Tv_l$$"
      ],
      "metadata": {
        "id": "R0GMgA8jjZZr"
      }
    },
    {
      "cell_type": "markdown",
      "source": [
        "Consider that eigenvectors are normalized, that is, $v_j^Tv_j=1$, we have\n",
        "\n",
        "$$(x^k)^TAx^k=\\sum_{j=1}^n |c_j|^2\\lambda_j^{2k+1}+\\sum_{l \\neq j}c_j c_l \\lambda_j^k \\lambda_l^{k+1} v_j^T v_l$$\n",
        "\n",
        "and\n",
        "\n",
        "$$(x^k)^Tx^k=\\sum_{j=1}^n|c_j|^2\\lambda_j^{2k}+\\sum_{l \\neq j}c_j c_l \\lambda_j^k \\lambda_l^k v_j^T v_l$$"
      ],
      "metadata": {
        "id": "4jPDLJCTEtCV"
      }
    },
    {
      "cell_type": "markdown",
      "source": [
        "Assume $c_1\\neq 0$, we factor $|c_1|^2\\lambda_1^{2k+1}$ out in the numerator and $|c_1|^2\\lambda_1^{2k}$ out in the denominator, we can write\n",
        "\n",
        "$$(x^k)^TAx^k=|c_1|^2\\lambda_1^{2k+1}\\left(1+\\sum_{j\\neq 1}\\left|\\frac{c_j}{c_1}\\right|^2\\left(\\frac{\\lambda_j}{\\lambda_1}\\right)^{2k+1}+\\sum_{l\\neq j}\\frac{c_jc_l}{|c_1|^2}\\left(\\frac{\\lambda_j}{\\lambda_1}\\right)^k\\left(\\frac{\\lambda_l}{\\lambda_1}\\right)^{k+1}v_j^Tv_l\\right)$$\n",
        "\n",
        "and\n",
        "\n",
        "$$(x^k)^Tx^k=|c_1|^2\\lambda_1^{2k}\\left(1+\\sum_{j\\neq 1}\\left|\\frac{c_j}{c_1}\\right|^2\\left(\\frac{\\lambda_j}{\\lambda_1}\\right)^{2k}+\\sum_{l\\neq j}\\frac{c_jc_l}{|c_1|^2}\\left(\\frac{\\lambda_j}{\\lambda_1}\\right)^k\\left(\\frac{\\lambda_l}{\\lambda_1}\\right)^{k}v_j^Tv_l\\right)$$\n",
        "\n",
        "Since $\\left|\\frac{\\lambda_i}{\\lambda_1}\\right|<1,\\forall i\\neq 1$, therefore, the terms involving higher powers of $k$ decay faster, and the slowest decaying term would be the cross-term where one of $j, l$ is 1 and the other is 2\n",
        "\n",
        "Using Taylor expansion, for small $\\epsilon, \\epsilon'$\n",
        "\n",
        "$$\\lambda_1\\frac{1+\\epsilon'}{1+\\epsilon}=\\lambda_1(1+\\epsilon')(1-\\epsilon+\\epsilon^2-\\epsilon^3\\cdots\\approx\\lambda_1(1+\\epsilon')(1-\\epsilon)\\approx \\lambda_1(1+(\\epsilon'-\\epsilon))$$\n",
        "\n",
        "and plug in $\\epsilon'\\sim\\left(\\frac{\\lambda_2}{\\lambda_1}\\right)^{k+1}$ and $\\epsilon\\sim\\left(\\frac{\\lambda_2}{\\lambda_1}\\right)^{k}$ (neglecting quadratic terms as they decay faster), we have\n",
        "\n",
        "$$\\frac{(x^k)^T A x^k}{(x^k)^Tx^k}\\approx \\lambda_1\\left(1+O\\left(\\left(\\frac{\\lambda_2}{\\lambda_1}\\right)^{k}\\right)\\right)$$\n",
        "\n",
        "In addition, for symmetric matrices that have orthonormal eigenvectors, the cross-terms vanish, and we would be left with `quadratic convergence` of Rayleigh quotient to $\\lambda_1$"
      ],
      "metadata": {
        "id": "PA9sRgDtFlrd"
      }
    },
    {
      "cell_type": "markdown",
      "source": [
        "#### Normalization at each iteration"
      ],
      "metadata": {
        "id": "1kOhzh2qsOXj"
      }
    },
    {
      "cell_type": "markdown",
      "source": [
        "\n",
        "\n",
        "In practice, we `normalize` the outcome of $A^kx$ along the process to keep output from going to infinity to going to zero\n",
        "\n",
        "* starting from $x^0$\n",
        "* compute $y^k=Ax^{k-1}$\n",
        "* get new $x^{k}$ by normalizing $y^k$ ($l_2$ norm, infinity norm, etc)\n",
        "$$x^{k}=\\frac{y^k}{\\|y^k\\|}$$"
      ],
      "metadata": {
        "id": "gtGzwlTWevsm"
      }
    },
    {
      "cell_type": "markdown",
      "source": [
        "#### Example of non-symmetric matrix"
      ],
      "metadata": {
        "id": "_tEcD3phk8x7"
      }
    },
    {
      "cell_type": "markdown",
      "source": [
        "$$A=\\begin{bmatrix}8 & 3 \\\\2 &7\\end{bmatrix}, x^0=\\begin{bmatrix}1 \\\\ 1\\end{bmatrix}$$"
      ],
      "metadata": {
        "id": "rVxpSH8bigIY"
      }
    },
    {
      "cell_type": "code",
      "source": [
        "import matplotlib.pyplot as plt\n",
        "import numpy as np\n",
        "np.set_printoptions(formatter={'float': '{: 0.4f}'.format})\n",
        "\n",
        "plt.style.use('dark_background')\n",
        "# color: https://matplotlib.org/stable/gallery/color/named_colors.htm"
      ],
      "metadata": {
        "id": "E7IXLxroydqP"
      },
      "execution_count": null,
      "outputs": []
    },
    {
      "cell_type": "code",
      "source": [
        "A = np.array([[8., 3.], [2., 7.]]) # diagonalizable\n",
        "x = np.array([1., 0.])\n",
        "x /= np.linalg.norm(x)\n",
        "\n",
        "eigenvalues, eigenvectors = np.linalg.eig(A)\n",
        "print(f'True eigenvalues: {eigenvalues}')\n",
        "print(f'True eigenvectors (columns): {eigenvectors}\\n')\n",
        "\n",
        "num_iter = 20\n",
        "for iter in range(num_iter):\n",
        "    y = A @ x\n",
        "    x= y / np.linalg.norm(y)\n",
        "\n",
        "    # Rayleigh quotient\n",
        "    lambda_1 = np.dot(A @ x, x)\n",
        "    print(f'# {iter+1}: lambda_1: {lambda_1:.4f}')\n",
        "\n",
        "print(f'\\nv_1: {x}')"
      ],
      "metadata": {
        "id": "aZ3443WmVXAT",
        "colab": {
          "base_uri": "https://localhost:8080/"
        },
        "outputId": "f1835562-db67-4a41-fc19-c6177f1993e6"
      },
      "execution_count": null,
      "outputs": [
        {
          "output_type": "stream",
          "name": "stdout",
          "text": [
            "True eigenvalues: [ 10.0000  5.0000]\n",
            "True eigenvectors (columns): [[ 0.8321 -0.7071]\n",
            " [ 0.5547  0.7071]]\n",
            "\n",
            "# 1: lambda_1: 9.1176\n",
            "# 2: lambda_1: 9.6552\n",
            "# 3: lambda_1: 9.8624\n",
            "# 4: lambda_1: 9.9412\n",
            "# 5: lambda_1: 9.9732\n",
            "# 6: lambda_1: 9.9873\n",
            "# 7: lambda_1: 9.9938\n",
            "# 8: lambda_1: 9.9970\n",
            "# 9: lambda_1: 9.9985\n",
            "# 10: lambda_1: 9.9992\n",
            "# 11: lambda_1: 9.9996\n",
            "# 12: lambda_1: 9.9998\n",
            "# 13: lambda_1: 9.9999\n",
            "# 14: lambda_1: 10.0000\n",
            "# 15: lambda_1: 10.0000\n",
            "# 16: lambda_1: 10.0000\n",
            "# 17: lambda_1: 10.0000\n",
            "# 18: lambda_1: 10.0000\n",
            "# 19: lambda_1: 10.0000\n",
            "# 20: lambda_1: 10.0000\n",
            "\n",
            "v_1: [ 0.8321  0.5547]\n"
          ]
        }
      ]
    },
    {
      "cell_type": "markdown",
      "source": [
        "#### General eigenvalues problems for symmetric matrices"
      ],
      "metadata": {
        "id": "AzBv8X-1nJ-q"
      }
    },
    {
      "cell_type": "markdown",
      "source": [
        "After computing the dominant eigenvalue and its corresponding eigenvector, we proceed by updating the matrix $A$ through\n",
        "\n",
        "$$A\\leftarrow A - \\lambda_1 v_1 v_1^T$$\n",
        "\n",
        "This process is repeated iteratively to find more eigenvalues and eigenvectors\n",
        "\n",
        "Unfortunately, this approach works meaningfully `only for symmetric matrices`, due to the `orthogonality` of their eigenvectors\n",
        "\n",
        "In symmetric matrices, all eigenvectors corresponding to distinct eigenvalues are orthogonal\n",
        "\n",
        "When we subtract a term involving $v_1 v_1^T$, we effectively remove the contribution of $v_1$ from the matrix\n",
        "\n",
        "The orthogonality ensures that removing $v_1$'s influence doesn't interfere with the subsequent eigenvectors, allowing the power iterations to correctly converge to the next dominant eigenvalue and eigenvector"
      ],
      "metadata": {
        "id": "r9LsIzMpoESt"
      }
    },
    {
      "cell_type": "code",
      "source": [
        "def power_iteration(A_sym, num_eigen, num_iter=2000, converge_tol=1e-6, eigen_tol=1e-6):\n",
        "    n = A_sym.shape[0]\n",
        "    eigenvalues = []\n",
        "    eigenvectors = []\n",
        "    A_current = A_sym.copy()\n",
        "\n",
        "    for k in range(num_eigen):\n",
        "        x = np.random.rand(n)\n",
        "        x /= np.linalg.norm(x)\n",
        "\n",
        "        for j in range(num_iter):\n",
        "            y = A_current @ x\n",
        "            norm_y = np.linalg.norm(y)\n",
        "\n",
        "            # If norm is too small, stop iteration\n",
        "            if norm_y < eigen_tol:\n",
        "                print(f\"Norm of (#{k+1}) eigenvector is too small, stopping iteration\")\n",
        "                break\n",
        "\n",
        "            x_next = y / norm_y\n",
        "\n",
        "            if np.linalg.norm(x_next - x) < converge_tol:\n",
        "                break\n",
        "\n",
        "            x = x_next\n",
        "\n",
        "        if norm_y < eigen_tol:\n",
        "            continue\n",
        "\n",
        "        print(f'{j+1} iterations for eigenvalue #{k+1}')\n",
        "\n",
        "        # Rayleigh quotient (since x is normalized, we can omit the denominator)\n",
        "        eigenvalue = np.dot(A_sym @ x, x)\n",
        "\n",
        "        if abs(eigenvalue) < eigen_tol:\n",
        "            print(f\"Eigenvalue {eigenvalue} is too small and is ignored\")\n",
        "            continue\n",
        "\n",
        "        eigenvalues.append(eigenvalue)\n",
        "        eigenvectors.append(x)\n",
        "\n",
        "        A_current -= eigenvalue * np.outer(x, x)\n",
        "\n",
        "    if not eigenvalues:\n",
        "        print(\"No valid eigenvalues found.\")\n",
        "        return np.array([]), np.array([])\n",
        "\n",
        "    return np.array(eigenvalues), np.column_stack(eigenvectors)"
      ],
      "metadata": {
        "id": "ndRyYxIDoics"
      },
      "execution_count": null,
      "outputs": []
    },
    {
      "cell_type": "code",
      "source": [
        "np.random.seed(42)\n",
        "\n",
        "k = 5\n",
        "\n",
        "A = np.random.rand(5, 5)\n",
        "\n",
        "A_sym = (A + A.T) / 2\n",
        "\n",
        "eigenvalues, eigenvectors = power_iteration(A_sym, k)\n",
        "\n",
        "print(\"\\nComputed eigenvalues:\")\n",
        "for idx, eigenvalue in enumerate(eigenvalues, 1):\n",
        "    print(f\"# {idx}: {eigenvalue:.4f}\")\n",
        "\n",
        "print(\"\\nComputed eigenvectors (columns):\")\n",
        "print(eigenvectors)\n",
        "\n",
        "true_eigenvalues, true_eigenvectors = np.linalg.eig(A_sym)\n",
        "print(\"\\nEigenvalues from NumPy:\")\n",
        "print(true_eigenvalues)\n",
        "\n",
        "print(\"\\nEigenvectors from NumPy:\")\n",
        "print(true_eigenvectors)\n",
        "\n",
        "# Reconstruct A_sym from eigendecomposition and compare to original A_sym\n",
        "A_sym_recon = eigenvectors @ np.diag(eigenvalues) @ eigenvectors.T\n",
        "print(\"\\nA_sym reconstructed from eigendecomposition:\")\n",
        "print(A_sym_recon)\n",
        "\n",
        "print(\"\\nOriginal A_sym:\")\n",
        "print(A_sym)"
      ],
      "metadata": {
        "colab": {
          "base_uri": "https://localhost:8080/"
        },
        "id": "FKYUgZ6ZjzWY",
        "outputId": "b543f54a-e224-43fd-90cf-fa7c39eeefd2"
      },
      "execution_count": null,
      "outputs": [
        {
          "output_type": "stream",
          "name": "stdout",
          "text": [
            "12 iterations for eigenvalue #1\n",
            "2000 iterations for eigenvalue #2\n",
            "10 iterations for eigenvalue #3\n",
            "8 iterations for eigenvalue #4\n",
            "2000 iterations for eigenvalue #5\n",
            "\n",
            "Computed eigenvalues:\n",
            "# 1: 2.2645\n",
            "# 2: -0.6570\n",
            "# 3: 0.4611\n",
            "# 4: 0.0990\n",
            "# 5: -0.0145\n",
            "\n",
            "Computed eigenvectors (columns):\n",
            "[[ 0.4067  0.2198  0.3005  0.0428  0.8332]\n",
            " [ 0.4865 -0.8603 -0.1312 -0.0666  0.0402]\n",
            " [ 0.5749  0.4306 -0.6653 -0.1404 -0.1471]\n",
            " [ 0.3846  0.0929  0.3070  0.7856 -0.3633]\n",
            " [ 0.3456  0.1326  0.5963 -0.5973 -0.3881]]\n",
            "\n",
            "Eigenvalues from NumPy:\n",
            "[ 2.2645 -0.6570  0.4611 -0.0145  0.0990]\n",
            "\n",
            "Eigenvectors from NumPy:\n",
            "[[-0.4067 -0.2198  0.3005  0.8332 -0.0428]\n",
            " [-0.4865  0.8603 -0.1312  0.0402  0.0666]\n",
            " [-0.5749 -0.4306 -0.6653 -0.1471  0.1404]\n",
            " [-0.3846 -0.0929  0.3070 -0.3633 -0.7856]\n",
            " [-0.3456 -0.1326  0.5963 -0.3881  0.5973]]\n",
            "\n",
            "A_sym reconstructed from eigendecomposition:\n",
            "[[ 0.3745  0.5534  0.3763  0.3910  0.3839]\n",
            " [ 0.5534  0.0581  0.9180  0.4527  0.4238]\n",
            " [ 0.3763  0.9180  0.8324  0.3685  0.2370]\n",
            " [ 0.3910  0.4527  0.3685  0.4319  0.3288]\n",
            " [ 0.3839  0.4238  0.2370  0.3288  0.4561]]\n",
            "\n",
            "Original A_sym:\n",
            "[[ 0.3745  0.5534  0.3763  0.3910  0.3839]\n",
            " [ 0.5534  0.0581  0.9180  0.4527  0.4238]\n",
            " [ 0.3763  0.9180  0.8324  0.3685  0.2370]\n",
            " [ 0.3910  0.4527  0.3685  0.4319  0.3288]\n",
            " [ 0.3839  0.4238  0.2370  0.3288  0.4561]]\n"
          ]
        }
      ]
    },
    {
      "cell_type": "markdown",
      "source": [
        "The results look good so far\n",
        "\n",
        "Next, we do a quick test on symmetric matrix with zero eigenvector(s)"
      ],
      "metadata": {
        "id": "k-D-szb0pUmd"
      }
    },
    {
      "cell_type": "code",
      "source": [
        "A_zero_eigen = np.array([[4., 0.], [1e-10, 0.]])\n",
        "eigenvalues, eigenvectors = power_iteration(A_zero_eigen, num_eigen=2)\n",
        "print(\"Eigenvalues:\", eigenvalues)\n",
        "print(\"Eigenvectors:\", eigenvectors)"
      ],
      "metadata": {
        "colab": {
          "base_uri": "https://localhost:8080/"
        },
        "id": "7A50S_Lgpdgg",
        "outputId": "520e8e88-79e6-4e2e-f560-13b3cf8e70b7"
      },
      "execution_count": null,
      "outputs": [
        {
          "output_type": "stream",
          "name": "stdout",
          "text": [
            "2 iterations for eigenvalue #1\n",
            "Norm of (#2) eigenvector is too small, stopping iteration\n",
            "Eigenvalues: [ 4.0000]\n",
            "Eigenvectors: [[ 1.0000]\n",
            " [ 0.0000]]\n"
          ]
        }
      ]
    },
    {
      "cell_type": "markdown",
      "source": [
        "#### Compute `SVD`"
      ],
      "metadata": {
        "id": "O0bhEusCmVYH"
      }
    },
    {
      "cell_type": "markdown",
      "source": [
        "While power iterations are restricted to symmetric matrix, one useful application is singular value decomposition (SVD)\n",
        "\n",
        "Recall for matrix $A\\in \\mathbf{R}^{m \\times n}$ (tall, square or fat), its SVD is given by\n",
        "\n",
        "$$A=U\\Sigma V^T=\\sum_{i=1}^r\\sigma_i u_i v_i^T$$\n",
        "\n",
        "where\n",
        "* $A\\in \\mathbf{R}^{m \\times n}$, $\\text{rank}(A)=r$\n",
        "* $U\\in \\mathbf{R}^{m \\times r}$, $U^TU=I$\n",
        "* $V\\in \\mathbf{R}^{n \\times r}$, $V^TV=I$\n",
        "* $\\Sigma =\\text{diag}(\\sigma_1, \\cdots, \\sigma_r)$, $\\sigma_1 \\geq\\cdots\\geq \\sigma_r \\geq 0$\n",
        "* $\\sigma_1, \\cdots, \\sigma_r$ are `nonzero` singular values of $A$\n",
        "* $v_i\\in \\mathbf{R}^n$ are `right singular vectors` of $A$\n",
        "* $u_i\\in \\mathbf{R}^m$ are `left singular vectors` of $A$\n",
        "\n",
        "In particular\n",
        "\n",
        "* $v_i\\in \\mathbf{R}^n$ are eigenvectors of symmetric $A^TA$ (corresponding to `nonzero` eigenvalues), and `orthonormal basis` for $R(A^T)$\n",
        "* $\\sigma_i=\\sqrt{\\lambda_i(A^TA)}$ are `square root` of nonzero eigenvalues of $A^TA$\n",
        "* $u_i\\in \\mathbf{R}^m$ are eigenvectors of symmetric $AA^T$ (corresponding to `nonzero` eigenvalues), and `orthonormal basis` for $R(A)$"
      ],
      "metadata": {
        "id": "njdgiol8mb4j"
      }
    },
    {
      "cell_type": "markdown",
      "source": [
        "To make things consistent, we don't want to compute twice the power iterations for left and right singular vectors separately, instead, we can use the following equation to get the right singular vector $u_i$ after we get the corresponding singular value $\\sigma_i$ and left singular vector $v_i$\n",
        "\n",
        "$$Av_i=\\sigma_iu_i$$"
      ],
      "metadata": {
        "id": "ldiXIRkRB1S1"
      }
    },
    {
      "cell_type": "code",
      "source": [
        "np.random.seed(42)\n",
        "\n",
        "A_svd = np.random.rand(5, 3)\n",
        "num_sigma = min(A_svd.shape)\n",
        "\n",
        "# Singular values and right singular vectors\n",
        "sigma_sq_v, v_mat = power_iteration(A_svd.T @ A_svd, num_sigma)\n",
        "sigmas = np.sqrt(sigma_sq_v)\n",
        "sigma_mat = np.diag(sigmas)\n",
        "\n",
        "# Left singular vectors\n",
        "u_mat = []\n",
        "for i in range(num_sigma):\n",
        "    v_i = v_mat[:, i]\n",
        "    u_i = A_svd @ v_i / sigmas[i]\n",
        "    u_i /= np.linalg.norm(u_i)\n",
        "    u_mat.append(u_i)\n",
        "\n",
        "u_mat = np.column_stack(u_mat)\n",
        "\n",
        "# Reconstruct A\n",
        "A_reconstructed = u_mat @ sigma_mat @ v_mat.T\n",
        "\n",
        "# Compare with NumPy's svd function\n",
        "u_mat_np, sigma_np, vt_mat_np = np.linalg.svd(A_svd, full_matrices=False)\n",
        "sigma_mat_np = np.diag(sigma_np)\n",
        "A_reconstructed_np = u_mat_np @ sigma_mat_np @ vt_mat_np"
      ],
      "metadata": {
        "id": "izAdwhK-4yC5",
        "colab": {
          "base_uri": "https://localhost:8080/"
        },
        "outputId": "d75f7e41-03c0-4551-9128-d24337286f19"
      },
      "execution_count": null,
      "outputs": [
        {
          "output_type": "stream",
          "name": "stdout",
          "text": [
            "10 iterations for eigenvalue #1\n",
            "14 iterations for eigenvalue #2\n",
            "2 iterations for eigenvalue #3\n"
          ]
        }
      ]
    },
    {
      "cell_type": "code",
      "source": [
        "print(\"Singular values via power iteration:\")\n",
        "print(sigmas)\n",
        "print(\"\\nSingular values via NumPy:\")\n",
        "print(sigma_np)\n",
        "\n",
        "print(\"\\nv_mat\")\n",
        "print(v_mat.T)\n",
        "print(\"\\nv_mat via NumPy:\")\n",
        "print(vt_mat_np)\n",
        "\n",
        "print(\"\\nu_mat\")\n",
        "print(u_mat)\n",
        "print(\"\\nu_mat via NumPy:\")\n",
        "print(u_mat_np)\n",
        "\n",
        "print(\"\\nA_reconstructed:\")\n",
        "print(A_reconstructed)\n",
        "print(\"\\nA_reconstructed via NumPy:\")\n",
        "print(A_reconstructed_np)"
      ],
      "metadata": {
        "colab": {
          "base_uri": "https://localhost:8080/"
        },
        "id": "EBi7iFqgBIQN",
        "outputId": "4fbfb6d2-bb57-4f6e-efbc-bf1077964e27"
      },
      "execution_count": null,
      "outputs": [
        {
          "output_type": "stream",
          "name": "stdout",
          "text": [
            "Singular values via power iteration:\n",
            "[ 1.9906  1.0096  0.5777]\n",
            "\n",
            "Singular values via NumPy:\n",
            "[ 1.9906  1.0096  0.5777]\n",
            "\n",
            "v_mat\n",
            "[[ 0.5246  0.5427  0.6559]\n",
            " [ 0.7287 -0.6847 -0.0163]\n",
            " [-0.4403 -0.4865  0.7546]]\n",
            "\n",
            "v_mat via NumPy:\n",
            "[[-0.5246 -0.5427 -0.6559]\n",
            " [ 0.7287 -0.6847 -0.0163]\n",
            " [-0.4403 -0.4865  0.7546]]\n",
            "\n",
            "u_mat\n",
            "[[ 0.5991 -0.3862 -0.1299]\n",
            " [ 0.2517  0.3238 -0.3839]\n",
            " [ 0.4495 -0.5552  0.0115]\n",
            " [ 0.5118  0.4815  0.7100]\n",
            " [ 0.3372  0.4539 -0.5758]]\n",
            "\n",
            "u_mat via NumPy:\n",
            "[[-0.5991 -0.3862 -0.1299]\n",
            " [-0.2517  0.3238 -0.3839]\n",
            " [-0.4495 -0.5552  0.0115]\n",
            " [-0.5118  0.4815  0.7100]\n",
            " [-0.3372  0.4539 -0.5758]]\n",
            "\n",
            "A_reconstructed:\n",
            "[[ 0.3745  0.9507  0.7320]\n",
            " [ 0.5987  0.1560  0.1560]\n",
            " [ 0.0581  0.8662  0.6011]\n",
            " [ 0.7081  0.0206  0.9699]\n",
            " [ 0.8324  0.2123  0.1818]]\n",
            "\n",
            "A_reconstructed via NumPy:\n",
            "[[ 0.3745  0.9507  0.7320]\n",
            " [ 0.5987  0.1560  0.1560]\n",
            " [ 0.0581  0.8662  0.6011]\n",
            " [ 0.7081  0.0206  0.9699]\n",
            " [ 0.8324  0.2123  0.1818]]\n"
          ]
        }
      ]
    },
    {
      "cell_type": "code",
      "source": [],
      "metadata": {
        "id": "ks7XIWl9DH-S"
      },
      "execution_count": null,
      "outputs": []
    }
  ]
}