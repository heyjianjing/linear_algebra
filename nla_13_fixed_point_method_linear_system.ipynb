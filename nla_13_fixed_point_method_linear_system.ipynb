{
  "nbformat": 4,
  "nbformat_minor": 0,
  "metadata": {
    "colab": {
      "provenance": []
    },
    "kernelspec": {
      "name": "python3",
      "display_name": "Python 3"
    },
    "language_info": {
      "name": "python"
    }
  },
  "cells": [
    {
      "cell_type": "markdown",
      "source": [
        "#### Fixed point method"
      ],
      "metadata": {
        "id": "s9JRN0lOHziu"
      }
    },
    {
      "cell_type": "markdown",
      "source": [
        "Linear system of equations solves $b=Ax$ for $x$, $A\\in \\mathbf{R}^{m \\times m}$, full rank, we have seen that we can use either Cholesky or LU with partial pivoting\n",
        "\n",
        "These methods are `direct`, meaning we transform the problem into simpler form, and compute the `exact solution` in a finite number of steps"
      ],
      "metadata": {
        "id": "LPIeN-tCB2ps"
      }
    },
    {
      "cell_type": "markdown",
      "source": [
        "For `iterative` methods, we start with some `initial guess` $x^0$, and successively improve `approximation `\n",
        "\n",
        "$$x^0 \\rightarrow x^1 \\rightarrow x^2 \\rightarrow \\cdots$$ until some desired accuracy is reached\n",
        "\n",
        "$$\\|Ax^k-b\\|\\leq \\epsilon$$\n",
        "\n",
        "This is similar to iterative methods we used to find eigenvalues such as power iterations and orthogonal iterations"
      ],
      "metadata": {
        "id": "-OSbjoRymnvB"
      }
    },
    {
      "cell_type": "markdown",
      "source": [
        "One of the simplest form of iterative method is `fixed-point` method\n",
        "\n",
        "For a mapping $F$ and assume $x^*$ is the solution to our system of equations, we would like to have\n",
        "\n",
        "$$x^*=F(x^*)$$\n",
        "\n",
        "or in a linear form\n",
        "\n",
        "$$x^*=Gx^*+f$$\n",
        "\n",
        "where $G$ is a matrix and $f$ is a vector\n",
        "\n",
        "Then, we can choose an initial guess $x^0$ and repeat\n",
        "\n",
        "$$x^{k+1}=F(x^k)$$\n",
        "\n",
        "until convergence"
      ],
      "metadata": {
        "id": "9OkGzILPQu84"
      }
    },
    {
      "cell_type": "markdown",
      "source": [
        "#### `Jacobi` method"
      ],
      "metadata": {
        "id": "Uu8KCC-r5Yb-"
      }
    },
    {
      "cell_type": "markdown",
      "source": [
        "For our linear system of equations $Ax=b$\n",
        "\n",
        "The Jacobi method splits $A$ in to $D-E-F$, where $D$ is the diagonal of $A$,  $-E$ is the strict lower part, and $-F$ is the strict upper part\n",
        "\n",
        "We can rewrite\n",
        "\n",
        "$$Ax=b \\Longleftrightarrow (D-E-F)x=b$$\n",
        "\n",
        "Rearrange\n",
        "\n",
        "$$Dx=(E+F)x+b$$\n",
        "\n",
        "and we have the `iterative form`\n",
        "\n",
        "$$x^{k+1}=D^{-1}\\left((E+F)x^k+b\\right)$$"
      ],
      "metadata": {
        "id": "rOy5z-_lRiFH"
      }
    },
    {
      "cell_type": "markdown",
      "source": [
        "In essence, what this does is to keep non-diagonal entries of $x$ at values from previous iteration while solving for the diagonal entries of $x$"
      ],
      "metadata": {
        "id": "cJTjQbxjSJYj"
      }
    },
    {
      "cell_type": "markdown",
      "source": [
        "We can see this from a simple example, assume a 3 x 3 system with initial guess of $x^0=(x_1^0, x_2^0, x_3^0)$ (which will not be accurate as reflected by the residual $r^0$)\n",
        "\n",
        "$$\\begin{align*}\n",
        "a_{11}x_1^0+a_{12}x_2^0+a_{13}x_3^0&=b_1-r_1^0\\\\\n",
        "a_{21}x_1^0+a_{22}x_2^0+a_{23}x_3^0&=b_2-r_2^0\\\\\n",
        "a_{31}x_1^0+a_{32}x_2^0+a_{33}x_3^0&=b_3-r_3^0\n",
        "\\end{align*}$$\n",
        "\n",
        "What Jacobi method does in the first iteration is to solve the diagonal entries of $x$ while keep the non-diagonal $x$ as the initial guess\n",
        "\n",
        "$$\\begin{align*}\n",
        "a_{11}\\color{red}{x_1^1}+a_{12}x_2^0+a_{13}x_3^0&=b_1\\rightarrow \\color{red}{x_1^1}\\\\\n",
        "a_{21}x_1^0+a_{22}\\color{red}{x_2^1}+a_{23}x_3^0&=b_2\\rightarrow \\color{red}{x_2^1}\\\\\n",
        "a_{31}x_1^0+a_{32}x_2^0+a_{33}\\color{red}{x_3^1}&=b_3\\rightarrow \\color{red}{x_3^1}\n",
        "\\end{align*}$$\n",
        "\n",
        "Then, it plugs these better approximations into all entries and repeats the process"
      ],
      "metadata": {
        "id": "7aPaRodISrym"
      }
    },
    {
      "cell_type": "markdown",
      "source": [
        "#### Example"
      ],
      "metadata": {
        "id": "78ow_CSIURcp"
      }
    },
    {
      "cell_type": "markdown",
      "source": [
        "We have\n",
        "\n",
        "$$A=\\begin{bmatrix}2 & -1 & 0 \\\\ -1 & 2 & -1 \\\\ 0 & -1 & 2\\end{bmatrix},\\, x=\\begin{bmatrix}3 \\\\ 4 \\\\ 5\\end{bmatrix}, \\, b=Ax=\\begin{bmatrix}2 \\\\ 0 \\\\ 6\\end{bmatrix}$$\n",
        "\n",
        "and $x^0=\\begin{bmatrix}1 \\\\ 1\\\\ 1\\end{bmatrix}$"
      ],
      "metadata": {
        "id": "DlA_FYW1UTIh"
      }
    },
    {
      "cell_type": "code",
      "source": [
        "import matplotlib.pyplot as plt\n",
        "import numpy as np\n",
        "import time\n",
        "np.set_printoptions(formatter={'float': '{: 0.4f}'.format})\n",
        "\n",
        "plt.style.use('dark_background')\n",
        "# color: https://matplotlib.org/stable/gallery/color/named_colors.htm"
      ],
      "metadata": {
        "id": "64VKzPhM8fWC"
      },
      "execution_count": 1,
      "outputs": []
    },
    {
      "cell_type": "code",
      "source": [
        "A = np.array([[2, -1, 0], [-1, 2, -1], [0, -1, 2]])\n",
        "b = np.array([2, 0, 6])\n",
        "x = np.array([1, 1, 1])\n",
        "\n",
        "D = np.diag(A)\n",
        "E = -np.tril(A, -1)\n",
        "F = -np.triu(A, 1)\n",
        "\n",
        "iter = 20\n",
        "for i in range(iter):\n",
        "    x = ((E+F)@x + b) / D\n",
        "    print(f'# {i+1}: {x}')"
      ],
      "metadata": {
        "id": "s4WzTQpWAaWU",
        "colab": {
          "base_uri": "https://localhost:8080/"
        },
        "outputId": "3619688d-81b1-4f9c-b157-8d0f669a687b"
      },
      "execution_count": 2,
      "outputs": [
        {
          "output_type": "stream",
          "name": "stdout",
          "text": [
            "# 1: [ 1.5000  1.0000  3.5000]\n",
            "# 2: [ 1.5000  2.5000  3.5000]\n",
            "# 3: [ 2.2500  2.5000  4.2500]\n",
            "# 4: [ 2.2500  3.2500  4.2500]\n",
            "# 5: [ 2.6250  3.2500  4.6250]\n",
            "# 6: [ 2.6250  3.6250  4.6250]\n",
            "# 7: [ 2.8125  3.6250  4.8125]\n",
            "# 8: [ 2.8125  3.8125  4.8125]\n",
            "# 9: [ 2.9062  3.8125  4.9062]\n",
            "# 10: [ 2.9062  3.9062  4.9062]\n",
            "# 11: [ 2.9531  3.9062  4.9531]\n",
            "# 12: [ 2.9531  3.9531  4.9531]\n",
            "# 13: [ 2.9766  3.9531  4.9766]\n",
            "# 14: [ 2.9766  3.9766  4.9766]\n",
            "# 15: [ 2.9883  3.9766  4.9883]\n",
            "# 16: [ 2.9883  3.9883  4.9883]\n",
            "# 17: [ 2.9941  3.9883  4.9941]\n",
            "# 18: [ 2.9941  3.9941  4.9941]\n",
            "# 19: [ 2.9971  3.9941  4.9971]\n",
            "# 20: [ 2.9971  3.9971  4.9971]\n"
          ]
        }
      ]
    },
    {
      "cell_type": "markdown",
      "source": [
        "We see Jacobi method gradually converges to the true $x$"
      ],
      "metadata": {
        "id": "p_fS8acTdwAt"
      }
    },
    {
      "cell_type": "markdown",
      "source": [
        "#### `Gauss-Seidel` method"
      ],
      "metadata": {
        "id": "Jhnbqpo4WMTX"
      }
    },
    {
      "cell_type": "markdown",
      "source": [
        "The idea of Gauss-Seidel is to immediately use the updated entries of $x^{k+1}$ as long as they become avaiable, rather than waiting for all entries to be updated\n",
        "\n",
        "Still use the 3 x 3 system above, at the first iteration Gauss-Seidel solves\n",
        "\n",
        "$$\\begin{align*}\n",
        "a_{11}\\color{red}{x_1^1}+a_{12}x_2^0+a_{13}x_3^0&=b_1\\rightarrow \\color{red}{x_1^1}\\\\\n",
        "a_{21}\\color{red}{x_1^1}+a_{22}\\color{red}{x_2^1}+a_{23}x_3^0&=b_2\\rightarrow \\color{red}{x_2^1}\\\\\n",
        "a_{31}\\color{red}{x_1^1}+a_{32}\\color{red}{x_2^1}+a_{33}\\color{red}{x_3^1}&=b_3\\rightarrow \\color{red}{x_3^1}\n",
        "\\end{align*}$$\n",
        "\n",
        "and the iteration form becomes\n",
        "\n",
        "$$(D-E)x^{k+1}=\\left(Fx^k+b\\right)$$\n",
        "\n",
        "where $D-E$ is `lower triangular` matrix, and we can use forward substitution\n",
        "\n",
        "(If we swap the role of $E$ and $F$, we can also solve it using back substitution)"
      ],
      "metadata": {
        "id": "6ip0UG61WOwY"
      }
    },
    {
      "cell_type": "code",
      "source": [
        "def forward_substitution(L, b):\n",
        "    m, n = L.shape\n",
        "    x = np.zeros(n)\n",
        "    for i in range(n):\n",
        "        x[i] = (b[i] - np.dot(L[i, :i], x[:i])) / L[i, i]\n",
        "    return x"
      ],
      "metadata": {
        "id": "kjvVN8fBVnAr"
      },
      "execution_count": 3,
      "outputs": []
    },
    {
      "cell_type": "code",
      "source": [
        "x = np.array([1, 1, 1])\n",
        "D = np.diag(np.diag(A))\n",
        "\n",
        "for i in range(iter):\n",
        "    x = forward_substitution(D-E, F@x+b)\n",
        "    print(f'# {i+1}: {x}')"
      ],
      "metadata": {
        "colab": {
          "base_uri": "https://localhost:8080/"
        },
        "id": "Srkt7unLX0bL",
        "outputId": "cef7f37f-562b-4a2e-a260-f5e55b6c5126"
      },
      "execution_count": 4,
      "outputs": [
        {
          "output_type": "stream",
          "name": "stdout",
          "text": [
            "# 1: [ 1.5000  1.2500  3.6250]\n",
            "# 2: [ 1.6250  2.6250  4.3125]\n",
            "# 3: [ 2.3125  3.3125  4.6562]\n",
            "# 4: [ 2.6562  3.6562  4.8281]\n",
            "# 5: [ 2.8281  3.8281  4.9141]\n",
            "# 6: [ 2.9141  3.9141  4.9570]\n",
            "# 7: [ 2.9570  3.9570  4.9785]\n",
            "# 8: [ 2.9785  3.9785  4.9893]\n",
            "# 9: [ 2.9893  3.9893  4.9946]\n",
            "# 10: [ 2.9946  3.9946  4.9973]\n",
            "# 11: [ 2.9973  3.9973  4.9987]\n",
            "# 12: [ 2.9987  3.9987  4.9993]\n",
            "# 13: [ 2.9993  3.9993  4.9997]\n",
            "# 14: [ 2.9997  3.9997  4.9998]\n",
            "# 15: [ 2.9998  3.9998  4.9999]\n",
            "# 16: [ 2.9999  3.9999  5.0000]\n",
            "# 17: [ 3.0000  4.0000  5.0000]\n",
            "# 18: [ 3.0000  4.0000  5.0000]\n",
            "# 19: [ 3.0000  4.0000  5.0000]\n",
            "# 20: [ 3.0000  4.0000  5.0000]\n"
          ]
        }
      ]
    },
    {
      "cell_type": "markdown",
      "source": [
        "We see that Gauss-Seidel method converges noticeably faster than Jacobi method"
      ],
      "metadata": {
        "id": "oHuAEBGXYMWK"
      }
    },
    {
      "cell_type": "markdown",
      "source": [
        "#### Note on `convergence`"
      ],
      "metadata": {
        "id": "0vbLF3rMb5vm"
      }
    },
    {
      "cell_type": "markdown",
      "source": [
        "Though Jacobi and Gauss-Seidel can be applied to any matrix with non-zero elements on the diagonals, `convergence` is only guaranteed if the matrix is either `strictly diagonally dominant`, that is\n",
        "\n",
        "$$|a_{ii}|\\geq\\sum_{j\\neq i}|a_{ij}|, \\forall i$$\n",
        "\n",
        "or `symmetric and positive definite`"
      ],
      "metadata": {
        "id": "0KOyPqjbb7A_"
      }
    },
    {
      "cell_type": "markdown",
      "source": [
        "We now try Gauss-Seidel on a large matrix that is strictly diagonally dominant"
      ],
      "metadata": {
        "id": "qj_6MC60amMJ"
      }
    },
    {
      "cell_type": "code",
      "source": [
        "np.random.seed(42)\n",
        "m = 2000\n",
        "\n",
        "A = np.random.randn(m, m)\n",
        "A = A + m * np.eye(m)\n",
        "x_gt = np.random.randn(m)\n",
        "b = A @ x_gt\n",
        "\n",
        "D = np.diag(np.diag(A))\n",
        "E = -np.tril(A, -1)\n",
        "F = -np.triu(A, 1)\n",
        "\n",
        "x = np.ones_like(x_gt)\n",
        "\n",
        "start_time = time.time()\n",
        "iter = 20\n",
        "for i in range(iter):\n",
        "    x = forward_substitution(D-E, F@x+b)\n",
        "    print(f'# {i+1}: {np.linalg.norm(x-x_gt)}')\n",
        "print(f'Time taken: {time.time()-start_time}')"
      ],
      "metadata": {
        "colab": {
          "base_uri": "https://localhost:8080/"
        },
        "id": "xwY0lbSYYQ8l",
        "outputId": "b1f86b4a-a119-46cb-9a04-14d11a30223b"
      },
      "execution_count": 5,
      "outputs": [
        {
          "output_type": "stream",
          "name": "stdout",
          "text": [
            "# 1: 1.0251969427344578\n",
            "# 2: 0.01271551292339024\n",
            "# 3: 0.00014406948722738274\n",
            "# 4: 1.4895913879327367e-06\n",
            "# 5: 1.3727245751499747e-08\n",
            "# 6: 1.1765983053825444e-10\n",
            "# 7: 9.262165253815274e-13\n",
            "# 8: 3.4872462241548426e-14\n",
            "# 9: 3.4114192696649624e-14\n",
            "# 10: 3.4142990482108346e-14\n",
            "# 11: 3.412798437252336e-14\n",
            "# 12: 3.4148011409232124e-14\n",
            "# 13: 3.414289848333577e-14\n",
            "# 14: 3.414409190540434e-14\n",
            "# 15: 3.414409190540434e-14\n",
            "# 16: 3.414409190540434e-14\n",
            "# 17: 3.414409190540434e-14\n",
            "# 18: 3.414409190540434e-14\n",
            "# 19: 3.414409190540434e-14\n",
            "# 20: 3.414409190540434e-14\n",
            "Time taken: 1.0531046390533447\n"
          ]
        }
      ]
    },
    {
      "cell_type": "markdown",
      "source": [
        "One `benefit of iterative method` such as Gauss-Seidel is that we don't need to deal with the factorization of potentially large matrix $A$, which can be very time consuming\n",
        "\n",
        "For example, we can use the LU with partial pivoting to solve the same problem..."
      ],
      "metadata": {
        "id": "VeBrZ-WDfCzu"
      }
    },
    {
      "cell_type": "code",
      "source": [
        "def lu_factorization(A):\n",
        "    m, n = A.shape\n",
        "    u_mat = A.copy().astype(float)\n",
        "    l_mat = np.identity(m)\n",
        "    p_mat = np.identity(m)\n",
        "\n",
        "    for k in range(m-1):\n",
        "        # Find pivot\n",
        "        pivot = np.argmax(np.abs(u_mat[k:, k])) + k\n",
        "\n",
        "        if pivot != k:\n",
        "            # Swap rows in u, p, and l\n",
        "            u_mat[[k, pivot], :] = u_mat[[pivot, k], :]\n",
        "            p_mat[[k, pivot], :] = p_mat[[pivot, k], :]\n",
        "            l_mat[[k, pivot], :k] = l_mat[[pivot, k], :k]\n",
        "\n",
        "        for j in range(k + 1, m):\n",
        "            l_mat[j, k] = u_mat[j, k] / u_mat[k, k]\n",
        "            # Subtract multiply of kth row from jth row\n",
        "            u_mat[j, k:] -= l_mat[j, k] * u_mat[k, k:]\n",
        "\n",
        "    return p_mat, l_mat, u_mat\n",
        "\n",
        "def back_substitution(R, b):\n",
        "    m, n = R.shape\n",
        "    x = np.zeros(n)\n",
        "    for i in range(n - 1, -1, -1):\n",
        "        x[i] = (b[i] - np.dot(R[i, i + 1:], x[i + 1:])) / R[i, i]\n",
        "    return x"
      ],
      "metadata": {
        "id": "PS68kKSubS4_"
      },
      "execution_count": 6,
      "outputs": []
    },
    {
      "cell_type": "code",
      "source": [
        "start_time = time.time()\n",
        "p, l, u = lu_factorization(A)\n",
        "y_lu = forward_substitution(l, p @ b)\n",
        "x_lu = back_substitution(u, y_lu)\n",
        "\n",
        "print(np.linalg.norm(x_lu - x_gt))\n",
        "\n",
        "print(f'Time taken: {time.time()-start_time}')"
      ],
      "metadata": {
        "colab": {
          "base_uri": "https://localhost:8080/"
        },
        "id": "IydU8Bo3eXRG",
        "outputId": "87b89453-4c76-4b89-df46-6c1e221d280d"
      },
      "execution_count": 7,
      "outputs": [
        {
          "output_type": "stream",
          "name": "stdout",
          "text": [
            "5.968062548557861e-14\n",
            "Time taken: 25.044858932495117\n"
          ]
        }
      ]
    }
  ]
}