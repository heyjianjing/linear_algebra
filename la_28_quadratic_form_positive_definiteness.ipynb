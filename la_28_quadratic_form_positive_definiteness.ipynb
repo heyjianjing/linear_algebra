{
  "nbformat": 4,
  "nbformat_minor": 0,
  "metadata": {
    "colab": {
      "provenance": []
    },
    "kernelspec": {
      "name": "python3",
      "display_name": "Python 3"
    },
    "language_info": {
      "name": "python"
    },
    "gpuClass": "standard"
  },
  "cells": [
    {
      "cell_type": "markdown",
      "source": [
        "#### `Quadratic form`"
      ],
      "metadata": {
        "id": "CfWMiHIGCqu8"
      }
    },
    {
      "cell_type": "markdown",
      "source": [
        "A function $f$: $\\mathbf{R}^n \\rightarrow \\mathbf{R}$ of the form\n",
        "\n",
        "$$f(x)=x^TAx=\\sum_{i, j=1}^n A_{ij}x_ix_j$$"
      ],
      "metadata": {
        "id": "zIzK1MImE5hV"
      }
    },
    {
      "cell_type": "markdown",
      "source": [
        "In general, we assume $\\boxed{A=A^T}$\n",
        "\n",
        "Intuitively, the value of $A_{ij}$ provides measure of how strongly $x_i$ and $x_j$ are coupled"
      ],
      "metadata": {
        "id": "seyDbflWFKhG"
      }
    },
    {
      "cell_type": "markdown",
      "source": [
        "#### `Uniqueness` of quadratic form"
      ],
      "metadata": {
        "id": "qwkZz0qOFmkO"
      }
    },
    {
      "cell_type": "markdown",
      "source": [
        "If $x^TAx=x^TBx$ for all $x\\in \\mathbf{R}^n$, then $A=B$\n",
        "\n",
        "To see this, we plug in $x=e_i$, then\n",
        "\n",
        "$$x^TAx=A_{ii}=x^TB^x=B_{ii}$$\n",
        "\n",
        "Next, we plug in $x=e_i+e_j$, then\n",
        "\n",
        "$$x^TAx=A_{ii}+A_{ij}+A_{ji}+A_{jj}=x^TBx=B_{ii}+B_{ij}+B_{ji}+B_{jj}$$\n",
        "\n",
        "Using the first result, we have\n",
        "\n",
        "$$A_{ij}+A_{ji}=B_{ij}+B_{ji}$$\n",
        "\n",
        "This means\n",
        "\n",
        "$$A+A^T=B+B^T$$\n",
        "\n",
        "Since both $A$ and $B$ are symmetric, we have $A=B$"
      ],
      "metadata": {
        "id": "55Cs5sLpFsoc"
      }
    },
    {
      "cell_type": "markdown",
      "source": [
        "#### `Inequalities` for quadratic form"
      ],
      "metadata": {
        "id": "OLHs82NcHAGG"
      }
    },
    {
      "cell_type": "markdown",
      "source": [
        "Suppose we have $A=Q\\Lambda Q^T$ with `sorted eigenvalues` $\\lambda_1\\geq\\cdots\\geq\\lambda_n$, then\n",
        "\n",
        "$$\\begin{align*}\n",
        "x^TAx&=x^TQ\\Lambda Q^Tx\\\\\n",
        "&=(Q^Tx)^T\\Lambda (Q^Tx)\\,\\, \\text{(this is a quadratic form)}\\\\\n",
        "&=\\sum_{i=1}^n\\lambda_i(q_i^Tx)^2\\\\\n",
        "&\\leq \\lambda_1 \\sum_{i=1}^n(q_i^Tx)^2\\\\\n",
        "&=\\lambda_1 \\|Q^Tx\\|^2\\\\\n",
        "&=\\lambda_1 \\|x\\|^2\n",
        "\\end{align*}$$"
      ],
      "metadata": {
        "id": "Z4gTobwCHRy_"
      }
    },
    {
      "cell_type": "markdown",
      "source": [
        "Similarly\n",
        "\n",
        "$$\\begin{align}\n",
        "x^TAx& =\\sum_{i=1}^n\\lambda_i(q_i^Tx)^2 \\geq \\lambda_n \\sum_{i=1}^n(q_i^Tx)^2 = \\lambda_n \\|x\\|^2\n",
        "\\end{align}$$\n",
        "\n",
        "So\n",
        "\n",
        "$$\\boxed{\\lambda_n \\|x\\|^2 \\leq x^TAx \\leq \\lambda_1 \\|x\\|^2} $$\n",
        "\n",
        "The `equality` is achieved when $x=q_1$\n",
        "\n",
        "$$q_1^TAq_1=\\lambda_1\\|q_1\\|^2$$\n",
        "\n",
        "and when $x=q_n$\n",
        "\n",
        "$$q_n^TAq_n=\\lambda_n\\|q_n\\|^2$$"
      ],
      "metadata": {
        "id": "JXb1ZTOAKKTO"
      }
    },
    {
      "cell_type": "markdown",
      "source": [
        "#### `Positive semidefinite` and `definite` matrices (PSD and PD)"
      ],
      "metadata": {
        "id": "h3FcFN78L-Iu"
      }
    },
    {
      "cell_type": "markdown",
      "source": [
        "$A$ is `positive semidefinite` if $x^TAx\\geq 0$ for all $x$\n",
        "\n",
        "Write $A\\geq0$\n",
        "\n",
        "This is the case `if and only if` $$\\lambda_{min}(A)\\geq 0$$\n",
        "\n",
        "which can be seen from `inequalities` above\n",
        "\n",
        "For `positive definite`, we remove the `equality`, that is\n",
        "\n",
        "$$\\lambda_{min}(A) > 0$$"
      ],
      "metadata": {
        "id": "Lx3lvt7WMEPN"
      }
    },
    {
      "cell_type": "code",
      "source": [],
      "metadata": {
        "id": "KtV1_unKE5ML"
      },
      "execution_count": null,
      "outputs": []
    }
  ]
}