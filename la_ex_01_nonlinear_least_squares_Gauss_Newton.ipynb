{
  "nbformat": 4,
  "nbformat_minor": 0,
  "metadata": {
    "colab": {
      "provenance": []
    },
    "kernelspec": {
      "name": "python3",
      "display_name": "Python 3"
    },
    "language_info": {
      "name": "python"
    },
    "gpuClass": "standard"
  },
  "cells": [
    {
      "cell_type": "markdown",
      "source": [
        "#### `Nonlinear` least-squares (NLLS)"
      ],
      "metadata": {
        "id": "CfWMiHIGCqu8"
      }
    },
    {
      "cell_type": "markdown",
      "source": [
        "Find $x\\in \\mathbf{R}^n$ that minimizes\n",
        "\n",
        "$$\\|f(x)\\|^2=\\sum_{i=1}^mf_i(x)^2$$\n",
        "\n",
        "where $f: \\mathbf{R}^n \\rightarrow \\mathbf{R}^m$ and $m>n$\n",
        "\n",
        "* $f(x)$ is a vector function\n",
        "* the problem becomes linear least-squares when $f(x)=Ax-y$\n",
        "* $f(x)$ in general case is hard to solve exactly\n",
        "* `heuristics` to compute locally optimal solutions"
      ],
      "metadata": {
        "id": "zIzK1MImE5hV"
      }
    },
    {
      "cell_type": "markdown",
      "source": [
        "#### `Gauss-Newton`"
      ],
      "metadata": {
        "id": "_6TocEJdrrBo"
      }
    },
    {
      "cell_type": "markdown",
      "source": [
        "* `Guess` for $x^{k}$\n",
        "\n",
        "* `Linearize` $f(x)$ near $x^{k}$\n",
        "$$f(x)\\approx f(x^{k})+Df(x^{k})(x-x^{k})$$\n",
        "where $Df$ is the Jacobian: $Df_{ij}=\\frac{\\partial f_i}{\\partial x_j}$, it is a `tall matrix`. Then write in $\\color{orange}{Df(x^{k})}x-\\color{red}{y^{k}}$ form\n",
        "$$\\color{orange}{Df(x^{k})}x-\\color{red}{\\left(Df(x^{k})x^{k}-f(x^{k})\\right)}$$\n",
        "\n",
        "* New guess is `linear least-squares solution`, using linearized $f(x)$\n",
        "$$\\begin{align*}\n",
        "x^{k+1}&=\\left(\\color{orange}{Df(x^{k})}^T \\color{orange}{Df(x^{k})}\\right)^{-1}\\color{orange}{Df(x^{k})}^T \\color{red}{y^{k}} \\\\\n",
        "&=\\left(\\color{orange}{Df(x^{k})}^T \\color{orange}{Df(x^{k})}\\right)^{-1}\\color{orange}{Df(x^{k})}^T\\left(\\color{orange}{Df(x^{k})}x^{k}-f(x^{k})\\right) \\\\\n",
        "&=\\boxed{x^{k}-\\left(\\color{orange}{Df(x^{k})}^T \\color{orange}{Df(x^{k})}\\right)^{-1}\\color{orange}{Df(x^{k})}^Tf(x^{k})}\n",
        "\\end{align*}$$\n",
        "\n",
        "* Repeat"
      ],
      "metadata": {
        "id": "RROOVlQSrtHD"
      }
    },
    {
      "cell_type": "markdown",
      "source": [
        "#### Example: `position estimate from ranges`"
      ],
      "metadata": {
        "id": "pd6ObQu6OQns"
      }
    },
    {
      "cell_type": "markdown",
      "source": [
        "Estimate position $x=\\begin{bmatrix}x_1 \\\\x_2\\end{bmatrix}\\in \\mathbf{R}^2$ from approximate distances to beacons at locations $b_1, \\cdots, b_m \\in \\mathbf{R}^2$\n",
        "\n",
        "* measurement at each beacon is $\\rho_i=\\|x-b_i\\|+v_i$\n",
        "* NLLS finds $x$ that minimizes\n",
        "\n",
        "$$\\|f(x)\\|^2=\\sum_{i=1}^m(\\rho_i-\\|x-b_i\\|)^2$$"
      ],
      "metadata": {
        "id": "ESzW_b1MOV1-"
      }
    },
    {
      "cell_type": "markdown",
      "source": [
        "##### Generate `data`"
      ],
      "metadata": {
        "id": "A9qAIsM7PF2G"
      }
    },
    {
      "cell_type": "code",
      "source": [
        "import numpy as np\n",
        "import matplotlib.pyplot as plt\n",
        "\n",
        "plt.style.use('dark_background')\n",
        "np.set_printoptions(formatter={'float': '{: 0.2e}'.format})"
      ],
      "metadata": {
        "id": "dObwfCnWBzI6"
      },
      "execution_count": 1,
      "outputs": []
    },
    {
      "cell_type": "code",
      "source": [
        "np.random.seed(42)\n",
        "\n",
        "# Beacons\n",
        "m_beacons = 10\n",
        "beacon_pos = np.random.rand(m_beacons, 2) * 20\n",
        "\n",
        "# Object\n",
        "obj_pos = np.array([12, 3]) # (2,)\n",
        "\n",
        "# Measured distances with some noise\n",
        "noise = np.random.normal(0, 0.5, m_beacons)  # (10,)\n",
        "diff_vec = beacon_pos - obj_pos\n",
        "rho = np.sqrt(np.sum(diff_vec ** 2, axis=1)) + noise\n",
        "\n",
        "plt.figure(figsize=(6, 6))\n",
        "plt.scatter(beacon_pos[:, 0], beacon_pos[:, 1], c='c', label='Beacons')\n",
        "plt.scatter(obj_pos[0], obj_pos[1], c='r', marker='x', label='Object')\n",
        "plt.legend(loc='upper left')\n",
        "plt.xlabel('x')\n",
        "plt.ylabel('ye')\n",
        "# plt.grid(True)\n",
        "plt.show()\n",
        "\n",
        "print('Beacons:\\n', beacon_pos)\n",
        "print('\\nTrue Position:\\n', obj_pos)\n",
        "print('\\nMeasured distances (rho):\\n', rho)\n",
        "print('\\nTrue distances:\\n', np.sqrt(np.sum(diff_vec ** 2, axis=1)))"
      ],
      "metadata": {
        "id": "R50YjyTxhKYS",
        "colab": {
          "base_uri": "https://localhost:8080/",
          "height": 935
        },
        "outputId": "f142e093-40ad-4bb8-fa8a-9c573c2578e7"
      },
      "execution_count": 2,
      "outputs": [
        {
          "output_type": "display_data",
          "data": {
            "text/plain": [
              "<Figure size 600x600 with 1 Axes>"
            ],
            "image/png": "[encoded data removed]"
          },
          "metadata": {}
        },
        {
          "output_type": "stream",
          "name": "stdout",
          "text": [
            "Beacons:\n",
            " [[ 7.49e+00  1.90e+01]\n",
            " [ 1.46e+01  1.20e+01]\n",
            " [ 3.12e+00  3.12e+00]\n",
            " [ 1.16e+00  1.73e+01]\n",
            " [ 1.20e+01  1.42e+01]\n",
            " [ 4.12e-01  1.94e+01]\n",
            " [ 1.66e+01  4.25e+00]\n",
            " [ 3.64e+00  3.67e+00]\n",
            " [ 6.08e+00  1.05e+01]\n",
            " [ 8.64e+00  5.82e+00]]\n",
            "\n",
            "True Position:\n",
            " [12  3]\n",
            "\n",
            "Measured distances (rho):\n",
            " [ 1.61e+01  9.51e+00  8.43e+00  1.73e+01  1.19e+01  2.00e+01  4.85e+00\n",
            "  7.68e+00  9.28e+00  4.45e+00]\n",
            "\n",
            "True distances:\n",
            " [ 1.66e+01  9.35e+00  8.88e+00  1.80e+01  1.12e+01  2.01e+01  4.81e+00\n",
            "  8.39e+00  9.55e+00  4.39e+00]\n"
          ]
        }
      ]
    },
    {
      "cell_type": "markdown",
      "source": [
        "##### Compute `Jacobian`"
      ],
      "metadata": {
        "id": "AhXxD03-PIgm"
      }
    },
    {
      "cell_type": "markdown",
      "source": [
        "The residual for the `ith` beacon is expressed as\n",
        "\n",
        "$$\\begin{align*}\n",
        "f_i(x)&=\\rho_i-\\|x-b_i\\| \\\\\n",
        "&=\\rho_i-\\sqrt{(x_1-b_{i1})^2+(x_2-b_{i2})^2} \\\\\n",
        "&=\\rho_i-\\sqrt{d_i}\n",
        "\\end{align*}$$\n",
        "\n",
        "Now, we can compute the Jacobian\n",
        "\n",
        "$$\\begin{align*}Df_{ij}&=\\frac{\\partial f_i}{\\partial x_j} \\\\\n",
        "&=\\frac{\\partial f_i}{\\partial d_i} \\frac{\\partial d_i}{\\partial x_j}\\\\\n",
        "&=-\\frac{1}{2}\\frac{1}{\\sqrt{d_i}}\\cdot 2(x_j-b_{ij})\\\\\n",
        "&=-\\frac{x_j-b_{ij}}{\\sqrt{d_i}}\n",
        "\\end{align*}$$"
      ],
      "metadata": {
        "id": "3mqovGqMPPgi"
      }
    },
    {
      "cell_type": "code",
      "source": [
        "# Compute residual function\n",
        "def residual(x, beacons, rho):\n",
        "    diffs = beacons - x # (10, 2)\n",
        "    # print(diffs.shape)\n",
        "    return rho - np.sqrt(np.sum(diffs ** 2, axis=1)) # (10,)\n",
        "\n",
        "# Compute Jacobian of residual\n",
        "def jacobian(x, beacons):\n",
        "    diffs = x - beacons# (10, 2)\n",
        "    # print(diffs.shape)\n",
        "    dists = np.sqrt(np.sum(diffs ** 2, axis=1)).reshape(-1, 1) # (10, 1)\n",
        "    # print(dists.shape)\n",
        "    return -diffs / dists # (10, 2)\n",
        "\n",
        "# Test to see whether shapes are correct\n",
        "x_test = np.array([3., 2.])\n",
        "\n",
        "residual_test = residual(x_test, beacon_pos, rho)\n",
        "jacobian_test = jacobian(x_test, beacon_pos)\n",
        "\n",
        "print('Initial Residual shape:', residual_test.shape)\n",
        "print('\\nInitial Residual:\\n', residual_test)\n",
        "print('\\nInitial Jacobian shape:', jacobian_test.shape)\n",
        "print('\\nInitial Jacobian:\\n', jacobian_test)"
      ],
      "metadata": {
        "colab": {
          "base_uri": "https://localhost:8080/"
        },
        "id": "SNQOaEU2Sh_y",
        "outputId": "9e1721a8-e950-4e6e-e98b-e908271f174a"
      },
      "execution_count": 3,
      "outputs": [
        {
          "output_type": "stream",
          "name": "stdout",
          "text": [
            "Initial Residual shape: (10,)\n",
            "\n",
            "Initial Residual:\n",
            " [-1.47e+00 -5.82e+00  7.30e+00  1.82e+00 -3.25e+00  2.38e+00 -8.99e+00\n",
            "  5.89e+00  2.38e-01 -2.37e+00]\n",
            "\n",
            "Initial Jacobian shape: (10, 2)\n",
            "\n",
            "Initial Jacobian:\n",
            " [[ 2.55e-01  9.67e-01]\n",
            " [ 7.59e-01  6.51e-01]\n",
            " [ 1.07e-01  9.94e-01]\n",
            " [-1.19e-01  9.93e-01]\n",
            " [ 5.96e-01  8.03e-01]\n",
            " [-1.47e-01  9.89e-01]\n",
            " [ 9.87e-01  1.62e-01]\n",
            " [ 3.57e-01  9.34e-01]\n",
            " [ 3.41e-01  9.40e-01]\n",
            " [ 8.28e-01  5.61e-01]]\n"
          ]
        }
      ]
    },
    {
      "cell_type": "markdown",
      "source": [
        "##### `Iterations`"
      ],
      "metadata": {
        "id": "rGe5v7x1W7ob"
      }
    },
    {
      "cell_type": "code",
      "source": [
        "max_iterations = 10\n",
        "tolerance = 1e-6\n",
        "\n",
        "x_est = np.mean(beacon_pos, axis=0)\n",
        "print('Initial estimate:', x_est)\n",
        "estimates = [x_est.copy()]\n",
        "\n",
        "for i in range(max_iterations):\n",
        "    f = residual(x_est, beacon_pos, rho)\n",
        "    Df = jacobian(x_est, beacon_pos)\n",
        "\n",
        "    eigenvalues,_ = np.linalg.eigh(Df.T @ Df)\n",
        "    print(f\"Iter: {i}, Eigenvalues of Df.T @ Df: {eigenvalues}\")\n",
        "\n",
        "    # Gauss-Newton update\n",
        "    delta_x = np.linalg.inv(Df.T @ Df) @ Df.T @ f\n",
        "    x_est -= delta_x\n",
        "\n",
        "    # Append new estimate\n",
        "    estimates.append(x_est.copy())\n",
        "\n",
        "    if np.linalg.norm(delta_x) < tolerance:\n",
        "        print(f'Converged after {i+1} iterations')\n",
        "        break\n",
        "\n",
        "# Final estimated position\n",
        "estimated_position = x_est"
      ],
      "metadata": {
        "colab": {
          "base_uri": "https://localhost:8080/"
        },
        "id": "glkv-A09TBWZ",
        "outputId": "d425069e-c0a1-40c2-c8d4-a4ecfdefed67"
      },
      "execution_count": 4,
      "outputs": [
        {
          "output_type": "stream",
          "name": "stdout",
          "text": [
            "Initial estimate: [ 7.39e+00  1.09e+01]\n",
            "Iter: 0, Eigenvalues of Df.T @ Df: [ 4.60e+00  5.40e+00]\n",
            "Iter: 1, Eigenvalues of Df.T @ Df: [ 3.99e+00  6.01e+00]\n",
            "Iter: 2, Eigenvalues of Df.T @ Df: [ 3.24e+00  6.76e+00]\n",
            "Iter: 3, Eigenvalues of Df.T @ Df: [ 3.28e+00  6.72e+00]\n",
            "Iter: 4, Eigenvalues of Df.T @ Df: [ 3.28e+00  6.72e+00]\n",
            "Iter: 5, Eigenvalues of Df.T @ Df: [ 3.28e+00  6.72e+00]\n",
            "Iter: 6, Eigenvalues of Df.T @ Df: [ 3.28e+00  6.72e+00]\n",
            "Converged after 7 iterations\n"
          ]
        }
      ]
    },
    {
      "cell_type": "code",
      "source": [
        "estimates_array = np.array(estimates)\n",
        "\n",
        "plt.figure(figsize=(6, 6))\n",
        "plt.scatter(beacon_pos[:, 0], beacon_pos[:, 1], c='c', label='Beacons')\n",
        "plt.scatter(obj_pos[0], obj_pos[1],s=40, c='y', marker='x', label='Object', zorder=5)\n",
        "plt.scatter(estimated_position[0], estimated_position[1], c='orange', marker='o', label='Estimated position', zorder=5)\n",
        "\n",
        "# Plot trajectory\n",
        "plt.plot(estimates_array[:, 0], estimates_array[:, 1], '-^', label='Estimate trajectory', color='m')\n",
        "\n",
        "plt.legend(loc='upper left')\n",
        "plt.xlabel('x')\n",
        "plt.ylabel('y')\n",
        "plt.title('Using Gauss-Newton')\n",
        "\n",
        "plt.show()\n",
        "\n",
        "# Output final estimated position\n",
        "print(f'Estimated position: {estimated_position}')\n",
        "print(f'Estimation error: {np.linalg.norm(estimated_position - obj_pos)}')"
      ],
      "metadata": {
        "colab": {
          "base_uri": "https://localhost:8080/",
          "height": 600
        },
        "id": "laZm8zXLZEFZ",
        "outputId": "82b2ff7b-8f44-46a8-85e4-b173aaff03d0"
      },
      "execution_count": 5,
      "outputs": [
        {
          "output_type": "display_data",
          "data": {
            "text/plain": [
              "<Figure size 600x600 with 1 Axes>"
            ],
            "image/png": "[encoded data removed]"
          },
          "metadata": {}
        },
        {
          "output_type": "stream",
          "name": "stdout",
          "text": [
            "Estimated position: [ 1.16e+01  2.95e+00]\n",
            "Estimation error: 0.45158463112995334\n"
          ]
        }
      ]
    },
    {
      "cell_type": "code",
      "source": [],
      "metadata": {
        "id": "ZW22AvJuaop4"
      },
      "execution_count": 5,
      "outputs": []
    }
  ]
}