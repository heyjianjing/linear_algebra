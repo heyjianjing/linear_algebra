{
  "nbformat": 4,
  "nbformat_minor": 0,
  "metadata": {
    "colab": {
      "provenance": []
    },
    "kernelspec": {
      "name": "python3",
      "display_name": "Python 3"
    },
    "language_info": {
      "name": "python"
    }
  },
  "cells": [
    {
      "cell_type": "markdown",
      "source": [
        "#### `Triangularization` of a matrix"
      ],
      "metadata": {
        "id": "RzSDlfgPUCzC"
      }
    },
    {
      "cell_type": "markdown",
      "source": [
        "Alston Householder came up with a clever way to turn a matrix in to a upper triangular form and thereby, obtaining the QR decomposition\n",
        "\n",
        "This procedure can be illustrated using a matrix $A\\in \\mathbf{R}^{4 \\times 3}$ where `x` indicates entries that are not necessarily zero\n",
        "\n",
        "$$A:\\begin{bmatrix} \\times & \\times & \\times \\\\\\times & \\times & \\times\\\\\\times & \\times & \\times\\\\\\times & \\times & \\times\\end{bmatrix} \\rightarrow Q_1A\\rightarrow \\begin{bmatrix} \\times & \\times & \\times \\\\ 0& \\color{red}{\\times} & \\times\\\\ 0 & \\color{red}{\\times} & \\times\\\\ 0 & \\color{red}{\\times} & \\times\\end{bmatrix}\\rightarrow Q_2Q_1A\\rightarrow\\begin{bmatrix} \\times & \\times & \\times \\\\ 0& \\times & \\times\\\\ 0 & 0 & \\times\\\\ 0 & 0 & \\times\\end{bmatrix}\\rightarrow Q_3Q_2Q_1A\\rightarrow \\begin{bmatrix} \\times & \\times & \\times \\\\ 0& \\times & \\times\\\\ 0 & 0 & \\times\\\\ 0 & 0 & 0\\end{bmatrix}$$\n",
        "\n",
        "where $Q_i\\in \\mathbf{R}^{4 \\times 4}, i=1, 2, 3,$ are `orthogonal` matrices (i.e., $Q_i^{T}=Q_i^{-1}$)"
      ],
      "metadata": {
        "id": "89Q1kQiiwtRv"
      }
    },
    {
      "cell_type": "markdown",
      "source": [
        "#### `Structure` of $Q_k$"
      ],
      "metadata": {
        "id": "WRJxWklc34PW"
      }
    },
    {
      "cell_type": "markdown",
      "source": [
        "Because left multiplying $Q_k$ would essentially recombine the rows of the (intermediate) $A$, therefore, it is not very difficult to see that each orthogonal matrix should have the following structure for $A\\in \\mathbf{R}^{m \\times n}$\n",
        "\n",
        "$$Q_k=\\begin{bmatrix} I_{(k-1)\\times(k-1)} & 0 \\\\ 0 & F_{(m-k+1)\\times(m-k+1)} \\end{bmatrix}$$\n",
        "\n",
        "such that each $Q_k$ will focus on making the pattern correct for the `kth` column of $A$ without destroying the first $(k-1)$ rows in $A$"
      ],
      "metadata": {
        "id": "UN3W0kE44DBT"
      }
    },
    {
      "cell_type": "markdown",
      "source": [
        "#### Construction of $F$"
      ],
      "metadata": {
        "id": "uUb8Dwwh5LNH"
      }
    },
    {
      "cell_type": "code",
      "source": [
        "import matplotlib.pyplot as plt\n",
        "import numpy as np\n",
        "np.set_printoptions(formatter={'float': '{: 0.4f}'.format})\n",
        "\n",
        "plt.style.use('dark_background')\n",
        "# color: https://matplotlib.org/stable/gallery/color/named_colors.htm"
      ],
      "metadata": {
        "id": "E7IXLxroydqP"
      },
      "execution_count": 8,
      "outputs": []
    },
    {
      "cell_type": "code",
      "source": [
        "x = np.linspace(-4, 4, 100)\n",
        "h_1 = 1 / np.sqrt(3)\n",
        "h_2 = -1 * np.sqrt(3)\n",
        "\n",
        "plt.plot(x, h_1 * x, color='w', ls='--', linewidth=1)\n",
        "plt.plot(x, h_2 * x, color='w', ls='--', linewidth=1)\n",
        "plt.plot([2, 1], [0, np.sqrt(3)], color='c', linewidth=2)\n",
        "plt.plot([-2, 1], [0, np.sqrt(3)], color='c', linewidth=2)\n",
        "plt.scatter(1, np.sqrt(3), color='w', zorder=5)\n",
        "plt.scatter(2, 0, color='w', zorder=5)\n",
        "plt.scatter(-2, 0, color='w', zorder=5)\n",
        "\n",
        "plt.text(1, 2.1, '$x$', horizontalalignment='center', fontsize=12, color='w')\n",
        "plt.text(2, -0.4, '$+\\|x\\|e_1$', horizontalalignment='center', fontsize=12, color='w')\n",
        "plt.text(-2, -0.4, '$-\\|x\\|e_1$', horizontalalignment='center', fontsize=12, color='w')\n",
        "plt.text(2.5, 0.5, '$+\\|x\\|e_1-x$', horizontalalignment='center', fontsize=12, color='c')\n",
        "plt.text(-2.2, 0.5, '$-\\|x\\|e_1-x$', horizontalalignment='center', fontsize=12, color='c')\n",
        "plt.arrow(2-0.15, 0+0.15*np.sqrt(3), 0.001, -0.001*np.sqrt(3), head_width=0.1, head_length=0.3, fc='c', ec='c')\n",
        "plt.arrow(-2+0.45/np.sqrt(3), 0+0.15, -0.001, -0.001/np.sqrt(3), head_width=0.1, head_length=0.3, fc='c', ec='c')\n",
        "\n",
        "plt.axhline(0, color='w',  linewidth=1)\n",
        "plt.axvline(0, color='w',  linewidth=1)\n",
        "\n",
        "plt.ylim(-3, 3)\n",
        "plt.xlim(-4, 4)\n",
        "plt.gca().set_aspect('equal', adjustable='box')\n",
        "plt.show()"
      ],
      "metadata": {
        "colab": {
          "base_uri": "https://localhost:8080/",
          "height": 435
        },
        "id": "g-jxmlImC4YB",
        "outputId": "ab38eec7-829b-4de7-eafc-7208a1030542"
      },
      "execution_count": 9,
      "outputs": [
        {
          "output_type": "display_data",
          "data": {
            "text/plain": [
              "<Figure size 640x480 with 1 Axes>"
            ],
            "image/png": "[encoded data removed]"
          },
          "metadata": {}
        }
      ]
    },
    {
      "cell_type": "markdown",
      "source": [
        "Let's consider iteration $k$ when we construct $Q_k$\n",
        "\n",
        "Denote the vector consisting of the final $m-k+1$ entries in the `kth` column of the matrix $A$ as $x$ (for example, the red $\\times$ above for $Q_2$)\n",
        "\n",
        "The Householder triangularization finds the $F$ such that\n",
        "\n",
        "$$Fx=\\pm\\|x\\|e_1$$\n",
        "\n",
        "The scaling coefficient of $e_1$, $\\pm\\|x\\|$, reflects the fact that orthogonal matrix `preserves norm`, that is $\\|Fx\\|=\\|\\pm\\|x\\|e_i\\|=\\|x\\|$\n",
        "\n",
        "Geometrically, the transformation $Fx=\\pm\\|x\\|e_1$ is like doing a `reflection` of $x$ on to the x-axis across a hyperplane\n",
        "\n",
        "Due to the preservation of norm between $x$ and $Fx$, the seperating hyperplane goes pass the origin"
      ],
      "metadata": {
        "id": "XcyszOYJ5Q9b"
      }
    },
    {
      "cell_type": "markdown",
      "source": [
        "Use the reflection on positive x-axis as example, we recall that the residual of the projection of $x$ on to the plane is\n",
        "\n",
        "$$\\left(I-\\frac{vv^T}{v^Tv}\\right)x$$\n",
        "\n",
        "where $v=\\|x\\|e_i-x$\n",
        "\n",
        "We see that to make reflection, we need to go twice as far from $x$ along the direction of $v$ and we have\n",
        "\n",
        "$$Fx=\\boxed{\\left(I-2\\frac{vv^T}{v^Tv}\\right) x}$$\n",
        "\n",
        "For numerical reasons, we often choose the reflection that is `further` from $x$\n",
        "\n",
        "That is\n",
        "\n",
        "$$v=\\text{sgn}(x_1)\\|x\\|e_1+x$$"
      ],
      "metadata": {
        "id": "Pa70voJaHUZF"
      }
    },
    {
      "cell_type": "markdown",
      "source": [
        "#### Obtain $Q$"
      ],
      "metadata": {
        "id": "T4BTpEL1OF19"
      }
    },
    {
      "cell_type": "markdown",
      "source": [
        "Once we sequentially construct $Q_i, i=1, \\cdots, n$, we will take care of the triangularization and $A$ would become an `upper triangular` matrix, which is $\\begin{bmatrix}R \\\\ 0\\end{bmatrix}$ or $R$\n",
        "\n",
        "An efficient way to get the `orthogonal` matrix $Q$ is to apply the same sequence of $Q_i$ to the identity matrix and the transformed identity matrix would be the $Q$, as we know $QI=Q$ (it is actually $Q^T$ since we apply $QA=R$ and we need $A=Q^TR$)\n",
        "\n",
        "This also indicates that the Householder triangularization setup here is always doing `full QR` decomposition"
      ],
      "metadata": {
        "id": "dTRs-6e5OJDz"
      }
    },
    {
      "cell_type": "markdown",
      "source": [
        "#### Example"
      ],
      "metadata": {
        "id": "ncFPaeqU6GH6"
      }
    },
    {
      "cell_type": "code",
      "source": [
        "def householder(A):\n",
        "    m, n = A.shape\n",
        "    R = A.copy()\n",
        "    Q = np.identity(m)\n",
        "\n",
        "    for i in range(n):\n",
        "        x = R[i:, i]\n",
        "        v = np.sign(x[0]) * np.linalg.norm(x) * np.eye(x.shape[0])[:,0] + x\n",
        "        v /= np.linalg.norm(v)\n",
        "\n",
        "        # in textbook the transformation is applied only to columns starting index i, i.e., R[i:, i:]\n",
        "        # however, since all entries in R[i:, :i] are zero from previous iteration\n",
        "        # applying transformation to all columns R[i:, :] would not have negative impact\n",
        "        # of course, for large scale problem, using R[i:, i:] surely can save some computation\n",
        "        R[i:, :] -= 2 * np.outer(v, v) @ R[i:, :]\n",
        "\n",
        "        # if Q is needed explicitly\n",
        "        Q[i:, :] -= 2 * np.outer(v, v) @ Q[i:, :]\n",
        "\n",
        "    return Q.T, R"
      ],
      "metadata": {
        "id": "awRuLIy3KXnQ"
      },
      "execution_count": 10,
      "outputs": []
    },
    {
      "cell_type": "code",
      "source": [
        "mat_list = ['square', 'non-square', 'ill-conditioned', 'identity']\n",
        "mat = mat_list[1]\n",
        "epsilon = 1e-8\n",
        "\n",
        "if mat == 'square':\n",
        "    A = np.array([[1.0, 2.0, 3.0, 4.0],\n",
        "                  [4.0, 1.0, 0.0, -1.0],\n",
        "                  [3.0, 5.0, -2.0, 1.0],\n",
        "                  [2.0, 0.0, 1.0, 2.0]])\n",
        "elif mat == 'non-square':\n",
        "    A = np.array([[1.0, 2.0, 3.0],\n",
        "                  [4.0, 1.0, 0.0],\n",
        "                  [3.0, 5.0, -2.0],\n",
        "                  [2.0, 0.0, 1.0]])\n",
        "elif mat == 'ill-conditioned':\n",
        "    A = np.array([[1, 1, 1],\n",
        "                  [epsilon, 0, 0],\n",
        "                  [0, epsilon, 0],\n",
        "                  [0, 0, epsilon]])\n",
        "elif mat == 'identity':\n",
        "    A = np.identity(4)\n",
        "\n",
        "Q, R = householder(A)\n",
        "\n",
        "print(\"Orthonormal basis Q:\")\n",
        "print(Q)\n",
        "\n",
        "print(\"\\nUpper triangular matrix R:\")\n",
        "print(R)\n",
        "\n",
        "# Verify Q is orthonormal\n",
        "print(f\"\\nQ^TQ:\\n{np.dot(Q.T, Q)}\")\n",
        "print(f\"Norms: \\n{np.linalg.norm(Q, axis=0)}\")\n",
        "\n",
        "# Verify that A = QR (full QR)\n",
        "A_reconstructed = np.dot(Q, R)\n",
        "print(\"\\nOriginal matrix A:\")\n",
        "print(A)\n",
        "print(\"\\nReconstructed matrix A from Q and R as full QR:\")\n",
        "print(A_reconstructed)\n",
        "\n",
        "# To get reduced QR\n",
        "n = A.shape[1]\n",
        "A_reduced = np.dot(Q[:, :n], R[:n, :])\n",
        "print(\"\\nReconstructed matrix A from Q and R as reduced QR:\")\n",
        "print(A_reduced)"
      ],
      "metadata": {
        "colab": {
          "base_uri": "https://localhost:8080/"
        },
        "id": "r7hJ0x0u6KXR",
        "outputId": "45fd274a-1b67-4b45-9266-f6657d85c336"
      },
      "execution_count": 11,
      "outputs": [
        {
          "output_type": "stream",
          "name": "stdout",
          "text": [
            "Orthonormal basis Q:\n",
            "[[-0.1826  0.3324  0.9102 -0.1667]\n",
            " [-0.7303 -0.4602 -0.0700 -0.5000]\n",
            " [-0.5477  0.7414 -0.3501  0.1667]\n",
            " [-0.3651 -0.3579  0.2100  0.8333]]\n",
            "\n",
            "Upper triangular matrix R:\n",
            "[[-5.4772 -3.8341  0.1826]\n",
            " [ 0.0000  3.9115 -0.8437]\n",
            " [-0.0000 -0.0000  3.6407]\n",
            " [ 0.0000 -0.0000  0.0000]]\n",
            "\n",
            "Q^TQ:\n",
            "[[ 1.0000  0.0000 -0.0000  0.0000]\n",
            " [ 0.0000  1.0000 -0.0000 -0.0000]\n",
            " [-0.0000 -0.0000  1.0000 -0.0000]\n",
            " [ 0.0000 -0.0000 -0.0000  1.0000]]\n",
            "Norms: \n",
            "[ 1.0000  1.0000  1.0000  1.0000]\n",
            "\n",
            "Original matrix A:\n",
            "[[ 1.0000  2.0000  3.0000]\n",
            " [ 4.0000  1.0000  0.0000]\n",
            " [ 3.0000  5.0000 -2.0000]\n",
            " [ 2.0000  0.0000  1.0000]]\n",
            "\n",
            "Reconstructed matrix A from Q and R as full QR:\n",
            "[[ 1.0000  2.0000  3.0000]\n",
            " [ 4.0000  1.0000  0.0000]\n",
            " [ 3.0000  5.0000 -2.0000]\n",
            " [ 2.0000  0.0000  1.0000]]\n",
            "\n",
            "Reconstructed matrix A from Q and R as reduced QR:\n",
            "[[ 1.0000  2.0000  3.0000]\n",
            " [ 4.0000  1.0000  0.0000]\n",
            " [ 3.0000  5.0000 -2.0000]\n",
            " [ 2.0000  0.0000  1.0000]]\n"
          ]
        }
      ]
    },
    {
      "cell_type": "code",
      "source": [],
      "metadata": {
        "id": "YQmDhbUEHkiD"
      },
      "execution_count": 11,
      "outputs": []
    }
  ]
}