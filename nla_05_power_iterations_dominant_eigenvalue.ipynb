{
  "nbformat": 4,
  "nbformat_minor": 0,
  "metadata": {
    "colab": {
      "provenance": []
    },
    "kernelspec": {
      "name": "python3",
      "display_name": "Python 3"
    },
    "language_info": {
      "name": "python"
    }
  },
  "cells": [
    {
      "cell_type": "markdown",
      "source": [
        "#### Power iterations for `dominant` eigenvalue"
      ],
      "metadata": {
        "id": "RzSDlfgPUCzC"
      }
    },
    {
      "cell_type": "markdown",
      "source": [
        "Assume $A\\in \\mathbf{R}^{n \\times n}$ is `diagonalizable`, we know its eigenvectors $v_i, \\cdots, v_n$ form a `basis` for $\\mathbf{R}^n$\n",
        "\n",
        "For a vector $x\\in \\mathbf{R}^n$, we can express it using the eigenvectors of $A$ as\n",
        "\n",
        "$$x=c_1v_1 + c_2v_2 + \\cdots + c_nv_n$$"
      ],
      "metadata": {
        "id": "89Q1kQiiwtRv"
      }
    },
    {
      "cell_type": "markdown",
      "source": [
        "If we compute $Ax$ and assume $|\\lambda_1|>|\\lambda_2|\\geq|\\lambda_3| \\cdots \\geq |\\lambda_n|$, we can write\n",
        "\n",
        "$$\\begin{align*}\n",
        "Ax&=A(c_1v_1 + c_2v_2 + \\cdots + c_nv_n) \\\\\n",
        "&=c_1\\lambda_1v_1 + c_2\\lambda_2v_2+\\cdots + c_n\\lambda_nv_n\n",
        "\\end{align*}$$\n",
        "\n",
        "If we keep multiplying A on the left, we get\n",
        "\n",
        "$$\\begin{align*}\n",
        "A^kx&=A(c_1v_1 + c_2v_2 + \\cdots + c_nv_n) \\\\\n",
        "&=c_1\\lambda_1^kv_1 + c_2\\lambda_2^kv_2+\\cdots + c_n\\lambda_n^kv_n \\\\\n",
        "&=\\lambda_1^k\\left(c_1v_1+c_2\\left(\\frac{\\lambda_2}{\\lambda_1}\\right)^kv_2 + \\cdots + c_n\\left(\\frac{\\lambda_n}{\\lambda_1}\\right)^kv_n\\right) \\\\\n",
        "& k \\rightarrow \\infty, \\left(\\frac{\\lambda_i}{\\lambda_1}\\right)\\rightarrow 0, i\\neq 1 \\\\\n",
        "&=\\lambda_1^kc_1v_1\n",
        "\\end{align*}$$\n",
        "\n",
        "It provides an idea to compute the `dominant eigenvalue`"
      ],
      "metadata": {
        "id": "gTxTWHE-Sa_x"
      }
    },
    {
      "cell_type": "markdown",
      "source": [
        "Apparently, we also need to normalize the process, otherwise the norm of the vector after many iterations goes to infinity or zero\n",
        "\n",
        "* starting from $x^k$\n",
        "* compute $y^k=Ax^k$\n",
        "* get new $x^{k+1}$ by normalizing $y^k$ ($l_2$ norm, infinity norm, etc)\n",
        "$$x^{k+1}=\\frac{y^k}{\\|y^k\\|}$$\n",
        "\n",
        "We can see that $x^{k}$ is some scalar multiple of $A^{k}x^0$, which in turn is some scalar multiple of $v_1$, with estimation error dominated by $\\left(\\frac{\\lambda_2}{\\lambda_1}\\right)^k$\n",
        "\n",
        "If we can get $x^k\\rightarrow cv_1$, then eigenvalue $\\lambda_1$ is simply obtained by computing $y^k = Ax^k \\rightarrow \\lambda_1cv_1$, or (which is Rayleigh quotient)\n",
        "\n",
        "$$\\frac{y^k\\cdot x^k}{x^k\\cdot x^k}\\rightarrow\\lambda_1$$"
      ],
      "metadata": {
        "id": "gtGzwlTWevsm"
      }
    },
    {
      "cell_type": "markdown",
      "source": [
        "Example\n",
        "\n",
        "$$A=\\begin{bmatrix}8 & 3 \\\\2 &7\\end{bmatrix}, x^0=\\begin{bmatrix}1 \\\\ 1\\end{bmatrix}$$"
      ],
      "metadata": {
        "id": "rVxpSH8bigIY"
      }
    },
    {
      "cell_type": "code",
      "source": [
        "import matplotlib.pyplot as plt\n",
        "import numpy as np\n",
        "np.set_printoptions(formatter={'float': '{: 0.4f}'.format})\n",
        "\n",
        "plt.style.use('dark_background')\n",
        "# color: https://matplotlib.org/stable/gallery/color/named_colors.htm"
      ],
      "metadata": {
        "id": "E7IXLxroydqP"
      },
      "execution_count": 1,
      "outputs": []
    },
    {
      "cell_type": "code",
      "source": [
        "A = np.array([[8., 3.], [2., 7.]])\n",
        "x = np.array([1., 1.])\n",
        "\n",
        "eigenvalues, eigenvectors = np.linalg.eig(A)\n",
        "print(f'True eigenvalues: {eigenvalues}')\n",
        "print(f'True eigenvectors (columns): {eigenvectors}\\n')\n",
        "\n",
        "num_iter = 20\n",
        "for iter in range(num_iter):\n",
        "    y = A @ x\n",
        "    lambda_1 = np.dot(y, x) / np.dot(x, x)\n",
        "    print(f'# {iter+1}: lambda_1: {lambda_1:.4f}')\n",
        "    x= y / np.linalg.norm(y)\n",
        "v_1 = A @ x / np.linalg.norm(A @ x)\n",
        "print(f'\\nv_1: {v_1}')"
      ],
      "metadata": {
        "id": "aZ3443WmVXAT",
        "colab": {
          "base_uri": "https://localhost:8080/"
        },
        "outputId": "f278f6fc-0d5e-4724-8694-b39e4bf34ff0"
      },
      "execution_count": 2,
      "outputs": [
        {
          "output_type": "stream",
          "name": "stdout",
          "text": [
            "True eigenvalues: [ 10.0000  5.0000]\n",
            "True eigenvectors (columns): [[ 0.8321 -0.7071]\n",
            " [ 0.5547  0.7071]]\n",
            "\n",
            "# 1: lambda_1: 10.0000\n",
            "# 2: lambda_1: 10.0495\n",
            "# 3: lambda_1: 10.0367\n",
            "# 4: lambda_1: 10.0212\n",
            "# 5: lambda_1: 10.0113\n",
            "# 6: lambda_1: 10.0058\n",
            "# 7: lambda_1: 10.0030\n",
            "# 8: lambda_1: 10.0015\n",
            "# 9: lambda_1: 10.0007\n",
            "# 10: lambda_1: 10.0004\n",
            "# 11: lambda_1: 10.0002\n",
            "# 12: lambda_1: 10.0001\n",
            "# 13: lambda_1: 10.0000\n",
            "# 14: lambda_1: 10.0000\n",
            "# 15: lambda_1: 10.0000\n",
            "# 16: lambda_1: 10.0000\n",
            "# 17: lambda_1: 10.0000\n",
            "# 18: lambda_1: 10.0000\n",
            "# 19: lambda_1: 10.0000\n",
            "# 20: lambda_1: 10.0000\n",
            "\n",
            "v_1: [ 0.8321  0.5547]\n"
          ]
        }
      ]
    },
    {
      "cell_type": "markdown",
      "source": [
        "#### Iteration for other eigenvalues"
      ],
      "metadata": {
        "id": "AzBv8X-1nJ-q"
      }
    },
    {
      "cell_type": "markdown",
      "source": [
        "After getting the dominant eigenvalue and corresponding eigenvector, we can continue by subtracting them from $A$\n",
        "\n",
        "$$A\\leftarrow A - \\lambda_1 q_1 q_1^T$$\n",
        "\n",
        "Repeat this for more eigenvalues\n",
        "\n",
        "However, since subtraction step can cause loss of orthogonality, therefore power iterations method is primarily used for finding dominant eigenvalue"
      ],
      "metadata": {
        "id": "r9LsIzMpoESt"
      }
    },
    {
      "cell_type": "code",
      "source": [
        "# Assume A diagonalizable\n",
        "def power_iteration(A, num_eigen, num_iter=1000, tol=1e-10):\n",
        "    n = A.shape[0]\n",
        "    eigenvalues = []\n",
        "    eigenvectors = []\n",
        "    A_current = A.copy()\n",
        "\n",
        "    for k in range(num_eigen):\n",
        "        x_k = np.random.rand(n)\n",
        "        x_k = x_k / np.linalg.norm(x_k)\n",
        "\n",
        "        for j in range(num_iter):\n",
        "            y_k = A_current @ x_k\n",
        "            y_k_unit = y_k / np.linalg.norm(y_k)\n",
        "\n",
        "            if np.linalg.norm(y_k_unit - x_k) < tol:\n",
        "                break\n",
        "\n",
        "            x_k = y_k_unit\n",
        "\n",
        "        print(f'{j+1} iterations for eigenvalue #{k+1}')\n",
        "\n",
        "        # eigenvalue = (A @ x_k)[0] / x_k[0]\n",
        "        # Compute the Rayleigh quotient for the eigenvalue\n",
        "        eigenvalue = np.dot(A @ x_k, x_k) / np.dot(x_k, x_k)\n",
        "        eigenvalues.append(eigenvalue)\n",
        "        eigenvectors.append(x_k)\n",
        "\n",
        "        v_k = x_k / np.linalg.norm(x_k)\n",
        "        A_current -= eigenvalue * np.outer(v_k, v_k) / np.dot(v_k, v_k)\n",
        "\n",
        "    return np.array(eigenvalues), np.column_stack(eigenvectors)"
      ],
      "metadata": {
        "id": "ndRyYxIDoics"
      },
      "execution_count": 3,
      "outputs": []
    },
    {
      "cell_type": "code",
      "source": [
        "np.random.seed(42)\n",
        "\n",
        "k = 2\n",
        "\n",
        "eigenvalues, eigenvectors = power_iteration(A, k)\n",
        "\n",
        "print(\"\\nComputed eigenvalues:\")\n",
        "for idx, eigenvalue in enumerate(eigenvalues, 1):\n",
        "    print(f\"Eigenvalue {idx}: {eigenvalue:.6f}\")\n",
        "\n",
        "print(\"\\nComputed eigenvectors (columns):\")\n",
        "print(eigenvectors)\n",
        "\n",
        "true_eigenvalues, true_eigenvectors = np.linalg.eig(A)\n",
        "print(\"\\nNumPy's eigenvalues:\")\n",
        "print(true_eigenvalues)\n",
        "\n",
        "print(\"\\nNumPy's eigenvectors (columns):\")\n",
        "print(true_eigenvectors)"
      ],
      "metadata": {
        "colab": {
          "base_uri": "https://localhost:8080/"
        },
        "id": "FKYUgZ6ZjzWY",
        "outputId": "fd241954-bcd6-4c26-b75a-9777dbd46334"
      },
      "execution_count": 4,
      "outputs": [
        {
          "output_type": "stream",
          "name": "stdout",
          "text": [
            "33 iterations for eigenvalue #1\n",
            "3 iterations for eigenvalue #2\n",
            "\n",
            "Computed eigenvalues:\n",
            "Eigenvalue 1: 10.000000\n",
            "Eigenvalue 2: 5.384615\n",
            "\n",
            "Computed eigenvectors (columns):\n",
            "[[ 0.8321 -0.3807]\n",
            " [ 0.5547  0.9247]]\n",
            "\n",
            "NumPy's eigenvalues:\n",
            "[ 10.0000  5.0000]\n",
            "\n",
            "NumPy's eigenvectors (columns):\n",
            "[[ 0.8321 -0.7071]\n",
            " [ 0.5547  0.7071]]\n"
          ]
        }
      ]
    },
    {
      "cell_type": "markdown",
      "source": [
        "We see the second eigenvalue is not accurate"
      ],
      "metadata": {
        "id": "mWAsNLIgxDbB"
      }
    },
    {
      "cell_type": "code",
      "source": [],
      "metadata": {
        "id": "QroUobn1tHPp"
      },
      "execution_count": 4,
      "outputs": []
    }
  ]
}