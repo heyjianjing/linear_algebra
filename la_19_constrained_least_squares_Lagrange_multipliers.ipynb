{
  "nbformat": 4,
  "nbformat_minor": 0,
  "metadata": {
    "colab": {
      "provenance": []
    },
    "kernelspec": {
      "name": "python3",
      "display_name": "Python 3"
    },
    "language_info": {
      "name": "python"
    }
  },
  "cells": [
    {
      "cell_type": "markdown",
      "source": [
        "#### `Constrained` least squares"
      ],
      "metadata": {
        "id": "s9JRN0lOHziu"
      }
    },
    {
      "cell_type": "markdown",
      "source": [
        "We have seen least squares problem that is `unconstrained`\n",
        "\n",
        "$$\\begin{align*}\n",
        "\\min \\,\\,& \\|Fx-g\\|^2\\\\\n",
        "\\end{align*}$$\n",
        "\n",
        "But often times we also require that $x$ satisfy some linear `equalities` or `inequalities`\n",
        "\n",
        "We only focus on linear `equalities` here\n",
        "\n",
        "$$\\begin{align*}\n",
        "\\min \\,\\,& \\|Fx-g\\|^2\\\\\n",
        "\\text{s.t.} \\,\\, & Ax=y\n",
        "\\end{align*}$$"
      ],
      "metadata": {
        "id": "LPIeN-tCB2ps"
      }
    },
    {
      "cell_type": "markdown",
      "source": [
        "#### Least `norm`\n"
      ],
      "metadata": {
        "id": "fTzyvvwS7nft"
      }
    },
    {
      "cell_type": "markdown",
      "source": [
        "One special case is the least norm problem\n",
        "\n",
        "$$\\begin{align*}\n",
        "\\min \\,\\,& x^Tx\\\\\n",
        "\\text{s.t.} \\,\\, & Ax=y\n",
        "\\end{align*}$$\n",
        "\n",
        "That is, for a `fat` matrix $A\\in \\mathbf{R}^{m \\times n}$, $m<n$, `full rank`, find the solution $x$ that has the smallest `norm`\n"
      ],
      "metadata": {
        "id": "i2eTCdMzCXyc"
      }
    },
    {
      "cell_type": "markdown",
      "source": [
        "#### `Right inverse`"
      ],
      "metadata": {
        "id": "2vBj6NdS8mKu"
      }
    },
    {
      "cell_type": "markdown",
      "source": [
        "The solution to this problem is through `right inverse` of $A$\n",
        "\n",
        "$$x_{ln}=A^T(AA^T)^{-1}y$$"
      ],
      "metadata": {
        "id": "PqtAaNkv8o1m"
      }
    },
    {
      "cell_type": "markdown",
      "source": [
        "First, we can verify that $x_{ln}$ indeed has the `smallest` norm of all solutions\n",
        "\n",
        "Assume there is another $x$ such that $Ax=y$\n",
        "\n",
        "Then (with $A(x-x_{ln})=0)$\n",
        "\n",
        "$$\\begin{align}\n",
        "(x-x_{ln})^Tx_{ln}&=(x-x_{ln})^TA^T(AA^T)^{-1}y\\\\\n",
        "&=(A(x-x_{ln}))^T(AA^T)^{-1}y\\\\\n",
        "&=0\n",
        "\\end{align}$$\n",
        "\n",
        "Therefore, $\\boxed{(x-x_{ln})\\perp x_{ln}}$, so\n",
        "\n",
        "$$\\|x\\|^2=\\|x_{ln}+x-x_{ln}\\|^2=\\|x_{ln}\\|^2+\\|x-x_{ln}\\|^2\\geq\\|x_{ln}\\|^2$$\n",
        "\n",
        "That is, $x_{ln}$ has the `smallest norm of all solutions`\n",
        "\n",
        "Since $x-x_{ln}$ is in nullspace $N(A)$, we also have\n",
        "\n",
        "$$x_{ln}\\perp N(A)$$"
      ],
      "metadata": {
        "id": "XoqLHDrS9FRp"
      }
    },
    {
      "cell_type": "markdown",
      "source": [
        "#### Solving least norm via `Lagrange multipliers`"
      ],
      "metadata": {
        "id": "f40qZl1v_OaJ"
      }
    },
    {
      "cell_type": "markdown",
      "source": [
        "For\n",
        "\n",
        "$$\\begin{align}\n",
        "\\min \\,\\,& x^Tx\\\\\n",
        "\\text{s.t.} \\,\\, & Ax=y\n",
        "\\end{align}$$\n",
        "\n",
        "introduce Lagrange multipliers\n",
        "\n",
        "$$L(x, \\lambda)=x^Tx+\\lambda^T(Ax-y)$$\n",
        "\n",
        "The optimality conditions are\n",
        "\n",
        "$$\\boxed{\\nabla_xL=2x+A^T\\lambda = 0 \\,\\,, \\nabla_{\\lambda}L=Ax-y=0}$$\n",
        "\n",
        "From the first condition, we have\n",
        "\n",
        "$$x=-\\frac{1}{2}A^T\\lambda$$\n",
        "\n",
        "Plug into second condition\n",
        "\n",
        "$$\\lambda=-2(AA^T)^{-1}y$$\n",
        "\n",
        "Hence\n",
        "\n",
        "$$x=A^T(AA^T)^{-1}y$$"
      ],
      "metadata": {
        "id": "QWnMLFxh_oQu"
      }
    },
    {
      "cell_type": "code",
      "source": [],
      "metadata": {
        "id": "sLaPBGjmhiiG"
      },
      "execution_count": null,
      "outputs": []
    }
  ]
}