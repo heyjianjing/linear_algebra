{
  "nbformat": 4,
  "nbformat_minor": 0,
  "metadata": {
    "colab": {
      "provenance": []
    },
    "kernelspec": {
      "name": "python3",
      "display_name": "Python 3"
    },
    "language_info": {
      "name": "python"
    },
    "gpuClass": "standard"
  },
  "cells": [
    {
      "cell_type": "markdown",
      "source": [
        "#### `Left` and `right` inverses can be computed via SVD"
      ],
      "metadata": {
        "id": "CfWMiHIGCqu8"
      }
    },
    {
      "cell_type": "markdown",
      "source": [
        "If a matrix $A$ is `tall and full rank`, its `left inverse` (that gives `least squares` solution) is given by\n",
        "\n",
        "$$V\\Sigma^{-1}U^T=(A^TA)^{-1}A^T$$"
      ],
      "metadata": {
        "id": "JQeduFvXrDXY"
      }
    },
    {
      "cell_type": "code",
      "source": [
        "import numpy as np\n",
        "np.set_printoptions(formatter={'float': '{: 0.4f}'.format})"
      ],
      "metadata": {
        "id": "5J-sWdryrQVk"
      },
      "execution_count": null,
      "outputs": []
    },
    {
      "cell_type": "code",
      "source": [
        "A_tall = np.array([[1, 2],\n",
        "                  [3, 4],\n",
        "                  [5, 6]])\n",
        "\n",
        "U, sigma, Vt = np.linalg.svd(A_tall, full_matrices=False)\n",
        "\n",
        "# Left inverse from inverse of SVD\n",
        "left_inv_svd = Vt.T @ np.diag(1 / sigma) @ U.T\n",
        "\n",
        "# Left inverse from (A^TA)^{-1}A^T\n",
        "left_inv_formula = np.linalg.inv(A_tall.T @ A_tall) @ A_tall.T\n",
        "\n",
        "print('Left inverse from SVD\\n', left_inv_svd)\n",
        "print('\\nLeft inverse from formula\\n', left_inv_formula)"
      ],
      "metadata": {
        "colab": {
          "base_uri": "https://localhost:8080/"
        },
        "id": "HoRTXgkcsKPQ",
        "outputId": "f3ee9dda-e21a-47bc-f7da-c2c8d2e9cc53"
      },
      "execution_count": null,
      "outputs": [
        {
          "output_type": "stream",
          "name": "stdout",
          "text": [
            "Left inverse from SVD\n",
            " [[-1.3333 -0.3333  0.6667]\n",
            " [ 1.0833  0.3333 -0.4167]]\n",
            "\n",
            "Left inverse from formula\n",
            " [[-1.3333 -0.3333  0.6667]\n",
            " [ 1.0833  0.3333 -0.4167]]\n"
          ]
        }
      ]
    },
    {
      "cell_type": "markdown",
      "source": [
        "If a matrix $A$ is `fat and full rank`, its `right inverse` (that gives `least norm` solution) is also given by\n",
        "\n",
        "$$V\\Sigma^{-1}U^T=A^T(AA^T)^{-1}$$"
      ],
      "metadata": {
        "id": "bukr-JSOsw2E"
      }
    },
    {
      "cell_type": "code",
      "source": [
        "A_fat = np.array([[1, 3, 5],\n",
        "                  [2, 4, 6]])\n",
        "\n",
        "# Note NumPy gives V.T, not V\n",
        "U, sigma, Vt = np.linalg.svd(A_fat, full_matrices=False)\n",
        "\n",
        "# Left inverse from inverse of SVD\n",
        "right_inv_svd = Vt.T @ np.diag(1 / sigma) @ U.T\n",
        "\n",
        "# Left inverse from A^T(AA^T)^{-1}\n",
        "right_inv_formula = A_fat.T @ np.linalg.inv(A_fat @ A_fat.T)\n",
        "\n",
        "print('Right inverse from SVD\\n', right_inv_svd)\n",
        "print('\\nRight inverse from formula\\n', right_inv_formula)"
      ],
      "metadata": {
        "colab": {
          "base_uri": "https://localhost:8080/"
        },
        "id": "lLQZ2qyhrd0G",
        "outputId": "b87b1289-ab0e-4e57-83c5-ffd8d4f96847"
      },
      "execution_count": null,
      "outputs": [
        {
          "output_type": "stream",
          "name": "stdout",
          "text": [
            "Right inverse from SVD\n",
            " [[-1.3333  1.0833]\n",
            " [-0.3333  0.3333]\n",
            " [ 0.6667 -0.4167]]\n",
            "\n",
            "Right inverse from formula\n",
            " [[-1.3333  1.0833]\n",
            " [-0.3333  0.3333]\n",
            " [ 0.6667 -0.4167]]\n"
          ]
        }
      ]
    },
    {
      "cell_type": "markdown",
      "source": [
        "These two particular inverses often refered to as `pseudo inverse` or `Moore-Penrose inverse`\n",
        "\n",
        "Proof: https://arxiv.org/pdf/1110.6882"
      ],
      "metadata": {
        "id": "a47wryjVt11X"
      }
    },
    {
      "cell_type": "code",
      "source": [],
      "metadata": {
        "id": "gHZ4HvKkt-eb"
      },
      "execution_count": null,
      "outputs": []
    }
  ]
}