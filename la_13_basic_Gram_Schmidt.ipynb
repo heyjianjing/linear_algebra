{
  "nbformat": 4,
  "nbformat_minor": 0,
  "metadata": {
    "colab": {
      "provenance": []
    },
    "kernelspec": {
      "name": "python3",
      "display_name": "Python 3"
    },
    "language_info": {
      "name": "python"
    }
  },
  "cells": [
    {
      "cell_type": "markdown",
      "source": [
        "#### `Gram–Schmidt` procedure"
      ],
      "metadata": {
        "id": "RzSDlfgPUCzC"
      }
    },
    {
      "cell_type": "markdown",
      "source": [
        "Given a set of `independent` $a_1, a_2,\\cdots,a_k \\in \\mathbf{R}^n$,  Gram-Schmidt (G-S) finds `orthonomal` $q_1, q_2, \\cdots, q_k \\in \\mathbf{R}^n$ such that\n",
        "\n",
        "$$\\text{span}(a_1, a_2, \\cdots, a_r)=\\text{span}(q_1, q_2, \\cdots, q_r)$$ for $r\\leq k$"
      ],
      "metadata": {
        "id": "PHG1XygHocoH"
      }
    },
    {
      "cell_type": "markdown",
      "source": [
        "`Concept`: sequentially orthogonalize each vector w.r.t. previous ones, from $a_1$"
      ],
      "metadata": {
        "id": "Ke2yv2Los9fj"
      }
    },
    {
      "cell_type": "markdown",
      "source": [
        "#### G-S `steps`"
      ],
      "metadata": {
        "id": "inkqbx1UtXh0"
      }
    },
    {
      "cell_type": "code",
      "source": [
        "import matplotlib.pyplot as plt\n",
        "import numpy as np\n",
        "np.set_printoptions(formatter={'float': '{: 0.4f}'.format})\n",
        "\n",
        "plt.style.use('dark_background')\n",
        "# color: https://matplotlib.org/stable/gallery/color/named_colors.htm"
      ],
      "metadata": {
        "id": "E7IXLxroydqP"
      },
      "execution_count": 18,
      "outputs": []
    },
    {
      "cell_type": "code",
      "source": [
        "fig, ax = plt.subplots(figsize=(6, 4))\n",
        "\n",
        "# q_1\n",
        "ax.plot([0, 1], [0,0], 'y', linewidth=2, zorder=0)\n",
        "ax.arrow(1-0.2, 0, 0.001, 0, head_width=0.1, head_length=0.2, fc='y')\n",
        "ax.text(1, -0.2, '$q_1$', horizontalalignment='center', verticalalignment='center', fontsize=12, color='y')\n",
        "\n",
        "# a_2\n",
        "ax.plot([0, 2], [0,1], 'c', linewidth=2, zorder=0)\n",
        "ax.arrow(2-0.2/1, 1-0.2/2, 0.002, 0.001, head_width=0.1, head_length=0.2, fc='c', ec='c')\n",
        "ax.text(2, 1.2, \"$a_2$\", horizontalalignment='center', verticalalignment='center', fontsize=12, color='c')\n",
        "\n",
        "# a_1\n",
        "ax.plot([0, 2.5], [0,0], 'w', linewidth=2, zorder=-3)\n",
        "ax.arrow(2.5-0.2, 0, 0.001, 0, head_width=0.1, head_length=0.2, fc='w', ec='w')\n",
        "ax.text(2.5, 0.2, r'$\\tilde{q_1}=a_1$', horizontalalignment='center', verticalalignment='center', fontsize=12, color='w')\n",
        "\n",
        "# q_1 component in a_2\n",
        "ax.plot([0, 2], [0,0], 'r', linewidth=2, zorder=-3)\n",
        "ax.arrow(2-0.2, 0, 0.001, 0, head_width=0.1, head_length=0.2, fc='r', ec='r')\n",
        "ax.text(2, -0.2, '$(q_1^Ta_2)q_1$', horizontalalignment='center', verticalalignment='center', fontsize=12, color='r')\n",
        "\n",
        "# q_2\n",
        "ax.plot([2, 2], [0,1], 'limegreen', linewidth=2, zorder=-3)\n",
        "ax.arrow(2, 1-0.2, 0.000, 0.001, head_width=0.1, head_length=0.2, fc='limegreen', ec='limegreen')\n",
        "ax.text(2.2, 0.5, r'$\\tilde{q_2}$', horizontalalignment='center', verticalalignment='center', fontsize=12, color='limegreen')\n",
        "\n",
        "ax.set_xlim(-0.5, 3.5)\n",
        "ax.set_ylim(-0.5, 1.5)\n",
        "ax.set_aspect('equal')\n",
        "\n",
        "ax.grid(True, alpha=0.3)\n",
        "ax.set_title('G-S illustration')\n",
        "\n",
        "plt.tight_layout()\n",
        "plt.show()"
      ],
      "metadata": {
        "colab": {
          "base_uri": "https://localhost:8080/",
          "height": 336
        },
        "id": "u-npB7eryfXy",
        "outputId": "8d776028-e214-49ab-be5d-66a6daf4212a"
      },
      "execution_count": 19,
      "outputs": [
        {
          "output_type": "display_data",
          "data": {
            "text/plain": [
              "<Figure size 600x400 with 1 Axes>"
            ],
            "image/png": "[encoded data removed]"
          },
          "metadata": {}
        }
      ]
    },
    {
      "cell_type": "markdown",
      "source": [
        "* set $\\tilde{q_1}=a_1$\n",
        "* `normalize` to get $q_1$\n",
        "$$q_1=\\frac{\\tilde{q_1}}{\\|\\tilde{q_1}\\|}$$\n",
        "* `remove` component of $a_2$ in $q_1$ direction\n",
        "* first, use $q_1^Ta_2$ to get projection length of $a_2$ along direction of $q_1$ (as $a_2$ can be decomposed into direction along $q_1$, and direction $\\perp q_1$), this is a `scalar`\n",
        "* second, component of $a_2$ in $q_1$ direction is obtained as $q_1^Ta_2q_1$, this is a `vector`\n",
        "$$\\tilde{q_2}=a_2-(q_1^Ta_2)q_1$$\n",
        "* `normalize` to get $q_2$\n",
        "$$q_2=\\frac{\\tilde{q_2}}{\\|\\tilde{q_2}\\|}$$\n",
        "* `remove` components of $a_3$ in $q_1, q_2$ directions\n",
        "$$\\tilde{q_3}=a_3-(q_1^Ta_3)q_1-(q_2^Ta_3)q_2$$\n",
        "* `normalize` to get $q_3$\n",
        "$$q_3=\\frac{\\tilde{q_3}}{\\|\\tilde{q_3}\\|}$$\n",
        "* and so on..."
      ],
      "metadata": {
        "id": "oLMVc_zCthOm"
      }
    },
    {
      "cell_type": "markdown",
      "source": [
        "#### Example"
      ],
      "metadata": {
        "id": "ncFPaeqU6GH6"
      }
    },
    {
      "cell_type": "code",
      "source": [
        "def gram_schmidt(A):\n",
        "    # Columns of A are independent\n",
        "    n = A.shape[1]\n",
        "    Q = np.zeros_like(A)\n",
        "    R = np.zeros((n, n))\n",
        "\n",
        "    for i in range(n):\n",
        "        # Loop over all a_i\n",
        "        q = A[:, i].copy()\n",
        "\n",
        "        # Remove components of a in directions of previous q's\n",
        "        # This skips when i=0\n",
        "        for j in range(i):\n",
        "            # Find coefficient of a_i in q_j direction\n",
        "            R[j, i] = np.dot(Q[:, j], A[:, i])\n",
        "            # Remove component of a_i in q_j direction\n",
        "            q -= R[j, i] * Q[:, j]\n",
        "\n",
        "        # Normalize\n",
        "        R[i, i] = np.sqrt(np.dot(q, q))\n",
        "        q /=  R[i, i]\n",
        "        Q[:, i] = q\n",
        "\n",
        "    return Q, R"
      ],
      "metadata": {
        "id": "98FoAhzR6Icm"
      },
      "execution_count": 20,
      "outputs": []
    },
    {
      "cell_type": "code",
      "source": [
        "square_A=False\n",
        "\n",
        "if square_A:\n",
        "    A = np.array([[1.0, 2.0, 3.0, 4.0],\n",
        "                  [4.0, 1.0, 0.0, -1.0],\n",
        "                  [3.0, 5.0, -2.0, 1.0],\n",
        "                  [2.0, 0.0, 1.0, 2.0]])\n",
        "else:\n",
        "    A = np.array([[1.0, 2.0, 3.0],\n",
        "                  [4.0, 1.0, 0.0],\n",
        "                  [3.0, 5.0, -2.0],\n",
        "                  [2.0, 0.0, 1.0]])\n",
        "\n",
        "Q, R = gram_schmidt(A)\n",
        "\n",
        "print(\"Orthonormal basis Q:\")\n",
        "print(Q)\n",
        "\n",
        "print(\"\\nUpper triangular matrix R:\")\n",
        "print(R)\n",
        "\n",
        "# Verify Q is orthonormal\n",
        "print(f\"\\nQ^TQ:\\n{np.dot(Q.T, Q)}\")\n",
        "print(f\"Norms: \\n{np.linalg.norm(Q, axis=0)}\")\n",
        "\n",
        "# Verify that A = QR\n",
        "A_reconstructed = np.dot(Q, R)\n",
        "print(\"\\nOriginal matrix A:\")\n",
        "print(A)\n",
        "print(\"\\nReconstructed matrix A from Q and R:\")\n",
        "print(A_reconstructed)"
      ],
      "metadata": {
        "colab": {
          "base_uri": "https://localhost:8080/"
        },
        "id": "r7hJ0x0u6KXR",
        "outputId": "2ea026d4-fb97-416f-80ce-4ee79837f515"
      },
      "execution_count": 21,
      "outputs": [
        {
          "output_type": "stream",
          "name": "stdout",
          "text": [
            "Orthonormal basis Q:\n",
            "[[ 0.1826  0.3324  0.9102]\n",
            " [ 0.7303 -0.4602 -0.0700]\n",
            " [ 0.5477  0.7414 -0.3501]\n",
            " [ 0.3651 -0.3579  0.2100]]\n",
            "\n",
            "Upper triangular matrix R:\n",
            "[[ 5.4772  3.8341 -0.1826]\n",
            " [ 0.0000  3.9115 -0.8437]\n",
            " [ 0.0000  0.0000  3.6407]]\n",
            "\n",
            "Q^TQ:\n",
            "[[ 1.0000  0.0000  0.0000]\n",
            " [ 0.0000  1.0000 -0.0000]\n",
            " [ 0.0000 -0.0000  1.0000]]\n",
            "Norms: \n",
            "[ 1.0000  1.0000  1.0000]\n",
            "\n",
            "Original matrix A:\n",
            "[[ 1.0000  2.0000  3.0000]\n",
            " [ 4.0000  1.0000  0.0000]\n",
            " [ 3.0000  5.0000 -2.0000]\n",
            " [ 2.0000  0.0000  1.0000]]\n",
            "\n",
            "Reconstructed matrix A from Q and R:\n",
            "[[ 1.0000  2.0000  3.0000]\n",
            " [ 4.0000  1.0000 -0.0000]\n",
            " [ 3.0000  5.0000 -2.0000]\n",
            " [ 2.0000 -0.0000  1.0000]]\n"
          ]
        }
      ]
    },
    {
      "cell_type": "markdown",
      "source": [
        "#### Express $a_i$ as `linear combination` of $q_1,\\cdots, q_i$"
      ],
      "metadata": {
        "id": "qbn5g7C3wlim"
      }
    },
    {
      "cell_type": "markdown",
      "source": [
        "$$\\boxed{a_i = (q_1^Ta_i)q_1 + (q_2^Ta_i)q_2 +\\cdots+ (q_{i-1}^Ta_i)q_{i-1} + \\|\\tilde{q_i}\\|q_i}$$"
      ],
      "metadata": {
        "id": "89Q1kQiiwtRv"
      }
    },
    {
      "cell_type": "markdown",
      "source": [
        "Let $q_j^Ta_i=r_{ji}$ and $\\|\\tilde{q_i}\\|=r_{ii}$, we have\n",
        "\n",
        "$$a_i = r_{1i}q_1 + r_{2i}q_2 +\\cdots+ r_{(i-1)i}q_i+ r_{ii}q_i$$"
      ],
      "metadata": {
        "id": "-CO9VsQ3xI-s"
      }
    }
  ]
}