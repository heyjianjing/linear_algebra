{
  "nbformat": 4,
  "nbformat_minor": 0,
  "metadata": {
    "colab": {
      "provenance": []
    },
    "kernelspec": {
      "name": "python3",
      "display_name": "Python 3"
    },
    "language_info": {
      "name": "python"
    }
  },
  "cells": [
    {
      "cell_type": "markdown",
      "source": [
        "#### `Rank` of a matrix"
      ],
      "metadata": {
        "id": "A4SBwbS0YGjA"
      }
    },
    {
      "cell_type": "markdown",
      "source": [
        "For a matrix $A\\in \\mathbf{R}^{m \\times n}$, the `rank` of $A$ is defined as `dimension` of its range\n",
        "\n",
        "\n",
        "$$\\text{rank}(A)=\\dim R(A)$$"
      ],
      "metadata": {
        "id": "nidJ0w3oYKMk"
      }
    },
    {
      "cell_type": "markdown",
      "source": [
        "#### Matrix $A$ and its transpose have the `same` rank"
      ],
      "metadata": {
        "id": "5LrFlFGW7TEW"
      }
    },
    {
      "cell_type": "markdown",
      "source": [
        "We show $\\text{rank}(A)=\\text{rank}(A^T)$, or `column rank` equals `row rank`"
      ],
      "metadata": {
        "id": "eZqaiGJV_rt0"
      }
    },
    {
      "cell_type": "markdown",
      "source": [
        "`First`, assume $A$ has row rank of $r$\n",
        "\n",
        "Then, there exists a set of `basis vectors` $\\tilde{y_1}^T,\\cdots, \\tilde{y_r}^T$ such that each row of $A$ can be expressed as `linear combination` of these `r basis vectors`\n",
        "\n",
        "Therefore, we can arrange these basis vectors as rows of matrix $Y$ and express $A$ as\n",
        "\n",
        "$$A=XY$$\n",
        "\n",
        "where $X\\in \\mathbf{R}^{m \\times r}$, $Y\\in \\mathbf{R}^{r \\times n}$ such that\n",
        "\n",
        "$$Y=\\begin{bmatrix}\\tilde{y_1}^T \\\\ \\tilde{y_2}^T \\\\ ... \\\\\\tilde{y_r}^T\\end{bmatrix}$$\n",
        "\n",
        "and\n",
        "\n",
        "$$\\tilde{a_i}^T=x_{i, 1}\\tilde{y_1}^T+x_{i, 2}\\tilde{y_2}^T+\\cdots+x_{i, r}\\tilde{y_r}^T$$\n",
        "\n",
        "where $x_{i, j}$ is the `jth` element in `ith` row of $X$, $\\tilde{x_i}^T\\in \\mathbf{R}^r$"
      ],
      "metadata": {
        "id": "rFZrkZffANZc"
      }
    },
    {
      "cell_type": "markdown",
      "source": [
        "$$\\begin{bmatrix} | & - & \\tilde{a_i}^T & - & -\\\\ |& & & & \\\\a_i &&&A&\\\\|&&&&\\end{bmatrix}_{m \\times n}=\\begin{bmatrix} - &  \\tilde{x_i}^T &  -\\\\ &  & \\\\ &X&\\\\&&\\end{bmatrix}_{m \\times r}\\begin{bmatrix} - & - & \\tilde{y_i}^T & - & -\\\\ &&&Y&\\\\&&&&\\end{bmatrix}_{r \\times n}$$\n",
        "\n",
        "Now, we see each column of $A$ is also `linear combination of r columns` of $X$\n",
        "\n",
        "As a result, its column rank must be `smaller than or equal to` its row rank, or $\\boxed{\\text{rank}(A)\\leq \\text{rank}(A^T)}$"
      ],
      "metadata": {
        "id": "ARhT3nJBC126"
      }
    },
    {
      "cell_type": "markdown",
      "source": [
        "`Second`, assume column rank $\\text{rank}(A)=r$\n",
        "\n",
        "We can similarly decompose $A$ into $A=XY$, where $X\\in \\mathbf{R}^{m \\times r}$, and $Y\\in \\mathbf{R}^{r \\times n}$, where the `r columns` of $X$ are the `basis for columns` of $A$\n",
        "\n",
        "As a result, each row of $A$ is also the linear combination of `r rows` in $Y$\n",
        "\n",
        "So, its row rank must be `smaller than or equal to` its column rank, or $\\boxed{\\text{rank}(A^T)\\leq \\text{rank}(A)}$\n",
        "\n",
        "Therefore, we have $\\text{rank}(A^T) =\\text{rank}(A)$"
      ],
      "metadata": {
        "id": "NIQI9LwkGcoQ"
      }
    },
    {
      "cell_type": "markdown",
      "source": [
        "#### `Full rank` matrices"
      ],
      "metadata": {
        "id": "Uo5mKfB-ITAL"
      }
    },
    {
      "cell_type": "markdown",
      "source": [
        "* for square matrices, full rank means non-singular\n",
        "* for tall matrices, full rank means `columns` are independent\n",
        "* for fat matrices, full rank means `rows` are independent"
      ],
      "metadata": {
        "id": "F2aiikgGIVj7"
      }
    },
    {
      "cell_type": "markdown",
      "source": [
        "#### `Change of basis`"
      ],
      "metadata": {
        "id": "XYuAkRZnIx1J"
      }
    },
    {
      "cell_type": "markdown",
      "source": [
        "Recap from early notebook\n",
        "\n",
        "Let $T=\\begin{bmatrix}t_1 \\, t_2 \\, \\cdots \\, t_n\\end{bmatrix}$ be another basis for $\\mathbf{R}^n$\n",
        "\n",
        "Then, for $y=Ax$ in $e_i$ basis, its formula for a vector $x_t$ expressed in $t_i$ basis is\n",
        "\n",
        "$$y_t=(T^{-1}AT)x_t$$\n",
        "\n",
        "Essentially, it performs\n",
        "\n",
        "* `Translate` $x_t$ to express in $e_i$ basis\n",
        "* `Transform` according to $y=Ax$\n",
        "* `Translate` output back to express in $t_i$ basis"
      ],
      "metadata": {
        "id": "ualmHNnnI6zz"
      }
    },
    {
      "cell_type": "code",
      "source": [],
      "metadata": {
        "id": "Mw8SeylLK-RK"
      },
      "execution_count": null,
      "outputs": []
    }
  ]
}