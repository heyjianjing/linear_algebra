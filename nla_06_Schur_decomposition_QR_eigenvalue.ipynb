{
  "nbformat": 4,
  "nbformat_minor": 0,
  "metadata": {
    "colab": {
      "provenance": []
    },
    "kernelspec": {
      "name": "python3",
      "display_name": "Python 3"
    },
    "language_info": {
      "name": "python"
    }
  },
  "cells": [
    {
      "cell_type": "markdown",
      "source": [
        "#### Schur decomposition and eigenvalue problem"
      ],
      "metadata": {
        "id": "RzSDlfgPUCzC"
      }
    },
    {
      "cell_type": "markdown",
      "source": [
        "According to `Schur theorem`, if $A\\in \\mathbf{R}^{n \\times n}$ is a square real matrix with real eigenvalues, then there is an orthogonal matrix $Q$ and an upper triangular matrix $T$ such that\n",
        "\n",
        "$$A=QTQ^T$$\n",
        "\n",
        "We can show why this is true"
      ],
      "metadata": {
        "id": "Go0h4wvkyC7X"
      }
    },
    {
      "cell_type": "markdown",
      "source": [
        "##### Setup"
      ],
      "metadata": {
        "id": "oivz6pIXGM3X"
      }
    },
    {
      "cell_type": "markdown",
      "source": [
        "For orthogonal matrix $Q_1^T=Q_1^{-1}$ and $Q_1^TQ_1=I$, by letting $Q_1=\\begin{bmatrix}q_1 & q_2 & \\cdots & q_n\\end{bmatrix}$, and $q_1$ being a normalized `eigenvector` of $A$, we can write\n",
        "\n",
        "$$\\begin{align*}\n",
        "Q_1^TAQ_1&=\\begin{bmatrix}q_1^T \\\\ q_{2:n}^T\\end{bmatrix}A\\begin{bmatrix}q_1 & q_{2:n}\\end{bmatrix} \\\\\n",
        "& =\\begin{bmatrix}q_1^TAq_1 & q_1^TAq_{2:n} \\\\ q_{2:n}^TAq_1 & q_{2:n}^TAq_{2:n}\\end{bmatrix}\n",
        "\\end{align*}$$"
      ],
      "metadata": {
        "id": "_lHxQHBczOh6"
      }
    },
    {
      "cell_type": "markdown",
      "source": [
        "By `construction`, the upper-left block is the corresponding `eigenvalue` $\\lambda_1$, since\n",
        "\n",
        "$$q_1^TAq_1 = q_1^T(\\lambda_1q_1)=\\lambda_1q_1^Tq_1=\\lambda_1$$\n",
        "\n",
        "For the upper-right block, we denote it $B$\n",
        "\n",
        "$$B=q_1^TAq_{2:n}=\\begin{bmatrix}q_1^TAq_2 & q_1^TAq_3 & \\cdots & q_1^TAq_n \\end{bmatrix}$$\n",
        "\n",
        "The lower-left block is zero, since\n",
        "\n",
        "$$q_{2:n}^TAq_1=\\begin{bmatrix}q_2^T \\\\q_3^T \\\\ \\vdots \\\\q_n^T \\end{bmatrix}Aq_1=\\lambda_1\\begin{bmatrix}q_2^T \\\\q_3^T \\\\ \\vdots \\\\q_n^T \\end{bmatrix}q_1=\\begin{bmatrix}0 \\\\0 \\\\ \\vdots \\\\0 \\end{bmatrix}$$\n",
        "\n",
        "We denote the lower-right block $A_2$ and we have\n",
        "\n",
        "$$\\begin{align*}\n",
        "Q_1^TAQ_1&=\\begin{bmatrix}\\lambda_1 & B \\\\ 0 & A_2\\end{bmatrix}\n",
        "\\end{align*}$$\n",
        "\n",
        "or\n",
        "\n",
        "$$\\begin{align*}\n",
        "AQ_1&=Q_1\\begin{bmatrix}\\lambda_1 & B \\\\ 0 & A_2\\end{bmatrix}\n",
        "\\end{align*}$$"
      ],
      "metadata": {
        "id": "6UWPzdfPBqPA"
      }
    },
    {
      "cell_type": "markdown",
      "source": [
        "In addition, $A_2$ contains the `remaining eigenvalues` $\\lambda_2 , \\cdots, \\lambda_n$ of $A$\n",
        "\n",
        "To see this, from the properties of similarity transformation, we know that $A$ and $Q_1^TAQ_1$ have the same eigenvalues\n",
        "\n",
        "Therefore\n",
        "\n",
        "$$\\begin{align*}\n",
        "\\det (A-\\lambda I)&=\\det (Q_1^TAQ_1-\\lambda I) \\\\\n",
        "&=\\det \\begin{bmatrix}\\lambda_1-\\lambda & B \\\\ 0 & A_2-\\lambda I\\end{bmatrix} \\\\\n",
        "& \\text{property of determinant}\\\\\n",
        "&= (\\lambda_1-\\lambda) \\det (A_2-\\lambda I)\n",
        "\\end{align*}$$"
      ],
      "metadata": {
        "id": "D96ESkIVGb0b"
      }
    },
    {
      "cell_type": "markdown",
      "source": [
        "##### Proof by induction"
      ],
      "metadata": {
        "id": "MHuuAkPCGUe-"
      }
    },
    {
      "cell_type": "markdown",
      "source": [
        "For matrix of size one, Schur decomposition obviously exists\n",
        "\n",
        "So starting with matrix of size $n=2$, we know that there exists a Schur decomposition for matrix $A_2$ of size $n-1$:\n",
        "\n",
        "$$Q_2T_2Q_2^T=A_2$$\n",
        "\n",
        "or\n",
        "\n",
        "$$Q_2T_2=A_2Q_2$$\n",
        "\n",
        "We can proceed with `induction`"
      ],
      "metadata": {
        "id": "C8AoGPuZFhU1"
      }
    },
    {
      "cell_type": "markdown",
      "source": [
        "If we write\n",
        "\n",
        "$$Q=Q_1\\begin{bmatrix}1 & 0 \\\\ 0 & Q_2\\end{bmatrix}$$\n",
        "\n",
        "Since both $Q_1$ and $Q_2$ are orthogonal, $Q$ is orthogonal\n",
        "\n",
        "we have for matrix $A$ of size $n$\n",
        "\n",
        "$$\\begin{align*}AQ &= A Q_1\\begin{bmatrix}1 & 0 \\\\ 0 & Q_2\\end{bmatrix} \\\\\n",
        "& = Q_1\\begin{bmatrix}\\lambda_1 & B \\\\ 0 & A_2\\end{bmatrix}\\begin{bmatrix}1 & 0 \\\\ 0 & Q_2\\end{bmatrix} \\\\\n",
        "&=Q_1 \\begin{bmatrix}\\lambda_1 & BQ_2 \\\\ 0 & A_2Q_2\\end{bmatrix} \\\\\n",
        "&=Q_1 \\begin{bmatrix}\\lambda_1 & BQ_2 \\\\ 0 & Q_2T_2\\end{bmatrix} \\\\\n",
        "&=Q_1 \\begin{bmatrix}1& 0 \\\\ 0 & Q_2\\end{bmatrix}\\begin{bmatrix}\\lambda_1 & BQ_2 \\\\ 0 & T_2\\end{bmatrix} \\\\\n",
        "& = Q\\begin{bmatrix}\\lambda_1 & BQ_2 \\\\ 0 & T_2\\end{bmatrix}\n",
        "\\end{align*}$$\n",
        "\n",
        "Now, we can show that Schur decomposition exists for matrix $A$ of size $n$ by letting\n",
        "\n",
        "$$T=\\begin{bmatrix}\\lambda_1 & BQ_2 \\\\ 0 & T_2\\end{bmatrix}\n",
        "$$"
      ],
      "metadata": {
        "id": "0Ch6hX8A_2pa"
      }
    },
    {
      "cell_type": "markdown",
      "source": [
        "If $A$ is symmetric, then $T$ is upper triangular and symmetric at the same time, therefore, $T$ must be diagonal, meaning that symmetric matrices are diagonalizable, as we have known"
      ],
      "metadata": {
        "id": "TASdu2t5PHg7"
      }
    },
    {
      "cell_type": "code",
      "source": [
        "import matplotlib.pyplot as plt\n",
        "import numpy as np\n",
        "np.set_printoptions(formatter={'float': '{: 0.4f}'.format})\n",
        "\n",
        "plt.style.use('dark_background')\n",
        "# color: https://matplotlib.org/stable/gallery/color/named_colors.htm"
      ],
      "metadata": {
        "id": "E7IXLxroydqP"
      },
      "execution_count": 1,
      "outputs": []
    },
    {
      "cell_type": "code",
      "source": [],
      "metadata": {
        "id": "46745SpDBT3Q"
      },
      "execution_count": null,
      "outputs": []
    }
  ]
}