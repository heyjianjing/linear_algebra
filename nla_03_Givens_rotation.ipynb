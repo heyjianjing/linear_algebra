{
  "nbformat": 4,
  "nbformat_minor": 0,
  "metadata": {
    "colab": {
      "provenance": []
    },
    "kernelspec": {
      "name": "python3",
      "display_name": "Python 3"
    },
    "language_info": {
      "name": "python"
    }
  },
  "cells": [
    {
      "cell_type": "markdown",
      "source": [
        "#### Concept"
      ],
      "metadata": {
        "id": "RzSDlfgPUCzC"
      }
    },
    {
      "cell_type": "markdown",
      "source": [
        "The idea of Givens rotation is to `individually` turn subdiagonal entries into zeros using a series of orthogonal matrices and thereby doing QR decomposition\n",
        "\n",
        "This procedure is illustrated using a matrix $A\\in \\mathbf{R}^{3 \\times 3}$ where `x` indicates entries that are not necessarily zero\n",
        "\n",
        "$$A:\\begin{bmatrix} \\times & \\times & \\times \\\\\\times & \\times & \\times\\\\\\times & \\times & \\times\\end{bmatrix} \\rightarrow G_1A\\rightarrow \\begin{bmatrix} \\times & \\times & \\times \\\\ 0& \\times & \\times\\\\ \\times & \\times & \\times\\end{bmatrix}\\rightarrow G_2G_1A\\rightarrow\\begin{bmatrix} \\times & \\times & \\times \\\\ 0& \\times & \\times\\\\ 0 & \\times & \\times\\end{bmatrix}\\rightarrow G_3G_2G_1A\\rightarrow \\begin{bmatrix} \\times & \\times & \\times \\\\ 0& \\times & \\times\\\\ 0 & 0 & \\times\\end{bmatrix}$$\n",
        "\n",
        "For a dense matrix of size $n$, the method of Givens rotation requires up to $\\frac{1}{2}n(n-1)$ transformations. However, when a matrix is sparse, the method can be more efficient than other QR methods"
      ],
      "metadata": {
        "id": "89Q1kQiiwtRv"
      }
    },
    {
      "cell_type": "markdown",
      "source": [
        "#### Structure of Givens rotation matrices"
      ],
      "metadata": {
        "id": "WRJxWklc34PW"
      }
    },
    {
      "cell_type": "markdown",
      "source": [
        "Each orthogonal matrix in Givens rotation would essentially be an identity matrix except for two rows and two columns\n",
        "\n",
        "$$G=\\begin{bmatrix}\n",
        "1 & & & & & & & & & & \\\\\n",
        "& \\ddots & & & & & & & & & \\\\\n",
        "& & 1 & & & & & & & & \\\\\n",
        "& & & c & & & & s & & & \\\\\n",
        "& & & & 1 & & & & & & \\\\\n",
        "& & & & & \\ddots & & & & & \\\\\n",
        "& & & & & & 1 & & & & \\\\\n",
        "& & & -s & & & & c & & & \\\\\n",
        "& & & & & & & & 1 & & \\\\\n",
        "& & & & & & & & & \\ddots & \\\\\n",
        "& & & & & & & & & & 1\n",
        "\\end{bmatrix}$$\n",
        "\n",
        "If $c^2+s^2=1$, we can verify that $G$ is orthogonal"
      ],
      "metadata": {
        "id": "UN3W0kE44DBT"
      }
    },
    {
      "cell_type": "markdown",
      "source": [
        "#### Sequential transformtion"
      ],
      "metadata": {
        "id": "uUb8Dwwh5LNH"
      }
    },
    {
      "cell_type": "markdown",
      "source": [
        "For a matrix of interest $A\\in \\mathbf{R}^{n \\times n}$, Givens rotation work column-wise and for each column the method starts from the highest non-zero subdiagonal entry\n",
        "\n",
        "For example\n",
        "\n",
        "$$a_1=\\begin{bmatrix}a_{11} \\\\ a_{21} \\\\ a_{31} \\\\ \\vdots \\\\ a_{n1} \\end{bmatrix}\\rightarrow G_1a_1\\rightarrow \\begin{bmatrix}\\alpha \\\\ 0 \\\\ a_{31} \\\\ \\vdots \\\\ a_{n1} \\end{bmatrix}$$\n",
        "\n",
        "Since $G_1$ is orthogonal, then the norm of $a_1$ before and after the transformation is preserved and we have $\\alpha = \\sqrt{a_{11}^2+a_{21}^2}$\n",
        "\n",
        "For this case, we know the rotation matrix should have the following form\n",
        "\n",
        "$$G_1=\\begin{bmatrix}c & s & & & \\\\ -s & c & & & \\\\ & & 1 & & \\\\\n",
        "& & & \\ddots & \\\\ & & & & 1\\end{bmatrix}$$\n",
        "\n",
        "and we can work out that\n",
        "\n",
        "$$c=\\frac{a_{11}}{\\alpha}, s=\\frac{a_{21}}{\\alpha}$$"
      ],
      "metadata": {
        "id": "XcyszOYJ5Q9b"
      }
    },
    {
      "cell_type": "markdown",
      "source": [
        "#### Example"
      ],
      "metadata": {
        "id": "ncFPaeqU6GH6"
      }
    },
    {
      "cell_type": "code",
      "source": [
        "import matplotlib.pyplot as plt\n",
        "import numpy as np\n",
        "np.set_printoptions(formatter={'float': '{: 0.4f}'.format})\n",
        "\n",
        "plt.style.use('dark_background')\n",
        "# color: https://matplotlib.org/stable/gallery/color/named_colors.htm"
      ],
      "metadata": {
        "id": "E7IXLxroydqP"
      },
      "execution_count": null,
      "outputs": []
    },
    {
      "cell_type": "code",
      "source": [
        "def givens_rotation(A):\n",
        "    m, n = A.shape\n",
        "    Q = np.identity(m)\n",
        "    for col in range(n):\n",
        "        for row in range(col+1, m):\n",
        "            if A[row, col] != 0:\n",
        "                alpha = np.sqrt(A[col, col]**2 + A[row, col]**2)\n",
        "                c = A[col, col] / alpha\n",
        "                s = A[row, col] / alpha\n",
        "\n",
        "                G = np.identity(m)\n",
        "                G[row, col] = -s\n",
        "                G[col, row] = s\n",
        "                G[col, col] = c\n",
        "                G[row, row] = c\n",
        "\n",
        "                A = G @ A\n",
        "                Q = Q @ G.T\n",
        "\n",
        "    return Q, A"
      ],
      "metadata": {
        "id": "awRuLIy3KXnQ"
      },
      "execution_count": null,
      "outputs": []
    },
    {
      "cell_type": "code",
      "source": [
        "mat_list = ['square', 'tall', 'fat', 'ill-conditioned', 'identity']\n",
        "mat = mat_list[2]\n",
        "epsilon = 1e-8\n",
        "\n",
        "if mat == 'square':\n",
        "    A = np.array([[1.0, 2.0, 3.0, 4.0],\n",
        "                  [4.0, 1.0, 0.0, -1.0],\n",
        "                  [3.0, 5.0, -2.0, 1.0],\n",
        "                  [2.0, 0.0, 1.0, 2.0]])\n",
        "elif mat == 'tall':\n",
        "    A = np.array([[1.0, 2.0, 1.0],\n",
        "                  [4.0, 1.0, 4.0],\n",
        "                  [3.0, 5.0, 3.0],\n",
        "                  [2.0, 0.0, 1.0]])\n",
        "elif mat == 'fat':\n",
        "    A = np.array([[1.0, 2.0, 3.0, 3.0, 1.0],\n",
        "                  [4.0, 1.0, 0.0, -0.0, 1.0],\n",
        "                  [3.0, 5.0, -2.0, -2.0, 2.0],\n",
        "                  [2.0, 0.0, 1.0, 1.0, 5.0]])\n",
        "elif mat == 'ill-conditioned':\n",
        "    A = np.array([[1, 1, 1],\n",
        "                  [epsilon, 0, 0],\n",
        "                  [0, epsilon, 0],\n",
        "                  [0, 0, epsilon]])\n",
        "elif mat == 'identity':\n",
        "    A = np.identity(4)\n",
        "\n",
        "Q, R = givens_rotation(A)\n",
        "\n",
        "print(\"Orthonormal basis Q:\")\n",
        "print(Q)\n",
        "\n",
        "print(\"\\nUpper triangular matrix R:\")\n",
        "print(R)\n",
        "\n",
        "print(f\"\\nQ^TQ:\\n{np.dot(Q.T, Q)}\")\n",
        "print(f\"Norms: \\n{np.linalg.norm(Q, axis=0)}\")\n",
        "\n",
        "# Reconstruct A\n",
        "A_reconstructed = Q @ R\n",
        "print(f\"\\nA_reconstructed:\\n{A_reconstructed}\")\n",
        "\n",
        "print(f\"\\nOriginal A:\\n{A}\")"
      ],
      "metadata": {
        "colab": {
          "base_uri": "https://localhost:8080/"
        },
        "id": "r7hJ0x0u6KXR",
        "outputId": "c03a841e-e55c-47ca-dc6e-0b566a780013"
      },
      "execution_count": null,
      "outputs": [
        {
          "output_type": "stream",
          "name": "stdout",
          "text": [
            "Orthonormal basis Q:\n",
            "[[ 0.1826  0.3324  0.9102 -0.1667]\n",
            " [ 0.7303 -0.4602 -0.0700 -0.5000]\n",
            " [ 0.5477  0.7414 -0.3501  0.1667]\n",
            " [ 0.3651 -0.3579  0.2100  0.8333]]\n",
            "\n",
            "Upper triangular matrix R:\n",
            "[[ 5.4772  3.8341 -0.1826 -0.1826  3.8341]\n",
            " [ 0.0000  3.9115 -0.8437 -0.8437 -0.4346]\n",
            " [-0.0000 -0.0000  3.6407  3.6407  1.1902]\n",
            " [ 0.0000  0.0000 -0.0000 -0.0000  3.8333]]\n",
            "\n",
            "Q^TQ:\n",
            "[[ 1.0000  0.0000 -0.0000 -0.0000]\n",
            " [ 0.0000  1.0000 -0.0000  0.0000]\n",
            " [-0.0000 -0.0000  1.0000 -0.0000]\n",
            " [-0.0000  0.0000 -0.0000  1.0000]]\n",
            "Norms: \n",
            "[ 1.0000  1.0000  1.0000  1.0000]\n",
            "\n",
            "A_reconstructed:\n",
            "[[ 1.0000  2.0000  3.0000  3.0000  1.0000]\n",
            " [ 4.0000  1.0000  0.0000  0.0000  1.0000]\n",
            " [ 3.0000  5.0000 -2.0000 -2.0000  2.0000]\n",
            " [ 2.0000  0.0000  1.0000  1.0000  5.0000]]\n",
            "\n",
            "Original A:\n",
            "[[ 1.0000  2.0000  3.0000  3.0000  1.0000]\n",
            " [ 4.0000  1.0000  0.0000 -0.0000  1.0000]\n",
            " [ 3.0000  5.0000 -2.0000 -2.0000  2.0000]\n",
            " [ 2.0000  0.0000  1.0000  1.0000  5.0000]]\n"
          ]
        }
      ]
    },
    {
      "cell_type": "code",
      "source": [],
      "metadata": {
        "id": "YQmDhbUEHkiD"
      },
      "execution_count": null,
      "outputs": []
    }
  ]
}