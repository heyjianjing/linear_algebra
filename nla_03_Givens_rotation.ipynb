{
  "nbformat": 4,
  "nbformat_minor": 0,
  "metadata": {
    "colab": {
      "provenance": []
    },
    "kernelspec": {
      "name": "python3",
      "display_name": "Python 3"
    },
    "language_info": {
      "name": "python"
    }
  },
  "cells": [
    {
      "cell_type": "markdown",
      "source": [
        "#### Concept"
      ],
      "metadata": {
        "id": "RzSDlfgPUCzC"
      }
    },
    {
      "cell_type": "markdown",
      "source": [
        "The idea of Givens rotation is to `individually` turn subdiagonal entries into zeros using a series of orthogonal matrices and thereby doing QR decomposition\n",
        "\n",
        "This procedure is illustrated using a matrix $A\\in \\mathbf{R}^{3 \\times 3}$ where `x` indicates entries that are not necessarily zero\n",
        "\n",
        "$$A:\\begin{bmatrix} \\times & \\times & \\times \\\\\\times & \\times & \\times\\\\\\times & \\times & \\times\\end{bmatrix} \\rightarrow G_1A\\rightarrow \\begin{bmatrix} \\times & \\times & \\times \\\\ 0& \\times & \\times\\\\ \\times & \\times & \\times\\end{bmatrix}\\rightarrow G_2G_1A\\rightarrow\\begin{bmatrix} \\times & \\times & \\times \\\\ 0& \\times & \\times\\\\ 0 & \\times & \\times\\end{bmatrix}\\rightarrow G_3G_2G_1A\\rightarrow \\begin{bmatrix} \\times & \\times & \\times \\\\ 0& \\times & \\times\\\\ 0 & 0 & \\times\\end{bmatrix}$$\n",
        "\n",
        "For a dense matrix of size $n$, the method of Givens rotation requires up to $\\frac{1}{2}n(n-1)$ transformations. However, when a matrix is sparse, the method can be more efficient than other QR methods"
      ],
      "metadata": {
        "id": "89Q1kQiiwtRv"
      }
    },
    {
      "cell_type": "markdown",
      "source": [
        "#### Structure of Givens rotation matrices"
      ],
      "metadata": {
        "id": "WRJxWklc34PW"
      }
    },
    {
      "cell_type": "markdown",
      "source": [
        "Each orthogonal matrix in Givens rotation would essentially be an identity matrix except for two rows and two columns\n",
        "\n",
        "$$G=\\begin{bmatrix}\n",
        "1 & & & & & & & & & & \\\\\n",
        "& \\ddots & & & & & & & & & \\\\\n",
        "& & 1 & & & & & & & & \\\\\n",
        "& & & c & & & & s & & & \\\\\n",
        "& & & & 1 & & & & & & \\\\\n",
        "& & & & & \\ddots & & & & & \\\\\n",
        "& & & & & & 1 & & & & \\\\\n",
        "& & & -s & & & & c & & & \\\\\n",
        "& & & & & & & & 1 & & \\\\\n",
        "& & & & & & & & & \\ddots & \\\\\n",
        "& & & & & & & & & & 1\n",
        "\\end{bmatrix}$$\n",
        "\n",
        "If $c^2+s^2=1$, we can verify that $G$ is orthogonal"
      ],
      "metadata": {
        "id": "UN3W0kE44DBT"
      }
    },
    {
      "cell_type": "markdown",
      "source": [
        "#### Sequential transformtion"
      ],
      "metadata": {
        "id": "uUb8Dwwh5LNH"
      }
    },
    {
      "cell_type": "markdown",
      "source": [
        "For a matrix of interest $A\\in \\mathbf{R}^{n \\times n}$, Givens rotation works column-wise and for each column the method starts from the highest non-zero subdiagonal entry\n",
        "\n",
        "For example, it starts from the first column in matrix $A$\n",
        "\n",
        "$$a_1=\\begin{bmatrix}a_{11} \\\\ a_{21} \\\\ a_{31} \\\\ \\vdots \\\\ a_{n1} \\end{bmatrix}\\rightarrow G_1a_1\\rightarrow \\begin{bmatrix}\\alpha \\\\ 0 \\\\ a_{31} \\\\ \\vdots \\\\ a_{n1} \\end{bmatrix}$$\n",
        "\n",
        "Since $G_1$ is orthogonal, the `norm` of $a_1$ before and after the transformation is preserved and we have $\\alpha = \\sqrt{a_{11}^2+a_{21}^2}$\n",
        "\n",
        "For this case, we know the rotation matrix should have the following form\n",
        "\n",
        "$$G_1=\\begin{bmatrix}c & s & & & \\\\ -s & c & & & \\\\ & & 1 & & \\\\\n",
        "& & & \\ddots & \\\\ & & & & 1\\end{bmatrix}$$\n",
        "\n",
        "and we can work out that\n",
        "\n",
        "$$c=\\frac{a_{11}}{\\alpha}, s=\\frac{a_{21}}{\\alpha}$$\n",
        "\n",
        "This process repeats for the remaining subdiagonal entries of the first column, before moving on to the subsequent columns until all are taken care of\n",
        "\n",
        "We can see that similar to Householder reflector, Givens rotation also does `full QR` by design (of the rotation matrix)"
      ],
      "metadata": {
        "id": "XcyszOYJ5Q9b"
      }
    },
    {
      "cell_type": "markdown",
      "source": [
        "#### Example"
      ],
      "metadata": {
        "id": "ncFPaeqU6GH6"
      }
    },
    {
      "cell_type": "code",
      "source": [
        "import matplotlib.pyplot as plt\n",
        "import numpy as np\n",
        "np.set_printoptions(formatter={'float': '{: 0.4f}'.format})\n",
        "\n",
        "plt.style.use('dark_background')\n",
        "# color: https://matplotlib.org/stable/gallery/color/named_colors.htm"
      ],
      "metadata": {
        "id": "E7IXLxroydqP"
      },
      "execution_count": 4,
      "outputs": []
    },
    {
      "cell_type": "code",
      "source": [
        "def givens_rotation(A):\n",
        "    m, n = A.shape\n",
        "    Q = np.identity(m)\n",
        "    for col in range(n):\n",
        "        for row in range(col+1, m):\n",
        "            if A[row, col] != 0:\n",
        "                alpha = np.sqrt(A[col, col]**2 + A[row, col]**2)\n",
        "                c = A[col, col] / alpha\n",
        "                s = A[row, col] / alpha\n",
        "\n",
        "                G = np.identity(m)\n",
        "                G[row, col] = -s\n",
        "                G[col, row] = s\n",
        "                G[col, col] = c\n",
        "                G[row, row] = c\n",
        "\n",
        "                A = G @ A\n",
        "                Q = Q @ G.T\n",
        "\n",
        "    return Q, A"
      ],
      "metadata": {
        "id": "awRuLIy3KXnQ"
      },
      "execution_count": 5,
      "outputs": []
    },
    {
      "cell_type": "code",
      "source": [
        "mat_list = ['square', 'tall', 'fat', 'ill-conditioned', 'identity']\n",
        "mat = mat_list[1]\n",
        "epsilon = 1e-8\n",
        "\n",
        "if mat == 'square':\n",
        "    A = np.array([[1.0, 2.0, 3.0, 4.0],\n",
        "                  [4.0, 1.0, 0.0, -1.0],\n",
        "                  [3.0, 5.0, -2.0, 1.0],\n",
        "                  [2.0, 0.0, 1.0, 2.0]])\n",
        "elif mat == 'tall':\n",
        "    A = np.array([[1.0, 2.0, 1.0],\n",
        "                  [4.0, 1.0, 4.0],\n",
        "                  [3.0, 5.0, 3.0],\n",
        "                  [2.0, 0.0, 1.0]])\n",
        "elif mat == 'fat':\n",
        "    A = np.array([[1.0, 2.0, 3.0, 3.0, 1.0],\n",
        "                  [4.0, 1.0, 0.0, -0.0, 1.0],\n",
        "                  [3.0, 5.0, -2.0, -2.0, 2.0],\n",
        "                  [2.0, 0.0, 1.0, 1.0, 5.0]])\n",
        "elif mat == 'ill-conditioned':\n",
        "    A = np.array([[1, 1, 1],\n",
        "                  [epsilon, 0, 0],\n",
        "                  [0, epsilon, 0],\n",
        "                  [0, 0, epsilon]])\n",
        "elif mat == 'identity':\n",
        "    A = np.identity(4)\n",
        "\n",
        "Q, R = givens_rotation(A)\n",
        "\n",
        "print(\"Orthonormal basis Q:\")\n",
        "print(Q)\n",
        "\n",
        "print(\"\\nUpper triangular matrix R:\")\n",
        "print(R)\n",
        "\n",
        "print(f\"\\nQ^TQ:\\n{np.dot(Q.T, Q)}\")\n",
        "print(f\"Norms: \\n{np.linalg.norm(Q, axis=0)}\")\n",
        "\n",
        "# Reconstruct A (full QR)\n",
        "A_reconstructed = Q @ R\n",
        "print(f\"\\nA_reconstructed from full QR:\\n{A_reconstructed}\")\n",
        "\n",
        "# Reduced QR\n",
        "n = A.shape[1]\n",
        "A_reduced = np.dot(Q[:, :n], R[:n, :])\n",
        "print(\"\\nA_reconstructed from reduced QR:\")\n",
        "print(A_reduced)\n",
        "\n",
        "print(f\"\\nOriginal A:\\n{A}\")"
      ],
      "metadata": {
        "colab": {
          "base_uri": "https://localhost:8080/"
        },
        "id": "r7hJ0x0u6KXR",
        "outputId": "07f84772-d826-434f-9a4a-4caba9ad444b"
      },
      "execution_count": 9,
      "outputs": [
        {
          "output_type": "stream",
          "name": "stdout",
          "text": [
            "Orthonormal basis Q:\n",
            "[[ 0.1826  0.3324 -0.0608  0.9233]\n",
            " [ 0.7303 -0.4602  0.5019  0.0543]\n",
            " [ 0.5477  0.7414 -0.0761 -0.3802]\n",
            " [ 0.3651 -0.3579 -0.8594 -0.0000]]\n",
            "\n",
            "Upper triangular matrix R:\n",
            "[[ 5.4772  3.8341  5.1121]\n",
            " [ 0.0000  3.9115  0.3579]\n",
            " [-0.0000 -0.0000  0.8594]\n",
            " [-0.0000 -0.0000 -0.0000]]\n",
            "\n",
            "Q^TQ:\n",
            "[[ 1.0000  0.0000  0.0000 -0.0000]\n",
            " [ 0.0000  1.0000 -0.0000 -0.0000]\n",
            " [ 0.0000 -0.0000  1.0000  0.0000]\n",
            " [-0.0000 -0.0000  0.0000  1.0000]]\n",
            "Norms: \n",
            "[ 1.0000  1.0000  1.0000  1.0000]\n",
            "\n",
            "A_reconstructed from full QR:\n",
            "[[ 1.0000  2.0000  1.0000]\n",
            " [ 4.0000  1.0000  4.0000]\n",
            " [ 3.0000  5.0000  3.0000]\n",
            " [ 2.0000  0.0000  1.0000]]\n",
            "\n",
            "A_reconstructed from reduced QR:\n",
            "[[ 1.0000  2.0000  1.0000]\n",
            " [ 4.0000  1.0000  4.0000]\n",
            " [ 3.0000  5.0000  3.0000]\n",
            " [ 2.0000  0.0000  1.0000]]\n",
            "\n",
            "Original A:\n",
            "[[ 1.0000  2.0000  1.0000]\n",
            " [ 4.0000  1.0000  4.0000]\n",
            " [ 3.0000  5.0000  3.0000]\n",
            " [ 2.0000  0.0000  1.0000]]\n"
          ]
        }
      ]
    },
    {
      "cell_type": "code",
      "source": [],
      "metadata": {
        "id": "YQmDhbUEHkiD"
      },
      "execution_count": 6,
      "outputs": []
    }
  ]
}