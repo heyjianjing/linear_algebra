{
  "nbformat": 4,
  "nbformat_minor": 0,
  "metadata": {
    "colab": {
      "provenance": []
    },
    "kernelspec": {
      "name": "python3",
      "display_name": "Python 3"
    },
    "language_info": {
      "name": "python"
    }
  },
  "cells": [
    {
      "cell_type": "markdown",
      "source": [
        "#### Recap: `least squares`"
      ],
      "metadata": {
        "id": "s9JRN0lOHziu"
      }
    },
    {
      "cell_type": "markdown",
      "source": [
        "for $b=Ax$, $A\\in \\mathbf{R}^{m \\times n}$, $m>n$, `full rank`\n",
        "\n",
        "The least squares problem finds $x_{ls}$ that `minimizes` $$\\|Ax-b\\|^2$$\n",
        "\n",
        "and we know the analytical equation\n",
        "\n",
        "$$x_{ls}=\\boxed{(A^TA)^{-1}A^Tb}$$"
      ],
      "metadata": {
        "id": "LPIeN-tCB2ps"
      }
    },
    {
      "cell_type": "markdown",
      "source": [
        "#### `Conditioning` problems"
      ],
      "metadata": {
        "id": "n4pll0zaFehH"
      }
    },
    {
      "cell_type": "markdown",
      "source": [
        "Conditioning refers to sensitivity of solutions $x$ and $y=Ax$ to perturbations in data $A$ and $b$\n",
        "\n",
        "Three dimensionless parameters are used"
      ],
      "metadata": {
        "id": "wAgvWb6Xfg1P"
      }
    },
    {
      "cell_type": "markdown",
      "source": [
        "`Condition number`\n",
        "\n",
        "$$\\kappa(A)=\\frac{\\sigma_{\\max}}{\\sigma_{\\min}}=\\|A\\|\\|A^+\\|$$\n",
        "\n",
        "where $A^+$ is the pseudoinverse, $\\sigma_{\\max}$ and $\\sigma_{\\min}$ are largest and smallest singular values, respectively\n",
        "\n",
        "This is a generalized version of condition number for square matrices (which would be $\\kappa(A)=\\|A\\|\\|A^{-1}\\|$)\n",
        "\n",
        "$1\\leq \\kappa(A) \\leq \\infty$"
      ],
      "metadata": {
        "id": "lWi-1-QKgd1S"
      }
    },
    {
      "cell_type": "markdown",
      "source": [
        "`Closeness of fit`\n",
        "\n",
        "$$\\theta=\\cos^{-1}\\frac{\\|y\\|}{\\|b\\|}$$\n",
        "\n",
        "$0 \\leq \\theta \\leq \\frac{\\pi}{2}$"
      ],
      "metadata": {
        "id": "YpwWeq-Sg16N"
      }
    },
    {
      "cell_type": "markdown",
      "source": [
        "`Deviation` of $y$\n",
        "\n",
        "$$\\eta=\\frac{\\|A\\|\\|x\\|}{\\|y\\|}=\\frac{\\|A\\|\\|x\\|}{\\|Ax\\|}\\leq\\frac{\\sigma_{\\max}\\|x\\|}{\\sigma_{\\min}\\|x\\|}=\\kappa(A)$$\n",
        "\n",
        "This comes from that `smallest gain` of $A$ corresponds to the smallest singular value\n",
        "\n",
        "$$\\min_{x\\neq 0} \\frac{\\|Ax\\|}{\\|x\\|} = \\sigma_{\\min}(A) \\rightarrow \\|Ax\\|\\geq \\sigma_{\\min} \\|x\\|$$\n",
        "\n",
        "So, we have\n",
        "\n",
        "$1\\leq \\eta \\leq \\kappa(A)$"
      ],
      "metadata": {
        "id": "x7LYN_2whCNs"
      }
    },
    {
      "cell_type": "markdown",
      "source": [
        "With these parameters, we can compute condition numbers describing sensitivities of $y$ and $x$ to perturbations in $b$ and $A$\n",
        "\n",
        "$$\\begin{bmatrix}\n",
        " & y & x \\\\ b & \\frac{1}{\\cos \\theta} & \\frac{\\kappa(A)}{\\eta\\cos \\theta} \\\\\n",
        " A & \\frac{\\kappa(A)}{\\cos \\theta} & \\kappa(A) + \\frac{\\kappa(A)^2\\tan \\theta}{\\eta}\n",
        "\\end{bmatrix}$$"
      ],
      "metadata": {
        "id": "joizRfLTqkj3"
      }
    },
    {
      "cell_type": "markdown",
      "source": [
        "#### Example from NLA book"
      ],
      "metadata": {
        "id": "OamUjAHmrhte"
      }
    },
    {
      "cell_type": "markdown",
      "source": [
        "The setup is to compare final entry of $x$, for which the true value is `1`"
      ],
      "metadata": {
        "id": "SsabkC2B5RcG"
      }
    },
    {
      "cell_type": "code",
      "source": [
        "import matplotlib.pyplot as plt\n",
        "import numpy as np\n",
        "np.set_printoptions(formatter={'float': '{: 0.4f}'.format})\n",
        "\n",
        "plt.style.use('dark_background')\n",
        "# color: https://matplotlib.org/stable/gallery/color/named_colors.htm"
      ],
      "metadata": {
        "id": "64VKzPhM8fWC"
      },
      "execution_count": null,
      "outputs": []
    },
    {
      "cell_type": "code",
      "source": [
        "m = 100\n",
        "n = 15\n",
        "\n",
        "t = np.linspace(0, 1, m)\n",
        "\n",
        "# Construct Vandermonde matrix\n",
        "A = np.vander(t, n, increasing=True)\n",
        "b = np.exp(np.sin(4 * t)) / 2006.787453080206\n",
        "\n",
        "print(A.shape)\n",
        "print(b.shape)"
      ],
      "metadata": {
        "colab": {
          "base_uri": "https://localhost:8080/"
        },
        "id": "GYf7zVmpuaBY",
        "outputId": "d153fc52-af8f-49d6-d296-1944b7be7cd7"
      },
      "execution_count": null,
      "outputs": [
        {
          "output_type": "stream",
          "name": "stdout",
          "text": [
            "(100, 15)\n",
            "(100,)\n"
          ]
        }
      ]
    },
    {
      "cell_type": "code",
      "source": [
        "# Use NumPy solver to obtain to sufficient accuracy the conditioning parameters\n",
        "x, _, _, _ = np.linalg.lstsq(A, b, rcond=None)\n",
        "y = A @ x\n",
        "\n",
        "# Condition number\n",
        "kappa = np.linalg.cond(A)\n",
        "print(f\"kappa = {kappa:.4e}\")\n",
        "\n",
        "# Closedness of fit (theta)\n",
        "theta = np.arcsin(np.linalg.norm(b - y) / np.linalg.norm(b))\n",
        "print(f\"theta = {theta:.4e}\")\n",
        "\n",
        "# Deviation (eta)\n",
        "eta = (np.linalg.norm(A) * np.linalg.norm(x)) / np.linalg.norm(y)\n",
        "print(f\"eta = {eta:.4e}\")"
      ],
      "metadata": {
        "colab": {
          "base_uri": "https://localhost:8080/"
        },
        "id": "zQglZSGjx6ZA",
        "outputId": "fee7c771-1fa2-4810-b6fa-70841ee43e3b"
      },
      "execution_count": null,
      "outputs": [
        {
          "output_type": "stream",
          "name": "stdout",
          "text": [
            "kappa = 2.2718e+10\n",
            "theta = 3.7461e-06\n",
            "eta = 2.3732e+05\n"
          ]
        }
      ]
    },
    {
      "cell_type": "code",
      "source": [
        "b_y = 1 / np.cos(theta)\n",
        "b_x = kappa / (eta * np.cos(theta))\n",
        "\n",
        "A_y = kappa / np.cos(theta)\n",
        "A_x = kappa + (kappa**2 * np.tan(theta)) / eta\n",
        "\n",
        "print(f\"b_y = {b_y:.4e}\")\n",
        "print(f\"b_x = {b_x:.4e}\")\n",
        "print(f\"A_y = {A_y:.4e}\")\n",
        "print(f\"A_x = {A_x:.4e}\")"
      ],
      "metadata": {
        "colab": {
          "base_uri": "https://localhost:8080/"
        },
        "id": "MHHTkSB813y5",
        "outputId": "4442de32-7de9-40f2-df46-4eff9ca55037"
      },
      "execution_count": null,
      "outputs": [
        {
          "output_type": "stream",
          "name": "stdout",
          "text": [
            "b_y = 1.0000e+00\n",
            "b_x = 9.5727e+04\n",
            "A_y = 2.2718e+10\n",
            "A_x = 3.0864e+10\n"
          ]
        }
      ]
    },
    {
      "cell_type": "markdown",
      "source": [
        "#### Analytical equation"
      ],
      "metadata": {
        "id": "uU7fGnMd2Mq9"
      }
    },
    {
      "cell_type": "code",
      "source": [
        "x_ls = np.linalg.inv(A.T @ A) @ A.T @ b\n",
        "print(f\"x[15] = {x_ls[14]:.10f}\")"
      ],
      "metadata": {
        "colab": {
          "base_uri": "https://localhost:8080/"
        },
        "id": "Ycb5Cd-b2DBX",
        "outputId": "ddeba3e1-16a8-42b2-dc85-df40dd0f8080"
      },
      "execution_count": null,
      "outputs": [
        {
          "output_type": "stream",
          "name": "stdout",
          "text": [
            "x[15] = -0.3520387166\n"
          ]
        }
      ]
    },
    {
      "cell_type": "markdown",
      "source": [
        "We see that analytical equation is clearly an unstable method for solving general least squares problems..."
      ],
      "metadata": {
        "id": "nPVgAboN59o-"
      }
    },
    {
      "cell_type": "markdown",
      "source": [
        "#### `QR factorization` and back substitution"
      ],
      "metadata": {
        "id": "5cswJD8X6LGp"
      }
    },
    {
      "cell_type": "markdown",
      "source": [
        "We can also use reduced QR factorization and back substitution to solve least squares\n",
        "\n",
        "* $A=QR$ with `Householder`, `Givens`, or `MGS`\n",
        "* Update $b\\leftarrow Q^Tb$\n",
        "* Solve upper triangular system $Rx=b$ for $x$ with `back substitution`"
      ],
      "metadata": {
        "id": "oJN8PglU77aa"
      }
    },
    {
      "cell_type": "markdown",
      "source": [
        "##### Householder"
      ],
      "metadata": {
        "id": "1pEf5gAi_vxk"
      }
    },
    {
      "cell_type": "code",
      "source": [
        "def householder(A):\n",
        "    m, n = A.shape\n",
        "    R = A.copy()\n",
        "    Q = np.identity(m)\n",
        "\n",
        "    for i in range(n):\n",
        "        x = R[i:, i]\n",
        "        v = np.sign(x[0]) * np.linalg.norm(x) * np.eye(x.shape[0])[:,0] + x\n",
        "        v /= np.linalg.norm(v)\n",
        "\n",
        "        R[i:, i:] -= 2 * np.outer(v, v) @ R[i:, i:]\n",
        "        Q[i:, :] -= 2 * np.outer(v, v) @ Q[i:, :]\n",
        "\n",
        "    return Q.T, R\n",
        "\n",
        "def back_substitution(R, b):\n",
        "    m, n = R.shape\n",
        "    x = np.zeros(n)\n",
        "    for i in range(n - 1, -1, -1):\n",
        "        x[i] = (b[i] - np.dot(R[i, i + 1:], x[i + 1:])) / R[i, i]\n",
        "    return x"
      ],
      "metadata": {
        "id": "qI66Gk5i6GCD"
      },
      "execution_count": null,
      "outputs": []
    },
    {
      "cell_type": "code",
      "source": [
        "Q, R = householder(A)\n",
        "b_hh = Q.T @ b\n",
        "x_hh = back_substitution(R, b_hh)\n",
        "print(f\"x[15] = {x_hh[14]:.10f}\")"
      ],
      "metadata": {
        "colab": {
          "base_uri": "https://localhost:8080/"
        },
        "id": "ae-mnp_99krC",
        "outputId": "d2218dff-0bfc-4a0e-acb1-c741c7e7b1e3"
      },
      "execution_count": null,
      "outputs": [
        {
          "output_type": "stream",
          "name": "stdout",
          "text": [
            "x[15] = 0.9999999830\n"
          ]
        }
      ]
    },
    {
      "cell_type": "markdown",
      "source": [
        "##### Givens rotations"
      ],
      "metadata": {
        "id": "ijV9hhxv_FT9"
      }
    },
    {
      "cell_type": "code",
      "source": [
        "def givens_rotation(A):\n",
        "    m, n = A.shape\n",
        "    Q = np.identity(m)\n",
        "    for col in range(n):\n",
        "        for row in range(col+1, m):\n",
        "            if A[row, col] != 0:\n",
        "                alpha = np.sqrt(A[col, col]**2 + A[row, col]**2)\n",
        "                c = A[col, col] / alpha\n",
        "                s = A[row, col] / alpha\n",
        "\n",
        "                G = np.identity(m)\n",
        "                G[row, col] = -s\n",
        "                G[col, row] = s\n",
        "                G[col, col] = c\n",
        "                G[row, row] = c\n",
        "\n",
        "                A = G @ A\n",
        "                Q = Q @ G.T\n",
        "\n",
        "    return Q, A"
      ],
      "metadata": {
        "id": "oVWj01Wg-gby"
      },
      "execution_count": null,
      "outputs": []
    },
    {
      "cell_type": "code",
      "source": [
        "Q, R = givens_rotation(A)\n",
        "b_givens = Q.T @ b\n",
        "x_givens = back_substitution(R, b_givens)\n",
        "print(f\"x[15] = {x_givens[14]:.10f}\")"
      ],
      "metadata": {
        "colab": {
          "base_uri": "https://localhost:8080/"
        },
        "id": "UPmsIwCq_QdT",
        "outputId": "e34680ea-de1b-440f-b20b-9d2bd83aa024"
      },
      "execution_count": null,
      "outputs": [
        {
          "output_type": "stream",
          "name": "stdout",
          "text": [
            "x[15] = 1.0000000564\n"
          ]
        }
      ]
    },
    {
      "cell_type": "markdown",
      "source": [
        "##### Modified Gram-Schmidt"
      ],
      "metadata": {
        "id": "V00YYQqj_Zuy"
      }
    },
    {
      "cell_type": "code",
      "source": [
        "def gram_schmidt(A, modified=True):\n",
        "    n = A.shape[1]\n",
        "    Q = np.zeros_like(A)\n",
        "    R = np.zeros((n, n))\n",
        "\n",
        "    for i in range(n):\n",
        "        q = A[:, i].copy()\n",
        "\n",
        "        for j in range(i):\n",
        "            if modified:\n",
        "                R[j, i] = np.dot(Q[:, j], q)\n",
        "            else:\n",
        "                R[j, i] = np.dot(Q[:, j], A[:, i])\n",
        "            q -= R[j, i] * Q[:, j]\n",
        "\n",
        "        R[i, i] = np.sqrt(np.dot(q, q))\n",
        "        q /=  R[i, i]\n",
        "        Q[:, i] = q\n",
        "\n",
        "    return Q, R"
      ],
      "metadata": {
        "id": "1g5dlKjH_cGc"
      },
      "execution_count": null,
      "outputs": []
    },
    {
      "cell_type": "code",
      "source": [
        "Q, R = gram_schmidt(A)\n",
        "b_mgs = Q.T @ b\n",
        "x_mgs = back_substitution(R, b_mgs)\n",
        "print(f\"x[15] = {x_mgs[14]:.10f}\")"
      ],
      "metadata": {
        "colab": {
          "base_uri": "https://localhost:8080/"
        },
        "id": "imKWSJwV_e33",
        "outputId": "b88d4f77-b8ee-469f-bc45-fa6a4a90e156"
      },
      "execution_count": null,
      "outputs": [
        {
          "output_type": "stream",
          "name": "stdout",
          "text": [
            "x[15] = 1.0172653298\n"
          ]
        }
      ]
    },
    {
      "cell_type": "markdown",
      "source": [
        "We see that both Householder and Givens work well, while MGS's result looks very poor. However, it can be stablized by using an augmented system of equations, see NLA Theorem 19.2"
      ],
      "metadata": {
        "id": "lJEveKV7AAT0"
      }
    },
    {
      "cell_type": "markdown",
      "source": [
        "Overall, one might as well just use the simplest and cheapest that is the standard `Householder`"
      ],
      "metadata": {
        "id": "x9vjaj54Aodj"
      }
    },
    {
      "cell_type": "markdown",
      "source": [
        "#### Cholesky factorization"
      ],
      "metadata": {
        "id": "4YjSGPFGlzyu"
      }
    },
    {
      "cell_type": "markdown",
      "source": [
        "We can also solve least squares problem using Cholesky decomposition\n",
        "\n",
        "$$Ax=b \\Longleftrightarrow A^TAx=A^Tb \\Longleftrightarrow Bx=c \\Longleftrightarrow LL^Tx=c$$\n",
        "\n",
        "We can\n",
        "\n",
        "* solve $Ly=c$ using `forward` substitution and then\n",
        "* solve $L^Tx=y$ using `backward` substitution"
      ],
      "metadata": {
        "id": "-OSbjoRymnvB"
      }
    },
    {
      "cell_type": "code",
      "source": [
        "def cholesky_factorization(A):\n",
        "    m = A.shape[0]\n",
        "    l_mat = A.copy().astype(float)\n",
        "\n",
        "    for k in range(m):\n",
        "        if l_mat[k, k] <= 0:\n",
        "            return print('Input is not positive definite')\n",
        "\n",
        "        # Follow the first step, iteratively apply to a smaller and smaller K\n",
        "        l_mat[k+1:, k+1:] -= np.outer(l_mat[k+1:, k], l_mat[k+1:, k]) / l_mat[k, k]\n",
        "        l_mat[k:, k] /= np.sqrt(l_mat[k, k])\n",
        "\n",
        "    return np.tril(l_mat)\n",
        "\n",
        "def forward_substitution(L, b):\n",
        "    m, n = L.shape\n",
        "    x = np.zeros(n)\n",
        "    for i in range(n):\n",
        "        x[i] = (b[i] - np.dot(L[i, :i], x[:i])) / L[i, i]\n",
        "    return x"
      ],
      "metadata": {
        "id": "s4WzTQpWAaWU"
      },
      "execution_count": null,
      "outputs": []
    },
    {
      "cell_type": "markdown",
      "source": [
        "But here, we need to make sure that $A^TA$ is PD"
      ],
      "metadata": {
        "id": "-6BhFB3gqMlA"
      }
    },
    {
      "cell_type": "code",
      "source": [
        "try:\n",
        "    L = np.linalg.cholesky(A.T@A)\n",
        "    chol_success = True\n",
        "except np.linalg.LinAlgError:\n",
        "    chol_success = False\n",
        "\n",
        "chol_success"
      ],
      "metadata": {
        "colab": {
          "base_uri": "https://localhost:8080/"
        },
        "id": "sOmv2kMDqRjt",
        "outputId": "f1be752f-8c87-4bd6-a1b3-78efb090cd85"
      },
      "execution_count": null,
      "outputs": [
        {
          "output_type": "execute_result",
          "data": {
            "text/plain": [
              "False"
            ]
          },
          "metadata": {},
          "execution_count": 52
        }
      ]
    },
    {
      "cell_type": "markdown",
      "source": [
        "We can see that our original matrix is not PD...\n",
        "\n",
        "So we create a new matrix (not necessarily ill-conditioned, just to show how Cholesky works with forward and back substitution)"
      ],
      "metadata": {
        "id": "dcNmDrmqqV5B"
      }
    },
    {
      "cell_type": "code",
      "source": [
        "np.random.seed(42)\n",
        "\n",
        "A_ch = np.random.randn(100, 15)\n",
        "x = np.random.randn(15)\n",
        "b = A_ch @ x"
      ],
      "metadata": {
        "id": "DeCaeG48pzqu"
      },
      "execution_count": null,
      "outputs": []
    },
    {
      "cell_type": "code",
      "source": [
        "L = cholesky_factorization(A_ch.T @ A_ch)\n",
        "c_ch = A_ch.T @ b\n",
        "y_ch = forward_substitution(L, c_ch)\n",
        "x_ch = back_substitution(L.T, y_ch)\n",
        "print(x_ch)\n",
        "print(x)\n",
        "print(np.linalg.norm(x_ch - x))"
      ],
      "metadata": {
        "colab": {
          "base_uri": "https://localhost:8080/"
        },
        "id": "lNBS3NfMn4Nt",
        "outputId": "c7ea5646-8cfa-4ebe-a862-ef93382f7a3a"
      },
      "execution_count": null,
      "outputs": [
        {
          "output_type": "stream",
          "name": "stdout",
          "text": [
            "[ 0.7784 -0.5512 -0.8182 -0.0034 -0.1702 -0.4532  0.6964  0.9553  0.0884\n",
            "  1.4775 -1.1417 -0.1937 -0.7168 -1.8665 -0.0827]\n",
            "[ 0.7784 -0.5512 -0.8182 -0.0034 -0.1702 -0.4532  0.6964  0.9553  0.0884\n",
            "  1.4775 -1.1417 -0.1937 -0.7168 -1.8665 -0.0827]\n",
            "2.2499811537835648e-15\n"
          ]
        }
      ]
    },
    {
      "cell_type": "code",
      "source": [],
      "metadata": {
        "id": "4d0XSJU7oUEa"
      },
      "execution_count": null,
      "outputs": []
    }
  ]
}