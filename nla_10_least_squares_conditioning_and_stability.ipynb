{
  "nbformat": 4,
  "nbformat_minor": 0,
  "metadata": {
    "colab": {
      "provenance": []
    },
    "kernelspec": {
      "name": "python3",
      "display_name": "Python 3"
    },
    "language_info": {
      "name": "python"
    }
  },
  "cells": [
    {
      "cell_type": "markdown",
      "source": [
        "#### Recap: `least squares`"
      ],
      "metadata": {
        "id": "s9JRN0lOHziu"
      }
    },
    {
      "cell_type": "markdown",
      "source": [
        "for $b=Ax$, $A\\in \\mathbf{R}^{m \\times n}$, $m>n$, `full rank`\n",
        "\n",
        "The least squares problem finds $x_{ls}$ that `minimizes` $$\\|Ax-b\\|^2$$\n",
        "\n",
        "and we know the analytical equation\n",
        "\n",
        "$$x_{ls}=\\boxed{(A^TA)^{-1}A^Tb}$$"
      ],
      "metadata": {
        "id": "LPIeN-tCB2ps"
      }
    },
    {
      "cell_type": "markdown",
      "source": [
        "#### `Conditioning` problems"
      ],
      "metadata": {
        "id": "n4pll0zaFehH"
      }
    },
    {
      "cell_type": "markdown",
      "source": [
        "Conditioning refers to sensitivity of solutions $x$ and $y=Ax$ to perturbations in data $A$ and $b$\n",
        "\n",
        "Three dimensionless parameters are used"
      ],
      "metadata": {
        "id": "wAgvWb6Xfg1P"
      }
    },
    {
      "cell_type": "markdown",
      "source": [
        "`Condition number`\n",
        "\n",
        "$$\\kappa(A)=\\frac{\\sigma_{\\max}}{\\sigma_{\\min}}=\\|A\\|\\|A^+\\|$$\n",
        "\n",
        "where $A^+$ is the pseudoinverse, $\\sigma_{max}$ and $\\sigma_{min}$ are largest and smallest singular values, respectively\n",
        "\n",
        "This is a generalized version of condition number for square matrices (which would be $\\kappa(A)=\\|A\\|\\|A^{-1}\\|$)\n",
        "\n",
        "$1\\leq \\kappa(A) \\leq \\infty$"
      ],
      "metadata": {
        "id": "lWi-1-QKgd1S"
      }
    },
    {
      "cell_type": "markdown",
      "source": [
        "`Closedness of fit`\n",
        "\n",
        "$$\\theta=\\cos^{-1}\\frac{\\|y\\|}{\\|b\\|}$$\n",
        "\n",
        "$0 \\leq \\theta \\leq \\frac{\\pi}{2}$"
      ],
      "metadata": {
        "id": "YpwWeq-Sg16N"
      }
    },
    {
      "cell_type": "markdown",
      "source": [
        "`Deviation` of $y$\n",
        "\n",
        "$$\\eta=\\frac{\\|A\\|\\|x\\|}{\\|y\\|}=\\frac{\\|A\\|\\|x\\|}{\\|Ax\\|}\\leq\\frac{\\sigma_{\\max}\\|x\\|}{\\sigma_{\\min}\\|x\\|}=\\kappa(A)$$\n",
        "\n",
        "This comes from that `smallest gain` of $A$ corresponds to the smallest singular value\n",
        "\n",
        "$$\\min_{x\\neq 0} \\frac{\\|Ax\\|}{\\|x\\|} = \\sigma_{\\min}(A) \\rightarrow \\|Ax\\|\\geq \\sigma_{\\min} \\|x\\|$$\n",
        "\n",
        "So, we have\n",
        "\n",
        "$1\\leq \\eta \\leq \\kappa(A)$"
      ],
      "metadata": {
        "id": "x7LYN_2whCNs"
      }
    },
    {
      "cell_type": "markdown",
      "source": [
        "With these parameters, we can compute condition numbers describing sensitivities of $y$ and $x$ to perturbations in $b$ and $A$\n",
        "\n",
        "$$\\begin{bmatrix}\n",
        " & y & x \\\\ b & \\frac{1}{\\cos \\theta} & \\frac{\\kappa(A)}{\\eta\\cos \\theta} \\\\\n",
        " A & \\frac{\\kappa(A)}{\\cos \\theta} & \\kappa(A) + \\frac{\\kappa(A)^2\\tan \\theta}{\\eta}\n",
        "\\end{bmatrix}$$"
      ],
      "metadata": {
        "id": "joizRfLTqkj3"
      }
    },
    {
      "cell_type": "markdown",
      "source": [
        "#### Example from NLA book"
      ],
      "metadata": {
        "id": "OamUjAHmrhte"
      }
    },
    {
      "cell_type": "markdown",
      "source": [
        "The setup is to compare final entry of $x$, for which the true value is `1`"
      ],
      "metadata": {
        "id": "SsabkC2B5RcG"
      }
    },
    {
      "cell_type": "code",
      "source": [
        "import matplotlib.pyplot as plt\n",
        "import numpy as np\n",
        "np.set_printoptions(formatter={'float': '{: 0.4f}'.format})\n",
        "\n",
        "plt.style.use('dark_background')\n",
        "# color: https://matplotlib.org/stable/gallery/color/named_colors.htm"
      ],
      "metadata": {
        "id": "64VKzPhM8fWC"
      },
      "execution_count": 73,
      "outputs": []
    },
    {
      "cell_type": "code",
      "source": [
        "m = 100\n",
        "n = 15\n",
        "\n",
        "t = np.linspace(0, 1, m)\n",
        "\n",
        "# Construct Vandermonde matrix\n",
        "A = np.vander(t, n, increasing=True)\n",
        "b = np.exp(np.sin(4 * t)) / 2006.787453080206\n",
        "\n",
        "print(A.shape)\n",
        "print(b.shape)"
      ],
      "metadata": {
        "colab": {
          "base_uri": "https://localhost:8080/"
        },
        "id": "GYf7zVmpuaBY",
        "outputId": "1893e5b1-81d7-4b00-f5cc-36b1c3935ee6"
      },
      "execution_count": 74,
      "outputs": [
        {
          "output_type": "stream",
          "name": "stdout",
          "text": [
            "(100, 15)\n",
            "(100,)\n"
          ]
        }
      ]
    },
    {
      "cell_type": "code",
      "source": [
        "# Use NumPy solver to obtain to sufficient accuracy the conditioning parameters\n",
        "x, _, _, _ = np.linalg.lstsq(A, b, rcond=None)\n",
        "y = A @ x\n",
        "\n",
        "# Condition number\n",
        "kappa = np.linalg.cond(A)\n",
        "print(f\"kappa = {kappa:.4e}\")\n",
        "\n",
        "# Closedness of fit (theta)\n",
        "theta = np.arcsin(np.linalg.norm(b - y) / np.linalg.norm(b))\n",
        "print(f\"theta = {theta:.4e}\")\n",
        "\n",
        "# Deviation (eta)\n",
        "eta = (np.linalg.norm(A) * np.linalg.norm(x)) / np.linalg.norm(y)\n",
        "print(f\"eta = {eta:.4e}\")"
      ],
      "metadata": {
        "colab": {
          "base_uri": "https://localhost:8080/"
        },
        "id": "zQglZSGjx6ZA",
        "outputId": "e8a4dcbf-001a-47e7-8c3a-937184cc011b"
      },
      "execution_count": 75,
      "outputs": [
        {
          "output_type": "stream",
          "name": "stdout",
          "text": [
            "kappa = 2.2718e+10\n",
            "theta = 3.7461e-06\n",
            "eta = 2.3732e+05\n"
          ]
        }
      ]
    },
    {
      "cell_type": "code",
      "source": [
        "b_y = 1 / np.cos(theta)\n",
        "b_x = kappa / (eta * np.cos(theta))\n",
        "\n",
        "A_y = kappa / np.cos(theta)\n",
        "A_x = kappa + (kappa**2 * np.tan(theta)) / eta\n",
        "\n",
        "print(f\"b_y = {b_y:.4e}\")\n",
        "print(f\"b_x = {b_x:.4e}\")\n",
        "print(f\"A_y = {A_y:.4e}\")\n",
        "print(f\"A_x = {A_x:.4e}\")"
      ],
      "metadata": {
        "colab": {
          "base_uri": "https://localhost:8080/"
        },
        "id": "MHHTkSB813y5",
        "outputId": "cf1c075e-2011-45d5-9007-40d123368c4a"
      },
      "execution_count": 76,
      "outputs": [
        {
          "output_type": "stream",
          "name": "stdout",
          "text": [
            "b_y = 1.0000e+00\n",
            "b_x = 9.5727e+04\n",
            "A_y = 2.2718e+10\n",
            "A_x = 3.0864e+10\n"
          ]
        }
      ]
    },
    {
      "cell_type": "markdown",
      "source": [
        "#### Analytical equation"
      ],
      "metadata": {
        "id": "uU7fGnMd2Mq9"
      }
    },
    {
      "cell_type": "code",
      "source": [
        "x_ls = np.linalg.inv(A.T @ A) @ A.T @ b\n",
        "print(f\"x[15] = {x_ls[14]:.10f}\")"
      ],
      "metadata": {
        "colab": {
          "base_uri": "https://localhost:8080/"
        },
        "id": "Ycb5Cd-b2DBX",
        "outputId": "dbda661d-19ec-40e7-ea23-08ea630e28ef"
      },
      "execution_count": 77,
      "outputs": [
        {
          "output_type": "stream",
          "name": "stdout",
          "text": [
            "x[15] = -0.3520387166\n"
          ]
        }
      ]
    },
    {
      "cell_type": "markdown",
      "source": [
        "We see that analytical equation is clearly an unstable method for solving general east squares problems..."
      ],
      "metadata": {
        "id": "nPVgAboN59o-"
      }
    },
    {
      "cell_type": "markdown",
      "source": [
        "#### `QR factorization` and back substitution"
      ],
      "metadata": {
        "id": "5cswJD8X6LGp"
      }
    },
    {
      "cell_type": "markdown",
      "source": [
        "We can also use reduced QR factorization and back substitution to solve least squares\n",
        "\n",
        "* $A=QR$ with `Householder`, `Givens`, or `MGS`\n",
        "* Update $b\\leftarrow Q^Tb$\n",
        "* Solve upper triangular system $Rx=b$ for $x$ with `back substitution`"
      ],
      "metadata": {
        "id": "oJN8PglU77aa"
      }
    },
    {
      "cell_type": "markdown",
      "source": [
        "##### Householder"
      ],
      "metadata": {
        "id": "1pEf5gAi_vxk"
      }
    },
    {
      "cell_type": "code",
      "source": [
        "def householder(A):\n",
        "    m, n = A.shape\n",
        "    R = A.copy()\n",
        "    Q = np.identity(m)\n",
        "\n",
        "    for i in range(n):\n",
        "        x = R[i:, i]\n",
        "        v = np.sign(x[0]) * np.linalg.norm(x) * np.eye(x.shape[0])[:,0] + x\n",
        "        v /= np.linalg.norm(v)\n",
        "\n",
        "        R[i:, i:] -= 2 * np.outer(v, v) @ R[i:, i:]\n",
        "        Q[i:, :] -= 2 * np.outer(v, v) @ Q[i:, :]\n",
        "\n",
        "    return Q.T, R\n",
        "\n",
        "def back_substitution(R, b):\n",
        "    m, n = R.shape\n",
        "    x = np.zeros(n)\n",
        "    for i in range(n - 1, -1, -1):\n",
        "        x[i] = (b[i] - np.dot(R[i, i + 1:], x[i + 1:])) / R[i, i]\n",
        "    return x"
      ],
      "metadata": {
        "id": "qI66Gk5i6GCD"
      },
      "execution_count": 78,
      "outputs": []
    },
    {
      "cell_type": "code",
      "source": [
        "Q, R = householder(A)\n",
        "b_qr = Q.T @ b\n",
        "x_qr = back_substitution(R, b_qr)\n",
        "print(f\"x[15] = {x_qr[14]:.10f}\")"
      ],
      "metadata": {
        "colab": {
          "base_uri": "https://localhost:8080/"
        },
        "id": "ae-mnp_99krC",
        "outputId": "7ddb2845-1fcb-491e-be7e-a8b3b313162a"
      },
      "execution_count": 79,
      "outputs": [
        {
          "output_type": "stream",
          "name": "stdout",
          "text": [
            "x[15] = 0.9999999830\n"
          ]
        }
      ]
    },
    {
      "cell_type": "markdown",
      "source": [
        "##### Givens rotations"
      ],
      "metadata": {
        "id": "ijV9hhxv_FT9"
      }
    },
    {
      "cell_type": "code",
      "source": [
        "def givens_rotation(A):\n",
        "    m, n = A.shape\n",
        "    Q = np.identity(m)\n",
        "    for col in range(n):\n",
        "        for row in range(col+1, m):\n",
        "            if A[row, col] != 0:\n",
        "                alpha = np.sqrt(A[col, col]**2 + A[row, col]**2)\n",
        "                c = A[col, col] / alpha\n",
        "                s = A[row, col] / alpha\n",
        "\n",
        "                G = np.identity(m)\n",
        "                G[row, col] = -s\n",
        "                G[col, row] = s\n",
        "                G[col, col] = c\n",
        "                G[row, row] = c\n",
        "\n",
        "                A = G @ A\n",
        "                Q = Q @ G.T\n",
        "\n",
        "    return Q, A"
      ],
      "metadata": {
        "id": "oVWj01Wg-gby"
      },
      "execution_count": 80,
      "outputs": []
    },
    {
      "cell_type": "code",
      "source": [
        "Q, R = givens_rotation(A)\n",
        "b_givens = Q.T @ b\n",
        "x_givens = back_substitution(R, b_givens)\n",
        "print(f\"x[15] = {x_givens[14]:.10f}\")"
      ],
      "metadata": {
        "colab": {
          "base_uri": "https://localhost:8080/"
        },
        "id": "UPmsIwCq_QdT",
        "outputId": "c91b3266-9f1b-4744-80ac-5ae6327496db"
      },
      "execution_count": 81,
      "outputs": [
        {
          "output_type": "stream",
          "name": "stdout",
          "text": [
            "x[15] = 1.0000000564\n"
          ]
        }
      ]
    },
    {
      "cell_type": "markdown",
      "source": [
        "##### Modified Gram-Schmidt"
      ],
      "metadata": {
        "id": "V00YYQqj_Zuy"
      }
    },
    {
      "cell_type": "code",
      "source": [
        "def gram_schmidt(A, modified=True):\n",
        "    n = A.shape[1]\n",
        "    Q = np.zeros_like(A)\n",
        "    R = np.zeros((n, n))\n",
        "\n",
        "    for i in range(n):\n",
        "        q = A[:, i].copy()\n",
        "\n",
        "        for j in range(i):\n",
        "            if modified:\n",
        "                R[j, i] = np.dot(Q[:, j], q)\n",
        "            else:\n",
        "                R[j, i] = np.dot(Q[:, j], A[:, i])\n",
        "            q -= R[j, i] * Q[:, j]\n",
        "\n",
        "        R[i, i] = np.sqrt(np.dot(q, q))\n",
        "        q /=  R[i, i]\n",
        "        Q[:, i] = q\n",
        "\n",
        "    return Q, R"
      ],
      "metadata": {
        "id": "1g5dlKjH_cGc"
      },
      "execution_count": 82,
      "outputs": []
    },
    {
      "cell_type": "code",
      "source": [
        "Q, R = gram_schmidt(A)\n",
        "b_mgs = Q.T @ b\n",
        "x_mgs = back_substitution(R, b_mgs)\n",
        "print(f\"x[15] = {x_mgs[14]:.10f}\")"
      ],
      "metadata": {
        "colab": {
          "base_uri": "https://localhost:8080/"
        },
        "id": "imKWSJwV_e33",
        "outputId": "9be3d625-29b5-4897-f49b-5e0ba647f964"
      },
      "execution_count": 83,
      "outputs": [
        {
          "output_type": "stream",
          "name": "stdout",
          "text": [
            "x[15] = 1.0172653298\n"
          ]
        }
      ]
    },
    {
      "cell_type": "markdown",
      "source": [
        "We see that both Householder and Givens work well, while MSG's result looks very poor. However, it can be stablized by using an augmented system of equations, see NLA Theorem 19.2"
      ],
      "metadata": {
        "id": "lJEveKV7AAT0"
      }
    },
    {
      "cell_type": "markdown",
      "source": [
        "Overall, one might as well use just the simplest and cheapest that is the standard `Householder`"
      ],
      "metadata": {
        "id": "x9vjaj54Aodj"
      }
    },
    {
      "cell_type": "code",
      "source": [],
      "metadata": {
        "id": "s4WzTQpWAaWU"
      },
      "execution_count": 83,
      "outputs": []
    }
  ]
}