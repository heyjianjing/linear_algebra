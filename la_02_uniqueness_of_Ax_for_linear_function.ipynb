{
  "nbformat": 4,
  "nbformat_minor": 0,
  "metadata": {
    "colab": {
      "provenance": []
    },
    "kernelspec": {
      "name": "python3",
      "display_name": "Python 3"
    },
    "language_info": {
      "name": "python"
    }
  },
  "cells": [
    {
      "cell_type": "markdown",
      "source": [
        "#### Linear function as matrix-vector multiplication"
      ],
      "metadata": {
        "id": "SZItX4o_qqvh"
      }
    },
    {
      "cell_type": "markdown",
      "source": [
        "For a `linear` function $f: \\mathbf{R}^n\\rightarrow \\mathbf{R}^m$, there is a `matrix` $A\\in \\mathbf{R}^{m\\times n}$ such that $f(x)=Ax$"
      ],
      "metadata": {
        "id": "cAvNgUEGZHF1"
      }
    },
    {
      "cell_type": "markdown",
      "source": [
        "For example, if we have a vector $x\\in \\mathbf{R}^n$\n",
        "\n",
        "$$x=\\begin{bmatrix}x_1\\\\x_2\\\\\\vdots\\\\x_n\\end{bmatrix}$$\n",
        "\n",
        "We can write $x$ using basis vectors $e_i$\n",
        "\n",
        "$$x=x_1e_1+x_2e_2+\\cdots + x_ne_n$$\n",
        "\n",
        "Using `linearity` of $f$\n",
        "\n",
        "$$f(\\alpha x+\\beta x')=\\alpha f(x)+\\beta f(x')$$\n",
        "\n",
        "we have\n",
        "\n",
        "$$f(x)=x_1f(e_1)+x_2f(e_2)+\\cdots +x_nf(e_n)$$\n",
        "\n",
        "or in `matrix` form\n",
        "\n",
        "$$f(x)=\\begin{bmatrix}f(e_1) & f(e_2) & \\cdots & f(e_n)\\end{bmatrix}\\begin{bmatrix}x_1\\\\x_2\\\\\\vdots\\\\x_n\\end{bmatrix}$$"
      ],
      "metadata": {
        "id": "FFUmogHNXZlo"
      }
    },
    {
      "cell_type": "markdown",
      "source": [
        "As a result, if we let\n",
        "\n",
        "$$\\boxed{A=\\begin{bmatrix}f(e_1) & f(e_2) & \\cdots & f(e_n)\\end{bmatrix}\\in \\mathbf{R}^{m\\times n}}$$\n",
        "\n",
        "we have\n",
        "\n",
        "$$f(x)=Ax$$"
      ],
      "metadata": {
        "id": "xyS6iFkfGisf"
      }
    },
    {
      "cell_type": "markdown",
      "source": [
        "This means `any linear function` can be expressed as $Ax$"
      ],
      "metadata": {
        "id": "zLEA6jUbI5mZ"
      }
    },
    {
      "cell_type": "markdown",
      "source": [
        "#### The representation is `unique`"
      ],
      "metadata": {
        "id": "9iL_-vEOHPwU"
      }
    },
    {
      "cell_type": "markdown",
      "source": [
        "Suppose we have $A'\\in \\mathbf{R}^{m\\times n}$, different from A, such that\n",
        "\n",
        "$$f(x)=A'x$$\n",
        "\n",
        "Then, the following must hold for all $x\\in \\mathbf{R}^n$\n",
        "\n",
        "$$(A-A')x=0$$\n",
        "\n",
        "If we select $x$ as one of the basis vector $e_i$, then\n",
        "\n",
        "$$(A-A')e_i=0$$\n",
        "\n",
        "This means that the `ith` column of $A$ and $A'$ must be the same\n",
        "\n",
        "Similarly, if we plug in $e_i$, for $i=1, 2,\\cdots , n$, we can reach the conclusion that `all columns` of $A-A'$ are zero\n",
        "\n",
        "Therefore, $A=A'$, and $A$ is `unique`"
      ],
      "metadata": {
        "id": "gfh9zZf_Hfz6"
      }
    },
    {
      "cell_type": "markdown",
      "source": [
        "#### Matrix-vector multiplication as the `only expression` of linear function"
      ],
      "metadata": {
        "id": "-ko8UKDEI_wc"
      }
    },
    {
      "cell_type": "markdown",
      "source": [
        "From earlier, we see that\n",
        "\n",
        "* $f$ is linear $\\Longrightarrow$ $f(x)=Ax$\n",
        "\n",
        "And it is straightforward to see that\n",
        "\n",
        "* $f(x)=Ax$ $\\Longrightarrow$  $f$ is linear\n",
        "\n",
        "We can conclude that matrix-vector multiplication is the `only way` of expressing linear function"
      ],
      "metadata": {
        "id": "guatsVhmJGMm"
      }
    },
    {
      "cell_type": "markdown",
      "source": [
        "#### `Affine` function"
      ],
      "metadata": {
        "id": "oENdZQg-mUaT"
      }
    },
    {
      "cell_type": "markdown",
      "source": [
        "A linear function plus a constant is called an `affine` function\n",
        "\n",
        "For an affine function $f$, the following holds when $\\alpha+\\beta=1$\n",
        "\n",
        "$$f(\\alpha x+\\beta x')=\\alpha f(x)+\\beta f(x')$$\n",
        "\n",
        "In matrix form, we have\n",
        "\n",
        "$$y=Ax+b$$"
      ],
      "metadata": {
        "id": "ad9F14sVmY5n"
      }
    },
    {
      "cell_type": "code",
      "execution_count": null,
      "metadata": {
        "id": "mEAg7kVsVzQl"
      },
      "outputs": [],
      "source": []
    }
  ]
}