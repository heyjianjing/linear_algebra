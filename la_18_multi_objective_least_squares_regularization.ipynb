{
  "nbformat": 4,
  "nbformat_minor": 0,
  "metadata": {
    "colab": {
      "provenance": []
    },
    "kernelspec": {
      "name": "python3",
      "display_name": "Python 3"
    },
    "language_info": {
      "name": "python"
    }
  },
  "cells": [
    {
      "cell_type": "markdown",
      "source": [
        "#### `Multi-objective` least squares"
      ],
      "metadata": {
        "id": "s9JRN0lOHziu"
      }
    },
    {
      "cell_type": "markdown",
      "source": [
        "When the objective of least squares becomes minimizing something like\n",
        "\n",
        "$$\\|Ax-y\\|^2+\\mu \\|Fx-g\\|^2$$\n",
        "\n",
        "or involving more terms"
      ],
      "metadata": {
        "id": "LPIeN-tCB2ps"
      }
    },
    {
      "cell_type": "markdown",
      "source": [
        "We can express this as ordinary least squares problems\n",
        "\n",
        "$$\\begin{align*}\\|Ax-y\\|^2+\\mu \\|Fx-g\\|^2&=\\left\\|\\begin{bmatrix}A\\\\ \\sqrt{\\mu}F\\end{bmatrix}x-\\begin{bmatrix} y\\\\ \\sqrt{\\mu}g\\end{bmatrix}\\right\\|^2 \\\\\n",
        "&=\\left\\|\\bar{A}x-\\bar{y}\\right\\|^2\n",
        "\\end{align*}$$\n",
        "\n",
        "Assume $\\bar{A}$ is `full rank`, we have least squares solution\n",
        "\n",
        "$$\\begin{align*}x_{ls}&=(\\bar{A}^T\\bar{A})^{-1}\\bar{A}^T\\bar{y} \\\\\n",
        "&=\\boxed{(A^TA+\\mu F^TF)^{-1}(A^Ty+\\mu F^Tg)}\n",
        "\\end{align*}$$"
      ],
      "metadata": {
        "id": "i2eTCdMzCXyc"
      }
    },
    {
      "cell_type": "markdown",
      "source": [
        "#### More `generally`"
      ],
      "metadata": {
        "id": "zzHm9fmlhgCX"
      }
    },
    {
      "cell_type": "markdown",
      "source": [
        "If the total objective is\n",
        "\n",
        "$$\\lambda_1\\|A_1x-y_1\\|^2+\\lambda_2\\|A_2x-y_2\\|^2+\\cdots+\\lambda_k\\|A_kx-y_k\\|^2$$\n",
        "\n",
        "Then, least squares solution is\n",
        "\n",
        "$$x_{ls}=\\boxed{(\\lambda_1A_1^TA_1+\\lambda_2A_2^TA_2+\\cdots +\\lambda_kA_k^TA_k)^{-1}(\\lambda_1A_1^Ty_1+\\lambda_2A_2^Ty_2+\\cdots +\\lambda_kA_k^Ty_k)}$$"
      ],
      "metadata": {
        "id": "rYwQ0aG5hi2X"
      }
    },
    {
      "cell_type": "markdown",
      "source": [
        "#### `Tychonov` regularization"
      ],
      "metadata": {
        "id": "FX5lYl2P3p5e"
      }
    },
    {
      "cell_type": "markdown",
      "source": [
        "A special case where the objective is\n",
        "\n",
        "$$\\|Ax-y\\|^2+\\mu \\|x\\|^2$$\n",
        "\n",
        "and\n",
        "\n",
        "$$x_{ls}=(A^TA+\\mu I)^{-1}A^Ty$$\n",
        "\n",
        "As the $\\mu I \\, (\\mu>0)$ term guarantees that $(A^TA+\\mu I)$ is invertible, this works for any $A$ (fat or tall)"
      ],
      "metadata": {
        "id": "zRGOeT0N3twK"
      }
    },
    {
      "cell_type": "markdown",
      "source": [
        "We can `check`\n",
        "\n",
        "If $(A^TA+\\mu I)$ is `singular`\n",
        "\n",
        "Then there is some vector $z\\neq 0$ such that $(A^TA+\\mu I)z=0$\n",
        "\n",
        "Then, we can left multiply by $z^T$\n",
        "$$\\begin{align*}\n",
        "z^T(A^TA+\\mu I)z&=z^TA^TAz+\\mu z^Tz \\\\\n",
        "&=\\|Az\\|^2 +\\mu \\|z\\|^2\\\\\n",
        "&=0\n",
        "\\end{align*}$$\n",
        "\n",
        "Since $\\mu>0$, we will get $z=0$\n",
        "\n",
        "Therefore, $(A^TA+\\mu I)$ must be invertible"
      ],
      "metadata": {
        "id": "XjxGVi7qkWoR"
      }
    },
    {
      "cell_type": "markdown",
      "source": [
        "The `other` way to look at it is when $F=I$ here, then\n",
        "\n",
        "$$\\begin{bmatrix}A\\\\ \\sqrt{\\mu}F\\end{bmatrix}$$\n",
        "\n",
        "is `tall and full rank` and\n",
        "\n",
        "$$\\begin{bmatrix}A\\\\ \\sqrt{\\mu}F\\end{bmatrix}^T\\begin{bmatrix}A\\\\ \\sqrt{\\mu}F\\end{bmatrix}$$\n",
        "\n",
        "is invertible"
      ],
      "metadata": {
        "id": "ecWlCjJBl1X3"
      }
    },
    {
      "cell_type": "code",
      "source": [],
      "metadata": {
        "id": "70jI466brXbY"
      },
      "execution_count": null,
      "outputs": []
    }
  ]
}