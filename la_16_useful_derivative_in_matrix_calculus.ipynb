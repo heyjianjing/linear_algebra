{
  "nbformat": 4,
  "nbformat_minor": 0,
  "metadata": {
    "colab": {
      "provenance": []
    },
    "kernelspec": {
      "name": "python3",
      "display_name": "Python 3"
    },
    "language_info": {
      "name": "python"
    }
  },
  "cells": [
    {
      "cell_type": "markdown",
      "source": [
        "For `vectors` $a$ and $x$, `matrix` $A$ and `symmetric matrix` $S$\n",
        "\n",
        "$$\\begin{align}\n",
        "\\frac{\\partial a^Tx}{\\partial x}&=a \\\\\n",
        "& \\\\\n",
        "\\frac{\\partial Ax}{\\partial x}&=A^T \\\\\n",
        "& \\\\\n",
        "\\frac{\\partial x^TSx}{\\partial x}&=2Sx\n",
        "\\end{align}$$"
      ],
      "metadata": {
        "id": "s9JRN0lOHziu"
      }
    },
    {
      "cell_type": "code",
      "source": [],
      "metadata": {
        "id": "64VKzPhM8fWC"
      },
      "execution_count": null,
      "outputs": []
    }
  ]
}