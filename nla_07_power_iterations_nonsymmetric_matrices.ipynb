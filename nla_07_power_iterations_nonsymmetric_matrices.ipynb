{
  "nbformat": 4,
  "nbformat_minor": 0,
  "metadata": {
    "colab": {
      "provenance": []
    },
    "kernelspec": {
      "name": "python3",
      "display_name": "Python 3"
    },
    "language_info": {
      "name": "python"
    }
  },
  "cells": [
    {
      "cell_type": "markdown",
      "source": [
        "#### Power iterations for symmetric matrices"
      ],
      "metadata": {
        "id": "RzSDlfgPUCzC"
      }
    },
    {
      "cell_type": "markdown",
      "source": [
        "So far we know that for `diagonalizable` $A\\in \\mathbf{R}^{n \\times n}$, the method of power iterations finds the dominant eigenvalue and corresponding eigenvector through the following\n",
        "\n",
        "* starting from $x^0$\n",
        "* compute $y^k=Ax^{k-1}$\n",
        "* get new $x^{k}$ by normalizing $y^k$ ($l_2$ norm, infinity norm, etc)\n",
        "$$x^{k}=\\frac{y^k}{\\|y^k\\|}$$\n",
        "\n",
        "For which $x^k\\rightarrow v_1$, and Rayleigh quotient $\\frac{(x^k)^TAx^k}{(x^k)^Tx^k}\\rightarrow \\lambda_1$"
      ],
      "metadata": {
        "id": "89Q1kQiiwtRv"
      }
    },
    {
      "cell_type": "markdown",
      "source": [
        "For `symmetric` matrices, we can also update using\n",
        "\n",
        "$$A\\leftarrow A - \\lambda_1 v_1 v_1^T$$\n",
        "\n",
        "and progressively find remaining eigenvalues and eigenvectors, due to the fact that symmetric matrices have orthonormal eigenvectors"
      ],
      "metadata": {
        "id": "KVhsBLDlxeh1"
      }
    },
    {
      "cell_type": "markdown",
      "source": [
        "#### General eigenvalues problems for nonsymmetric matrices"
      ],
      "metadata": {
        "id": "AzBv8X-1nJ-q"
      }
    },
    {
      "cell_type": "markdown",
      "source": [
        "If matrix $A$ is `nonsymmetric`, we know that we can choose right eigenvector $v$ and left eigenvector $u$ such that\n",
        "\n",
        "$$u_i^Tv_j = \\left\\{\\begin{array}{rcl}0 &i\\neq j \\\\1 &i=j \\end{array}\\right.$$\n",
        "\n",
        "Update to matrix $A$ after getting $\\lambda_1, v_1$ can be expressed as\n",
        "\n",
        "$$A\\leftarrow A - \\lambda_1 v_1 u_1^T$$\n",
        "\n",
        "Similarly, what we want is that the updated $A$ still has all remaining $\\lambda_i, v_i, i>1$ while making $v_1$ corresponding to a zero eigenvalue, and we can again verify both\n",
        "\n",
        "$$\\begin{align*}\n",
        "&(A - \\lambda_1 v_1 u_1^T)v_1 \\\\\n",
        "&=Av_1-\\lambda_1v_1(u_1^Tv_1)\\\\\n",
        "& u_1^Tv_1=1 \\\\\n",
        "&=Av_1-\\lambda_1v_1\\\\\n",
        "&=0\n",
        "\\end{align*}$$\n",
        "\n",
        "and\n",
        "\n",
        "$$\\begin{align*}\n",
        "&(A - \\lambda_1 v_1 u_1^T)v_i \\\\\n",
        "&=Av_i-\\lambda_1v_1(u_1^Tv_i)\\\\\n",
        "& u_i^Tv_1=0,\\forall i\\neq 1 \\\\\n",
        "&=Av_i\\\\\n",
        "&=\\lambda_iv_i\n",
        "\\end{align*}$$\n",
        "\n",
        "We see that such update of $A$ allows to preserve all remaining eigenvalues/eigenvectors of $A$, while adding a zero eigenvalue, which allows power iterations to correctly converge to remaining eigenvalues and eigenvectors"
      ],
      "metadata": {
        "id": "r9LsIzMpoESt"
      }
    },
    {
      "cell_type": "code",
      "source": [
        "import matplotlib.pyplot as plt\n",
        "import numpy as np\n",
        "np.set_printoptions(formatter={'float': '{: 0.4f}'.format})\n",
        "\n",
        "plt.style.use('dark_background')\n",
        "# color: https://matplotlib.org/stable/gallery/color/named_colors.htm"
      ],
      "metadata": {
        "id": "E7IXLxroydqP"
      },
      "execution_count": 55,
      "outputs": []
    },
    {
      "cell_type": "code",
      "source": [
        "def power_iteration_nonsymmetric(A, num_eigen, num_iter=5000, converge_tol=1e-10, eigen_tol=1e-10):\n",
        "    n = A.shape[0]\n",
        "    eigenvalues = []\n",
        "    right_eigenvectors = []\n",
        "    left_eigenvectors = []\n",
        "    A_current = A.copy()\n",
        "\n",
        "    for k in range(num_eigen):\n",
        "        v = np.random.rand(n)\n",
        "        v /= np.linalg.norm(v)\n",
        "        u = np.random.rand(n)\n",
        "        u /= np.linalg.norm(u)\n",
        "\n",
        "        for j in range(num_iter):\n",
        "            # Right eigenvector\n",
        "            y = A_current @ v\n",
        "            norm_y = np.linalg.norm(y)\n",
        "            if norm_y < eigen_tol:\n",
        "                print(f\"Norm of (#{k+1}) right eigenvector is too small, stopping iteration\")\n",
        "                break\n",
        "            v_next = y / norm_y\n",
        "\n",
        "            # Left eigenvector\n",
        "            z = A_current.T @ u\n",
        "            norm_z = np.linalg.norm(z)\n",
        "            if norm_z < eigen_tol:\n",
        "                print(f\"Norm of (#{k+1}) left eigenvector is too small, stopping iteration\")\n",
        "                break\n",
        "            u_next = z / norm_z\n",
        "\n",
        "            # Check convergence\n",
        "            if np.linalg.norm(v_next - v) < converge_tol and np.linalg.norm(u_next - u) < converge_tol:\n",
        "                break\n",
        "\n",
        "            v = v_next\n",
        "            u = u_next\n",
        "\n",
        "        if norm_y < eigen_tol or norm_z < eigen_tol:\n",
        "            continue\n",
        "\n",
        "        print(f'{j+1} iterations for eigenvalue #{k+1}')\n",
        "\n",
        "        # Normalize u and v such that u^Tv = 1\n",
        "        scaling = u @ v\n",
        "        if abs(scaling) < eigen_tol:\n",
        "            print(f\"Scaling factor u^Tv is too small, cannot normalize\")\n",
        "            continue\n",
        "        v = v / scaling\n",
        "\n",
        "        # Rayleigh quotient using right eigenvectors\n",
        "        eigenvalue = v @ (A_current @ v) / (v @ v)\n",
        "\n",
        "        if abs(eigenvalue) < eigen_tol:\n",
        "            print(f\"Eigenvalue {eigenvalue} is too small and is ignored\")\n",
        "            continue\n",
        "\n",
        "        eigenvalues.append(eigenvalue)\n",
        "        right_eigenvectors.append(v)\n",
        "        left_eigenvectors.append(u)\n",
        "\n",
        "        A_current = A_current - eigenvalue * np.outer(v, u)\n",
        "\n",
        "    if not eigenvalues:\n",
        "        print(\"No valid eigenvalues found.\")\n",
        "        return np.array([]), np.array([]), np.array([])\n",
        "\n",
        "    return np.array(eigenvalues), np.column_stack(right_eigenvectors), np.column_stack(left_eigenvectors)"
      ],
      "metadata": {
        "id": "ndRyYxIDoics"
      },
      "execution_count": 56,
      "outputs": []
    },
    {
      "cell_type": "code",
      "source": [
        "np.random.seed(1)\n",
        "\n",
        "A = np.random.rand(4, 4)\n",
        "\n",
        "# A = np.array([[8, 3],[2, 7]])\n",
        "k = A.shape[0]\n",
        "\n",
        "eigenvalues, right_eigenvectors, left_eigenvectors = power_iteration_nonsymmetric(A, k)\n",
        "\n",
        "# Normalize right eigenvectors and adjust left eigenvectors\n",
        "for i in range(right_eigenvectors.shape[1]):\n",
        "    v = right_eigenvectors[:, i]\n",
        "    u = left_eigenvectors[:, i]\n",
        "    norm_v = np.linalg.norm(v)\n",
        "    if norm_v < 1e-6:\n",
        "        print(f\"Norm of right eigenvector #{i+1} is too small, cannot normalize\")\n",
        "        continue\n",
        "    # To be consistent with NumPy\n",
        "    v_normalized = v / norm_v\n",
        "    # To ensure biorthogonality\n",
        "    u_adjusted = u * norm_v\n",
        "\n",
        "    right_eigenvectors[:, i] = v_normalized\n",
        "    left_eigenvectors[:, i] = u_adjusted\n",
        "\n",
        "    print(f\"u_{i+1}^T v_{i+1} = {v_normalized @ u_adjusted:.4f}\")\n",
        "\n",
        "print(\"\\nComputed eigenvalues\")\n",
        "for idx, eigenvalue in enumerate(eigenvalues, 1):\n",
        "    print(f\"# {idx}: {eigenvalue:.4f}\")\n",
        "\n",
        "print(\"\\nComputed right eigenvectors (columns)\")\n",
        "print(right_eigenvectors)\n",
        "\n",
        "print(\"\\nComputed left eigenvectors (columns)\")\n",
        "print(left_eigenvectors)\n",
        "\n",
        "# Compare with NumPy's outcomes\n",
        "eigenvalues_np, right_eigenvectors_np = np.linalg.eig(A)\n",
        "print(\"\\nEigenvalues from NumPy\")\n",
        "print(eigenvalues_np)\n",
        "\n",
        "print(\"\\nRight eigenvectors from NumPy\")\n",
        "print(right_eigenvectors_np)\n",
        "\n",
        "# Reconstruct A using left/right eigenvectors\n",
        "A_reconstructed = right_eigenvectors @ np.diag(eigenvalues) @ left_eigenvectors.T\n",
        "\n",
        "print(\"\\nA reconstructed\")\n",
        "print(A_reconstructed)\n",
        "\n",
        "print(\"\\nOriginal A\")\n",
        "print(A)\n",
        "\n",
        "# Check error\n",
        "reconstruction_error = np.linalg.norm(A - A_reconstructed)\n",
        "print(f\"\\nReconstruction error: {reconstruction_error}\")"
      ],
      "metadata": {
        "colab": {
          "base_uri": "https://localhost:8080/"
        },
        "id": "FKYUgZ6ZjzWY",
        "outputId": "86a3283a-9e50-4ec4-ce3f-abe96b310b47"
      },
      "execution_count": 57,
      "outputs": [
        {
          "output_type": "stream",
          "name": "stdout",
          "text": [
            "15 iterations for eigenvalue #1\n",
            "127 iterations for eigenvalue #2\n",
            "5000 iterations for eigenvalue #3\n",
            "2 iterations for eigenvalue #4\n",
            "u_1^T v_1 = 1.0000\n",
            "u_2^T v_2 = 1.0000\n",
            "u_3^T v_3 = 1.0000\n",
            "u_4^T v_4 = 1.0000\n",
            "\n",
            "Computed eigenvalues\n",
            "# 1: 1.3567\n",
            "# 2: 0.2564\n",
            "# 3: -0.2090\n",
            "# 4: 0.1949\n",
            "\n",
            "Computed right eigenvectors (columns)\n",
            "[[ 0.3880  0.4321  0.4665 -0.1869]\n",
            " [ 0.2900  0.1211 -0.6269  0.2021]\n",
            " [ 0.7073  0.7279 -0.3327  0.8976]\n",
            " [ 0.5149 -0.5184  0.5279 -0.3444]]\n",
            "\n",
            "Computed left eigenvectors (columns)\n",
            "[[ 0.4109  1.3407 -0.0065 -1.4135]\n",
            " [ 0.9057  0.2704 -1.6180 -1.5327]\n",
            " [ 0.2046 -0.1492  0.4678  1.2474]\n",
            " [ 0.8414 -0.9577  0.2735  0.2151]]\n",
            "\n",
            "Eigenvalues from NumPy\n",
            "[ 1.3567  0.2564  0.1949 -0.2090]\n",
            "\n",
            "Right eigenvectors from NumPy\n",
            "[[-0.3880 -0.4321  0.1869  0.4665]\n",
            " [-0.2900 -0.1211 -0.2021 -0.6269]\n",
            " [-0.7073 -0.7279 -0.8976 -0.3327]\n",
            " [-0.5149  0.5184  0.3444  0.5279]]\n",
            "\n",
            "A reconstructed\n",
            "[[ 0.4170  0.7203  0.0001  0.3023]\n",
            " [ 0.1468  0.0923  0.1863  0.3456]\n",
            " [ 0.3968  0.5388  0.4192  0.6852]\n",
            " [ 0.2045  0.8781  0.0274  0.6705]]\n",
            "\n",
            "Original A\n",
            "[[ 0.4170  0.7203  0.0001  0.3023]\n",
            " [ 0.1468  0.0923  0.1863  0.3456]\n",
            " [ 0.3968  0.5388  0.4192  0.6852]\n",
            " [ 0.2045  0.8781  0.0274  0.6705]]\n",
            "\n",
            "Reconstruction error: 3.9698381305143734e-11\n"
          ]
        }
      ]
    },
    {
      "cell_type": "code",
      "source": [],
      "metadata": {
        "id": "tkhwkmAR8Kar"
      },
      "execution_count": 57,
      "outputs": []
    }
  ]
}