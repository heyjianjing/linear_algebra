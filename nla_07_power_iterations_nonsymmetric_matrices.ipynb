{
  "nbformat": 4,
  "nbformat_minor": 0,
  "metadata": {
    "colab": {
      "provenance": []
    },
    "kernelspec": {
      "name": "python3",
      "display_name": "Python 3"
    },
    "language_info": {
      "name": "python"
    }
  },
  "cells": [
    {
      "cell_type": "markdown",
      "source": [
        "#### Power iterations for symmetric matrices"
      ],
      "metadata": {
        "id": "RzSDlfgPUCzC"
      }
    },
    {
      "cell_type": "markdown",
      "source": [
        "So far we know that for `diagonalizable` $A\\in \\mathbf{R}^{n \\times n}$, the method of power iterations finds the dominant eigenvalue and corresponding eigenvector through the following\n",
        "\n",
        "* starting from $x^0$\n",
        "* compute $y^k=Ax^{k-1}$\n",
        "* get new $x^{k}$ by normalizing $y^k$ ($l_2$ norm, infinity norm, etc)\n",
        "$$x^{k}=\\frac{y^k}{\\|y^k\\|}$$\n",
        "\n",
        "For which $x^k\\rightarrow v_1$, and Rayleigh quotient $\\frac{(x^k)^TAx^k}{(x^k)^Tx^k}\\rightarrow \\lambda_1$"
      ],
      "metadata": {
        "id": "89Q1kQiiwtRv"
      }
    },
    {
      "cell_type": "markdown",
      "source": [
        "For `symmetric` matrices, we can also update using\n",
        "\n",
        "$$A\\leftarrow A - \\lambda_1 v_1 v_1^T$$\n",
        "\n",
        "and progressively find remaining eigenvalues and eigenvectors, due to the fact that symmetric matrices have orthonormal eigenvectors"
      ],
      "metadata": {
        "id": "KVhsBLDlxeh1"
      }
    },
    {
      "cell_type": "markdown",
      "source": [
        "#### General eigenvalues problems for nonsymmetric matrices"
      ],
      "metadata": {
        "id": "AzBv8X-1nJ-q"
      }
    },
    {
      "cell_type": "markdown",
      "source": [
        "If matrix $A$ is `nonsymmetric`, we know that we can choose right eigenvector $v$ and left eigenvector $u$ such that\n",
        "\n",
        "$$u_i^Tv_j = \\left\\{\\begin{array}{rcl}0 &i\\neq j \\\\1 &i=j \\end{array}\\right.$$\n",
        "\n",
        "Update to matrix $A$ after getting $\\lambda_1, v_1$ can be expressed as\n",
        "\n",
        "$$A\\leftarrow A - \\lambda_1 v_1 u_1^T$$\n",
        "\n",
        "Similarly, what we want is that the updated $A$ still has all remaining $\\lambda_i, v_i, i>1$ while making $v_1$ corresponding to a zero eigenvalue, and we can again verify both\n",
        "\n",
        "$$\\begin{align*}\n",
        "&(A - \\lambda_1 v_1 u_1^T)v_1 \\\\\n",
        "&=Av_1-\\lambda_1v_1(u_1^Tv_1)\\\\\n",
        "& u_1^Tv_1=1 \\\\\n",
        "&=Av_1-\\lambda_1v_1\\\\\n",
        "&=0\n",
        "\\end{align*}$$\n",
        "\n",
        "and\n",
        "\n",
        "$$\\begin{align*}\n",
        "&(A - \\lambda_1 v_1 u_1^T)v_i \\\\\n",
        "&=Av_i-\\lambda_1v_1(u_1^Tv_i)\\\\\n",
        "& u_i^Tv_1=0,\\forall i\\neq 1 \\\\\n",
        "&=Av_i\\\\\n",
        "&=\\lambda_iv_i\n",
        "\\end{align*}$$\n",
        "\n",
        "We see that such update of $A$ allows to preserve all remaining eigenvalues/eigenvectors of $A$, while adding a zero eigenvalue, which allows power iterations to correctly converge to remaining eigenvalues and eigenvectors"
      ],
      "metadata": {
        "id": "r9LsIzMpoESt"
      }
    },
    {
      "cell_type": "code",
      "source": [
        "import matplotlib.pyplot as plt\n",
        "import numpy as np\n",
        "np.set_printoptions(formatter={'float': '{: 0.4f}'.format})\n",
        "\n",
        "plt.style.use('dark_background')\n",
        "# color: https://matplotlib.org/stable/gallery/color/named_colors.htm"
      ],
      "metadata": {
        "id": "E7IXLxroydqP"
      },
      "execution_count": 2,
      "outputs": []
    },
    {
      "cell_type": "code",
      "source": [
        "def power_iteration_nonsymmetric(A, num_eigen, num_iter=5000, converge_tol=1e-7, eigen_tol=1e-7):\n",
        "    n = A.shape[0]\n",
        "    eigenvalues = []\n",
        "    right_eigenvectors = []\n",
        "    left_eigenvectors = []\n",
        "    A_current = A.copy()\n",
        "\n",
        "    for k in range(num_eigen):\n",
        "        v = np.random.rand(n)\n",
        "        v /= np.linalg.norm(v)\n",
        "        u = np.random.rand(n)\n",
        "        u /= np.linalg.norm(u)\n",
        "\n",
        "        for j in range(num_iter):\n",
        "            # Right eigenvector\n",
        "            y = A_current @ v\n",
        "            norm_y = np.linalg.norm(y)\n",
        "            if norm_y < eigen_tol:\n",
        "                print(f\"Norm of (#{k+1}) right eigenvector is too small, stopping iteration\")\n",
        "                break\n",
        "            v_next = y / norm_y\n",
        "\n",
        "            # Left eigenvector\n",
        "            z = A_current.T @ u\n",
        "            norm_z = np.linalg.norm(z)\n",
        "            if norm_z < eigen_tol:\n",
        "                print(f\"Norm of (#{k+1}) left eigenvector is too small, stopping iteration\")\n",
        "                break\n",
        "            u_next = z / norm_z\n",
        "\n",
        "            # Check convergence\n",
        "            if np.linalg.norm(v_next - v) < converge_tol and np.linalg.norm(u_next - u) < converge_tol:\n",
        "                break\n",
        "\n",
        "            v = v_next\n",
        "            u = u_next\n",
        "\n",
        "        if norm_y < eigen_tol or norm_z < eigen_tol:\n",
        "            continue\n",
        "\n",
        "        print(f'{j+1} iterations for eigenvalue #{k+1}')\n",
        "\n",
        "        # Normalize u and v such that u^Tv = 1\n",
        "        scaling = u @ v\n",
        "        if abs(scaling) < eigen_tol:\n",
        "            print(f\"Scaling factor u^Tv is too small, cannot normalize\")\n",
        "            continue\n",
        "        v = v / scaling\n",
        "\n",
        "        # Rayleigh quotient using right eigenvectors\n",
        "        eigenvalue = v @ (A_current @ v) / (v @ v)\n",
        "\n",
        "        if abs(eigenvalue) < eigen_tol:\n",
        "            print(f\"Eigenvalue {eigenvalue} is too small and is ignored\")\n",
        "            continue\n",
        "\n",
        "        eigenvalues.append(eigenvalue)\n",
        "        right_eigenvectors.append(v)\n",
        "        left_eigenvectors.append(u)\n",
        "\n",
        "        A_current = A_current - eigenvalue * np.outer(v, u)\n",
        "\n",
        "    if not eigenvalues:\n",
        "        print(\"No valid eigenvalues found\")\n",
        "        return np.array([]), np.array([]), np.array([])\n",
        "\n",
        "    return np.array(eigenvalues), np.column_stack(right_eigenvectors), np.column_stack(left_eigenvectors)"
      ],
      "metadata": {
        "id": "ndRyYxIDoics"
      },
      "execution_count": 3,
      "outputs": []
    },
    {
      "cell_type": "code",
      "source": [
        "def diagonalizable_mat(n):\n",
        "    D = np.diag(np.concatenate((100*np.random.rand(n//2)-50,np.random.rand(n-n//2))))\n",
        "\n",
        "    Q, R = np.linalg.qr(np.random.rand(n, n))\n",
        "\n",
        "    return Q @ D @ Q.T"
      ],
      "metadata": {
        "id": "mKfr5LUr1E9H"
      },
      "execution_count": 8,
      "outputs": []
    },
    {
      "cell_type": "code",
      "source": [
        "np.random.seed(50)\n",
        "\n",
        "A_size = 8\n",
        "A = diagonalizable_mat(A_size)\n",
        "\n",
        "eigenvalues, right_eigenvectors, left_eigenvectors = power_iteration_nonsymmetric(A, A_size)\n",
        "\n",
        "# Normalize right eigenvectors and adjust left eigenvectors\n",
        "for i in range(right_eigenvectors.shape[1]):\n",
        "    v = right_eigenvectors[:, i]\n",
        "    u = left_eigenvectors[:, i]\n",
        "    norm_v = np.linalg.norm(v)\n",
        "    if norm_v < 1e-6:\n",
        "        print(f\"Norm of right eigenvector #{i+1} is too small, cannot normalize\")\n",
        "        continue\n",
        "    # To be consistent with NumPy\n",
        "    v_normalized = v / norm_v\n",
        "    # To ensure biorthogonality\n",
        "    u_adjusted = u * norm_v\n",
        "\n",
        "    right_eigenvectors[:, i] = v_normalized\n",
        "    left_eigenvectors[:, i] = u_adjusted\n",
        "\n",
        "    print(f\"u_{i+1}^T v_{i+1} = {v_normalized @ u_adjusted:.4f}\")\n",
        "\n",
        "print(\"\\nComputed eigenvalues\")\n",
        "for idx, eigenvalue in enumerate(eigenvalues, 1):\n",
        "    print(f\"# {idx}: {eigenvalue:.4f}\")\n",
        "\n",
        "print(\"\\nComputed right eigenvectors (columns)\")\n",
        "print(right_eigenvectors)\n",
        "\n",
        "print(\"\\nComputed left eigenvectors (columns)\")\n",
        "print(left_eigenvectors)\n",
        "\n",
        "# Compare with NumPy's outcomes\n",
        "eigenvalues_np, right_eigenvectors_np = np.linalg.eig(A)\n",
        "print(\"\\nEigenvalues from NumPy\")\n",
        "print(eigenvalues_np)\n",
        "\n",
        "print(\"\\nRight eigenvectors from NumPy\")\n",
        "print(right_eigenvectors_np)\n",
        "\n",
        "# Reconstruct A using left/right eigenvectors\n",
        "A_reconstructed = right_eigenvectors @ np.diag(eigenvalues) @ left_eigenvectors.T\n",
        "\n",
        "print(\"\\nA reconstructed\")\n",
        "print(A_reconstructed)\n",
        "\n",
        "print(\"\\nOriginal A\")\n",
        "print(A)\n",
        "\n",
        "# Check error\n",
        "reconstruction_error = np.linalg.norm(A - A_reconstructed)\n",
        "print(f\"\\nReconstruction error: {reconstruction_error}\")"
      ],
      "metadata": {
        "colab": {
          "base_uri": "https://localhost:8080/"
        },
        "id": "FKYUgZ6ZjzWY",
        "outputId": "bf8203d5-fb69-49f9-f362-23361249830a"
      },
      "execution_count": 9,
      "outputs": [
        {
          "output_type": "stream",
          "name": "stdout",
          "text": [
            "5000 iterations for eigenvalue #1\n",
            "5000 iterations for eigenvalue #2\n",
            "5000 iterations for eigenvalue #3\n",
            "64 iterations for eigenvalue #4\n",
            "54 iterations for eigenvalue #5\n",
            "5000 iterations for eigenvalue #6\n",
            "177 iterations for eigenvalue #7\n",
            "2 iterations for eigenvalue #8\n",
            "u_1^T v_1 = 1.0000\n",
            "u_2^T v_2 = 1.0000\n",
            "u_3^T v_3 = 1.0000\n",
            "u_4^T v_4 = 1.0000\n",
            "u_5^T v_5 = 1.0000\n",
            "u_6^T v_6 = 1.0000\n",
            "u_7^T v_7 = 1.0000\n",
            "u_8^T v_8 = 1.0000\n",
            "\n",
            "Computed eigenvalues\n",
            "# 1: -27.1917\n",
            "# 2: -24.4526\n",
            "# 3: -10.3670\n",
            "# 4: 0.9966\n",
            "# 5: 0.7719\n",
            "# 6: -0.5398\n",
            "# 7: 0.4082\n",
            "# 8: 0.3773\n",
            "\n",
            "Computed right eigenvectors (columns)\n",
            "[[-0.1711  0.1408 -0.2628  0.4991 -0.0037  0.3834 -0.4947 -0.4908]\n",
            " [ 0.6402  0.0234  0.0975  0.4049 -0.1363  0.1581  0.5427 -0.2794]\n",
            " [-0.3562 -0.2137 -0.5342  0.1100  0.3223  0.3369  0.5251  0.1923]\n",
            " [-0.0124 -0.8238  0.2541 -0.2019 -0.1882  0.3694 -0.0960 -0.1868]\n",
            " [ 0.4072 -0.0316 -0.1860  0.1561 -0.1714  0.3440 -0.3364  0.7164]\n",
            " [-0.1929  0.4300 -0.0150 -0.4074 -0.5950  0.4619  0.2033 -0.0552]\n",
            " [ 0.4792  0.0576 -0.4188 -0.5853  0.3633  0.1145 -0.1460 -0.2876]\n",
            " [-0.0349  0.2572  0.6011 -0.0339  0.5717  0.4830  0.0020  0.1005]]\n",
            "\n",
            "Computed left eigenvectors (columns)\n",
            "[[-0.1711  0.1408 -0.2628  0.4991 -0.0037  0.3834 -0.4947 -0.4908]\n",
            " [ 0.6402  0.0234  0.0975  0.4049 -0.1363  0.1581  0.5427 -0.2794]\n",
            " [-0.3562 -0.2137 -0.5342  0.1100  0.3223  0.3369  0.5251  0.1923]\n",
            " [-0.0124 -0.8238  0.2541 -0.2019 -0.1882  0.3694 -0.0960 -0.1868]\n",
            " [ 0.4072 -0.0316 -0.1860  0.1561 -0.1714  0.3440 -0.3364  0.7164]\n",
            " [-0.1929  0.4300 -0.0150 -0.4074 -0.5950  0.4619  0.2033 -0.0552]\n",
            " [ 0.4792  0.0576 -0.4188 -0.5853  0.3633  0.1145 -0.1460 -0.2876]\n",
            " [-0.0349  0.2572  0.6011 -0.0339  0.5717  0.4830  0.0020  0.1005]]\n",
            "\n",
            "Eigenvalues from NumPy\n",
            "[-27.1917 -24.4526 -10.3670 -0.5398  0.9966  0.3773  0.4082  0.7719]\n",
            "\n",
            "Right eigenvectors from NumPy\n",
            "[[ 0.1711  0.1408 -0.2628  0.3834 -0.4991 -0.4908  0.4947 -0.0037]\n",
            " [-0.6402  0.0234  0.0975  0.1581 -0.4049 -0.2794 -0.5427 -0.1363]\n",
            " [ 0.3562 -0.2137 -0.5342  0.3369 -0.1100  0.1923 -0.5251  0.3223]\n",
            " [ 0.0124 -0.8238  0.2541  0.3694  0.2019 -0.1868  0.0960 -0.1882]\n",
            " [-0.4072 -0.0316 -0.1860  0.3440 -0.1561  0.7164  0.3364 -0.1714]\n",
            " [ 0.1929  0.4300 -0.0150  0.4619  0.4074 -0.0552 -0.2033 -0.5950]\n",
            " [-0.4792  0.0576 -0.4188  0.1145  0.5853 -0.2876  0.1460  0.3633]\n",
            " [ 0.0349  0.2572  0.6011  0.4830  0.0339  0.1005 -0.0020  0.5717]]\n",
            "\n",
            "A reconstructed\n",
            "[[-1.6376  3.2752 -2.5344  3.3491  1.4392 -2.7464  0.6569  0.4521]\n",
            " [ 3.2752 -10.9423  6.9399  0.3348 -6.9814  3.0369 -8.2371 -0.2720]\n",
            " [-2.5344  6.9399 -7.3668 -3.1879  2.6407  0.0588  2.5759  4.3931]\n",
            " [ 3.3491  0.3348 -3.1879 -17.2554 -0.1220  8.7078  2.4935  3.4065]\n",
            " [ 1.4392 -6.9814  2.6407 -0.1220 -4.6694  2.3262 -6.2870  1.6006]\n",
            " [-2.7464  3.0369  0.0588  8.7078  2.3262 -5.1935  1.8785 -3.1654]\n",
            " [ 0.6569 -8.2371  2.5759  2.4935 -6.2870  1.8785 -7.6666  2.8414]\n",
            " [ 0.4521 -0.2720  4.3931  3.4065  1.6006 -3.1654  2.8414 -5.2655]]\n",
            "\n",
            "Original A\n",
            "[[-1.6376  3.2752 -2.5344  3.3491  1.4392 -2.7464  0.6569  0.4521]\n",
            " [ 3.2752 -10.9423  6.9399  0.3348 -6.9814  3.0369 -8.2371 -0.2720]\n",
            " [-2.5344  6.9399 -7.3668 -3.1879  2.6407  0.0588  2.5759  4.3931]\n",
            " [ 3.3491  0.3348 -3.1879 -17.2554 -0.1220  8.7078  2.4935  3.4065]\n",
            " [ 1.4392 -6.9814  2.6407 -0.1220 -4.6694  2.3262 -6.2870  1.6006]\n",
            " [-2.7464  3.0369  0.0588  8.7078  2.3262 -5.1935  1.8785 -3.1654]\n",
            " [ 0.6569 -8.2371  2.5759  2.4935 -6.2870  1.8785 -7.6666  2.8414]\n",
            " [ 0.4521 -0.2720  4.3931  3.4065  1.6006 -3.1654  2.8414 -5.2655]]\n",
            "\n",
            "Reconstruction error: 9.440310175380737e-14\n"
          ]
        }
      ]
    },
    {
      "cell_type": "code",
      "source": [],
      "metadata": {
        "id": "tkhwkmAR8Kar"
      },
      "execution_count": 5,
      "outputs": []
    }
  ]
}