{
  "nbformat": 4,
  "nbformat_minor": 0,
  "metadata": {
    "colab": {
      "provenance": []
    },
    "kernelspec": {
      "name": "python3",
      "display_name": "Python 3"
    },
    "language_info": {
      "name": "python"
    }
  },
  "cells": [
    {
      "cell_type": "markdown",
      "source": [
        "#### Back to least squares with `general equality constraints`"
      ],
      "metadata": {
        "id": "s9JRN0lOHziu"
      }
    },
    {
      "cell_type": "markdown",
      "source": [
        "$$\\begin{align*}\n",
        "\\text{minimize} \\,\\,& \\frac{1}{2}\\|Ax-b\\|^2\\\\\n",
        "\\text{s.t.} \\,\\, & Cx=d\n",
        "\\end{align*}$$"
      ],
      "metadata": {
        "id": "LPIeN-tCB2ps"
      }
    },
    {
      "cell_type": "markdown",
      "source": [
        "Write out `Lagrangian`\n",
        "\n",
        "$$\\begin{align*}\n",
        "L(x, \\lambda)&=\\frac{1}{2}\\|Ax-b\\|^2+\\lambda^T(Cx-d) \\\\\n",
        "&= \\frac{1}{2}x^TA^TAx-b^TAx+\\frac{1}{2}b^Tb+\\lambda^TCx-\\lambda^Td\n",
        "\\end{align*}$$"
      ],
      "metadata": {
        "id": "h0BW2ZGmByH2"
      }
    },
    {
      "cell_type": "markdown",
      "source": [
        "Write out `optimality condition`, first\n",
        "\n",
        "$$\\nabla_xL=A^TAx-A^Tb+C^T\\lambda=0$$\n",
        "\n",
        "then\n",
        "\n",
        "$$\\nabla_{\\lambda}L=Cx-d=0$$\n",
        "\n",
        "or in `matrix form`\n",
        "\n",
        "$$\\begin{bmatrix}A^TA & C^T \\\\ C & 0\\end{bmatrix}\\begin{bmatrix}x \\\\ \\lambda\\end{bmatrix}=\\begin{bmatrix}A^Tb \\\\ d\\end{bmatrix}$$\n",
        "\n",
        "This is known as (Karush, Kuhn, Tucker) `KKT equations` for least squares with equality constraint\n",
        "\n",
        "We see if $C=0, d=0$, this becomes ordinary least squares\n"
      ],
      "metadata": {
        "id": "MV1TcoLfCSez"
      }
    },
    {
      "cell_type": "markdown",
      "source": [
        "#### `Invertibility` of KKT matrix"
      ],
      "metadata": {
        "id": "JyibRmW2EslS"
      }
    },
    {
      "cell_type": "markdown",
      "source": [
        "The matrix (known as KKT matrix)\n",
        "\n",
        "$$\\begin{bmatrix}A^TA & C^T \\\\ C & 0\\end{bmatrix}$$\n",
        "\n",
        "is invertible `if and only if`\n",
        "\n",
        "$C$ has linearly `independent rows` (i.e., $C$ is fat or square), and $\\begin{bmatrix}A\\\\C\\end{bmatrix}$ has linearly `independent columns`\n",
        "\n",
        "We can verify this `if and only if` condition"
      ],
      "metadata": {
        "id": "eotfGxMHVI_K"
      }
    },
    {
      "cell_type": "markdown",
      "source": [
        "(1) We want to show: KKT matrix is `not invertible` $\\Longrightarrow$ columns in $\\begin{bmatrix}A\\\\C\\end{bmatrix}$ are linearly `dependent` and rows in $C$ are linearly `dependent`"
      ],
      "metadata": {
        "id": "m70EdT7Bz08H"
      }
    },
    {
      "cell_type": "markdown",
      "source": [
        "Assume the KKT matrix is `not invertible`, then there exists nonzero $x$ and $\\lambda$ such that\n",
        "\n",
        "$$\\begin{bmatrix}A^TA & C^T \\\\ C & 0\\end{bmatrix}\\begin{bmatrix}x \\\\ \\lambda\\end{bmatrix}=0$$\n",
        "\n",
        "From top block equation, we have $$A^TAx+C^T\\lambda=0$$\n",
        "\n",
        "Multiply both side by $x^T$\n",
        "\n",
        "$$x^TA^TAx+x^TC^T\\lambda=\\|Ax\\|^2+x^TC^T\\lambda=0$$\n",
        "\n",
        "and from second block equation, we have\n",
        "\n",
        "$$\\boxed{Cx=0}$$\n",
        "\n",
        "After transpose\n",
        "\n",
        "$$x^TC^T=0 \\Longrightarrow x^TC^T\\lambda = 0$$\n",
        "\n",
        "Plug this into first block equation and we have\n",
        "\n",
        "$$\\|Ax\\|^2=0 \\Longrightarrow \\boxed{Ax=0}$$\n",
        "\n",
        "Back to second block equation, since $x \\neq 0$, we also have\n",
        "\n",
        "$$C^T\\lambda = 0$$"
      ],
      "metadata": {
        "id": "kG5F4UgHQWmm"
      }
    },
    {
      "cell_type": "markdown",
      "source": [
        "As a result, we have\n",
        "\n",
        "$$\\begin{bmatrix}A\\\\C\\end{bmatrix}x=0$$\n",
        "\n",
        "* $x\\neq0 \\Longrightarrow$ the columns in $\\begin{bmatrix}A\\\\C\\end{bmatrix}$ are linearly `dependent`\n",
        "\n",
        "* $\\lambda\\neq0 \\Longrightarrow$ the columns of $C^T$ or the `rows` of $C$ are linearly `dependent`\n",
        "\n",
        "Therefore, if columns in $\\begin{bmatrix}A\\\\C\\end{bmatrix}$ are linearly `independent` and rows in $C$ are linearly `independent,` then, the KKT matrix must be `invertible`"
      ],
      "metadata": {
        "id": "VBwwOBxrRzL4"
      }
    },
    {
      "cell_type": "markdown",
      "source": [
        "(2) We want to show: columns in $\\begin{bmatrix}A\\\\C\\end{bmatrix}$ are linearly `dependent` and rows in $C$ are linearly `dependent` $\\Longrightarrow$ KKT matrix is `not invertible`"
      ],
      "metadata": {
        "id": "ZXztNqXTzpXp"
      }
    },
    {
      "cell_type": "markdown",
      "source": [
        "Assume `rows` of $C$ or `columns` of $C^T$ are linearly `dependent`\n",
        "\n",
        "Then, there exits nonzero $\\lambda$ such that\n",
        "\n",
        "$$\\begin{bmatrix}A^TA & C^T \\\\ C & 0\\end{bmatrix}\\begin{bmatrix}0 \\\\ \\lambda\\end{bmatrix}=0$$\n",
        "\n",
        "Therefore, $\\begin{bmatrix}A^TA & C^T \\\\ C & 0\\end{bmatrix}$ is `not` invertible"
      ],
      "metadata": {
        "id": "xEota0tlTqhm"
      }
    },
    {
      "cell_type": "markdown",
      "source": [
        "Now, assume columns of $\\begin{bmatrix}A\\\\C\\end{bmatrix}$ are linearly `dependent`, then there exists nonzero $x$ such that\n",
        "\n",
        "$$\\begin{bmatrix}A\\\\C\\end{bmatrix}x=0$$\n",
        "\n",
        "We can rewrite this thing as\n",
        "\n",
        "$$\\begin{bmatrix}A^TA & C^T \\\\ C & 0\\end{bmatrix}\\begin{bmatrix}x \\\\ 0\\end{bmatrix}=0$$\n",
        "\n",
        "This indicates that the KKT matrix is `not` invertible"
      ],
      "metadata": {
        "id": "s-McRI3gUNEb"
      }
    },
    {
      "cell_type": "markdown",
      "source": [
        "Therefore, if KKT matrix is `invertible`, then, columns in $\\begin{bmatrix}A\\\\C\\end{bmatrix}$ must be linearly `independent` and rows in $C$ must be linearly `independent`"
      ],
      "metadata": {
        "id": "aW9icOCFUs0-"
      }
    },
    {
      "cell_type": "code",
      "source": [],
      "metadata": {
        "id": "kjiE_A9WBe-l"
      },
      "execution_count": null,
      "outputs": []
    }
  ]
}