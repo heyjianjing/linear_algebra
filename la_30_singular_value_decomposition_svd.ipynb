{
  "nbformat": 4,
  "nbformat_minor": 0,
  "metadata": {
    "colab": {
      "provenance": []
    },
    "kernelspec": {
      "name": "python3",
      "display_name": "Python 3"
    },
    "language_info": {
      "name": "python"
    },
    "gpuClass": "standard"
  },
  "cells": [
    {
      "cell_type": "markdown",
      "source": [
        "#### A more complete picture of gain of a matrix"
      ],
      "metadata": {
        "id": "CfWMiHIGCqu8"
      }
    },
    {
      "cell_type": "markdown",
      "source": [
        "Let $A\\in \\mathbf{R}^{m \\times n}$ (tall, square or fat), its `singular value decomposition` is given by\n",
        "\n",
        "$$A=U\\Sigma V^T=\\sum_{i=1}^r\\sigma_i u_i v_i^T$$\n",
        "\n",
        "where\n",
        "* $A\\in \\mathbf{R}^{m \\times n}$, $\\text{rank}(A)=r$\n",
        "* $U\\in \\mathbf{R}^{m \\times r}$, $U^TU=I$\n",
        "* $V\\in \\mathbf{R}^{n \\times r}$, $V^TV=I$\n",
        "* $\\Sigma =\\text{diag}(\\sigma_1, \\cdots, \\sigma_r)$, $\\sigma_1 \\geq\\cdots\\geq \\sigma_r > 0$\n",
        "* $\\sigma_1, \\cdots, \\sigma_r$ are `nonzero` singular values of $A$\n",
        "* $v_i\\in \\mathbf{R}^n$ are `right singular vectors` of $A$\n",
        "* $u_i\\in \\mathbf{R}^m$ are `left singular vectors` of $A$"
      ],
      "metadata": {
        "id": "zIzK1MImE5hV"
      }
    },
    {
      "cell_type": "markdown",
      "source": [
        "#### Singular vectors"
      ],
      "metadata": {
        "id": "XnGph7Pbh8zl"
      }
    },
    {
      "cell_type": "markdown",
      "source": [
        "We can write\n",
        "\n",
        "$$A^TA=(U\\Sigma V^T)^T(U\\Sigma V^T)=V\\Sigma^2V^T$$\n",
        "\n",
        "Therefore\n",
        "* $v_i\\in \\mathbf{R}^n$ are eigenvectors of symmetric $A^TA$ (corresponding to `nonzero` eigenvalues), and `orthonormal basis` for $R(A^T)$\n",
        "* $\\sigma_i=\\sqrt{\\lambda_i(A^TA)}$ are `square root` of nonzero eigenvalues of $A^TA$\n",
        "* recall\n",
        "$$\\max\\frac{\\|Ax\\|^2}{\\|x\\|^2}=\\max\\frac{x^T(A^TA)x}{\\|x\\|^2}=\\boxed{\\lambda_{\\max} \\,(A^TA)}$$\n",
        "\n",
        "* this basically says that $v_1$ is the input direction with `largest gain`\n",
        "* `largest gain` or `matrix norm` of $A$ is $\\boxed{\\|A\\|=\\sigma_1}$"
      ],
      "metadata": {
        "id": "t_LVO-FFh-hK"
      }
    },
    {
      "cell_type": "markdown",
      "source": [
        "Similarly\n",
        "\n",
        "$$AA^T=(U\\Sigma V^T)(U\\Sigma V^T)^T=U\\Sigma^2U^T$$\n",
        "\n",
        "Therefore\n",
        "* $u_i\\in \\mathbf{R}^m$ are eigenvectors of symmetric $AA^T$ (corresponding to `nonzero` eigenvalues), and `orthonormal basis` for $R(A)$\n",
        "* $\\sigma_i=\\sqrt{\\lambda_i(AA^T)}$ are square root of nonzero eigenvalues of $AA^T$"
      ],
      "metadata": {
        "id": "rh5jknIyisIM"
      }
    },
    {
      "cell_type": "markdown",
      "source": [
        "#### Sensitiveness"
      ],
      "metadata": {
        "id": "C-wsAeBsklnR"
      }
    },
    {
      "cell_type": "markdown",
      "source": [
        "$$Ax=\\sum_{i=1}^r\\sigma_i u_i v_i^Tx$$\n",
        "\n",
        "* apparently, $v_1$ is the `most sensitive` (highest gain) input direction as mentioned earlier based on\n",
        "\n",
        "$$A^TA=(U\\Sigma V^T)^T(U\\Sigma V^T)=V\\Sigma^2V^T$$\n",
        "\n",
        "* we can also think the other way. This is because for $Ax=U\\Sigma V^Tx$, we only need to make $\\|\\Sigma V^Tx\\|$ as large as possible, as $U$ `won't affect norm` afterwards, so we want $\\boxed{V^Tx=e_1 \\Longrightarrow x=v_1}$\n",
        "\n",
        "* or we can expand $\\|\\Sigma V^Tx\\|^2=x^TV\\Sigma^2V^Tx=x^TA^TAx\\leq \\lambda_{\\max}\\,(A^TA)\\|x\\|^2$. As a result, the largest $\\|\\Sigma V^Tx\\|$ is when it equals $\\boxed{\\sigma_{\\max}}=\\sqrt{\\lambda_{\\max}\\,(A^TA)}$ , so we need $x=v_1$\n",
        "* $u_1$ is the highest gain output direction\n",
        "\n",
        "$$\\boxed{Av_i=\\sum_{j=1}^r\\sigma_j u_j v_j^Tv_i=\\sigma_iu_i}$$\n",
        "\n",
        "$$AV=A\\begin{bmatrix}v_1 & \\cdots & v_r\\end{bmatrix}=U\\Sigma =\\begin{bmatrix}u_1 & \\cdots & u_r\\end{bmatrix}\\begin{bmatrix}\\sigma_1 &  & \\\\  & \\ddots & \\\\  &  & \\sigma_r \\end{bmatrix}$$"
      ],
      "metadata": {
        "id": "tI72oyCVkrZy"
      }
    },
    {
      "cell_type": "markdown",
      "source": [
        "#### Interpretation of matrix-vector multiplication"
      ],
      "metadata": {
        "id": "Kh1VfbeRyE6I"
      }
    },
    {
      "cell_type": "markdown",
      "source": [
        "In short, $Ax$ from perspective of `SVD`\n",
        "\n",
        "* `resolve` $x$ into directions of `right singular vector` $v_i$ with coefficient $(v_i^Tx)$\n",
        "* `scale` coefficients by $\\sigma_i$\n",
        "$$\\sigma_i(v_i^Tx)$$\n",
        "* `reconstruct` along directions of `left singular vector` $u_i$ $$\\sum_{i=1}^r\\sigma_iu_i(v_i^Tx)$$"
      ],
      "metadata": {
        "id": "FOPtdZGPl94W"
      }
    },
    {
      "cell_type": "markdown",
      "source": [
        "##### Compare to eigendecomposition of symmetric matrix"
      ],
      "metadata": {
        "id": "kXRIXn0FnXPM"
      }
    },
    {
      "cell_type": "markdown",
      "source": [
        "$q_i$ are `BOTH left and right eigenvectors` of $A$\n",
        "\n",
        "$$\\boxed{Ax=Q\\Lambda Q^Tx=\\sum_{i=1}^n\\lambda_i q_i q_i^Tx}$$"
      ],
      "metadata": {
        "id": "zojrWzGinazH"
      }
    },
    {
      "cell_type": "markdown",
      "source": [
        "$Ax$ then\n",
        "\n",
        "* `resolve` $x$ into directions of `eigenvector` $q_i$  with coefficient $(q_i^Tx)$\n",
        "* `scale` coefficient by $\\lambda_i$  $$\\lambda_i(q_i^Tx)$$\n",
        "* `reconstruct` using scaled coefficient in directions of `eigenvector` $q_i$\n",
        "$$\\sum_{i=1}^n\\lambda_iq_i(q_i^Tx)$$"
      ],
      "metadata": {
        "id": "vAjYDD9ongGV"
      }
    },
    {
      "cell_type": "code",
      "source": [],
      "metadata": {
        "id": "R50YjyTxhKYS"
      },
      "execution_count": null,
      "outputs": []
    }
  ]
}