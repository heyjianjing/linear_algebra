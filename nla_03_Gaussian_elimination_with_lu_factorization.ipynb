{
  "nbformat": 4,
  "nbformat_minor": 0,
  "metadata": {
    "colab": {
      "provenance": []
    },
    "kernelspec": {
      "name": "python3",
      "display_name": "Python 3"
    },
    "language_info": {
      "name": "python"
    }
  },
  "cells": [
    {
      "cell_type": "markdown",
      "source": [
        "#### LU factorization"
      ],
      "metadata": {
        "id": "RzSDlfgPUCzC"
      }
    },
    {
      "cell_type": "markdown",
      "source": [
        "Gaussian elimination is the simplest way to solve linear systems of equations, which transforms a full linear system into an upper-triangular one by applying simple linear transformations over `rows`\n",
        "\n",
        "Unlike Householder, transformations applied in Gaussian elimination are `not orthogonal`\n",
        "\n",
        "This procedure can be illustrated using a matrix $A\\in \\mathbf{R}^{4 \\times 4}$ where `x` indicates entries that are not necessarily zero\n",
        "\n",
        "At each iteration, multiples of the current row is `subtracted` from subsequent rows, such that zeros are introduced below the diagonal sequentially\n",
        "\n",
        "$$A:\\begin{bmatrix} \\times & \\times & \\times & \\times\\\\\\times & \\times & \\times& \\times\\\\\\times & \\times & \\times& \\times\\\\\\times & \\times & \\times& \\times\\end{bmatrix} \\rightarrow L_1A\\rightarrow \\begin{bmatrix} \\times & \\times & \\times & \\times\\\\ 0& \\times & \\times& \\times\\\\ 0 & \\times & \\times& \\times\\\\ 0 & \\times & \\times& \\times\\end{bmatrix}\\rightarrow L_2L_1A\\rightarrow\\begin{bmatrix} \\times & \\times & \\times & \\times\\\\ 0& \\times & \\times& \\times\\\\ 0 & 0 & \\times& \\times\\\\ 0 & 0 & \\times& \\times\\end{bmatrix}\\rightarrow L_3L_2L_1A\\rightarrow U: \\begin{bmatrix} \\times & \\times & \\times & \\times\\\\ 0& \\times & \\times& \\times\\\\ 0 & 0 & \\times& \\times\\\\ 0 & 0 & 0& \\times\\end{bmatrix}$$\n",
        "\n",
        "where $L_i\\in \\mathbf{R}^{4 \\times 4}, i=1, 2, 3$"
      ],
      "metadata": {
        "id": "89Q1kQiiwtRv"
      }
    },
    {
      "cell_type": "markdown",
      "source": [
        "For example, if\n",
        "\n",
        "$$A=\\begin{bmatrix}2 & 1 & 1 & 0 \\\\ 4 & 3 & 3 & 1 \\\\ 8 & 7 & 9 & 5 \\\\ 6 & 7 & 9 & 8\\end{bmatrix}$$\n",
        "\n",
        "then, as first iteration\n",
        "\n",
        "$$L_1A = \\begin{bmatrix}1 & 0 & 0 & 0 \\\\ -2 & 1 & 0 & 0 \\\\ -4 & 0 & 1 & 0 \\\\ -3 & 0 & 0 & 1\\end{bmatrix}\\begin{bmatrix}2 & 1 & 1 & 0 \\\\ 4 & 3 & 3 & 1 \\\\ 8 & 7 & 9 & 5 \\\\ 6 & 7 & 9 & 8\\end{bmatrix} = \\begin{bmatrix}2 & 1 & 1 & 0 \\\\ 0 & 1 & 1 & 1 \\\\ 0 & 3 & 5 & 5 \\\\ 0 & 4 & 6 & 8\\end{bmatrix}$$\n",
        "\n",
        "That is, we multiply first row by 2, and subtract it from second row, multiply first row by 4 and subtract it from third row, and multiply first row by 3, and subtract it from fourth row"
      ],
      "metadata": {
        "id": "wTp12b-PdE7_"
      }
    },
    {
      "cell_type": "markdown",
      "source": [
        "#### Pivoting"
      ],
      "metadata": {
        "id": "WRJxWklc34PW"
      }
    },
    {
      "cell_type": "markdown",
      "source": [
        "At each `kth` iteration, we see that basically we are free to choose any entry in the submatrix $A_{k:m,k:m}$ and turn other entries in $A_{k:m,k}$ into zero, as long as we don't forget to `permute` the columns and rows before elimination to keep the output in correct shape\n",
        "\n",
        "For example, in `2nd` iteration as follows, we can first swap the 2nd and 4th row and then do the elimination\n",
        "\n",
        "$$ L_1A: \\begin{bmatrix} \\times & \\times & \\times & \\times\\\\ 0& \\times & \\times& \\times\\\\ 0 & \\times & \\times& \\times\\\\ 0 & \\color{orange}{\\times} & \\color{red}{\\times}& \\color{red}{\\times}\\end{bmatrix}\\rightarrow P_2L_1A \\begin{bmatrix} \\times & \\times & \\times & \\times\\\\ 0& \\color{orange}{\\times} & \\color{red}{\\times}& \\color{red}{\\times}\\\\ 0 & \\times & \\times& \\times\\\\ 0 & \\times & \\times& \\times\\end{bmatrix} \\rightarrow L_2P_2L_1A\\rightarrow\\begin{bmatrix} \\times & \\times & \\times & \\times\\\\ 0 & \\color{orange}{\\times} & \\color{red}{\\times}& \\color{red}{\\times}\\\\ 0 & 0 & \\times& \\times\\\\ 0 & 0 & \\times& \\times\\end{bmatrix}$$\n",
        "\n",
        "and the permutation matrix $P_2$ is\n",
        "\n",
        "$$P_2=\\begin{bmatrix} 1 & 0 &0 & 0\\\\ 0 & 0 & 0 & 1 \\\\ 0 & 0 & 1 & 0 \\\\ 0 & 1 & 0 & 0\\end{bmatrix}$$\n",
        "\n",
        "For numerical reasons, it is prefered to choose the largest entry in absolute value in submatrix $A_{k:m,k:m}$ to serve as the leading element in the diagnoal for the row in concern. However, looking through all entries in $A_{k:m,k:m}$ can be time consuming if the matrix is large. Therefore, often we only swap the `rows` by left multiplying $P$, rather than columns, by examining the elements in $A_{k:m,k}$\n",
        "\n",
        "The leading element in the selected row is called `pivot` (the orange $\\times$ in the illustration)\n",
        "\n",
        "If no row swap is needed, then $P$ is the identity matrix"
      ],
      "metadata": {
        "id": "UN3W0kE44DBT"
      }
    },
    {
      "cell_type": "markdown",
      "source": [
        "#### Put everything together"
      ],
      "metadata": {
        "id": "4j5L6Zdub005"
      }
    },
    {
      "cell_type": "markdown",
      "source": [
        "We now can write out the Gaussian elimination procedure through LU factorization\n",
        "\n",
        "$$L_3P_3L_2P_2L_1P_1A=U$$\n",
        "\n",
        "and we can rewrite it as\n",
        "\n",
        "$$L_3'L_2'L_1'P_3P_2P_1=L_3(P_3L_2P_3^{-1})(P_3P_2L_1P_2^{-1}P_3^{-1})P_3P_2P_1A=L_3P_3L_2P_2L_1P_1A=U$$\n",
        "\n",
        "In general, for $A\\in\\mathbf{R}^{m\\times m}$, we have\n",
        "\n",
        "$$(L_{m-1}'\\cdots L_2'L_1')(P_{m-1}\\cdots P_2P_1)A=U$$\n",
        "\n",
        "where\n",
        "\n",
        "$$L_k'=P_{m-1}\\cdots P_{k+1}L_kP_{k+1}^{-1}\\cdots P_{m-1}^{-1}$$\n",
        "\n",
        "and $L_k'$ is $L_k$ but with `subdiagonal entries permuted`\n",
        "\n",
        "This follows from that, first, when a square permutation matrix involves only swapping two rows, its inverse is the matrix itself\n",
        "\n",
        "Therefore, $P_i=P_i^{-1}$, and by sandwiching $L_k$ between $P_{k+1}$ and $P_{k+1}^{-1}$, what $P_{k+1}L_kP_{k+1}^{-1}$ does to $L_k$ is simply swapping two columns and the corresponding two rows\n",
        "\n",
        "However, since $P_{k+1}$ can only work on `(k+1)th` and lower rows of $L_k$, and $P_{k+1}^{-1}$ can only work on `(k+1)th` and righter columns of $L_k$, and by construction, $L_k$ still follows an identity matrix other than the first `k` columns, therefore, by swapping rows and columns for `(k+1)th` row and `(k+1)th` column onwards, the only effect would be permuting the subdiagonal entries for the first `k` columns of $L_k$"
      ],
      "metadata": {
        "id": "2plx3Pv9b2eM"
      }
    },
    {
      "cell_type": "markdown",
      "source": [
        "For illustration, consider the `2nd` iteration when $L_1$ is\n",
        "\n",
        "$$L_1=\\begin{bmatrix} 1 & 0 & 0 & 0 \\\\\n",
        "-2 & 1 & 0 & 0 \\\\ -4 & 0 & 1 & 0 \\\\ -3 & 0 & 0 & 1\\end{bmatrix}$$\n",
        "\n",
        "If we need to swap row 2, 4 using $P_2$, then\n",
        "\n",
        "$$P_2L_1P_2^{-1}=\\begin{bmatrix} 1 & 0 &0 & 0\\\\ 0 & 0 & 0 & 1 \\\\ 0 & 0 & 1 & 0 \\\\ 0 & 1 & 0 & 0\\end{bmatrix}\\begin{bmatrix} 1 & 0 & 0 & 0 \\\\\n",
        "-2 & 1 & 0 & 0 \\\\ -4 & 0 & 1 & 0 \\\\ -3 & 0 & 0 & 1\\end{bmatrix}\\begin{bmatrix} 1 & 0 &0 & 0\\\\ 0 & 0 & 0 & 1 \\\\ 0 & 0 & 1 & 0 \\\\ 0 & 1 & 0 & 0\\end{bmatrix}=\\begin{bmatrix} 1 & 0 & 0 & 0 \\\\\n",
        "-3 & 1 & 0 & 0 \\\\ -4 & 0 & 1 & 0 \\\\ -2 & 0 & 0 & 1\\end{bmatrix}$$\n",
        "\n",
        "and we can verify similarly for $P_3P_2L_1P_2^{-1}P_3^{-1}$"
      ],
      "metadata": {
        "id": "H9L089RD75UO"
      }
    },
    {
      "cell_type": "markdown",
      "source": [
        "#### Example"
      ],
      "metadata": {
        "id": "ncFPaeqU6GH6"
      }
    },
    {
      "cell_type": "code",
      "source": [
        "import matplotlib.pyplot as plt\n",
        "import numpy as np\n",
        "np.set_printoptions(formatter={'float': '{: 0.4f}'.format})\n",
        "\n",
        "plt.style.use('dark_background')\n",
        "# color: https://matplotlib.org/stable/gallery/color/named_colors.htm"
      ],
      "metadata": {
        "id": "E7IXLxroydqP"
      },
      "execution_count": 1,
      "outputs": []
    },
    {
      "cell_type": "code",
      "source": [
        "def lu_factorization(A):\n",
        "    m, n = A.shape\n",
        "    u_mat = A.copy().astype(float)\n",
        "    l_mat = np.identity(m)\n",
        "    p_mat = np.identity(m)\n",
        "\n",
        "    for k in range(m-1):\n",
        "        # Find pivot\n",
        "        pivot = np.argmax(np.abs(u_mat[k:, k])) + k\n",
        "\n",
        "        if pivot != k:\n",
        "            # Swap rows in u, p, and l\n",
        "            u_mat[[k, pivot], :] = u_mat[[pivot, k], :]\n",
        "            p_mat[[k, pivot], :] = p_mat[[pivot, k], :]\n",
        "            l_mat[[k, pivot], :k] = l_mat[[pivot, k], :k]\n",
        "\n",
        "        for j in range(k + 1, m):\n",
        "            l_mat[j, k] = u_mat[j, k] / u_mat[k, k]\n",
        "            # Subtract multiply of kth row from jth row\n",
        "            u_mat[j, k:] -= l_mat[j, k] * u_mat[k, k:]\n",
        "\n",
        "    return p_mat, l_mat, u_mat"
      ],
      "metadata": {
        "id": "Om2gyuwuqmU4"
      },
      "execution_count": 2,
      "outputs": []
    },
    {
      "cell_type": "code",
      "source": [
        "A = np.array([[2, 1, 1, 0], [4, 3, 3, 1], [8, 7, 9, 5], [6, 7, 9, 8]])\n",
        "\n",
        "p_mat, l_mat, u_mat = lu_factorization(A)\n",
        "\n",
        "print('P:\\n', p_mat)\n",
        "print('L:\\n', l_mat)\n",
        "print('U:\\n', u_mat)\n",
        "\n",
        "print('PA:\\n', p_mat @ A)\n",
        "print('LU:\\n', l_mat @ u_mat)"
      ],
      "metadata": {
        "colab": {
          "base_uri": "https://localhost:8080/"
        },
        "id": "r7hJ0x0u6KXR",
        "outputId": "665de2a1-a90e-4e56-ce0b-a2eed38430d8"
      },
      "execution_count": 3,
      "outputs": [
        {
          "output_type": "stream",
          "name": "stdout",
          "text": [
            "P:\n",
            " [[ 0.0000  0.0000  1.0000  0.0000]\n",
            " [ 0.0000  0.0000  0.0000  1.0000]\n",
            " [ 0.0000  1.0000  0.0000  0.0000]\n",
            " [ 1.0000  0.0000  0.0000  0.0000]]\n",
            "L:\n",
            " [[ 1.0000  0.0000  0.0000  0.0000]\n",
            " [ 0.7500  1.0000  0.0000  0.0000]\n",
            " [ 0.5000 -0.2857  1.0000  0.0000]\n",
            " [ 0.2500 -0.4286  0.3333  1.0000]]\n",
            "U:\n",
            " [[ 8.0000  7.0000  9.0000  5.0000]\n",
            " [ 0.0000  1.7500  2.2500  4.2500]\n",
            " [ 0.0000  0.0000 -0.8571 -0.2857]\n",
            " [ 0.0000  0.0000  0.0000  0.6667]]\n",
            "PA:\n",
            " [[ 8.0000  7.0000  9.0000  5.0000]\n",
            " [ 6.0000  7.0000  9.0000  8.0000]\n",
            " [ 4.0000  3.0000  3.0000  1.0000]\n",
            " [ 2.0000  1.0000  1.0000  0.0000]]\n",
            "LU:\n",
            " [[ 8.0000  7.0000  9.0000  5.0000]\n",
            " [ 6.0000  7.0000  9.0000  8.0000]\n",
            " [ 4.0000  3.0000  3.0000  1.0000]\n",
            " [ 2.0000  1.0000  1.0000  0.0000]]\n"
          ]
        }
      ]
    }
  ]
}