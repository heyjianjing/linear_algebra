{
  "nbformat": 4,
  "nbformat_minor": 0,
  "metadata": {
    "colab": {
      "provenance": []
    },
    "kernelspec": {
      "name": "python3",
      "display_name": "Python 3"
    },
    "language_info": {
      "name": "python"
    }
  },
  "cells": [
    {
      "cell_type": "markdown",
      "source": [
        "#### From ordinary power series"
      ],
      "metadata": {
        "id": "s9JRN0lOHziu"
      }
    },
    {
      "cell_type": "markdown",
      "source": [
        "$$e^a=1+a+\\frac{a^2}{2!}+\\cdots$$\n",
        "\n",
        "We define `matrix exponential` for $M\\in \\mathbf{R}^{n \\times n}$ as\n",
        "\n",
        "$$e^M=I+M+\\frac{M^2}{2!}+\\cdots$$"
      ],
      "metadata": {
        "id": "LPIeN-tCB2ps"
      }
    },
    {
      "cell_type": "markdown",
      "source": [
        "#### Certain properties do not hold (in general)"
      ],
      "metadata": {
        "id": "_nkBLq8LMYPT"
      }
    },
    {
      "cell_type": "markdown",
      "source": [
        "$$e^{A+B}\\neq e^Ae^B$$\n",
        "\n",
        "Unless $AB=BA$"
      ],
      "metadata": {
        "id": "e2cQySpBMivR"
      }
    },
    {
      "cell_type": "code",
      "source": [],
      "metadata": {
        "id": "HmogTCItMNRI"
      },
      "execution_count": null,
      "outputs": []
    }
  ]
}