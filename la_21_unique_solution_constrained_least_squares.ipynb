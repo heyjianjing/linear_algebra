{
  "nbformat": 4,
  "nbformat_minor": 0,
  "metadata": {
    "colab": {
      "provenance": []
    },
    "kernelspec": {
      "name": "python3",
      "display_name": "Python 3"
    },
    "language_info": {
      "name": "python"
    }
  },
  "cells": [
    {
      "cell_type": "markdown",
      "source": [
        "#### Solution via KKT matrix"
      ],
      "metadata": {
        "id": "s9JRN0lOHziu"
      }
    },
    {
      "cell_type": "markdown",
      "source": [
        "We want to solve\n",
        "\n",
        "$$\\begin{align*}\n",
        "\\text{minimize} \\,\\,& \\frac{1}{2}\\|Ax-b\\|^2\\\\\n",
        "\\text{s.t.} \\,\\, & Cx=d\n",
        "\\end{align*}$$"
      ],
      "metadata": {
        "id": "LPIeN-tCB2ps"
      }
    },
    {
      "cell_type": "markdown",
      "source": [
        "Through `Lagrange multipliers`, we have\n",
        "\n",
        "$$\\begin{bmatrix}A^TA & C^T \\\\ C & 0\\end{bmatrix}\\begin{bmatrix}x \\\\ \\lambda\\end{bmatrix}=\\begin{bmatrix}A^Tb \\\\ d\\end{bmatrix}$$\n",
        "\n",
        "known as `KKT equations` for least squares with equality constraints"
      ],
      "metadata": {
        "id": "MV1TcoLfCSez"
      }
    },
    {
      "cell_type": "markdown",
      "source": [
        "The KKT matrix\n",
        "\n",
        "$$\\begin{bmatrix}A^TA & C^T \\\\ C & 0\\end{bmatrix}$$\n",
        "\n",
        "is invertible `if and only if`\n",
        "\n",
        "$C$ has linearly independent `rows`, and $\\begin{bmatrix}A\\\\C\\end{bmatrix}$ has linearly independent `columns`"
      ],
      "metadata": {
        "id": "eotfGxMHVI_K"
      }
    },
    {
      "cell_type": "markdown",
      "source": [
        "#### `Verification` of solution when KKT matrix is invertible"
      ],
      "metadata": {
        "id": "ny2Xpq3aWjJE"
      }
    },
    {
      "cell_type": "markdown",
      "source": [
        "Let $x'$ and $\\lambda '$ be the solution obtained by `inverting` KKT matrix from the KKT equations, so\n",
        "\n",
        "$$A^TAx'+C^T\\lambda'=A^Tb,\\, Cx'=d$$\n",
        "\n",
        "We want to show that $x'$ is indeed the solution to the constrained least sqaures problem"
      ],
      "metadata": {
        "id": "OVxutN1KWvFZ"
      }
    },
    {
      "cell_type": "markdown",
      "source": [
        "Let $x$ be any other vector that satisfies the equality constraint $Cx=d$, we have\n",
        "\n",
        "$$\\begin{align*}\n",
        "\\|Ax-b\\|^2&=\\|(Ax-Ax')+(Ax'-b)\\|^2\\\\\n",
        "&=\\|Ax-Ax'\\|^2+\\|Ax'-b\\|^2+2(Ax-Ax')^T(Ax'-b)\\\\\n",
        "&=\\|Ax-Ax'\\|^2+\\|Ax'-b\\|^2+2(x-x')^TA^T(Ax'-b)\\\\\n",
        "& A^TAx'+C^T\\lambda'=A^Tb \\\\\n",
        "&=\\|Ax-Ax'\\|^2+\\|Ax'-b\\|^2-2(x-x')^TC^T\\lambda'\\\\\n",
        "&=\\|Ax-Ax'\\|^2+\\|Ax'-b\\|^2-2(C(x-x'))^T\\lambda'\\\\\n",
        "&=\\|Ax-Ax'\\|^2+\\|Ax'-b\\|^2\n",
        "\\end{align*}$$\n",
        "\n",
        "That is\n",
        "\n",
        "$$\\boxed{\\|Ax-b\\|^2\\geq\\|Ax'-b\\|^2}$$\n",
        "\n",
        "Therefore, $x'$ is the `minimizer` of $\\|Ax-b\\|^2$ among all $x$'s that satisfy the constraint $Cx=d$"
      ],
      "metadata": {
        "id": "7yOZua4oXLMv"
      }
    },
    {
      "cell_type": "markdown",
      "source": [
        "#### What about `uniqueness`?"
      ],
      "metadata": {
        "id": "x-7mFodidMum"
      }
    },
    {
      "cell_type": "markdown",
      "source": [
        "If there exists another $x$ such that\n",
        "\n",
        "$$\\boxed{\\|Ax-b\\|^2=\\|Ax'-b\\|^2}$$\n",
        "\n",
        "Then\n",
        "\n",
        "$$A(x-x')=0$$\n",
        "\n",
        "So we can write\n",
        "\n",
        "$$\\begin{bmatrix}A\\\\C\\end{bmatrix}(x-x')=0$$\n",
        "\n",
        "Since the columns in $\\begin{bmatrix}A\\\\C\\end{bmatrix}$ are `linearly independent` for the solution to exist, we have $x=x'$\n",
        "\n",
        "Therefore, the solution is unique"
      ],
      "metadata": {
        "id": "daBdawYwdPpk"
      }
    },
    {
      "cell_type": "code",
      "source": [],
      "metadata": {
        "id": "kjiE_A9WBe-l"
      },
      "execution_count": null,
      "outputs": []
    }
  ]
}