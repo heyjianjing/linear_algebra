{
  "nbformat": 4,
  "nbformat_minor": 0,
  "metadata": {
    "colab": {
      "provenance": []
    },
    "kernelspec": {
      "name": "python3",
      "display_name": "Python 3"
    },
    "language_info": {
      "name": "python"
    }
  },
  "cells": [
    {
      "cell_type": "markdown",
      "source": [
        "#### Inverse of square matrices"
      ],
      "metadata": {
        "id": "A4SBwbS0YGjA"
      }
    },
    {
      "cell_type": "markdown",
      "source": [
        "For a matrix $A\\in \\mathbf{R}^{n \\times n}$, $A$ is invertible is equivalent to\n",
        "\n",
        "* $\\det (A)\\neq0$\n",
        "* columns of $A$ are a basis for $\\mathbf{R}^n$ ($\\Longleftrightarrow$ left invertibility)\n",
        "* rows of $A$ are a basis for $\\mathbf{R}^n$ ($\\Longleftrightarrow$ right invertibility)\n",
        "* $A$ has unique solution for every $y \\in \\mathbf{R}^n$\n",
        "* $A$ has both left and right inverse $A^{-1}$\n",
        "* $N(A)=\\{0\\}$\n",
        "* $R(A)=\\mathbf{R}^n$"
      ],
      "metadata": {
        "id": "nidJ0w3oYKMk"
      }
    },
    {
      "cell_type": "markdown",
      "source": [
        "#### Left and right invertibility"
      ],
      "metadata": {
        "id": "WGUcz9nbqVmL"
      }
    },
    {
      "cell_type": "markdown",
      "source": [
        "When $A$ is left-invertible, then its `columns are independent`\n",
        "\n",
        "Therefore, a unit vector $e_i\\in \\mathbf{R}^n$ can be expressed as $e_i=Ab_i$ for some $b_i\\in \\mathbf{R}^n$\n",
        "\n",
        "With $e_1, \\cdots, e_n$, we can write\n",
        "\n",
        "$$I=\\begin{bmatrix}e_1 & e_2 & \\cdots & e_n\\end{bmatrix}=\\begin{bmatrix}Ab_i & Ab_2 & \\cdots & Ab_n\\end{bmatrix}=AB$$\n",
        "\n",
        "Therefore, $B$ is a `right inverse` of $A$"
      ],
      "metadata": {
        "id": "QxEJLQM6qoi6"
      }
    },
    {
      "cell_type": "markdown",
      "source": [
        "The reverse is also true\n",
        "\n",
        "Swap $A$ with $A^T$, we have that if $A$ is `right invertible` (independent `rows`), then from above that there is a right inverse of $A^T$ such that $A^TB=I$\n",
        "\n",
        "Take the transpose and we get $B^TA=I$, therefore, $A$ is `left invertible`"
      ],
      "metadata": {
        "id": "4PEP7gh7rWmz"
      }
    },
    {
      "cell_type": "markdown",
      "source": [
        "#### Left and right inverses are unique and equal"
      ],
      "metadata": {
        "id": "vKytKG-Nog8u"
      }
    },
    {
      "cell_type": "markdown",
      "source": [
        "Assume $AX=I$ (right inverse) and $YA=I$ (left inverse), then, we have\n",
        "\n",
        "$$X=(YA)X=Y(AX)=Y$$\n",
        "\n",
        "That is, any left inverse of $A$ equals to any right inverse of $A$\n",
        "\n",
        "For uniqueness, if we also have $A\\bar{X}=I$, then\n",
        "\n",
        "$$\\bar{X}=Y$$\n",
        "\n",
        "So right inverse is unique. Similarly, we can show left inverse is also unique"
      ],
      "metadata": {
        "id": "N3pA1inbon0c"
      }
    },
    {
      "cell_type": "markdown",
      "source": [
        "#### Dual basis interpretation"
      ],
      "metadata": {
        "id": "5LrFlFGW7TEW"
      }
    },
    {
      "cell_type": "markdown",
      "source": [
        "Let $a_i$ be `columns` of $A$, and $\\tilde{b_i}^T$ be `rows` of $B=A^{-1}$\n",
        "\n",
        "If we have $y=Ax$, then\n",
        "\n",
        "$$y=\\sum x_ia_i$$\n",
        "\n",
        "We also have $x=By$, then\n",
        "\n",
        "$$x_i=\\tilde{b_i}^Ty$$\n",
        "\n",
        "Plug this into the first equation, we have\n",
        "\n",
        "$$y=\\sum (\\tilde{b_i}^Ty)a_i$$"
      ],
      "metadata": {
        "id": "v0vx93gH7ZLD"
      }
    },
    {
      "cell_type": "markdown",
      "source": [
        "This indicates\n",
        "\n",
        "* $y$ is a linear combination of $a_i$\n",
        "* the `coefficients` are extracted by `rows` of $B=A^{-1}$ with $y$\n",
        "\n",
        "More generally, dot product of a vector $y$ with `rows` of an inverse matrix $A^{-1}$ gives the `coefficients` for the `expansion of that vector` in the `columns` of $A$\n",
        "\n",
        "$a_i$ (columns of $A$) and $\\tilde{b_i}^T$ (rows of $B=A^{-1}$) are called `dual basis`\n"
      ],
      "metadata": {
        "id": "GLooh0dl9Qnl"
      }
    },
    {
      "cell_type": "code",
      "source": [],
      "metadata": {
        "id": "25gUmmn9jXeS"
      },
      "execution_count": null,
      "outputs": []
    }
  ]
}