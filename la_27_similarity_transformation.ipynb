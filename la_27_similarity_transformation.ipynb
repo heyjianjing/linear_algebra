{
  "nbformat": 4,
  "nbformat_minor": 0,
  "metadata": {
    "colab": {
      "provenance": []
    },
    "kernelspec": {
      "name": "python3",
      "display_name": "Python 3"
    },
    "language_info": {
      "name": "python"
    },
    "gpuClass": "standard"
  },
  "cells": [
    {
      "cell_type": "markdown",
      "source": [
        "#### Similarity"
      ],
      "metadata": {
        "id": "CfWMiHIGCqu8"
      }
    },
    {
      "cell_type": "markdown",
      "source": [
        "Two matrices $A\\in \\mathbf{R}^{n \\times n}$ and $B\\in \\mathbf{R}^{n \\times n}$ are `similar` if there exists invertible matrix $T$ such that\n",
        "\n",
        "$$B=T^{-1}AT, A=TBT^{-1}$$\n",
        "\n",
        "Such transformation between $A$ and $B$ is known as similarity transformation"
      ],
      "metadata": {
        "id": "VOSUbfwEAS0s"
      }
    },
    {
      "cell_type": "markdown",
      "source": [
        "#### Matrix rank is preserved under similarity transformation"
      ],
      "metadata": {
        "id": "y2FTGBcDAzY8"
      }
    },
    {
      "cell_type": "markdown",
      "source": [
        "Previously, we have seen that `characteristic polynomial` is preserved under similarity transformation, and therefore so are\n",
        "\n",
        "* Eigenvalues\n",
        "* Determinant\n",
        "\n",
        "We show next that matrix rank is also preserved"
      ],
      "metadata": {
        "id": "M894NptdA4PL"
      }
    },
    {
      "cell_type": "markdown",
      "source": [
        "Since matrix multiplication can only `decrease or maintain` rank, we have the following two\n",
        "\n",
        "$$\\text{rank}(B)\\geq \\text{rank}\\left(TBT^{-1}\\right)=\\text{rank}(A)$$\n",
        "\n",
        "and\n",
        "\n",
        "$$\\text{rank}(A)\\geq \\text{rank}\\left(T^{-1}AT\\right)=\\text{rank}(B)$$\n",
        "\n",
        "Therefore, matrix rank is preserved under similarity transformation"
      ],
      "metadata": {
        "id": "PamkHja0EKmz"
      }
    },
    {
      "cell_type": "code",
      "source": [],
      "metadata": {
        "id": "e5DJ2byib5Cg"
      },
      "execution_count": null,
      "outputs": []
    }
  ]
}