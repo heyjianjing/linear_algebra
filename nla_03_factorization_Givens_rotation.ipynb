{
  "nbformat": 4,
  "nbformat_minor": 0,
  "metadata": {
    "colab": {
      "provenance": []
    },
    "kernelspec": {
      "name": "python3",
      "display_name": "Python 3"
    },
    "language_info": {
      "name": "python"
    }
  },
  "cells": [
    {
      "cell_type": "markdown",
      "source": [
        "#### Concept of Givens rotation"
      ],
      "metadata": {
        "id": "RzSDlfgPUCzC"
      }
    },
    {
      "cell_type": "markdown",
      "source": [
        "The idea of Givens rotation is to `individually` turn subdiagonal entries into zeros using a series of orthogonal matrices and thereby doing QR decomposition\n",
        "\n",
        "This procedure is illustrated using a matrix $A\\in \\mathbf{R}^{3 \\times 3}$ where `x` indicates entries that are not necessarily zero\n",
        "\n",
        "$$A:\\begin{bmatrix} \\times & \\times & \\times \\\\\\times & \\times & \\times\\\\\\times & \\times & \\times\\end{bmatrix} \\rightarrow G_1A\\rightarrow \\begin{bmatrix} \\times & \\times & \\times \\\\ 0& \\times & \\times\\\\ \\times & \\times & \\times\\end{bmatrix}\\rightarrow G_2G_1A\\rightarrow\\begin{bmatrix} \\times & \\times & \\times \\\\ 0& \\times & \\times\\\\ 0 & \\times & \\times\\end{bmatrix}\\rightarrow G_3G_2G_1A\\rightarrow \\begin{bmatrix} \\times & \\times & \\times \\\\ 0& \\times & \\times\\\\ 0 & 0 & \\times\\end{bmatrix}$$\n",
        "\n",
        "For a dense matrix of size $n$, the method of Givens rotation requires up to $\\frac{1}{2}n(n-1)$ transformations. However, when a matrix is sparse, the method can be more efficient than other QR methods"
      ],
      "metadata": {
        "id": "89Q1kQiiwtRv"
      }
    },
    {
      "cell_type": "markdown",
      "source": [
        "#### Structure of Givens rotation matrices"
      ],
      "metadata": {
        "id": "WRJxWklc34PW"
      }
    },
    {
      "cell_type": "markdown",
      "source": [
        "Each orthogonal matrix in Givens rotation would essentially be an identity matrix except for two rows and two columns\n",
        "\n",
        "$$G=\\begin{bmatrix}\n",
        "1 & & & & & & & & & & \\\\\n",
        "& \\ddots & & & & & & & & & \\\\\n",
        "& & 1 & & & & & & & & \\\\\n",
        "& & & c & & & & s & & & \\\\\n",
        "& & & & 1 & & & & & & \\\\\n",
        "& & & & & \\ddots & & & & & \\\\\n",
        "& & & & & & 1 & & & & \\\\\n",
        "& & & -s & & & & c & & & \\\\\n",
        "& & & & & & & & 1 & & \\\\\n",
        "& & & & & & & & & \\ddots & \\\\\n",
        "& & & & & & & & & & 1\n",
        "\\end{bmatrix}$$\n",
        "\n",
        "If $c^2+s^2=1$, we can verify that $G$ is orthogonal"
      ],
      "metadata": {
        "id": "UN3W0kE44DBT"
      }
    },
    {
      "cell_type": "markdown",
      "source": [
        "#### Sequential transformtion"
      ],
      "metadata": {
        "id": "uUb8Dwwh5LNH"
      }
    },
    {
      "cell_type": "markdown",
      "source": [
        "For a matrix of interest $A\\in \\mathbf{R}^{n \\times n}$, Givens rotation works column-wise and for each column the method starts from the highest non-zero subdiagonal entry\n",
        "\n",
        "For example, it starts from the first column in matrix $A$\n",
        "\n",
        "$$a_1=\\begin{bmatrix}a_{11} \\\\ a_{21} \\\\ a_{31} \\\\ \\vdots \\\\ a_{n1} \\end{bmatrix}\\rightarrow G_1a_1\\rightarrow \\begin{bmatrix}\\alpha \\\\ 0 \\\\ a_{31} \\\\ \\vdots \\\\ a_{n1} \\end{bmatrix}$$\n",
        "\n",
        "Since $G_1$ is orthogonal, the `norm` of $a_1$ before and after the transformation is preserved and we have $\\alpha = \\sqrt{a_{11}^2+a_{21}^2}$\n",
        "\n",
        "For this case, we know the rotation matrix should have the following form\n",
        "\n",
        "$$G_1=\\begin{bmatrix}c & s & & & \\\\ -s & c & & & \\\\ & & 1 & & \\\\\n",
        "& & & \\ddots & \\\\ & & & & 1\\end{bmatrix}$$\n",
        "\n",
        "and we can work out that\n",
        "\n",
        "$$c=\\frac{a_{11}}{\\alpha}, s=\\frac{a_{21}}{\\alpha}$$\n",
        "\n",
        "This process repeats for the remaining subdiagonal entries of the first column, before moving on to the subsequent columns until all are taken care of\n",
        "\n",
        "We can see that similar to Householder reflector, Givens rotation also does `full QR` by design (of the rotation matrix)"
      ],
      "metadata": {
        "id": "XcyszOYJ5Q9b"
      }
    },
    {
      "cell_type": "markdown",
      "source": [
        "#### Applicability"
      ],
      "metadata": {
        "id": "RjIL9a7Ckz77"
      }
    },
    {
      "cell_type": "markdown",
      "source": [
        "Givens rotation works with tall, square and fat matrices, and full rank and rank deficient matrices. $R$ may not be in strict upper staircase form in case the matrix is rank deficient."
      ],
      "metadata": {
        "id": "e9zXrAmjlB4O"
      }
    },
    {
      "cell_type": "markdown",
      "source": [
        "#### Example"
      ],
      "metadata": {
        "id": "ncFPaeqU6GH6"
      }
    },
    {
      "cell_type": "code",
      "source": [
        "import matplotlib.pyplot as plt\n",
        "import numpy as np\n",
        "np.set_printoptions(formatter={'float': '{: 0.4f}'.format})\n",
        "\n",
        "plt.style.use('dark_background')\n",
        "# color: https://matplotlib.org/stable/gallery/color/named_colors.htm"
      ],
      "metadata": {
        "id": "E7IXLxroydqP"
      },
      "execution_count": null,
      "outputs": []
    },
    {
      "cell_type": "code",
      "source": [
        "def givens_rotation(A):\n",
        "    m, n = A.shape\n",
        "    Q = np.identity(m)\n",
        "    for col in range(min(m, n)):\n",
        "        for row in range(col+1, m):\n",
        "            if A[row, col] != 0:\n",
        "                alpha = np.sqrt(A[col, col]**2 + A[row, col]**2)\n",
        "                c = A[col, col] / alpha\n",
        "                s = A[row, col] / alpha\n",
        "\n",
        "                G = np.identity(m)\n",
        "                G[row, col] = -s\n",
        "                G[col, row] = s\n",
        "                G[col, col] = c\n",
        "                G[row, row] = c\n",
        "\n",
        "                A = G @ A\n",
        "                Q = Q @ G.T\n",
        "\n",
        "    return Q, A"
      ],
      "metadata": {
        "id": "awRuLIy3KXnQ"
      },
      "execution_count": null,
      "outputs": []
    },
    {
      "cell_type": "code",
      "source": [
        "mat_list = [\n",
        "    'square_full', # 0\n",
        "    'square_low_rank', # 1\n",
        "    'tall_full', # 2\n",
        "    'tall_low_rank', # 3\n",
        "    'fat_full', # 4\n",
        "    'fat_low_rank', # 5\n",
        "    'ill-conditioned',  # 6\n",
        "    'identity'] # 7\n",
        "\n",
        "mat = mat_list[5]\n",
        "epsilon = 1e-8\n",
        "\n",
        "if mat == 'square_full':\n",
        "    A = np.array([[1.0, 2.0, 3.0, 4.0],\n",
        "                  [4.0, 1.0, 0.0, -1.0],\n",
        "                  [3.0, 5.0, -2.0, 1.0],\n",
        "                  [2.0, 0.0, 1.0, 2.0]])\n",
        "\n",
        "elif mat == 'square_low_rank':\n",
        "    A = np.array([[1.0, 2.0, 3.0, 3.0],\n",
        "                  [4.0, 1.0, 0.0, 0.0],\n",
        "                  [3.0, 5.0, -2.0, -2.0],\n",
        "                  [2.0, 0.0, 1.0, 1.0]])\n",
        "\n",
        "elif mat == 'tall_full':\n",
        "    A = np.array([[1.0, 2.0, 3.0],\n",
        "                  [4.0, 1.0, 0.0],\n",
        "                  [3.0, 5.0, -2.0],\n",
        "                  [2.0, 0.0, 1.0],\n",
        "                  [5.1, 5.2, 5.3]])\n",
        "\n",
        "elif mat == 'tall_low_rank':\n",
        "    A = np.array([[1.0, 1.0, 3.0],\n",
        "                  [4.0, 4.0, 0.0],\n",
        "                  [3.0, 3.0, -2.0],\n",
        "                  [2.0, 2.0, 1.0],\n",
        "                  [5.1, 5.1, 5.3]])\n",
        "\n",
        "elif mat == 'fat_full':\n",
        "    A = np.array([[1.0, 1.2, 1.7, 1.1, 5.7],\n",
        "                  [4.0, 4.3, 4.1, 2.2, 6.6],\n",
        "                  [3.0, 3.4, 3.9, 3.3, 5.2]])\n",
        "\n",
        "elif mat == 'fat_low_rank':\n",
        "    A = np.array([[1.0, 1.0, 1.0, 1.1, 5.7],\n",
        "                  [4.0, 4.0, 4.0, 2.2, 6.6],\n",
        "                  [3.0, 3.0, 3.0, 3.3, 5.2]])\n",
        "\n",
        "elif mat == 'ill-conditioned':\n",
        "    A = np.array([[1, 1, 1],\n",
        "                  [epsilon, 0, 0],\n",
        "                  [0, epsilon, 0],\n",
        "                  [0, 0, epsilon]])\n",
        "\n",
        "elif mat == 'identity':\n",
        "    A = np.identity(4)\n",
        "\n",
        "Q, R = np.linalg.qr(A)\n",
        "print(\"Q from NumPy:\\n\", Q)\n",
        "print(\"\\nR from NumPy:\\n\", R)\n",
        "\n",
        "Q, R = givens_rotation(A)\n",
        "\n",
        "print(\"\\nOrthonormal basis Q:\")\n",
        "print(Q)\n",
        "\n",
        "print(\"\\nUpper triangular matrix R:\")\n",
        "print(R)\n",
        "\n",
        "print(f\"\\nQ^TQ:\\n{np.dot(Q.T, Q)}\")\n",
        "print(f\"Norms: \\n{np.linalg.norm(Q, axis=0)}\")\n",
        "\n",
        "print(f\"\\nOriginal A:\\n{A}\")\n",
        "\n",
        "# Reconstruct A (full QR)\n",
        "A_reconstructed = Q @ R\n",
        "print(f\"\\nA_reconstructed from full QR:\\n{A_reconstructed}\")\n",
        "\n",
        "# Reduced QR\n",
        "n = A.shape[1]\n",
        "A_reduced = np.dot(Q[:, :n], R[:n, :])\n",
        "print(\"\\nA_reconstructed from reduced QR:\")\n",
        "print(A_reduced)\n",
        "\n",
        "print(f\"\\nReconstruction error from A_reconstructed:\\n{np.linalg.norm(A - A_reconstructed)}\")\n",
        "print(f\"\\nReconstruction error from A_reduced:\\n{np.linalg.norm(A - A_reduced)}\")"
      ],
      "metadata": {
        "colab": {
          "base_uri": "https://localhost:8080/"
        },
        "id": "r7hJ0x0u6KXR",
        "outputId": "4bae4095-8c23-45e7-894b-1cde11de86f6"
      },
      "execution_count": null,
      "outputs": [
        {
          "output_type": "stream",
          "name": "stdout",
          "text": [
            "Q from NumPy:\n",
            " [[-0.1961  0.9707  0.1387]\n",
            " [-0.7845 -0.0705 -0.6162]\n",
            " [-0.5883 -0.2296  0.7753]]\n",
            "\n",
            "R from NumPy:\n",
            " [[-5.0990 -5.0990 -5.0990 -3.8831 -9.3547]\n",
            " [ 0.0000 -0.0000 -0.0000  0.1550  3.8740]\n",
            " [ 0.0000  0.0000  0.0000  1.3555  0.7555]]\n",
            "\n",
            "Orthonormal basis Q:\n",
            "[[ 0.1961 -0.1427  0.9701]\n",
            " [ 0.7845 -0.5708 -0.2425]\n",
            " [ 0.5883  0.8086  0.0000]]\n",
            "\n",
            "Upper triangular matrix R:\n",
            "[[ 5.0990  5.0990  5.0990  3.8831  9.3547]\n",
            " [ 0.0000  0.0000  0.0000  1.2557 -0.3758]\n",
            " [ 0.0000  0.0000  0.0000  0.5336  3.9291]]\n",
            "\n",
            "Q^TQ:\n",
            "[[ 1.0000  0.0000  0.0000]\n",
            " [ 0.0000  1.0000  0.0000]\n",
            " [ 0.0000  0.0000  1.0000]]\n",
            "Norms: \n",
            "[ 1.0000  1.0000  1.0000]\n",
            "\n",
            "Original A:\n",
            "[[ 1.0000  1.0000  1.0000  1.1000  5.7000]\n",
            " [ 4.0000  4.0000  4.0000  2.2000  6.6000]\n",
            " [ 3.0000  3.0000  3.0000  3.3000  5.2000]]\n",
            "\n",
            "A_reconstructed from full QR:\n",
            "[[ 1.0000  1.0000  1.0000  1.1000  5.7000]\n",
            " [ 4.0000  4.0000  4.0000  2.2000  6.6000]\n",
            " [ 3.0000  3.0000  3.0000  3.3000  5.2000]]\n",
            "\n",
            "A_reconstructed from reduced QR:\n",
            "[[ 1.0000  1.0000  1.0000  1.1000  5.7000]\n",
            " [ 4.0000  4.0000  4.0000  2.2000  6.6000]\n",
            " [ 3.0000  3.0000  3.0000  3.3000  5.2000]]\n",
            "\n",
            "Reconstruction error from A_reconstructed:\n",
            "1.817513422402428e-15\n",
            "\n",
            "Reconstruction error from A_reduced:\n",
            "1.817513422402428e-15\n"
          ]
        }
      ]
    },
    {
      "cell_type": "code",
      "source": [],
      "metadata": {
        "id": "YQmDhbUEHkiD"
      },
      "execution_count": null,
      "outputs": []
    }
  ]
}