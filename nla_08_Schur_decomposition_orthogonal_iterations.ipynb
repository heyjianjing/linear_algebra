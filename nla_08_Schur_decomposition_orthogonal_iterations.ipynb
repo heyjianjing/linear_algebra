{
  "nbformat": 4,
  "nbformat_minor": 0,
  "metadata": {
    "colab": {
      "provenance": []
    },
    "kernelspec": {
      "name": "python3",
      "display_name": "Python 3"
    },
    "language_info": {
      "name": "python"
    }
  },
  "cells": [
    {
      "cell_type": "markdown",
      "source": [
        "#### Schur decomposition"
      ],
      "metadata": {
        "id": "RzSDlfgPUCzC"
      }
    },
    {
      "cell_type": "markdown",
      "source": [
        "According to `Schur theorem`, if $A\\in \\mathbf{R}^{n \\times n}$ is a square real matrix with real eigenvalues, then there exists an orthogonal matrix $Q$ and an upper triangular matrix $T$ such that\n",
        "\n",
        "$$A=QTQ^T$$\n",
        "\n",
        "We can show why this is true"
      ],
      "metadata": {
        "id": "Go0h4wvkyC7X"
      }
    },
    {
      "cell_type": "markdown",
      "source": [
        "##### Setup"
      ],
      "metadata": {
        "id": "oivz6pIXGM3X"
      }
    },
    {
      "cell_type": "markdown",
      "source": [
        "For orthogonal matrix $Q_1^T=Q_1^{-1}$ and $Q_1^TQ_1=I$, by letting $Q_1=\\begin{bmatrix}q_1 & q_2 & \\cdots & q_n\\end{bmatrix}$, and $q_1$ being a normalized `eigenvector` of $A$, we can write\n",
        "\n",
        "$$\\begin{align*}\n",
        "Q_1^TAQ_1&=\\begin{bmatrix}q_1^T \\\\ q_{2:n}^T\\end{bmatrix}A\\begin{bmatrix}q_1 & q_{2:n}\\end{bmatrix} \\\\\n",
        "& =\\begin{bmatrix}q_1^TAq_1 & q_1^TAq_{2:n} \\\\ q_{2:n}^TAq_1 & q_{2:n}^TAq_{2:n}\\end{bmatrix}\n",
        "\\end{align*}$$"
      ],
      "metadata": {
        "id": "_lHxQHBczOh6"
      }
    },
    {
      "cell_type": "markdown",
      "source": [
        "By `construction`, the upper-left block is the corresponding `eigenvalue` $\\lambda_1$, since\n",
        "\n",
        "$$q_1^TAq_1 = q_1^T(\\lambda_1q_1)=\\lambda_1q_1^Tq_1=\\lambda_1$$\n",
        "\n",
        "For the upper-right block, we denote it $B$\n",
        "\n",
        "$$B=q_1^TAq_{2:n}=\\begin{bmatrix}q_1^TAq_2 & q_1^TAq_3 & \\cdots & q_1^TAq_n \\end{bmatrix}$$\n",
        "\n",
        "The lower-left block is zero, since\n",
        "\n",
        "$$q_{2:n}^TAq_1=\\begin{bmatrix}q_2^T \\\\q_3^T \\\\ \\vdots \\\\q_n^T \\end{bmatrix}Aq_1=\\lambda_1\\begin{bmatrix}q_2^T \\\\q_3^T \\\\ \\vdots \\\\q_n^T \\end{bmatrix}q_1=\\begin{bmatrix}0 \\\\0 \\\\ \\vdots \\\\0 \\end{bmatrix}$$\n",
        "\n",
        "We denote the lower-right block $A_2$ and we have\n",
        "\n",
        "$$\\begin{align*}\n",
        "Q_1^TAQ_1&=\\begin{bmatrix}\\lambda_1 & B \\\\ 0 & A_2\\end{bmatrix}\n",
        "\\end{align*}$$\n",
        "\n",
        "or\n",
        "\n",
        "$$\\begin{align*}\n",
        "AQ_1&=Q_1\\begin{bmatrix}\\lambda_1 & B \\\\ 0 & A_2\\end{bmatrix}\n",
        "\\end{align*}$$"
      ],
      "metadata": {
        "id": "6UWPzdfPBqPA"
      }
    },
    {
      "cell_type": "markdown",
      "source": [
        "In addition, $A_2$ contains the `remaining eigenvalues` $\\lambda_2 , \\cdots, \\lambda_n$ of $A$\n",
        "\n",
        "To see this, from the properties of similarity transformation, we know that $A$ and $Q_1^TAQ_1$ have the same eigenvalues\n",
        "\n",
        "Therefore\n",
        "\n",
        "$$\\begin{align*}\n",
        "\\det (A-\\lambda I)&=\\det (Q_1^TAQ_1-\\lambda I) \\\\\n",
        "&=\\det \\begin{bmatrix}\\lambda_1-\\lambda & B \\\\ 0 & A_2-\\lambda I\\end{bmatrix} \\\\\n",
        "& \\text{property of determinant}\\\\\n",
        "&= (\\lambda_1-\\lambda) \\det (A_2-\\lambda I)\n",
        "\\end{align*}$$"
      ],
      "metadata": {
        "id": "D96ESkIVGb0b"
      }
    },
    {
      "cell_type": "markdown",
      "source": [
        "##### Proof by induction"
      ],
      "metadata": {
        "id": "MHuuAkPCGUe-"
      }
    },
    {
      "cell_type": "markdown",
      "source": [
        "For matrix of size one, Schur decomposition obviously exists\n",
        "\n",
        "So starting with matrix of size $n=2$, we know that there exists a Schur decomposition for matrix $A_2$ of size $n-1$:\n",
        "\n",
        "$$Q_2T_2Q_2^T=A_2$$\n",
        "\n",
        "or\n",
        "\n",
        "$$Q_2T_2=A_2Q_2$$\n",
        "\n",
        "We can proceed with `induction`"
      ],
      "metadata": {
        "id": "C8AoGPuZFhU1"
      }
    },
    {
      "cell_type": "markdown",
      "source": [
        "If we write\n",
        "\n",
        "$$Q=Q_1\\begin{bmatrix}1 & 0 \\\\ 0 & Q_2\\end{bmatrix}$$\n",
        "\n",
        "(since both $Q_1$ and $Q_2$ are orthogonal, $Q$ is orthogonal)\n",
        "\n",
        "we have for matrix $A$ of size $n$\n",
        "\n",
        "$$\\begin{align*}AQ &= A Q_1\\begin{bmatrix}1 & 0 \\\\ 0 & Q_2\\end{bmatrix} \\\\\n",
        "& = Q_1\\begin{bmatrix}\\lambda_1 & B \\\\ 0 & A_2\\end{bmatrix}\\begin{bmatrix}1 & 0 \\\\ 0 & Q_2\\end{bmatrix} \\\\\n",
        "&=Q_1 \\begin{bmatrix}\\lambda_1 & BQ_2 \\\\ 0 & A_2Q_2\\end{bmatrix} \\\\\n",
        "&=Q_1 \\begin{bmatrix}\\lambda_1 & BQ_2 \\\\ 0 & Q_2T_2\\end{bmatrix} \\\\\n",
        "&=Q_1 \\begin{bmatrix}1& 0 \\\\ 0 & Q_2\\end{bmatrix}\\begin{bmatrix}\\lambda_1 & BQ_2 \\\\ 0 & T_2\\end{bmatrix} \\\\\n",
        "& = Q\\begin{bmatrix}\\lambda_1 & BQ_2 \\\\ 0 & T_2\\end{bmatrix}\n",
        "\\end{align*}$$\n",
        "\n",
        "Now, we can show that Schur decomposition exists for matrix $A$ of size $n$ by letting\n",
        "\n",
        "$$T=\\begin{bmatrix}\\lambda_1 & BQ_2 \\\\ 0 & T_2\\end{bmatrix}\n",
        "$$"
      ],
      "metadata": {
        "id": "0Ch6hX8A_2pa"
      }
    },
    {
      "cell_type": "markdown",
      "source": [
        "##### Upper triangular matrix has eigenvalues on its diagonal"
      ],
      "metadata": {
        "id": "21g-a5fO7NSc"
      }
    },
    {
      "cell_type": "markdown",
      "source": [
        "With similarity transformation $A=QTQ^T$, we know that $A$ and $T$ have the same eigenvalues\n",
        "\n",
        "Let $t_{ii}, i=1, \\cdots, n$ be diagonal elements of $T$, then by definition of eigenvalues and the fact that determinant of upper triangular matrix is product of its diagonal elements, we have\n",
        "\n",
        "$$\\det(T-\\lambda I)=\\prod_{i=1}^n (t_{ii}-\\lambda)=0$$\n",
        "\n",
        "indicating that eigenvalues of $T$, and thus of $A$ are `diagonal elements` in $T$\n",
        "\n",
        "This is useful as we can obtain eigenvalues of $A$ by transforming $A$ into `Schur form`"
      ],
      "metadata": {
        "id": "M5w525J57X0i"
      }
    },
    {
      "cell_type": "markdown",
      "source": [
        "If $A$ is `symmetric`, then $T$ is upper triangular and symmetric at the same time, therefore, $T$ must be `diagonal`, meaning that symmetric matrices are diagonalizable, as we have known"
      ],
      "metadata": {
        "id": "TASdu2t5PHg7"
      }
    },
    {
      "cell_type": "markdown",
      "source": [
        "#### `Orthogonal` iterations"
      ],
      "metadata": {
        "id": "Q3r1s6EOgAva"
      }
    },
    {
      "cell_type": "markdown",
      "source": [
        "Recall our power iterations to find the dominant eigenvalue of $A$, by starting from an arbitrary vector $x$ and alternating between computing $y^k=Ax^k$ and normalizing and updating $x^k$ as $x^k=\\frac{y^k}{\\|y^k\\|}$"
      ],
      "metadata": {
        "id": "ZLXw7q3vjiz0"
      }
    },
    {
      "cell_type": "markdown",
      "source": [
        "To get to Schur decomposition, we would like to do the iterations not just on a single vector $x$, but on $n$ orthonormal vectors that form an `orthogonal` matrix $Q_0$\n",
        "\n",
        "After each multiplication of $A$, we do `QR decomposition` such that we still have a set of orthonormal vectors for the next iteration\n",
        "\n",
        "$$AQ_i=Q_{i+1}R_{i+1}$$\n",
        "\n",
        "We can see that, if $Q_i \\rightarrow Q$ as $i\\rightarrow \\infty$, then $R_i$ must also converges to certain upper triangular $R$, and\n",
        "\n",
        "$$AQ=QR \\Rightarrow A=QRQ^T$$\n",
        "\n",
        "which is exactly the Schur decomposition we need where $T=R$"
      ],
      "metadata": {
        "id": "g7aCDu29gfgr"
      }
    },
    {
      "cell_type": "markdown",
      "source": [
        "We can first evaluate orthogonal iterations on a square real matrix to get some feeling\n",
        "\n",
        "We start with $Q_0=I$\n",
        "\n",
        "We use `Householder` reflector for QR factorization"
      ],
      "metadata": {
        "id": "PaQNtZPckP0y"
      }
    },
    {
      "cell_type": "markdown",
      "source": [
        "From Numerical Linear Algebra (Trefethen and Bau) and other references, often `only the eigenvalues` from orthogonal iterations are of interest, while computation of eigenvectors require more careful treatment... (unless the matrix is `symmetric` and certain conditions are met)"
      ],
      "metadata": {
        "id": "b3VV6u_VlGMm"
      }
    },
    {
      "cell_type": "code",
      "source": [
        "import matplotlib.pyplot as plt\n",
        "import numpy as np\n",
        "np.set_printoptions(formatter={'float': '{: 0.4f}'.format})\n",
        "\n",
        "plt.style.use('dark_background')\n",
        "# color: https://matplotlib.org/stable/gallery/color/named_colors.htm"
      ],
      "metadata": {
        "id": "E7IXLxroydqP"
      },
      "execution_count": 1,
      "outputs": []
    },
    {
      "cell_type": "code",
      "source": [
        "def householder(A):\n",
        "    m, n = A.shape\n",
        "    R = A.copy()\n",
        "    Q = np.identity(m)\n",
        "\n",
        "    for i in range(n):\n",
        "        x = R[i:, i]\n",
        "        v = np.sign(x[0]) * np.linalg.norm(x) * np.eye(x.shape[0])[:,0] + x\n",
        "        v /= np.linalg.norm(v)\n",
        "\n",
        "        # Since all entries in R[i:, :i] are zero from previous iteration\n",
        "        # applying transformation to R[i:, i:] would suffice\n",
        "        R[i:, i:] -= 2 * np.outer(v, v) @ R[i:, i:]\n",
        "\n",
        "        # If Q is needed explicitly\n",
        "        Q[i:, :] -= 2 * np.outer(v, v) @ Q[i:, :]\n",
        "\n",
        "    return Q.T, R\n",
        "\n",
        "def diagonalizable_mat(n):\n",
        "    # Create diagonal matrix D with eigenvalues\n",
        "    D = np.diag(np.concatenate((200*np.random.rand(n//2)-100, 0.1*np.random.rand(n-n//2))))\n",
        "\n",
        "    # Generate a random invertible matrix\n",
        "    P = np.random.rand(n, n)\n",
        "    while np.linalg.cond(P) > 1e8:  # Check conditioning\n",
        "        P = np.random.rand(n, n)\n",
        "\n",
        "    # Use similarity transformation to create diagonalizable, but nonsymmetric matrix\n",
        "    return P @ D @ np.linalg.inv(P)"
      ],
      "metadata": {
        "id": "BF5Ag0ajpknc"
      },
      "execution_count": 2,
      "outputs": []
    },
    {
      "cell_type": "markdown",
      "source": [
        "##### `Nonsymmetric` case, with incorrect eigenvectors"
      ],
      "metadata": {
        "id": "h0oqDm7sqe42"
      }
    },
    {
      "cell_type": "code",
      "source": [
        "np.random.seed(50)\n",
        "symmetric = False\n",
        "\n",
        "A_size = 8\n",
        "A = diagonalizable_mat(A_size)\n",
        "\n",
        "if symmetric:\n",
        "    A = (A+A.T)/2\n",
        "\n",
        "A_original = A.copy()\n",
        "\n",
        "# Orthogonal iterations\n",
        "Q = np.eye(A.shape[0])\n",
        "Q_0 = Q.copy()\n",
        "\n",
        "num_iter = 51\n",
        "for i in range(num_iter):\n",
        "    Q, R = householder(A @ Q)\n",
        "    # Diagonal elements of R are approximation of eigenvalues\n",
        "    if i % 10 == 0:\n",
        "        print(R.diagonal())\n",
        "\n",
        "# Compare to NumPy\n",
        "eigenvalues, eigenvectors = np.linalg.eig(A_original)\n",
        "print(f'\\nEigenvalues from NumPy: \\n{eigenvalues}')\n",
        "\n",
        "# if symmetric:\n",
        "print(f'\\nEigenvectors from orthogonal iterations: \\n{Q}')\n",
        "print(f'\\nEigenvectors from NumPy: \\n{eigenvectors}')"
      ],
      "metadata": {
        "colab": {
          "base_uri": "https://localhost:8080/"
        },
        "id": "AWHibPJJkySL",
        "outputId": "bd6ed0ad-54fe-4412-c16f-9ed44df0f128"
      },
      "execution_count": 3,
      "outputs": [
        {
          "output_type": "stream",
          "name": "stdout",
          "text": [
            "[ 124.4855 -31.3821 -16.4464 -1.9810  0.1356 -0.0717 -0.0621 -0.0092]\n",
            "[-54.6859 -48.6211 -20.7398 -1.0797  0.0996  0.0772  0.0403  0.0383]\n",
            "[-54.4858 -48.8133 -20.7340 -1.0797  0.0997  0.0772  0.0406  0.0380]\n",
            "[-54.4184 -48.8737 -20.7340 -1.0797  0.0997  0.0772  0.0407  0.0378]\n",
            "[-54.3955 -48.8944 -20.7340 -1.0797  0.0997  0.0772  0.0408  0.0378]\n",
            "[-54.3876 -48.9015 -20.7340 -1.0797  0.0997  0.0772  0.0408  0.0377]\n",
            "\n",
            "Eigenvalues from NumPy: \n",
            "[-54.3834 -48.9052 -20.7340 -1.0797  0.0997  0.0377  0.0408  0.0772]\n",
            "\n",
            "Eigenvectors from orthogonal iteration: \n",
            "[[-0.1853  0.0967  0.1650  0.4408  0.5211  0.0093 -0.1815  0.6559]\n",
            " [-0.5310 -0.2401 -0.1952 -0.2592  0.4173 -0.1730  0.5897 -0.0572]\n",
            " [-0.0311  0.4528 -0.0801  0.5991  0.1011 -0.3927  0.1589 -0.4888]\n",
            " [-0.2758  0.8186 -0.0661 -0.3594 -0.1931  0.1242  0.1014  0.2393]\n",
            " [-0.5249 -0.0264 -0.1851  0.0963  0.1231  0.5326 -0.4718 -0.3985]\n",
            " [-0.2318 -0.1040  0.4869  0.3661 -0.4044  0.4110  0.4806  0.0298]\n",
            " [-0.3945 -0.2142 -0.4151  0.2182 -0.5715 -0.3746 -0.1610  0.2927]\n",
            " [-0.3490 -0.0225  0.6930 -0.2438 -0.0385 -0.4554 -0.3228 -0.1580]]\n",
            "\n",
            "Eigenvectors from NumPy: \n",
            "[[ 0.1853 -0.2079  0.2574 -0.3834 -0.5393  0.0885 -0.4128  0.3564]\n",
            " [ 0.5309 -0.4047  0.2861 -0.1581 -0.2906  0.3085 -0.4213  0.3637]\n",
            " [ 0.0312 -0.1962  0.0413 -0.3369 -0.5134  0.1094 -0.4259  0.4545]\n",
            " [ 0.2760 -0.5588  0.2974 -0.3694 -0.3603  0.4155 -0.2719  0.1413]\n",
            " [ 0.5249 -0.4780  0.3161 -0.3440 -0.4335  0.5583 -0.3295  0.0795]\n",
            " [ 0.2318 -0.1769  0.4512 -0.4619 -0.1416  0.2846 -0.3809  0.1137]\n",
            " [ 0.3945 -0.2875  0.0537 -0.1145 -0.0623  0.0845 -0.2169  0.3439]\n",
            " [ 0.3490 -0.3160  0.6748 -0.4830 -0.1397  0.5591 -0.3099  0.6137]]\n"
          ]
        }
      ]
    },
    {
      "cell_type": "markdown",
      "source": [
        "##### `Symmetric` case, with correct eigenvectors"
      ],
      "metadata": {
        "id": "KPcVFdOqqhVg"
      }
    },
    {
      "cell_type": "code",
      "source": [
        "np.random.seed(50)\n",
        "symmetric = True\n",
        "\n",
        "A_size = 8\n",
        "A = diagonalizable_mat(A_size)\n",
        "\n",
        "if symmetric:\n",
        "    A = (A+A.T)/2\n",
        "\n",
        "A_original = A.copy()\n",
        "\n",
        "# Orthogonal iterations\n",
        "Q = np.eye(A.shape[0])\n",
        "Q_0 = Q.copy()\n",
        "\n",
        "num_iter = 51\n",
        "for i in range(num_iter):\n",
        "    Q, R = householder(A @ Q)\n",
        "    # Diagonal elements of R are approximation of eigenvalues\n",
        "    if i % 10 == 0:\n",
        "        print(R.diagonal())\n",
        "\n",
        "# Compare to NumPy\n",
        "eigenvalues, eigenvectors = np.linalg.eig(A_original)\n",
        "print(f'\\nEigenvalues from NumPy: \\n{eigenvalues}')\n",
        "\n",
        "# if symmetric:\n",
        "print(f'\\nEigenvectors from orthogonal iterations: \\n{Q}')\n",
        "print(f'\\nEigenvectors from NumPy: \\n{eigenvectors}')"
      ],
      "metadata": {
        "colab": {
          "base_uri": "https://localhost:8080/"
        },
        "id": "R-b1GsrjnZMz",
        "outputId": "fb7a9f92-2089-4f03-935c-d17b327bc73f"
      },
      "execution_count": 4,
      "outputs": [
        {
          "output_type": "stream",
          "name": "stdout",
          "text": [
            "[ 72.1914 -47.2004 -29.1390  50.0952  25.1993 -8.8881 -0.5009  0.2263]\n",
            "[-150.1752  105.0129 -68.4672 -36.7843  18.0442  7.6540 -0.2236  0.1030]\n",
            "[-150.1813  105.0086 -68.4672 -36.7845  18.0440  7.6540 -0.2236  0.1030]\n",
            "[-150.1813  105.0086 -68.4672 -36.7845  18.0440  7.6540 -0.2236  0.1030]\n",
            "[-150.1813  105.0086 -68.4672 -36.7845  18.0440  7.6540 -0.2236  0.1030]\n",
            "[-150.1813  105.0086 -68.4672 -36.7845  18.0440  7.6540 -0.2236  0.1030]\n",
            "\n",
            "Eigenvalues from NumPy: \n",
            "[-150.1813  105.0086 -68.4672 -36.7845  18.0440  7.6540 -0.2236  0.1030]\n",
            "\n",
            "Eigenvectors from orthogonal iteration: \n",
            "[[-0.4485  0.2023  0.0313  0.3642 -0.2758  0.5190 -0.4489 -0.2783]\n",
            " [-0.2939 -0.3019  0.0366  0.1027  0.8789  0.1609 -0.0489 -0.0993]\n",
            " [ 0.3458 -0.5910 -0.2489 -0.3344 -0.1380  0.1736 -0.3456 -0.4344]\n",
            " [-0.4978 -0.0305 -0.7843 -0.2587 -0.0814 -0.0070  0.1274  0.2154]\n",
            " [-0.2388 -0.5041  0.4143 -0.1771 -0.2598  0.4032  0.2499  0.4397]\n",
            " [-0.0878 -0.3085  0.0108  0.2771 -0.0640 -0.4777 -0.6192  0.4523]\n",
            " [-0.4891  0.0778  0.3839 -0.5477 -0.0582 -0.4156 -0.1287 -0.3388]\n",
            " [-0.2030 -0.4030 -0.0398  0.5196 -0.2254 -0.3332  0.4451 -0.4062]]\n",
            "\n",
            "Eigenvectors from NumPy: \n",
            "[[-0.4485 -0.2023  0.0313 -0.3642  0.2758  0.5190  0.4489  0.2783]\n",
            " [-0.2939  0.3019  0.0366 -0.1027 -0.8789  0.1609  0.0489  0.0993]\n",
            " [ 0.3458  0.5910 -0.2489  0.3344  0.1380  0.1736  0.3456  0.4344]\n",
            " [-0.4978  0.0305 -0.7843  0.2587  0.0814 -0.0070 -0.1274 -0.2154]\n",
            " [-0.2388  0.5041  0.4143  0.1771  0.2598  0.4032 -0.2499 -0.4397]\n",
            " [-0.0878  0.3085  0.0108 -0.2771  0.0640 -0.4777  0.6192 -0.4523]\n",
            " [-0.4891 -0.0778  0.3839  0.5477  0.0582 -0.4156  0.1287  0.3388]\n",
            " [-0.2030  0.4030 -0.0398 -0.5196  0.2254 -0.3332 -0.4451  0.4062]]\n"
          ]
        }
      ]
    }
  ]
}