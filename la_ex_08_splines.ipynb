{
  "nbformat": 4,
  "nbformat_minor": 0,
  "metadata": {
    "colab": {
      "provenance": []
    },
    "kernelspec": {
      "name": "python3",
      "display_name": "Python 3"
    },
    "language_info": {
      "name": "python"
    },
    "gpuClass": "standard"
  },
  "cells": [
    {
      "cell_type": "markdown",
      "source": [
        "#### Data fitting with continuity constraints"
      ],
      "metadata": {
        "id": "vqJ0gyk6m8ph"
      }
    },
    {
      "cell_type": "code",
      "source": [
        "import numpy as np\n",
        "import matplotlib.pyplot as plt\n",
        "\n",
        "plt.style.use('dark_background')\n",
        "np.set_printoptions(formatter={'float': '{: 0.1f}'.format})"
      ],
      "metadata": {
        "id": "D8sVrGuHnnyd"
      },
      "execution_count": null,
      "outputs": []
    },
    {
      "cell_type": "code",
      "source": [
        "np.random.seed(42)\n",
        "\n",
        "n_data = 50\n",
        "noise = 0.05\n",
        "x_left, x_right = np.random.rand(n_data) - 1, np.random.rand(n_data)\n",
        "print(x_left.shape)\n",
        "print(x_right.shape)\n",
        "\n",
        "def get_y(x, noise):\n",
        "    return x ** 3 - x + 0.4 / (1 + (25 * (np.square(x)))) + noise * np.random.randn(x.shape[0])\n",
        "\n",
        "y_left = get_y(x_left, noise)\n",
        "y_right = get_y(x_right, noise)\n",
        "\n",
        "x = np.concatenate((x_left, x_right))\n",
        "y = np.concatenate((y_left, y_right))\n",
        "print(x.shape, y.shape)\n",
        "\n",
        "plt.scatter(x_left, y_left, s=10, color='r')\n",
        "plt.scatter(x_right, y_right, s=10, color='c')\n",
        "plt.show()"
      ],
      "metadata": {
        "colab": {
          "base_uri": "https://localhost:8080/",
          "height": 484
        },
        "id": "ZTkMnbcqGyUF",
        "outputId": "b36c9d64-ab21-4155-ba9b-2bc252820492"
      },
      "execution_count": null,
      "outputs": [
        {
          "output_type": "stream",
          "name": "stdout",
          "text": [
            "(50,)\n",
            "(50,)\n",
            "(100,) (100,)\n"
          ]
        },
        {
          "output_type": "display_data",
          "data": {
            "text/plain": [
              "<Figure size 640x480 with 1 Axes>"
            ],
            "image/png": "[encoded data removed]"
          },
          "metadata": {}
        }
      ]
    },
    {
      "cell_type": "markdown",
      "source": [
        "What we are trying to do is to fit two polynomials for the red dots and cyan dots separately, while having two fitted polynomials to have the same `function value` and `first derivative` when they meet\n",
        "\n",
        "For example\n",
        "\n",
        "$$\\begin{align*}\n",
        "p(x)&=\\theta_1+\\theta_2x+\\theta_3x^2+\\theta_4x^3, x\\leq 0 \\\\\n",
        "q(x)&=\\theta_5+\\theta_6x+\\theta_7x^2+\\theta_8x^3, x > 0\n",
        "\\end{align*}$$\n",
        "\n",
        "and $p(0)=q(0), p'(0)=q'(0)$, or\n",
        "\n",
        "$$\\begin{align*}\n",
        "\\theta_1+\\theta_2x+\\theta_3x^2+\\theta_4x^3 - \\theta_5-\\theta_6x-\\theta_7x^2-\\theta_8x^3 &=0 \\\\\n",
        "\\theta_2+2\\theta_3x+3\\theta_4x^2-\\theta_6-2\\theta_7x-3\\theta_8x^2 &=0\n",
        "\\end{align*}$$"
      ],
      "metadata": {
        "id": "bnZnt3x4JHMT"
      }
    },
    {
      "cell_type": "markdown",
      "source": [
        "#### Formulate constrained least squares"
      ],
      "metadata": {
        "id": "53hBAYAxLLFe"
      }
    },
    {
      "cell_type": "markdown",
      "source": [
        "We want to\n",
        "\n",
        "$$\\min \\|A\\theta-b\\|^2, \\text{s.t. } C\\theta=d$$\n",
        "\n",
        "where\n",
        "\n",
        "$$\\begin{align*}\n",
        "A&=\\begin{bmatrix}1 & x_1 & x_1^2 & x_1^3 & & & & \\\\ \\vdots \\\\ 1 & x_n & x_n^2 & x_n^3 & & & & \\\\  & & & & 1 & x_{n+1} & x_{n+1}^2 & x_{n+1}^3 \\\\ & & & & \\vdots \\\\ & & & & 1 & x_{2n} & x_{2n}^2 & x_{2n}^3\n",
        "\\end{bmatrix}, \\, b=\\begin{bmatrix}y_1 \\\\ \\vdots \\\\ y_n  \\\\  y_{n+1}  \\\\ \\vdots \\\\ y_{2n}\n",
        "\\end{bmatrix} \\\\\n",
        "C &= \\begin{bmatrix}1 & a & a^2 & a^3 & -1 & -a & -a^2 & -a^3 \\\\ 0 & 1 & 2a & 3a^2 & 0  & -1 & -2a & -3a^2 \\end{bmatrix}, \\, d=\\begin{bmatrix}0\\\\0\\end{bmatrix}\n",
        "\\end{align*}$$\n",
        "\n",
        "$a$ is where we want the two polynomials to meet and we can set $a=0$"
      ],
      "metadata": {
        "id": "n3I5G9FyLO4R"
      }
    },
    {
      "cell_type": "code",
      "source": [
        "x_l_vec = x_left.reshape(-1, 1)\n",
        "x_l_block = np.hstack((np.ones((n_data, 1)), x_l_vec, x_l_vec ** 2, x_l_vec ** 3))\n",
        "print(x_l_block.shape)\n",
        "\n",
        "x_r_vec = x_right.reshape(-1, 1)\n",
        "x_r_block = np.hstack((np.ones((n_data, 1)), x_r_vec, x_r_vec ** 2, x_r_vec ** 3))\n",
        "print(x_r_block.shape)\n",
        "\n",
        "A_top = np.hstack((x_l_block, np.zeros((n_data, 4))))\n",
        "A_bottom = np.hstack((np.zeros((n_data, 4)), x_r_block))\n",
        "A = np.vstack((A_top, A_bottom))\n",
        "print(A.shape)\n",
        "\n",
        "b = y.reshape(-1, 1)\n",
        "print(b.shape)\n",
        "\n",
        "C = np.hstack((np.eye(2), np.zeros((2,2)), -np.eye(2), np.zeros((2,2))))\n",
        "print(C.shape)\n",
        "\n",
        "d = np.zeros((2,1))\n",
        "print(d.shape)"
      ],
      "metadata": {
        "colab": {
          "base_uri": "https://localhost:8080/"
        },
        "id": "2TPlcPwbHhGZ",
        "outputId": "c85f5681-4383-4ce9-bf62-f5cb4f7d887c"
      },
      "execution_count": null,
      "outputs": [
        {
          "output_type": "stream",
          "name": "stdout",
          "text": [
            "(50, 4)\n",
            "(50, 4)\n",
            "(100, 8)\n",
            "(100, 1)\n",
            "(2, 8)\n",
            "(2, 1)\n"
          ]
        }
      ]
    },
    {
      "cell_type": "markdown",
      "source": [
        "#### Solve KKT equation"
      ],
      "metadata": {
        "id": "J48ANGwrUaUQ"
      }
    },
    {
      "cell_type": "markdown",
      "source": [
        "$$\\begin{bmatrix}A^TA & C^T \\\\ C & 0\\end{bmatrix}\\begin{bmatrix}\\theta \\\\ \\lambda\\end{bmatrix}=\\begin{bmatrix}A^Tb \\\\ d\\end{bmatrix}$$"
      ],
      "metadata": {
        "id": "e8JwD3aRQU5r"
      }
    },
    {
      "cell_type": "code",
      "source": [
        "kkt_mat = np.block([\n",
        "        [A.T @ A , C.T],\n",
        "        [C, np.zeros((C.shape[0], C.T.shape[1]))]\n",
        "    ])\n",
        "\n",
        "rhs = np.vstack([A.T @ b, d])\n",
        "sol = np.linalg.inv(kkt_mat.T @ kkt_mat) @ kkt_mat.T @ rhs\n",
        "print(sol.shape)\n",
        "\n",
        "n_test = 100\n",
        "x_t_left = np.linspace(-1, 0, n_test).reshape(-1,1)\n",
        "x_t_right = np.linspace(0, 1, n_test).reshape(-1,1)\n",
        "\n",
        "y_t_left = np.hstack((np.ones((n_test, 1)), x_t_left, x_t_left ** 2, x_t_left ** 3)) @ sol[:4]\n",
        "y_t_right = np.hstack((np.ones((n_test, 1)), x_t_right, x_t_right ** 2, x_t_right ** 3)) @ sol[4:8]\n",
        "print(y_t_left.shape, y_t_right.shape)\n",
        "\n",
        "plt.scatter(x_left, y_left, s=10, color='r')\n",
        "plt.scatter(x_right, y_right, s=10, color='c')\n",
        "plt.plot(x_t_left, y_t_left, color='r')\n",
        "plt.plot(x_t_right, y_t_right, color='c')\n",
        "plt.show()"
      ],
      "metadata": {
        "colab": {
          "base_uri": "https://localhost:8080/",
          "height": 466
        },
        "id": "41gmFaCbO-vX",
        "outputId": "ee4b0fe0-fa2b-4d43-f431-2a9e6a388bf9"
      },
      "execution_count": null,
      "outputs": [
        {
          "output_type": "stream",
          "name": "stdout",
          "text": [
            "(10, 1)\n",
            "(100, 1) (100, 1)\n"
          ]
        },
        {
          "output_type": "display_data",
          "data": {
            "text/plain": [
              "<Figure size 640x480 with 1 Axes>"
            ],
            "image/png": "[encoded data removed]"
          },
          "metadata": {}
        }
      ]
    },
    {
      "cell_type": "code",
      "source": [],
      "metadata": {
        "id": "meHq2TiHQwrG"
      },
      "execution_count": null,
      "outputs": []
    }
  ]
}