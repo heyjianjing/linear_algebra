{
  "nbformat": 4,
  "nbformat_minor": 0,
  "metadata": {
    "colab": {
      "provenance": []
    },
    "kernelspec": {
      "name": "python3",
      "display_name": "Python 3"
    },
    "language_info": {
      "name": "python"
    }
  },
  "cells": [
    {
      "cell_type": "markdown",
      "source": [
        "#### Concept of vector space"
      ],
      "metadata": {
        "id": "FJTiDzNH80z0"
      }
    },
    {
      "cell_type": "markdown",
      "source": [
        "A `collection` of vectors that can be added together and scaled by scalars, `while still staying within the collection`\n",
        "\n",
        "For example, n-dimensional space $\\mathbf{R}^n$ is a vector space"
      ],
      "metadata": {
        "id": "GgPVDsAX9ACT"
      }
    },
    {
      "cell_type": "markdown",
      "source": [
        "#### Concept of subspace"
      ],
      "metadata": {
        "id": "uFtr-d5b9mUf"
      }
    },
    {
      "cell_type": "markdown",
      "source": [
        "Intuitively, a `subspace` of a vector space is a `subset` of a vector space\n",
        "\n",
        "The following three are all `subspaces` of $\\mathbf{R}^n$\n",
        "\n",
        "$$\\begin{align*}\n",
        "V_1&=\\mathbf{R}^n \\\\\n",
        "V_2&=\\{0\\}, 0 \\in \\mathbf{R}^n \\\\\n",
        "V_3&=\\text{span}(v_1, v_2, \\cdots, v_k), v_i \\in \\mathbf{R}^n\n",
        "\\end{align*}$$"
      ],
      "metadata": {
        "id": "FFUmogHNXZlo"
      }
    },
    {
      "cell_type": "markdown",
      "source": [
        "#### Independent set of vectors"
      ],
      "metadata": {
        "id": "h6eZHgB-h3xr"
      }
    },
    {
      "cell_type": "markdown",
      "source": [
        "A set of vectors $v_1, v_2, \\cdots, v_k$ is `independent` if\n",
        "\n",
        "$$\\alpha_1v_1+\\alpha_2v_2+\\cdots +\\alpha_kv_k=0 \\Longrightarrow \\alpha_1=\\alpha_2=\\cdots = \\alpha_k = 0$$"
      ],
      "metadata": {
        "id": "JuipZqvjh7w4"
      }
    },
    {
      "cell_type": "markdown",
      "source": [
        "As a result, we have the following\n",
        "\n",
        "$$\\alpha_1v_1+\\alpha_2v_2+\\cdots +\\alpha_kv_k=\\beta_1v_1+\\beta_2v_2+\\cdots +\\beta_kv_k \\Longrightarrow \\alpha_i=\\beta_i, i=1, 2,\\cdots, k$$\n",
        "\n",
        "and `no` set of nonzero coefficients $\\alpha_i$ can satisfy\n",
        "\n",
        "$$v_j=\\alpha_1v_1+\\cdots+\\alpha_{j-1}v_{j-1}+\\alpha_{j+1}v_{j+1}+\\cdots+\\alpha_kv_k$$\n",
        "\n",
        "That is, no $v_j$ can be expressed as a linear combination of the remaining vectors (can be seen via contradiction)"
      ],
      "metadata": {
        "id": "wEEITOhXSgF8"
      }
    },
    {
      "cell_type": "markdown",
      "source": [
        "#### Basis"
      ],
      "metadata": {
        "id": "RzSDlfgPUCzC"
      }
    },
    {
      "cell_type": "markdown",
      "source": [
        "$v_1, v_2, \\cdots, v_k$ is a set of `basis vectors` for vector space $V$ if\n",
        "\n",
        "* $V=\\text{span}(v_1, v_2, \\cdots, v_k)$\n",
        "* $v_1, v_2, \\cdots, v_k$ form an `independent` set"
      ],
      "metadata": {
        "id": "e7kWq1sOUEzo"
      }
    },
    {
      "cell_type": "markdown",
      "source": [
        "For every $v\\in V$, it can be `uniquely` expressed using basis vectors\n",
        "\n",
        "$$v=\\alpha_1v_1+\\alpha_2v_2+\\cdots +\\alpha_kv_k$$"
      ],
      "metadata": {
        "id": "cpKXENAxVb6b"
      }
    },
    {
      "cell_type": "markdown",
      "source": [
        "The most common basis for $\\mathbf{R}^n$ is $e_1, e_2, \\cdots, e_n$, which are also `orthonormal`, that is\n",
        "\n",
        "$$e_i^Te_j = \\left\\{\\begin{array}{cl}0 &i\\neq j \\\\1 &i=j \\end{array}\\right.$$"
      ],
      "metadata": {
        "id": "r6vwID_RV_Vr"
      }
    },
    {
      "cell_type": "markdown",
      "source": [
        "For a given vector space $V$, the `number of vectors` in any basis is the same\n",
        "\n",
        "Number of vectors in any basis is the `dimension` of the corresponding vector space $\\dim V$\n",
        "\n",
        "If $v_1, v_2, \\cdots, v_k$ form a set of `basis vectors` for $V$, then\n",
        "\n",
        "$$\\dim V=k$$\n",
        "\n",
        "As $v_i\\in \\mathbf{R}^n$, $V$ is a subspace of $\\mathbf{R}^n$"
      ],
      "metadata": {
        "id": "nrwF9_QmYB_N"
      }
    },
    {
      "cell_type": "code",
      "source": [],
      "metadata": {
        "id": "sYRONfQG9fHc"
      },
      "execution_count": null,
      "outputs": []
    }
  ]
}