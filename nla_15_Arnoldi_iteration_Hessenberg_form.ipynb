{
  "nbformat": 4,
  "nbformat_minor": 0,
  "metadata": {
    "colab": {
      "provenance": []
    },
    "kernelspec": {
      "name": "python3",
      "display_name": "Python 3"
    },
    "language_info": {
      "name": "python"
    }
  },
  "cells": [
    {
      "cell_type": "markdown",
      "source": [
        "#### Hessenberg decomposition"
      ],
      "metadata": {
        "id": "ZgZ7nFLsmuye"
      }
    },
    {
      "cell_type": "markdown",
      "source": [
        "A Hessenberg matrix is a special kind of square matrix, one that is \"almost\" triangular\n",
        "\n",
        "To be exact, an upper Hessenberg matrix has zero entries below the first subdiagonal, and a lower Hessenberg matrix has zero entries above the first superdiagonal"
      ],
      "metadata": {
        "id": "4pZVjycbmxrj"
      }
    },
    {
      "cell_type": "markdown",
      "source": [
        "Similar to QR, Hessenberg decomposition aims to find for $A\\in \\mathbf{R}^{m \\times m}$, orthogonal matrix $Q$ such that\n",
        "\n",
        "$$A=QHQ^T$$\n",
        "\n",
        "where $H$ is in Hessenberg form"
      ],
      "metadata": {
        "id": "89Q1kQiiwtRv"
      }
    },
    {
      "cell_type": "markdown",
      "source": [
        "#### Arnoldi iteration"
      ],
      "metadata": {
        "id": "CEJCFh_mnYsZ"
      }
    },
    {
      "cell_type": "markdown",
      "source": [
        "The Arnoldi iteration performs exactly like modified Gram-Schmidt for progressively finding both first $(n+1)$ vectors in $Q$ and the $(n+1) \\times n$ upper-left section of $H$\n",
        "\n",
        "To see this, we can write more explicitly a `reduced version` of $AQ=QH$\n",
        "\n",
        "$$A\\begin{bmatrix}q_1 & q_2 & \\cdots q_n\\end{bmatrix}=\\begin{bmatrix}q_1 & q_2 & \\cdots q_{n+1}\\end{bmatrix}\\begin{bmatrix}h_{11} & \\cdots & h_{1n} \\\\ h_{21}& & \\vdots \\\\\n",
        "& \\ddots & \\vdots \\\\ & & h_{n+1,n}\\end{bmatrix}$$\n",
        "\n",
        "The reason we have $n+1$ on the right is that for each $Aq_n$, the computation requires $q_{n+1}$ and $h_{n+1,n}$ due to the non-zeros in the first subdiagonal (We can see this from the full $AQ=QH$)"
      ],
      "metadata": {
        "id": "hZZGLBrvniWV"
      }
    },
    {
      "cell_type": "markdown",
      "source": [
        "Different from MGS where for each $a_n$ only one new $q_n$ is produced, for Arnoldi, we will use the residual to compute $q_{n+1}$ and $h_{n+1, n}$"
      ],
      "metadata": {
        "id": "MLhWh1rSDCeZ"
      }
    },
    {
      "cell_type": "markdown",
      "source": [
        "#### Example"
      ],
      "metadata": {
        "id": "ncFPaeqU6GH6"
      }
    },
    {
      "cell_type": "code",
      "source": [
        "import matplotlib.pyplot as plt\n",
        "import numpy as np\n",
        "np.set_printoptions(formatter={'float': '{: 0.4f}'.format})\n",
        "\n",
        "plt.style.use('dark_background')\n",
        "# color: https://matplotlib.org/stable/gallery/color/named_colors.htm"
      ],
      "metadata": {
        "id": "E7IXLxroydqP"
      },
      "execution_count": 24,
      "outputs": []
    },
    {
      "cell_type": "code",
      "source": [
        "def arnoldi_iteration(A, b, n, tol=1e-10):\n",
        "    m = A.shape[0]\n",
        "    Q = np.zeros((m, n+1))\n",
        "    H = np.zeros((n+1, n))\n",
        "    Q[:, 0] = b / np.linalg.norm(b)\n",
        "\n",
        "    for i in range(n):\n",
        "        v = A @ Q[:, i]\n",
        "\n",
        "        for j in range(i+1):\n",
        "            H[j, i] = Q[:, j] @ v\n",
        "            v -= H[j, i] * Q[:, j]\n",
        "\n",
        "        H[i+1, i] = np.linalg.norm(v)\n",
        "        if H[i+1, i] < tol:\n",
        "            break\n",
        "        Q[:, i+1] = v / H[i+1, i]\n",
        "\n",
        "    return Q, H"
      ],
      "metadata": {
        "id": "98FoAhzR6Icm"
      },
      "execution_count": 25,
      "outputs": []
    },
    {
      "cell_type": "code",
      "source": [
        "np.random.seed(42)\n",
        "\n",
        "m = 10\n",
        "A = np.random.rand(m, m)\n",
        "b = np.random.rand(m)\n",
        "\n",
        "Q, H = arnoldi_iteration(A, b, 6)"
      ],
      "metadata": {
        "id": "r7hJ0x0u6KXR"
      },
      "execution_count": 26,
      "outputs": []
    },
    {
      "cell_type": "code",
      "source": [
        "print('Q:\\n', Q)\n",
        "print('\\nCheck orthogonality in Q:\\n', Q.T @ Q)\n",
        "print('\\nH:\\n', H)\n",
        "\n",
        "print('\\nAQ:\\n', A @ Q[:,:-1])\n",
        "print('\\nQH:\\n', Q @ H)\n",
        "print('\\nDifference:\\n', np.linalg.norm(A @ Q[:,:-1] - Q @ H))"
      ],
      "metadata": {
        "id": "YQmDhbUEHkiD",
        "colab": {
          "base_uri": "https://localhost:8080/"
        },
        "outputId": "da8b69b9-4b9f-4d7a-c41e-07599877877e"
      },
      "execution_count": 27,
      "outputs": [
        {
          "output_type": "stream",
          "name": "stdout",
          "text": [
            "Q:\n",
            " [[ 0.0201  0.5472  0.0083 -0.2643  0.0899 -0.5132 -0.1788]\n",
            " [ 0.4069 -0.0498 -0.3796 -0.3602  0.0081  0.1151 -0.3134]\n",
            " [ 0.2010  0.1566  0.1453  0.5647  0.6900  0.0674  0.0034]\n",
            " [ 0.3251  0.1234  0.1668  0.0822 -0.0178 -0.1264 -0.6818]\n",
            " [ 0.5802 -0.2723 -0.2154  0.0397  0.1663 -0.3238  0.3365]\n",
            " [ 0.1594  0.3828  0.2770 -0.0451 -0.0558  0.6176 -0.0255]\n",
            " [ 0.2624  0.1207  0.2998 -0.5883  0.2736  0.1485  0.3787]\n",
            " [ 0.4830 -0.1455  0.1083  0.2360 -0.4806  0.1801  0.0106]\n",
            " [ 0.1463  0.3159  0.3667  0.1840 -0.4075 -0.3669  0.3090]\n",
            " [ 0.0492  0.5496 -0.6691  0.1881 -0.1133  0.1659  0.2282]]\n",
            "\n",
            "Check orthogonality in Q:\n",
            " [[ 1.0000  0.0000  0.0000  0.0000  0.0000  0.0000  0.0000]\n",
            " [ 0.0000  1.0000  0.0000 -0.0000 -0.0000 -0.0000  0.0000]\n",
            " [ 0.0000  0.0000  1.0000 -0.0000 -0.0000  0.0000  0.0000]\n",
            " [ 0.0000 -0.0000 -0.0000  1.0000 -0.0000 -0.0000 -0.0000]\n",
            " [ 0.0000 -0.0000 -0.0000 -0.0000  1.0000 -0.0000  0.0000]\n",
            " [ 0.0000 -0.0000  0.0000 -0.0000 -0.0000  1.0000  0.0000]\n",
            " [ 0.0000  0.0000  0.0000 -0.0000  0.0000  0.0000  1.0000]]\n",
            "\n",
            "H:\n",
            " [[ 3.1933  2.0025  0.4319 -0.0795  0.0174  0.0223]\n",
            " [ 2.4554  1.4172 -0.1805  0.3635  0.4479  0.0020]\n",
            " [ 0.0000  0.9143  0.0224 -0.0269 -0.2385 -0.3448]\n",
            " [ 0.0000  0.0000  0.7346 -0.6825 -0.1446 -0.4350]\n",
            " [ 0.0000  0.0000  0.0000  0.6317 -0.2465  0.2961]\n",
            " [ 0.0000  0.0000  0.0000  0.0000  0.8420  0.1618]\n",
            " [ 0.0000  0.0000  0.0000  0.0000  0.0000  0.3297]]\n",
            "\n",
            "AQ:\n",
            " [[ 1.4078  0.8234 -0.2841  0.4343 -0.1726 -0.0017]\n",
            " [ 1.1769  0.3971 -0.0884  0.2108  0.2223  0.2143]\n",
            " [ 1.0263  0.7572  0.4767  0.0875 -0.1560 -0.0747]\n",
            " [ 1.3411  0.9784  0.1823 -0.0528 -0.0928 -0.3363]\n",
            " [ 1.1842  0.5791  0.3241 -0.0613 -0.3798  0.1772]\n",
            " [ 1.4489  1.1149 -0.0272  0.1146  0.6485  0.0034]\n",
            " [ 1.1341  0.9705 -0.3340  0.5893  0.1299  0.3885]\n",
            " [ 1.1851  0.8600  0.4107 -0.5589  0.1534 -0.2392]\n",
            " [ 1.2427  1.0759  0.1495 -0.2896 -0.1785 -0.2807]\n",
            " [ 1.5066  0.2657  0.0453  0.0139  0.5470  0.2196]]\n",
            "\n",
            "QH:\n",
            " [[ 1.4078  0.8234 -0.2841  0.4343 -0.1726 -0.0017]\n",
            " [ 1.1769  0.3971 -0.0884  0.2108  0.2223  0.2143]\n",
            " [ 1.0263  0.7572  0.4767  0.0875 -0.1560 -0.0747]\n",
            " [ 1.3411  0.9784  0.1823 -0.0528 -0.0928 -0.3363]\n",
            " [ 1.1842  0.5791  0.3241 -0.0613 -0.3798  0.1772]\n",
            " [ 1.4489  1.1149 -0.0272  0.1146  0.6485  0.0034]\n",
            " [ 1.1341  0.9705 -0.3340  0.5893  0.1299  0.3885]\n",
            " [ 1.1851  0.8600  0.4107 -0.5589  0.1534 -0.2392]\n",
            " [ 1.2427  1.0759  0.1495 -0.2896 -0.1785 -0.2807]\n",
            " [ 1.5066  0.2657  0.0453  0.0139  0.5470  0.2196]]\n",
            "\n",
            "Difference:\n",
            " 6.62481702830894e-16\n"
          ]
        }
      ]
    },
    {
      "cell_type": "code",
      "source": [],
      "metadata": {
        "id": "bS2ACEJWsLuv"
      },
      "execution_count": 27,
      "outputs": []
    }
  ]
}