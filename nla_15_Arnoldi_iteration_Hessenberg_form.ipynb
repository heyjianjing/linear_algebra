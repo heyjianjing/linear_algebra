{
  "nbformat": 4,
  "nbformat_minor": 0,
  "metadata": {
    "colab": {
      "provenance": []
    },
    "kernelspec": {
      "name": "python3",
      "display_name": "Python 3"
    },
    "language_info": {
      "name": "python"
    }
  },
  "cells": [
    {
      "cell_type": "markdown",
      "source": [
        "#### Hessenberg decomposition"
      ],
      "metadata": {
        "id": "ZgZ7nFLsmuye"
      }
    },
    {
      "cell_type": "markdown",
      "source": [
        "A Hessenberg matrix is a special kind of square matrix, one that is \"almost\" triangular\n",
        "\n",
        "To be exact, an upper Hessenberg matrix has zero entries below the first subdiagonal, and a lower Hessenberg matrix has zero entries above the first superdiagonal"
      ],
      "metadata": {
        "id": "4pZVjycbmxrj"
      }
    },
    {
      "cell_type": "markdown",
      "source": [
        "Similar to QR, Hessenberg decomposition aims to find for $A\\in \\mathbf{R}^{m \\times m}$, orthogonal matrix $Q$ such that\n",
        "\n",
        "$$A=QHQ^T$$\n",
        "\n",
        "where $H$ is in Hessenberg form"
      ],
      "metadata": {
        "id": "89Q1kQiiwtRv"
      }
    },
    {
      "cell_type": "markdown",
      "source": [
        "#### Arnoldi iteration"
      ],
      "metadata": {
        "id": "CEJCFh_mnYsZ"
      }
    },
    {
      "cell_type": "markdown",
      "source": [
        "The Arnoldi iteration performs exactly like modified Gram-Schmidt for progressively finding both first $(n+1)$ vectors in $Q$ and the $(n+1) \\times n$ upper-left section of $H$\n",
        "\n",
        "To see this, we can write more explicitly a `reduced version` of $AQ=QH$\n",
        "\n",
        "$$A\\begin{bmatrix}q_1 & q_2 & \\cdots q_n\\end{bmatrix}=\\begin{bmatrix}q_1 & q_2 & \\cdots q_{n+1}\\end{bmatrix}\\begin{bmatrix}h_{11} & \\cdots & h_{1n} \\\\ h_{21}& & \\vdots \\\\\n",
        "& \\ddots & \\vdots \\\\ & & h_{n+1,n}\\end{bmatrix}$$\n",
        "\n",
        "The reason we have $n+1$ on the right is that for each $Aq_n$, the computation requires $q_{n+1}$ and $h_{n+1,n}$ due to the non-zeros in the first subdiagonal (We can see this from the full $AQ=QH$)"
      ],
      "metadata": {
        "id": "hZZGLBrvniWV"
      }
    },
    {
      "cell_type": "markdown",
      "source": [
        "Different from MGS where for each $a_n$ only one new $q_n$ is produced, for Arnoldi, we will use the residual to compute $q_{n+1}$ and $h_{n+1, n}$"
      ],
      "metadata": {
        "id": "MLhWh1rSDCeZ"
      }
    },
    {
      "cell_type": "markdown",
      "source": [
        "#### Example"
      ],
      "metadata": {
        "id": "ncFPaeqU6GH6"
      }
    },
    {
      "cell_type": "code",
      "source": [
        "import matplotlib.pyplot as plt\n",
        "import numpy as np\n",
        "np.set_printoptions(formatter={'float': '{: 0.4f}'.format})\n",
        "\n",
        "plt.style.use('dark_background')\n",
        "# color: https://matplotlib.org/stable/gallery/color/named_colors.htm"
      ],
      "metadata": {
        "id": "E7IXLxroydqP"
      },
      "execution_count": null,
      "outputs": []
    },
    {
      "cell_type": "code",
      "source": [
        "def arnoldi_iteration(A, b, n, tol=1e-10):\n",
        "    m = A.shape[0]\n",
        "    Q = np.zeros((m, n+1))\n",
        "    H = np.zeros((n+1, n))\n",
        "    Q[:, 0] = b / np.linalg.norm(b)\n",
        "\n",
        "    for i in range(n):\n",
        "        v = A @ Q[:, i]\n",
        "\n",
        "        for j in range(i+1):\n",
        "            H[j, i] = Q[:, j] @ v\n",
        "            v -= H[j, i] * Q[:, j]\n",
        "\n",
        "        H[i+1, i] = np.linalg.norm(v)\n",
        "        if H[i+1, i] < tol:\n",
        "            break\n",
        "        Q[:, i+1] = v / H[i+1, i]\n",
        "\n",
        "    return Q, H"
      ],
      "metadata": {
        "id": "98FoAhzR6Icm"
      },
      "execution_count": null,
      "outputs": []
    },
    {
      "cell_type": "code",
      "source": [
        "np.random.seed(42)\n",
        "\n",
        "m = 20\n",
        "A = np.random.rand(m, m)\n",
        "b = np.random.rand(m)\n",
        "\n",
        "Q, H = arnoldi_iteration(A, b, 8)"
      ],
      "metadata": {
        "id": "r7hJ0x0u6KXR"
      },
      "execution_count": null,
      "outputs": []
    },
    {
      "cell_type": "code",
      "source": [
        "print('Q:\\n', Q)\n",
        "print('\\nCheck orthogonality in Q:\\n', Q.T @ Q)\n",
        "print('\\nH:\\n', H)\n",
        "\n",
        "print('\\nAQ:\\n', A @ Q[:,:-1])\n",
        "print('\\nQH:\\n', Q @ H)\n",
        "print('\\nDifference:\\n', np.linalg.norm(A @ Q[:,:-1] - Q @ H))"
      ],
      "metadata": {
        "id": "YQmDhbUEHkiD",
        "colab": {
          "base_uri": "https://localhost:8080/"
        },
        "outputId": "83c0151e-b1d5-45ee-b660-8b4908a2e32e"
      },
      "execution_count": null,
      "outputs": [
        {
          "output_type": "stream",
          "name": "stdout",
          "text": [
            "Q:\n",
            " [[ 0.0372  0.3754 -0.0822 -0.1269 -0.1374  0.3090 -0.1037  0.2582 -0.0812]\n",
            " [ 0.3253 -0.1501 -0.1283  0.0422  0.1521 -0.2627  0.0749 -0.1871  0.0420]\n",
            " [ 0.1821  0.1901 -0.3645  0.1837  0.0338 -0.2874 -0.2249  0.1245  0.0999]\n",
            " [ 0.2979 -0.1769  0.4209 -0.1180  0.2731 -0.0193 -0.0526 -0.0868  0.0379]\n",
            " [ 0.1154  0.2312  0.0706 -0.0581 -0.2707 -0.3097 -0.2874  0.1174  0.1917]\n",
            " [ 0.3228 -0.0825 -0.1709  0.3594 -0.2822  0.1634 -0.2072 -0.3249 -0.0789]\n",
            " [ 0.1403  0.1458  0.3360  0.1391 -0.0221 -0.1200  0.0776  0.1686 -0.4739]\n",
            " [ 0.0039  0.3253  0.5194  0.1229  0.1330 -0.2568  0.0800  0.0791 -0.0813]\n",
            " [ 0.3263 -0.1678 -0.1651 -0.0117  0.1403 -0.1632  0.5055  0.0005 -0.1431]\n",
            " [ 0.0329  0.5119 -0.0879  0.0376  0.0403  0.3302  0.2378 -0.1666 -0.0242]\n",
            " [ 0.1151  0.1933  0.0316  0.4240 -0.2864 -0.0658  0.2793  0.0866 -0.0308]\n",
            " [ 0.3424 -0.1637 -0.1015  0.0060  0.0068  0.0441  0.0832  0.6425  0.2130]\n",
            " [ 0.3426 -0.0580  0.0540 -0.4171 -0.3111  0.1250 -0.0923  0.2139 -0.1795]\n",
            " [ 0.2067  0.2557 -0.0444  0.0876 -0.0266 -0.2014 -0.0179 -0.1073  0.2022]\n",
            " [ 0.2277 -0.1020  0.3437 -0.0583 -0.4332  0.0568 -0.0110 -0.3555  0.2722]\n",
            " [ 0.1616  0.1672 -0.1461 -0.0234  0.3573 -0.1740 -0.3810 -0.1533 -0.2699]\n",
            " [ 0.1057  0.2015  0.1319 -0.1711  0.2883  0.0734 -0.1474  0.0115  0.4832]\n",
            " [ 0.1185  0.2485 -0.1294 -0.2669  0.0726  0.0046  0.4496 -0.1678  0.2364]\n",
            " [ 0.2424 -0.0667  0.1331  0.4204  0.3236  0.5354 -0.1066  0.0773  0.0995]\n",
            " [ 0.2712  0.1164 -0.0860 -0.3512  0.0443  0.1611 -0.0771 -0.1783 -0.3456]]\n",
            "\n",
            "Check orthogonality in Q:\n",
            " [[ 1.0000 -0.0000 -0.0000 -0.0000 -0.0000 -0.0000  0.0000  0.0000 -0.0000]\n",
            " [-0.0000  1.0000 -0.0000 -0.0000 -0.0000  0.0000  0.0000 -0.0000  0.0000]\n",
            " [-0.0000 -0.0000  1.0000  0.0000  0.0000  0.0000  0.0000  0.0000 -0.0000]\n",
            " [-0.0000 -0.0000  0.0000  1.0000  0.0000  0.0000  0.0000  0.0000 -0.0000]\n",
            " [-0.0000 -0.0000  0.0000  0.0000  1.0000  0.0000 -0.0000  0.0000  0.0000]\n",
            " [-0.0000  0.0000  0.0000  0.0000  0.0000  1.0000  0.0000 -0.0000 -0.0000]\n",
            " [ 0.0000  0.0000  0.0000  0.0000 -0.0000  0.0000  1.0000 -0.0000 -0.0000]\n",
            " [ 0.0000 -0.0000  0.0000  0.0000  0.0000 -0.0000 -0.0000  1.0000 -0.0000]\n",
            " [-0.0000  0.0000 -0.0000 -0.0000  0.0000 -0.0000 -0.0000 -0.0000  1.0000]]\n",
            "\n",
            "H:\n",
            " [[ 7.5435  3.9354  1.3944  1.0905  0.4733 -0.1479 -0.4161 -0.2271]\n",
            " [ 4.4386  1.7319  0.6190 -0.4012  0.0676 -0.0697  0.4222  0.5731]\n",
            " [ 0.0000  1.5824  0.3435 -0.0812 -0.0214  0.1330  0.0043  0.0341]\n",
            " [ 0.0000  0.0000  1.2074 -0.3812 -0.2904 -0.2663 -0.5636 -0.0089]\n",
            " [ 0.0000  0.0000  0.0000  1.0856 -0.1326 -0.4347 -0.2305 -0.6370]\n",
            " [ 0.0000  0.0000  0.0000  0.0000  1.0469 -0.0302 -0.3055  0.5419]\n",
            " [ 0.0000  0.0000  0.0000  0.0000  0.0000  1.2545  0.1002  0.2227]\n",
            " [ 0.0000  0.0000  0.0000  0.0000  0.0000  0.0000  0.8541  0.4632]\n",
            " [ 0.0000  0.0000  0.0000  0.0000  0.0000  0.0000  0.0000  1.0552]]\n",
            "\n",
            "AQ:\n",
            " [[ 1.9469  0.6664  0.1028 -0.2042  0.4233 -0.0885  0.3617  0.4708]\n",
            " [ 1.7877  0.8172  0.3676  0.5744 -0.1609 -0.0301 -0.3302 -0.4295]\n",
            " [ 2.2175  0.4692  0.4682  0.1185 -0.2518 -0.4257  0.0632 -0.0107]\n",
            " [ 1.4620  1.5320  0.3081  0.7031  0.0979 -0.1285 -0.2668 -0.3499]\n",
            " [ 1.8962  0.9660  0.2580 -0.2443 -0.2027 -0.2419  0.3111  0.3065]\n",
            " [ 2.0687  0.8569  0.7742 -0.0444  0.2550 -0.3026 -0.6555 -0.1412]\n",
            " [ 1.7053  1.3363  0.5692 -0.0098 -0.0940  0.0873  0.1198 -0.3937]\n",
            " [ 1.4734  1.4007  0.5336 -0.0708 -0.3094  0.0633  0.1920 -0.0530]\n",
            " [ 1.7171  0.7325  0.2804  0.5934 -0.0395  0.5227 -0.1321 -0.3918]\n",
            " [ 2.5202  0.8769  0.3779 -0.1329  0.3815  0.2086 -0.0477  0.3860]\n",
            " [ 1.7260  0.8377  0.8029 -0.4271 -0.0872  0.3377 -0.0170  0.2985]\n",
            " [ 1.8565  0.9035  0.3486  0.4524  0.1967  0.0457  0.3266  0.3853]\n",
            " [ 2.3274  1.3335 -0.0431  0.2138  0.4503  0.0873  0.2752  0.0496]\n",
            " [ 2.6939  1.1860  0.5370  0.0641 -0.1167 -0.0824 -0.0534  0.1648]\n",
            " [ 1.2652  1.2634  0.3020 -0.1866  0.2274  0.2074 -0.3257  0.3289]\n",
            " [ 1.9614  0.6945  0.2504  0.5178 -0.1318 -0.6768 -0.1824 -0.7082]\n",
            " [ 1.6918  0.9737  0.1109  0.4019  0.1491 -0.2790  0.0443  0.4360]\n",
            " [ 1.9966  0.6917 -0.0477  0.2206  0.1483  0.5514  0.0891  0.3415]\n",
            " [ 1.5325  1.0491  0.8500  0.4713  0.5029 -0.4160 -0.5482  0.1086]\n",
            " [ 2.5623  1.1327 -0.0034  0.4380  0.4028 -0.0870 -0.0855 -0.4001]]\n",
            "\n",
            "QH:\n",
            " [[ 1.9469  0.6664  0.1028 -0.2042  0.4233 -0.0885  0.3617  0.4708]\n",
            " [ 1.7877  0.8172  0.3676  0.5744 -0.1609 -0.0301 -0.3302 -0.4295]\n",
            " [ 2.2175  0.4692  0.4682  0.1185 -0.2518 -0.4257  0.0632 -0.0107]\n",
            " [ 1.4620  1.5320  0.3081  0.7031  0.0979 -0.1285 -0.2668 -0.3499]\n",
            " [ 1.8962  0.9660  0.2580 -0.2443 -0.2027 -0.2419  0.3111  0.3065]\n",
            " [ 2.0687  0.8569  0.7742 -0.0444  0.2550 -0.3026 -0.6555 -0.1412]\n",
            " [ 1.7053  1.3363  0.5692 -0.0098 -0.0940  0.0873  0.1198 -0.3937]\n",
            " [ 1.4734  1.4007  0.5336 -0.0708 -0.3094  0.0633  0.1920 -0.0530]\n",
            " [ 1.7171  0.7325  0.2804  0.5934 -0.0395  0.5227 -0.1321 -0.3918]\n",
            " [ 2.5202  0.8769  0.3779 -0.1329  0.3815  0.2086 -0.0477  0.3860]\n",
            " [ 1.7260  0.8377  0.8029 -0.4271 -0.0872  0.3377 -0.0170  0.2985]\n",
            " [ 1.8565  0.9035  0.3486  0.4524  0.1967  0.0457  0.3266  0.3853]\n",
            " [ 2.3274  1.3335 -0.0431  0.2138  0.4503  0.0873  0.2752  0.0496]\n",
            " [ 2.6939  1.1860  0.5370  0.0641 -0.1167 -0.0824 -0.0534  0.1648]\n",
            " [ 1.2652  1.2634  0.3020 -0.1866  0.2274  0.2074 -0.3257  0.3289]\n",
            " [ 1.9614  0.6945  0.2504  0.5178 -0.1318 -0.6768 -0.1824 -0.7082]\n",
            " [ 1.6918  0.9737  0.1109  0.4019  0.1491 -0.2790  0.0443  0.4360]\n",
            " [ 1.9966  0.6917 -0.0477  0.2206  0.1483  0.5514  0.0891  0.3415]\n",
            " [ 1.5325  1.0491  0.8500  0.4713  0.5029 -0.4160 -0.5482  0.1086]\n",
            " [ 2.5623  1.1327 -0.0034  0.4380  0.4028 -0.0870 -0.0855 -0.4001]]\n",
            "\n",
            "Difference:\n",
            " 1.7190414364978433e-15\n"
          ]
        }
      ]
    },
    {
      "cell_type": "markdown",
      "source": [
        "#### Relation to Krylov subspace"
      ],
      "metadata": {
        "id": "eb3BEue4RNei"
      }
    },
    {
      "cell_type": "markdown",
      "source": [
        "For $n=1$, we know that $q_1=\\frac{b}{\\|b\\|}\\in K_1(A, b)=\\text{span}(b)$"
      ],
      "metadata": {
        "id": "hrOXF_O2RQ2x"
      }
    },
    {
      "cell_type": "markdown",
      "source": [
        "Now assume for certain $n$, $q_1, \\cdots, q_n \\in K_n(A,b)$, when we compute $v=Aq_n$, we know that by definition\n",
        "\n",
        "$$v\\in AK_n(A,b) \\subseteq K_{n+1}(A,b) $$\n",
        "\n",
        "To get $q_{n+1}$, we need to subtract projections of $v$ onto previous $q_j, j=1, \\cdots, n$\n",
        "\n",
        "$$v=Aq_n-\\sum_{j=1}^nh_{jn}q_j, \\,\\,q_{n+1}=\\frac{v}{h_{n+1,n}}$$\n",
        "\n",
        "since each $q_j \\in K_n(A,b)\\subseteq K_{n+1}(A,b)$, we know $q_{n+1}\\in K_{n+1}(A,b)$, as it is the linear combination of vectors in it\n",
        "\n",
        "Therefore, the orthonormal vectors from Arnoldi algorithm satisfy\n",
        "\n",
        "$$\\text{span}(q_1, q_2, \\cdots, q_n)=K_n(A, b)=\\text{span}(b, Ab, \\cdots, A^{n-1}b)$$\n",
        "\n",
        "and thus form `orthonomal basis` for Krylov subspaces"
      ],
      "metadata": {
        "id": "OjJR_0MSRwVk"
      }
    },
    {
      "cell_type": "code",
      "source": [],
      "metadata": {
        "id": "bS2ACEJWsLuv"
      },
      "execution_count": null,
      "outputs": []
    }
  ]
}