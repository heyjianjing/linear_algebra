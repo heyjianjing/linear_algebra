{
  "nbformat": 4,
  "nbformat_minor": 0,
  "metadata": {
    "colab": {
      "provenance": []
    },
    "kernelspec": {
      "name": "python3",
      "display_name": "Python 3"
    },
    "language_info": {
      "name": "python"
    }
  },
  "cells": [
    {
      "cell_type": "markdown",
      "source": [
        "#### `Column space`, or `range` of a matrix"
      ],
      "metadata": {
        "id": "A4SBwbS0YGjA"
      }
    },
    {
      "cell_type": "markdown",
      "source": [
        "For a matrix $A\\in \\mathbf{R}^{m \\times n}$, its `column space` is defined as\n",
        "\n",
        "$$R(A)=\\{Ax |x\\in\\mathbf{R}^n\\}$$\n",
        "\n",
        "$R(A)$ is always a `subspace` of $\\mathbf{R}^m$"
      ],
      "metadata": {
        "id": "nidJ0w3oYKMk"
      }
    },
    {
      "cell_type": "markdown",
      "source": [
        "* $R(A)$ is a set all possible $y$ as the output of $Ax$\n",
        "* $R(A)$ is a set of $y$ for which $y=Ax$ has a solution (not necessarily unique solution)\n",
        "* $R(A)=\\text{span}(a_1, a_2,\\cdots, a_n)$, where $a_i$'s are columns of $A$"
      ],
      "metadata": {
        "id": "mEI5FOktYfYb"
      }
    },
    {
      "cell_type": "markdown",
      "source": [
        "#### In case of $R(A)$=$\\mathbf{R}^m$"
      ],
      "metadata": {
        "id": "Z1hkakMIaERY"
      }
    },
    {
      "cell_type": "markdown",
      "source": [
        "$A$ is called `onto` if $R(A)=\\mathbf{R}^m$ $\\Longleftrightarrow$\n",
        "\n",
        "* $y=Ax$ can be solved in $x$ for any $y$ (not necessarily unique solution)\n",
        "* columns of $A$ span $\\mathbf{R}^m$\n",
        "* $A$ has `right inverse`, $B\\in \\mathbf{R}^{n \\times m}$, such that $AB=I$. So, $A(By)=y$ and $y=Ax$, we have $x=By+\\{z|z\\in N(A)\\}$. This means $x$ is a `linear combination` of columns in $B$ where $y$ are the `coefficients`\n",
        "* `rows` of $A$ are `independent`\n",
        "* $N(A^T)=\\{0\\}$\n",
        "* $\\det(AA^T)\\neq 0$"
      ],
      "metadata": {
        "id": "CRfjqzZhaG8g"
      }
    },
    {
      "cell_type": "markdown",
      "source": [
        "#### Show the `last three`"
      ],
      "metadata": {
        "id": "IAKClBDCdFkS"
      }
    },
    {
      "cell_type": "markdown",
      "source": [
        "We see if we can show\n",
        "\n",
        "* `rows` of $A$ are `independent`\n",
        "* $N(A^T)=\\{0\\}$\n",
        "\n",
        "Then through transpose of $A$ and properties of `zero nullspace`, we would get\n",
        "* $\\det(AA^T)\\neq 0$"
      ],
      "metadata": {
        "id": "DutUSf9XnEtt"
      }
    },
    {
      "cell_type": "markdown",
      "source": [
        "##### $N(A^T)=\\{0\\}$"
      ],
      "metadata": {
        "id": "RW81J8IXnkbC"
      }
    },
    {
      "cell_type": "markdown",
      "source": [
        "Since $R(A)=\\mathbf{R}^m$, then, there does `not` exist a vector $z\\in \\mathbf{R}^m$ that is `orthogonal to all columns` in $A$ (Otherwise, $\\dim R(A) < m$)\n",
        "\n",
        "As a result, for $A^T\\in \\mathbf{R}^{n \\times m}$, `no` non-zero $z\\in \\mathbf{R}^m$ can satisfy\n",
        "\n",
        "$$A^Tz=0$$\n",
        "\n",
        "as it would require $z$ being orthogonal to all rows in $A^T$ (`2nd` interpretation of matrix-vector multiplication: as inner product with rows in matrix)\n",
        "\n",
        "Therefore, $N(A^T)=\\{0\\}$"
      ],
      "metadata": {
        "id": "IIZWGcV4nnOk"
      }
    },
    {
      "cell_type": "markdown",
      "source": [
        "##### Rows of `A` are independent"
      ],
      "metadata": {
        "id": "ruyDTyurorhG"
      }
    },
    {
      "cell_type": "markdown",
      "source": [
        "As $N(A^T)=\\{0\\}$, from properties of `zero nullspace`, columns of $A^T$ are `independent`\n",
        "\n",
        "So, rows of $A$ are independent"
      ],
      "metadata": {
        "id": "Zgk4mGhPowKU"
      }
    },
    {
      "cell_type": "markdown",
      "source": [
        "#### `left` and `right` inverse"
      ],
      "metadata": {
        "id": "RssY3FKx4K63"
      }
    },
    {
      "cell_type": "markdown",
      "source": [
        "If $A$ has a `right inverse` $B$, then\n",
        "\n",
        "$$(AB)^T=B^TA^T=I$$\n",
        "\n",
        "That is, $B^T$ is a `left inverse` of $A^T$"
      ],
      "metadata": {
        "id": "cESSWVgO4OzM"
      }
    },
    {
      "cell_type": "markdown",
      "source": [
        "Since $N(A^T)=\\{0\\}$ and $N(A^T)=\\{0\\}$ $\\Longleftrightarrow$ $A^T$ has left inverse, then\n",
        "\n",
        "* $A$ must have `right inverse`\n",
        "* $A$ can only be `fat` or `square` matrix\n",
        "* its right inverse is in the form of transposed left inverse of $A^T$\n",
        "* first, we replace $A$ with $A^T$ in `left inverse` of $A$ (from last notebook)\n",
        "\n",
        "$$(A^TA)^{-1}A^T$$\n",
        "\n",
        "to get `left inverse` of $A^T$\n",
        "\n",
        "$$(AA^T)^{-1}A$$\n",
        "\n",
        "Then, we transpose it to get `right inverse` of $A$\n",
        "\n",
        "$$((AA^T)^{-1}A)^T=A^T((AA^T)^{-1})^T=A^T((AA^T)^T)^{-1}=\\boxed{A^T(AA^T)^{-1}}$$"
      ],
      "metadata": {
        "id": "AMfBAJTP4qsQ"
      }
    },
    {
      "cell_type": "code",
      "source": [],
      "metadata": {
        "id": "25gUmmn9jXeS"
      },
      "execution_count": null,
      "outputs": []
    }
  ]
}