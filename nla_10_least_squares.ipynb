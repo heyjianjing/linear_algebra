{
  "nbformat": 4,
  "nbformat_minor": 0,
  "metadata": {
    "colab": {
      "provenance": []
    },
    "kernelspec": {
      "name": "python3",
      "display_name": "Python 3"
    },
    "language_info": {
      "name": "python"
    }
  },
  "cells": [
    {
      "cell_type": "markdown",
      "source": [
        "#### `Least squares`"
      ],
      "metadata": {
        "id": "s9JRN0lOHziu"
      }
    },
    {
      "cell_type": "markdown",
      "source": [
        "For $b=Ax$, $A\\in \\mathbf{R}^{m \\times n}$, $m>n$, **`full rank`**\n",
        "\n",
        "The least squares problem finds $x_{ls}$ that `minimizes` $$\\|Ax-b\\|^2$$\n",
        "\n",
        "and we know the analytical equation\n",
        "\n",
        "$$x_{ls}=\\boxed{(A^TA)^{-1}A^Tb}$$"
      ],
      "metadata": {
        "id": "LPIeN-tCB2ps"
      }
    },
    {
      "cell_type": "markdown",
      "source": [
        "In this notebook, we would like to see how factorization-based algorithms perform in solving least squares problem\n",
        "\n",
        "* $A$ is ill-conditioned, $b\\in R(A)$\n",
        "* $A$ is well-conditioned, but $b\\notin R(A)$"
      ],
      "metadata": {
        "id": "BBRPygA4__Ee"
      }
    },
    {
      "cell_type": "markdown",
      "source": [
        "#### `Conditioning` parameters"
      ],
      "metadata": {
        "id": "n4pll0zaFehH"
      }
    },
    {
      "cell_type": "markdown",
      "source": [
        "Conditioning refers to sensitivity of solutions $x$ and $y=Ax$ to perturbations in data $A$ and $b$\n",
        "\n",
        "Three dimensionless parameters are used"
      ],
      "metadata": {
        "id": "wAgvWb6Xfg1P"
      }
    },
    {
      "cell_type": "markdown",
      "source": [
        "`Condition number`\n",
        "\n",
        "$$\\kappa(A)=\\frac{\\sigma_{\\max}}{\\sigma_{\\min}}=\\|A\\|\\|A^+\\|$$\n",
        "\n",
        "where $A^+$ is the pseudoinverse, $\\sigma_{\\max}$ and $\\sigma_{\\min}$ are largest and smallest singular values, respectively\n",
        "\n",
        "This is a generalized version of condition number for square matrices (which would be $\\kappa(A)=\\|A\\|\\|A^{-1}\\|$)\n",
        "\n",
        "$1\\leq \\kappa(A) \\leq \\infty$"
      ],
      "metadata": {
        "id": "lWi-1-QKgd1S"
      }
    },
    {
      "cell_type": "markdown",
      "source": [
        "`Closeness of fit`\n",
        "\n",
        "$$\\theta=\\cos^{-1}\\frac{\\|y\\|}{\\|b\\|}$$\n",
        "\n",
        "$0 \\leq \\theta \\leq \\frac{\\pi}{2}$"
      ],
      "metadata": {
        "id": "YpwWeq-Sg16N"
      }
    },
    {
      "cell_type": "markdown",
      "source": [
        "`Deviation` of $y$\n",
        "\n",
        "$$\\eta=\\frac{\\|A\\|\\|x\\|}{\\|y\\|}=\\frac{\\|A\\|\\|x\\|}{\\|Ax\\|}\\leq\\frac{\\sigma_{\\max}\\|x\\|}{\\sigma_{\\min}\\|x\\|}=\\kappa(A)$$\n",
        "\n",
        "This comes from that `smallest gain` of $A$ corresponds to the smallest singular value\n",
        "\n",
        "$$\\min_{x\\neq 0} \\frac{\\|Ax\\|}{\\|x\\|} = \\sigma_{\\min}(A) \\rightarrow \\|Ax\\|\\geq \\sigma_{\\min} \\|x\\|$$\n",
        "\n",
        "So, we have\n",
        "\n",
        "$1\\leq \\eta \\leq \\kappa(A)$"
      ],
      "metadata": {
        "id": "x7LYN_2whCNs"
      }
    },
    {
      "cell_type": "markdown",
      "source": [
        "With these parameters, we can compute condition numbers describing sensitivities of $y$ and $x$ to perturbations in $b$ and $A$\n",
        "\n",
        "$$\\begin{bmatrix}\n",
        " & y & x \\\\ b & \\frac{1}{\\cos \\theta} & \\frac{\\kappa(A)}{\\eta\\cos \\theta} \\\\\n",
        " A & \\frac{\\kappa(A)}{\\cos \\theta} & \\kappa(A) + \\frac{\\kappa(A)^2\\tan \\theta}{\\eta}\n",
        "\\end{bmatrix}$$"
      ],
      "metadata": {
        "id": "joizRfLTqkj3"
      }
    },
    {
      "cell_type": "markdown",
      "source": [
        "#### Example #1"
      ],
      "metadata": {
        "id": "OamUjAHmrhte"
      }
    },
    {
      "cell_type": "markdown",
      "source": [
        "This is a problem from NLA book, where $A$ is ill-conditioned, $b\\in R(A)$\n",
        "\n",
        "The setup is to compare final entry of $x$, for which the true value is `1`"
      ],
      "metadata": {
        "id": "SsabkC2B5RcG"
      }
    },
    {
      "cell_type": "code",
      "source": [
        "import matplotlib.pyplot as plt\n",
        "import numpy as np\n",
        "np.set_printoptions(formatter={'float': '{: 0.4f}'.format})\n",
        "\n",
        "plt.style.use('dark_background')\n",
        "# color: https://matplotlib.org/stable/gallery/color/named_colors.htm"
      ],
      "metadata": {
        "id": "64VKzPhM8fWC"
      },
      "execution_count": 81,
      "outputs": []
    },
    {
      "cell_type": "code",
      "source": [
        "m = 100\n",
        "n = 15\n",
        "\n",
        "t = np.linspace(0, 1, m)\n",
        "\n",
        "# Vandermonde matrix\n",
        "A = np.vander(t, n, increasing=True)\n",
        "cond_num = np.linalg.cond(A)\n",
        "print(f\"Condition number: {cond_num:.4e}\")\n",
        "b = np.exp(np.sin(4 * t)) / 2006.787453080206\n",
        "\n",
        "print(A.shape)\n",
        "print(b.shape)"
      ],
      "metadata": {
        "colab": {
          "base_uri": "https://localhost:8080/"
        },
        "id": "GYf7zVmpuaBY",
        "outputId": "4790d1f4-dd48-48ba-d86d-eba327e9d937"
      },
      "execution_count": 82,
      "outputs": [
        {
          "output_type": "stream",
          "name": "stdout",
          "text": [
            "Condition number: 2.2718e+10\n",
            "(100, 15)\n",
            "(100,)\n"
          ]
        }
      ]
    },
    {
      "cell_type": "code",
      "source": [
        "# Use NumPy solver to obtain to sufficient accuracy the conditioning parameters\n",
        "x, _, _, _ = np.linalg.lstsq(A, b, rcond=None)\n",
        "y = A @ x\n",
        "\n",
        "# Condition number\n",
        "kappa = np.linalg.cond(A)\n",
        "print(f\"kappa = {kappa:.4e}\")\n",
        "\n",
        "# Closedness of fit (theta)\n",
        "theta = np.arcsin(np.linalg.norm(b - y) / np.linalg.norm(b))\n",
        "print(f\"theta = {theta:.4e}\")\n",
        "\n",
        "# Deviation (eta)\n",
        "eta = (np.linalg.norm(A) * np.linalg.norm(x)) / np.linalg.norm(y)\n",
        "print(f\"eta = {eta:.4e}\")"
      ],
      "metadata": {
        "colab": {
          "base_uri": "https://localhost:8080/"
        },
        "id": "zQglZSGjx6ZA",
        "outputId": "9f5b72b2-ed1a-4621-bf35-9a7031847200"
      },
      "execution_count": 83,
      "outputs": [
        {
          "output_type": "stream",
          "name": "stdout",
          "text": [
            "kappa = 2.2718e+10\n",
            "theta = 3.7461e-06\n",
            "eta = 2.3732e+05\n"
          ]
        }
      ]
    },
    {
      "cell_type": "code",
      "source": [
        "b_y = 1 / np.cos(theta)\n",
        "b_x = kappa / (eta * np.cos(theta))\n",
        "\n",
        "A_y = kappa / np.cos(theta)\n",
        "A_x = kappa + (kappa**2 * np.tan(theta)) / eta\n",
        "\n",
        "print(f\"b_y = {b_y:.4e}\")\n",
        "print(f\"b_x = {b_x:.4e}\")\n",
        "print(f\"A_y = {A_y:.4e}\")\n",
        "print(f\"A_x = {A_x:.4e}\")"
      ],
      "metadata": {
        "colab": {
          "base_uri": "https://localhost:8080/"
        },
        "id": "MHHTkSB813y5",
        "outputId": "930472a5-fbcd-4ae5-da3d-afa13bf44764"
      },
      "execution_count": 84,
      "outputs": [
        {
          "output_type": "stream",
          "name": "stdout",
          "text": [
            "b_y = 1.0000e+00\n",
            "b_x = 9.5727e+04\n",
            "A_y = 2.2718e+10\n",
            "A_x = 3.0864e+10\n"
          ]
        }
      ]
    },
    {
      "cell_type": "markdown",
      "source": [
        "#### Analytical equation"
      ],
      "metadata": {
        "id": "uU7fGnMd2Mq9"
      }
    },
    {
      "cell_type": "code",
      "source": [
        "x_ls = np.linalg.inv(A.T @ A) @ A.T @ b\n",
        "print(f\"x[15] = {x_ls[14]:.10f}\")"
      ],
      "metadata": {
        "colab": {
          "base_uri": "https://localhost:8080/"
        },
        "id": "Ycb5Cd-b2DBX",
        "outputId": "091763ad-2dcd-4d13-deab-352f084e48a8"
      },
      "execution_count": 85,
      "outputs": [
        {
          "output_type": "stream",
          "name": "stdout",
          "text": [
            "x[15] = -0.3520387166\n"
          ]
        }
      ]
    },
    {
      "cell_type": "markdown",
      "source": [
        "We see that analytical equation is clearly an unstable method for solving ill-conditioned least squares problems..."
      ],
      "metadata": {
        "id": "nPVgAboN59o-"
      }
    },
    {
      "cell_type": "markdown",
      "source": [
        "#### `QR factorization` and back substitution"
      ],
      "metadata": {
        "id": "5cswJD8X6LGp"
      }
    },
    {
      "cell_type": "markdown",
      "source": [
        "We now explore `reduced` QR factorization (since $m>n$) and back substitution to solve least squares\n",
        "\n",
        "* $A=QR$ with `Householder`, `Givens`, or `MGS`\n",
        "* Update $b\\leftarrow Q^Tb$\n",
        "* Solve upper triangular system $Rx=b$ for $x$ with `back substitution`"
      ],
      "metadata": {
        "id": "oJN8PglU77aa"
      }
    },
    {
      "cell_type": "markdown",
      "source": [
        "##### Householder"
      ],
      "metadata": {
        "id": "1pEf5gAi_vxk"
      }
    },
    {
      "cell_type": "code",
      "source": [
        "def householder(A):\n",
        "    m, n = A.shape\n",
        "    R = A.copy()\n",
        "    Q = np.identity(m)\n",
        "\n",
        "    for i in range(n):\n",
        "        x = R[i:, i]\n",
        "        v = x.copy()\n",
        "        sng = np.sign(x[0]) if x[0] != 0 else 1.0\n",
        "        v[0] += sng * np.linalg.norm(x)\n",
        "        v /= np.linalg.norm(v)\n",
        "\n",
        "        R[i:, i:] -= 2 * np.outer(v, v) @ R[i:, i:]\n",
        "        Q[i:, :] -= 2 * np.outer(v, v) @ Q[i:, :]\n",
        "\n",
        "    return Q.T, R\n",
        "\n",
        "def back_substitution(R, b):\n",
        "    m, n = R.shape\n",
        "    x = np.zeros(n)\n",
        "    for i in range(n - 1, -1, -1):\n",
        "        x[i] = (b[i] - np.dot(R[i, i + 1:], x[i + 1:])) / R[i, i]\n",
        "    return x"
      ],
      "metadata": {
        "id": "qI66Gk5i6GCD"
      },
      "execution_count": 86,
      "outputs": []
    },
    {
      "cell_type": "code",
      "source": [
        "Q, R = householder(A)\n",
        "print(Q.shape)\n",
        "print(R.shape)\n",
        "b_hh = Q[:, :A.shape[1]].T @ b\n",
        "x_hh = back_substitution(R[:A.shape[1],:], b_hh)\n",
        "print(f\"x[15] = {x_hh[14]:.10f}\")"
      ],
      "metadata": {
        "colab": {
          "base_uri": "https://localhost:8080/"
        },
        "id": "ae-mnp_99krC",
        "outputId": "e46d5878-6749-4803-ddb3-7ccb0dc67bb1"
      },
      "execution_count": 87,
      "outputs": [
        {
          "output_type": "stream",
          "name": "stdout",
          "text": [
            "(100, 100)\n",
            "(100, 15)\n",
            "x[15] = 0.9999999830\n"
          ]
        }
      ]
    },
    {
      "cell_type": "markdown",
      "source": [
        "##### Givens rotations"
      ],
      "metadata": {
        "id": "ijV9hhxv_FT9"
      }
    },
    {
      "cell_type": "code",
      "source": [
        "def givens_rotation(A):\n",
        "    m, n = A.shape\n",
        "    Q = np.identity(m)\n",
        "    for col in range(n):\n",
        "        for row in range(col+1, m):\n",
        "            if A[row, col] != 0:\n",
        "                alpha = np.sqrt(A[col, col]**2 + A[row, col]**2)\n",
        "                c = A[col, col] / alpha\n",
        "                s = A[row, col] / alpha\n",
        "\n",
        "                G = np.identity(m)\n",
        "                G[row, col] = -s\n",
        "                G[col, row] = s\n",
        "                G[col, col] = c\n",
        "                G[row, row] = c\n",
        "\n",
        "                A = G @ A\n",
        "                Q = Q @ G.T\n",
        "\n",
        "    return Q, A"
      ],
      "metadata": {
        "id": "oVWj01Wg-gby"
      },
      "execution_count": 88,
      "outputs": []
    },
    {
      "cell_type": "code",
      "source": [
        "Q, R = givens_rotation(A)\n",
        "print(Q.shape)\n",
        "print(R.shape)\n",
        "b_givens = Q[:, :A.shape[1]].T @ b\n",
        "x_givens = back_substitution(R[:A.shape[1],:], b_givens)\n",
        "print(f\"x[15] = {x_givens[14]:.10f}\")"
      ],
      "metadata": {
        "colab": {
          "base_uri": "https://localhost:8080/"
        },
        "id": "UPmsIwCq_QdT",
        "outputId": "5e3d69a2-aa7c-4ec0-c006-92038e462afc"
      },
      "execution_count": 89,
      "outputs": [
        {
          "output_type": "stream",
          "name": "stdout",
          "text": [
            "(100, 100)\n",
            "(100, 15)\n",
            "x[15] = 1.0000000564\n"
          ]
        }
      ]
    },
    {
      "cell_type": "markdown",
      "source": [
        "##### Modified Gram-Schmidt"
      ],
      "metadata": {
        "id": "V00YYQqj_Zuy"
      }
    },
    {
      "cell_type": "code",
      "source": [
        "def gram_schmidt(A, modified=True):\n",
        "    n = min(A.shape[1], A.shape[0])\n",
        "    Q = np.zeros_like(A)\n",
        "    R = np.zeros((n, n))\n",
        "\n",
        "    for i in range(n):\n",
        "        q = A[:, i].copy()\n",
        "\n",
        "        for j in range(i):\n",
        "            if modified:\n",
        "                R[j, i] = np.dot(Q[:, j], q)\n",
        "            else:\n",
        "                R[j, i] = np.dot(Q[:, j], A[:, i])\n",
        "            q -= R[j, i] * Q[:, j]\n",
        "\n",
        "        R[i, i] = np.sqrt(np.dot(q, q))\n",
        "        q /=  R[i, i]\n",
        "        Q[:, i] = q\n",
        "\n",
        "    return Q, R"
      ],
      "metadata": {
        "id": "1g5dlKjH_cGc"
      },
      "execution_count": 90,
      "outputs": []
    },
    {
      "cell_type": "code",
      "source": [
        "Q, R = gram_schmidt(A) # Reduced QR by construction\n",
        "print(Q.shape)\n",
        "print(R.shape)\n",
        "b_mgs = Q.T @ b\n",
        "x_mgs = back_substitution(R, b_mgs)\n",
        "print(f\"x[15] = {x_mgs[14]:.10f}\")"
      ],
      "metadata": {
        "colab": {
          "base_uri": "https://localhost:8080/"
        },
        "id": "imKWSJwV_e33",
        "outputId": "7c16e8fe-a9a8-48d9-cfae-67adf8442bfb"
      },
      "execution_count": 91,
      "outputs": [
        {
          "output_type": "stream",
          "name": "stdout",
          "text": [
            "(100, 15)\n",
            "(15, 15)\n",
            "x[15] = 1.0172653298\n"
          ]
        }
      ]
    },
    {
      "cell_type": "markdown",
      "source": [
        "We see that both Householder and Givens work well, while MGS's result looks very poor. However, it can be stabilized by using an augmented system of equations, see NLA Theorem 19.2"
      ],
      "metadata": {
        "id": "lJEveKV7AAT0"
      }
    },
    {
      "cell_type": "markdown",
      "source": [
        "#### Cholesky/LDLT/LU"
      ],
      "metadata": {
        "id": "mLt39rlO9pjt"
      }
    },
    {
      "cell_type": "markdown",
      "source": [
        "##### Cholesky/LDLT factorization"
      ],
      "metadata": {
        "id": "4YjSGPFGlzyu"
      }
    },
    {
      "cell_type": "markdown",
      "source": [
        "We can also try to solve least squares problem using Cholesky decomposition, if $A$ is PD\n",
        "\n",
        "$$Ax=b \\Longleftrightarrow A^TAx=A^Tb \\Longleftrightarrow Bx=c \\Longleftrightarrow LL^Tx=c$$\n",
        "\n",
        "Then\n",
        "\n",
        "* solve $Ly=c$ using `forward` substitution\n",
        "* solve $L^Tx=y$ using `backward` substitution"
      ],
      "metadata": {
        "id": "-OSbjoRymnvB"
      }
    },
    {
      "cell_type": "markdown",
      "source": [
        "Or, if $A$ is symmetric and nonsingular, we use LDLT factorization\n",
        "\n",
        "* $A^TA=LDL^T$\n",
        "* Forward substitution for $Ly=A^Tb$\n",
        "* Scaling for $Dz=y$\n",
        "* Back substitution for $L^Tx=z$"
      ],
      "metadata": {
        "id": "xePEh7WhSosY"
      }
    },
    {
      "cell_type": "code",
      "source": [
        "def cholesky_factorization(A):\n",
        "    m = A.shape[0]\n",
        "    l_mat = A.copy().astype(float)\n",
        "\n",
        "    for k in range(m):\n",
        "        if l_mat[k, k] <= 0:\n",
        "            raise ValueError('Matrix is not positive definite')\n",
        "\n",
        "        # Follow the first step, iteratively apply to a smaller and smaller K\n",
        "        l_mat[k+1:, k+1:] -= np.outer(l_mat[k+1:, k], l_mat[k+1:, k]) / l_mat[k, k]\n",
        "        l_mat[k:, k] /= np.sqrt(l_mat[k, k])\n",
        "\n",
        "    return np.tril(l_mat)\n",
        "\n",
        "def ldlt_factorization(A):\n",
        "    m = A.shape[0]\n",
        "    l_mat = A.copy().astype(float)\n",
        "    d_mat = np.zeros(m)\n",
        "\n",
        "    for k in range(m):\n",
        "        d_mat[k] = l_mat[k, k]\n",
        "        if l_mat[k, k] == 0:\n",
        "            raise ValueError('Matrix is singular')\n",
        "\n",
        "        l_mat[k+1:, k+1:] -= np.outer(l_mat[k+1:, k], l_mat[k+1:, k]) / l_mat[k, k]\n",
        "        l_mat[k:, k] /= l_mat[k, k]\n",
        "\n",
        "    return np.tril(l_mat), np.diag(d_mat)\n",
        "\n",
        "def forward_substitution(L, b):\n",
        "    m, n = L.shape\n",
        "    x = np.zeros(n)\n",
        "    for i in range(n):\n",
        "        x[i] = (b[i] - np.dot(L[i, :i], x[:i])) / L[i, i]\n",
        "    return x"
      ],
      "metadata": {
        "id": "s4WzTQpWAaWU"
      },
      "execution_count": 92,
      "outputs": []
    },
    {
      "cell_type": "code",
      "source": [
        "try:\n",
        "    L = cholesky_factorization(A.T@A)\n",
        "except ValueError as e:\n",
        "    print(e)"
      ],
      "metadata": {
        "colab": {
          "base_uri": "https://localhost:8080/"
        },
        "id": "sOmv2kMDqRjt",
        "outputId": "41e9e48c-ef52-46ee-fcb6-4ac5da04f8b9"
      },
      "execution_count": 93,
      "outputs": [
        {
          "output_type": "stream",
          "name": "stdout",
          "text": [
            "Matrix is not positive definite\n"
          ]
        }
      ]
    },
    {
      "cell_type": "markdown",
      "source": [
        "Use Cholesky, we see that $A^TA$ is not PD\n",
        "\n",
        "So, we try LDLT factorization"
      ],
      "metadata": {
        "id": "-6BhFB3gqMlA"
      }
    },
    {
      "cell_type": "code",
      "source": [
        "try:\n",
        "    L, D = ldlt_factorization(A.T@A)\n",
        "    y = forward_substitution(L, A.T@b)\n",
        "    z = y / np.diag(D)\n",
        "    x = back_substitution(L.T, z)\n",
        "    print(f\"x[15] = {x[14]:.10f}\")\n",
        "except ValueError as e:\n",
        "    print(e)"
      ],
      "metadata": {
        "colab": {
          "base_uri": "https://localhost:8080/"
        },
        "id": "k8tqV8swTlQA",
        "outputId": "2951c118-04f0-4d04-f2d3-722554638e67"
      },
      "execution_count": 94,
      "outputs": [
        {
          "output_type": "stream",
          "name": "stdout",
          "text": [
            "x[15] = 0.7396039357\n"
          ]
        }
      ]
    },
    {
      "cell_type": "markdown",
      "source": [
        "We see the result is terrible"
      ],
      "metadata": {
        "id": "HszaeUr2Uc8U"
      }
    },
    {
      "cell_type": "markdown",
      "source": [
        "##### LU with partial pivoting"
      ],
      "metadata": {
        "id": "YB3dSQirU2Us"
      }
    },
    {
      "cell_type": "markdown",
      "source": [
        "We can also try LU with partial pivoting on $A^TA$\n",
        "\n",
        "We first find $P$, $L$, $U$ such that $PA^TA=LU$\n",
        "\n",
        "Then, we rewrite $A^TAx=A^Tb$ as $LUx=PA^Tb$ and\n",
        "\n",
        "* solve $Ly=PA^Tb$ using `forward` substitution\n",
        "* solve $Ux=y$ using `backward` substitution"
      ],
      "metadata": {
        "id": "B-_G0HEiU4PY"
      }
    },
    {
      "cell_type": "code",
      "source": [
        "def lu_factorization(A):\n",
        "    m, n = A.shape\n",
        "    u_mat = A.copy().astype(float)\n",
        "    l_mat = np.identity(m)\n",
        "    p_mat = np.identity(m)\n",
        "\n",
        "    for k in range(m-1):\n",
        "        # Find pivot\n",
        "        pivot = np.argmax(np.abs(u_mat[k:, k])) + k\n",
        "\n",
        "        if pivot != k:\n",
        "            # Swap rows in u, p, and l\n",
        "            u_mat[[k, pivot], :] = u_mat[[pivot, k], :]\n",
        "            p_mat[[k, pivot], :] = p_mat[[pivot, k], :]\n",
        "            l_mat[[k, pivot], :k] = l_mat[[pivot, k], :k]\n",
        "\n",
        "        for j in range(k + 1, m):\n",
        "            l_mat[j, k] = u_mat[j, k] / u_mat[k, k]\n",
        "            # Subtract multiply of kth row from jth row\n",
        "            u_mat[j, k:] -= l_mat[j, k] * u_mat[k, k:]\n",
        "\n",
        "    return p_mat, l_mat, u_mat"
      ],
      "metadata": {
        "id": "hQTpLYvJUebp"
      },
      "execution_count": 95,
      "outputs": []
    },
    {
      "cell_type": "code",
      "source": [
        "p, l, u = lu_factorization(A.T@A)\n",
        "y = forward_substitution(l, p@A.T@b)\n",
        "x = back_substitution(u, y)\n",
        "print(f\"x[15] = {x[14]:.10f}\")"
      ],
      "metadata": {
        "colab": {
          "base_uri": "https://localhost:8080/"
        },
        "id": "P05lFXr6Wiqv",
        "outputId": "5d3b7381-76b3-43ef-9d50-1a97ae6dca19"
      },
      "execution_count": 96,
      "outputs": [
        {
          "output_type": "stream",
          "name": "stdout",
          "text": [
            "x[15] = -0.5849236441\n"
          ]
        }
      ]
    },
    {
      "cell_type": "markdown",
      "source": [
        "The result is also terrible"
      ],
      "metadata": {
        "id": "BS9XydC_Wvjj"
      }
    },
    {
      "cell_type": "markdown",
      "source": [
        "#### Example #2"
      ],
      "metadata": {
        "id": "jM8xyag0W2Dc"
      }
    },
    {
      "cell_type": "markdown",
      "source": [
        "To see whether the poor performance of Cholesky/LDLT/LU is related to the ill-conditionedness of $A^TA$, we can generate a random problem, where $A$ is well conditioned, but $b\\notin R(A)$"
      ],
      "metadata": {
        "id": "lSepou0UXC34"
      }
    },
    {
      "cell_type": "code",
      "source": [
        "np.random.seed(42)\n",
        "\n",
        "A_rand = np.random.randn(100, 15)\n",
        "cond_num = np.linalg.cond(A_rand)\n",
        "print(f\"Condition number: {cond_num:.4e}\")\n",
        "x = np.random.randn(15)\n",
        "b = A_rand @ x + 0.001 * np.random.randn(100)"
      ],
      "metadata": {
        "id": "KnD3Plg1WyCJ",
        "colab": {
          "base_uri": "https://localhost:8080/"
        },
        "outputId": "47218418-6638-43c9-9015-906800e71e4a"
      },
      "execution_count": 97,
      "outputs": [
        {
          "output_type": "stream",
          "name": "stdout",
          "text": [
            "Condition number: 1.9510e+00\n"
          ]
        }
      ]
    },
    {
      "cell_type": "markdown",
      "source": [
        "##### Analytical solution"
      ],
      "metadata": {
        "id": "O-TT3MI7_BQL"
      }
    },
    {
      "cell_type": "code",
      "source": [
        "x_ls = np.linalg.inv(A_rand.T @ A_rand) @ A_rand.T @ b\n",
        "print(x_ls)\n",
        "print(x)\n",
        "print(np.linalg.norm(x_ls - x))"
      ],
      "metadata": {
        "colab": {
          "base_uri": "https://localhost:8080/"
        },
        "id": "6201SOhi_C-E",
        "outputId": "38ba7f6c-8913-4732-e64a-15ea27ab8133"
      },
      "execution_count": 98,
      "outputs": [
        {
          "output_type": "stream",
          "name": "stdout",
          "text": [
            "[ 0.7785 -0.5513 -0.8182 -0.0033 -0.1701 -0.4532  0.6965  0.9554  0.0883\n",
            "  1.4776 -1.1418 -0.1935 -0.7168 -1.8667 -0.0828]\n",
            "[ 0.7784 -0.5512 -0.8182 -0.0034 -0.1702 -0.4532  0.6964  0.9553  0.0884\n",
            "  1.4775 -1.1417 -0.1937 -0.7168 -1.8665 -0.0827]\n",
            "0.0003791852400117615\n"
          ]
        }
      ]
    },
    {
      "cell_type": "markdown",
      "source": [
        "##### Householder"
      ],
      "metadata": {
        "id": "ohjrX7FH-tFe"
      }
    },
    {
      "cell_type": "code",
      "source": [
        "Q, R = householder(A_rand)\n",
        "b_hh = Q[:, :A_rand.shape[1]].T @ b\n",
        "x_hh = back_substitution(R[:A_rand.shape[1],:], b_hh)\n",
        "print(x_hh)\n",
        "print(x)\n",
        "print(np.linalg.norm(x_hh - x))"
      ],
      "metadata": {
        "colab": {
          "base_uri": "https://localhost:8080/"
        },
        "id": "daKMrT5O-t9T",
        "outputId": "f93eb437-7f3b-46c4-9bee-d6c7296e4482"
      },
      "execution_count": 99,
      "outputs": [
        {
          "output_type": "stream",
          "name": "stdout",
          "text": [
            "[ 0.7785 -0.5513 -0.8182 -0.0033 -0.1701 -0.4532  0.6965  0.9554  0.0883\n",
            "  1.4776 -1.1418 -0.1935 -0.7168 -1.8667 -0.0828]\n",
            "[ 0.7784 -0.5512 -0.8182 -0.0034 -0.1702 -0.4532  0.6964  0.9553  0.0884\n",
            "  1.4775 -1.1417 -0.1937 -0.7168 -1.8665 -0.0827]\n",
            "0.00037918524001229686\n"
          ]
        }
      ]
    },
    {
      "cell_type": "markdown",
      "source": [
        "##### Givens"
      ],
      "metadata": {
        "id": "dlNx8rR2-3TJ"
      }
    },
    {
      "cell_type": "code",
      "source": [
        "Q, R = givens_rotation(A_rand)\n",
        "b_givens = Q[:, :A_rand.shape[1]].T @ b\n",
        "x_givens = back_substitution(R[:A_rand.shape[1],:], b_givens)\n",
        "print(x_givens)\n",
        "print(x)\n",
        "print(np.linalg.norm(x_givens - x))"
      ],
      "metadata": {
        "colab": {
          "base_uri": "https://localhost:8080/"
        },
        "id": "bdoFHV2g-4sU",
        "outputId": "4d8d2f89-64e7-4450-fb4e-66e2d01d7b52"
      },
      "execution_count": 100,
      "outputs": [
        {
          "output_type": "stream",
          "name": "stdout",
          "text": [
            "[ 0.7785 -0.5513 -0.8182 -0.0033 -0.1701 -0.4532  0.6965  0.9554  0.0883\n",
            "  1.4776 -1.1418 -0.1935 -0.7168 -1.8667 -0.0828]\n",
            "[ 0.7784 -0.5512 -0.8182 -0.0034 -0.1702 -0.4532  0.6964  0.9553  0.0884\n",
            "  1.4775 -1.1417 -0.1937 -0.7168 -1.8665 -0.0827]\n",
            "0.00037918524001225566\n"
          ]
        }
      ]
    },
    {
      "cell_type": "markdown",
      "source": [
        "##### MGS"
      ],
      "metadata": {
        "id": "9fFMyvyP-8AL"
      }
    },
    {
      "cell_type": "code",
      "source": [
        "Q, R = gram_schmidt(A_rand)\n",
        "b_mgs = Q.T @ b\n",
        "x_mgs = back_substitution(R, b_mgs)\n",
        "print(x_mgs)\n",
        "print(x)\n",
        "print(np.linalg.norm(x_mgs - x))"
      ],
      "metadata": {
        "colab": {
          "base_uri": "https://localhost:8080/"
        },
        "id": "mOz8sHvC-9JJ",
        "outputId": "738ae89e-14b1-4e1f-b0cb-47e6241802dd"
      },
      "execution_count": 101,
      "outputs": [
        {
          "output_type": "stream",
          "name": "stdout",
          "text": [
            "[ 0.7785 -0.5513 -0.8182 -0.0033 -0.1701 -0.4532  0.6965  0.9554  0.0883\n",
            "  1.4776 -1.1418 -0.1935 -0.7168 -1.8667 -0.0828]\n",
            "[ 0.7784 -0.5512 -0.8182 -0.0034 -0.1702 -0.4532  0.6964  0.9553  0.0884\n",
            "  1.4775 -1.1417 -0.1937 -0.7168 -1.8665 -0.0827]\n",
            "0.00037918524001246784\n"
          ]
        }
      ]
    },
    {
      "cell_type": "markdown",
      "source": [
        "##### Cholesky"
      ],
      "metadata": {
        "id": "jJ4Qo5m6XYUC"
      }
    },
    {
      "cell_type": "code",
      "source": [
        "L = cholesky_factorization(A_rand.T @ A_rand)\n",
        "c_ch = A_rand.T @ b\n",
        "y_ch = forward_substitution(L, c_ch)\n",
        "x_ch = back_substitution(L.T, y_ch)\n",
        "print(x_ch)\n",
        "print(x)\n",
        "print(np.linalg.norm(x_ch - x))"
      ],
      "metadata": {
        "colab": {
          "base_uri": "https://localhost:8080/"
        },
        "id": "5ub_josJXbyk",
        "outputId": "7104bb57-afbf-41ad-94a5-13ba77381555"
      },
      "execution_count": 102,
      "outputs": [
        {
          "output_type": "stream",
          "name": "stdout",
          "text": [
            "[ 0.7785 -0.5513 -0.8182 -0.0033 -0.1701 -0.4532  0.6965  0.9554  0.0883\n",
            "  1.4776 -1.1418 -0.1935 -0.7168 -1.8667 -0.0828]\n",
            "[ 0.7784 -0.5512 -0.8182 -0.0034 -0.1702 -0.4532  0.6964  0.9553  0.0884\n",
            "  1.4775 -1.1417 -0.1937 -0.7168 -1.8665 -0.0827]\n",
            "0.0003791852400118615\n"
          ]
        }
      ]
    },
    {
      "cell_type": "markdown",
      "source": [
        "##### LDLT"
      ],
      "metadata": {
        "id": "Hi6YbQzhXi-z"
      }
    },
    {
      "cell_type": "code",
      "source": [
        "L, D = ldlt_factorization(A_rand.T @ A_rand)\n",
        "y = forward_substitution(L, A_rand.T @ b)\n",
        "z = y / np.diag(D)\n",
        "x_ldlt = back_substitution(L.T, z)\n",
        "print(x_ldlt)\n",
        "print(x)\n",
        "print(np.linalg.norm(x_ldlt - x))"
      ],
      "metadata": {
        "colab": {
          "base_uri": "https://localhost:8080/"
        },
        "id": "s0_Zrqm0XjVo",
        "outputId": "f0c65a59-24a1-4846-820e-ca853803545e"
      },
      "execution_count": 103,
      "outputs": [
        {
          "output_type": "stream",
          "name": "stdout",
          "text": [
            "[ 0.7785 -0.5513 -0.8182 -0.0033 -0.1701 -0.4532  0.6965  0.9554  0.0883\n",
            "  1.4776 -1.1418 -0.1935 -0.7168 -1.8667 -0.0828]\n",
            "[ 0.7784 -0.5512 -0.8182 -0.0034 -0.1702 -0.4532  0.6964  0.9553  0.0884\n",
            "  1.4775 -1.1417 -0.1937 -0.7168 -1.8665 -0.0827]\n",
            "0.0003791852400118846\n"
          ]
        }
      ]
    },
    {
      "cell_type": "markdown",
      "source": [
        "##### LU with partial pivoting"
      ],
      "metadata": {
        "id": "61AmHkhvXxva"
      }
    },
    {
      "cell_type": "code",
      "source": [
        "p, l, u = lu_factorization(A_rand.T @ A_rand)\n",
        "y = forward_substitution(l, p @ A_rand.T @ b)\n",
        "x_lu = back_substitution(u, y)\n",
        "print(x_lu)\n",
        "print(x)\n",
        "print(np.linalg.norm(x_lu - x))"
      ],
      "metadata": {
        "colab": {
          "base_uri": "https://localhost:8080/"
        },
        "id": "Tdykuf8DXzdf",
        "outputId": "35020518-2e0d-4ef4-d4b4-002ff517d4ca"
      },
      "execution_count": 104,
      "outputs": [
        {
          "output_type": "stream",
          "name": "stdout",
          "text": [
            "[ 0.7785 -0.5513 -0.8182 -0.0033 -0.1701 -0.4532  0.6965  0.9554  0.0883\n",
            "  1.4776 -1.1418 -0.1935 -0.7168 -1.8667 -0.0828]\n",
            "[ 0.7784 -0.5512 -0.8182 -0.0034 -0.1702 -0.4532  0.6964  0.9553  0.0884\n",
            "  1.4775 -1.1417 -0.1937 -0.7168 -1.8665 -0.0827]\n",
            "0.00037918524001186746\n"
          ]
        }
      ]
    },
    {
      "cell_type": "markdown",
      "source": [
        "##### NumPy solver"
      ],
      "metadata": {
        "id": "Bq_-Z-cc6oUB"
      }
    },
    {
      "cell_type": "code",
      "source": [
        "x_np, _, _, _ = np.linalg.lstsq(A_rand, b, rcond=None)\n",
        "print(x_np)\n",
        "print(x)\n",
        "print(np.linalg.norm(x_np - x))"
      ],
      "metadata": {
        "colab": {
          "base_uri": "https://localhost:8080/"
        },
        "id": "JL9GoWWn6nq-",
        "outputId": "fd1db9e6-4e26-4772-b95e-8b72751b559a"
      },
      "execution_count": 105,
      "outputs": [
        {
          "output_type": "stream",
          "name": "stdout",
          "text": [
            "[ 0.7785 -0.5513 -0.8182 -0.0033 -0.1701 -0.4532  0.6965  0.9554  0.0883\n",
            "  1.4776 -1.1418 -0.1935 -0.7168 -1.8667 -0.0828]\n",
            "[ 0.7784 -0.5512 -0.8182 -0.0034 -0.1702 -0.4532  0.6964  0.9553  0.0884\n",
            "  1.4775 -1.1417 -0.1937 -0.7168 -1.8665 -0.0827]\n",
            "0.0003791852400125515\n"
          ]
        }
      ]
    },
    {
      "cell_type": "markdown",
      "source": [
        "We see that all methods performed very well\n",
        "\n",
        "Therefore, it is likely that computing $A^TA$ can amplify ill-conditionness of $A$ if $A$ is ill-conditioned\n",
        "\n",
        "As a result, for the full rank least squares problem here, we may just stay with QR (Householder) if we want to use factorization-based method"
      ],
      "metadata": {
        "id": "aLqtOEdaYMlo"
      }
    },
    {
      "cell_type": "markdown",
      "source": [
        "| **Method**                | **Solves Least Squares?** | **Notes on Numerical Stability**              |\n",
        "|---------------------------|---------------------------|-----------------------------------------------|\n",
        "| **Householder**| **Yes**                  | Numerically stable (does not form $A^TA$) |\n",
        "| **Cholesky/LDLT**              | **Yes** (via $A^TA$)| Less stable due to forming $A^TA$       |\n",
        "| **LU**  | **Yes** (via $A^TA$)| Less stable due to forming $A^TA$       |\n"
      ],
      "metadata": {
        "id": "4sDH3GoJZFE2"
      }
    }
  ]
}