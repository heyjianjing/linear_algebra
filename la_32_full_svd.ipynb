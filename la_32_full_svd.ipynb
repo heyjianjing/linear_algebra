{
  "nbformat": 4,
  "nbformat_minor": 0,
  "metadata": {
    "colab": {
      "provenance": []
    },
    "kernelspec": {
      "name": "python3",
      "display_name": "Python 3"
    },
    "language_info": {
      "name": "python"
    },
    "gpuClass": "standard"
  },
  "cells": [
    {
      "cell_type": "markdown",
      "source": [
        "#### Similar to `full` $QR$, we can extend SVD to `full SVD`"
      ],
      "metadata": {
        "id": "CfWMiHIGCqu8"
      }
    },
    {
      "cell_type": "markdown",
      "source": [
        "For $A\\in \\mathbf{R}^{m \\times n}$ with $\\text{rank}(A)=r$, its `compact` SVD is given by\n",
        "\n",
        "$$A=U\\Sigma V^T=\\begin{bmatrix}u_1 & \\cdots & u_r\\end{bmatrix}\\begin{bmatrix}\\sigma_1 &  & \\\\  & \\ddots & \\\\  &  & \\sigma_r \\end{bmatrix}\\begin{bmatrix}v_1^T \\\\ \\vdots \\\\ v_r^T\\end{bmatrix}=\\sum_{i=1}^r\\sigma_i u_i v_i^T$$\n",
        "\n",
        "where\n",
        "* $U\\in \\mathbf{R}^{m \\times r}$, $U^TU=I$\n",
        "* $V\\in \\mathbf{R}^{n \\times r}$, $V^TV=I$\n",
        "* $\\Sigma =\\text{diag}(\\sigma_1, \\cdots, \\sigma_r)$\n",
        "* $\\sigma_1, \\cdots, \\sigma_r$ are `nonzero` singular values of $A$\n",
        "* $v_i\\in \\mathbf{R}^n$ are `right singular vectors` of $A$\n",
        "* $u_i\\in \\mathbf{R}^m$ are `left singular vectors` of $A$"
      ],
      "metadata": {
        "id": "zIzK1MImE5hV"
      }
    },
    {
      "cell_type": "markdown",
      "source": [
        "We can then find $U_2\\in \\mathbf{R}^{m \\times (m-r)}$ and $V_2\\in \\mathbf{R}^{n \\times (n-r)}$ such that $U=\\begin{bmatrix}U_1 & U_2\\end{bmatrix}\\in \\mathbf{R}^{m \\times m}$ and $V=\\begin{bmatrix}V_1 & V_2\\end{bmatrix}\\in \\mathbf{R}^{n \\times n}$ are `orthogonal matrices`"
      ],
      "metadata": {
        "id": "qR8kvkEmxYTx"
      }
    },
    {
      "cell_type": "markdown",
      "source": [
        "Now, we can express `full SVD`, with $\\Sigma \\in \\mathbf{R}^{m \\times n}$ as\n",
        "\n"
      ],
      "metadata": {
        "id": "Sd02-qbZx7KI"
      }
    },
    {
      "cell_type": "markdown",
      "source": [
        "$$A=U\\Sigma V^T=\\begin{bmatrix}U_1 & U_2\\end{bmatrix}\\begin{bmatrix}\\begin{bmatrix}\\sigma_1 &  & \\\\  & \\ddots & \\\\  &  & \\sigma_r \\end{bmatrix} & 0_{r \\times (n-r)} \\\\ 0_{(m-r) \\times r} & 0_{(m-r) \\times (n-r)}  \\end{bmatrix}\\begin{bmatrix}V_1^T \\\\  V_2^T\\end{bmatrix}$$"
      ],
      "metadata": {
        "id": "3LLa8iMLyBc8"
      }
    },
    {
      "cell_type": "code",
      "source": [
        "import numpy as np\n",
        "np.set_printoptions(formatter={'float': '{: 0.4f}'.format})"
      ],
      "metadata": {
        "id": "WZc5zUIqx6We"
      },
      "execution_count": 8,
      "outputs": []
    },
    {
      "cell_type": "code",
      "source": [
        "A_tall = np.array([[1, 2 ,1],\n",
        "                  [3, 4, 3],\n",
        "                  [5, 6, 5] ,\n",
        "                  [2.5, 3, 2.5],\n",
        "                  [2.5, 3, 2.5]])\n",
        "\n",
        "# When full_matrices=False, size of sigma is smallest dim of A's height and width, not rank of A\n",
        "U, sigma, Vt = np.linalg.svd(A_tall, full_matrices=False)\n",
        "\n",
        "# So we manually truncate zero singular values and corresponding u and v\n",
        "non_zero_indices = sigma > 1e-10\n",
        "U = U[:, non_zero_indices]\n",
        "sigma = sigma[non_zero_indices]\n",
        "Vt = Vt[non_zero_indices, :]\n",
        "\n",
        "print(f'A shape m x n: \\n{A_tall.shape[0]} x {A_tall.shape[1]}')\n",
        "print(f'rank A r: \\n{np.linalg.matrix_rank(A_tall)}')\n",
        "print(f'\\nU from compact SVD (m x r): \\n{U}')\n",
        "print(f'\\nSigma from compact SVD (r x r): \\n{np.diag(sigma)}')\n",
        "print(f'\\nV from compact SVD (n x r): \\n{Vt.T}')\n",
        "print(f'\\nReconstruct A from compact SVD: \\n{U @ np.diag(sigma) @ Vt}')"
      ],
      "metadata": {
        "colab": {
          "base_uri": "https://localhost:8080/",
          "height": 0
        },
        "id": "QAxq3G2SzEe8",
        "outputId": "43b98f6b-c967-4ec9-8ed2-23e7e0216076"
      },
      "execution_count": 9,
      "outputs": [
        {
          "output_type": "stream",
          "name": "stdout",
          "text": [
            "A shape m x n: \n",
            "5 x 3\n",
            "rank A r: \n",
            "2\n",
            "\n",
            "U from compact SVD (m x r): \n",
            "[[-0.1836 -0.8887]\n",
            " [-0.4488 -0.3044]\n",
            " [-0.7141  0.2799]\n",
            " [-0.3570  0.1399]\n",
            " [-0.3570  0.1399]]\n",
            "\n",
            "Sigma from compact SVD (r x r): \n",
            "[[ 12.9845  0.0000]\n",
            " [ 0.0000  0.6351]]\n",
            "\n",
            "V from compact SVD (n x r): \n",
            "[[-0.5303  0.4677]\n",
            " [-0.6615 -0.7500]\n",
            " [-0.5303  0.4677]]\n",
            "\n",
            "Reconstruct A from compact SVD: \n",
            "[[ 1.0000  2.0000  1.0000]\n",
            " [ 3.0000  4.0000  3.0000]\n",
            " [ 5.0000  6.0000  5.0000]\n",
            " [ 2.5000  3.0000  2.5000]\n",
            " [ 2.5000  3.0000  2.5000]]\n"
          ]
        }
      ]
    },
    {
      "cell_type": "code",
      "source": [
        "U_full, sigma_full, Vt_full = np.linalg.svd(A_tall, full_matrices=True)\n",
        "\n",
        "# Full sigma would have same size as A_tall\n",
        "Sigma_full = np.zeros_like(A_tall)\n",
        "# Fill in singular values\n",
        "np.fill_diagonal(Sigma_full, sigma_full)\n",
        "\n",
        "print(f'A shape m x n: \\n{A_tall.shape[0]} x {A_tall.shape[1]}')\n",
        "print(f'\\nU from full SVD (m x m): \\n{U_full}')\n",
        "print(f'\\nRank U: \\n{np.linalg.matrix_rank(U_full)}')\n",
        "print(f'\\nSigma from full SVD (m x n, same shape as A): \\n{Sigma_full}')\n",
        "print(f'\\nV from full SVD (n x n): \\n{Vt_full.T}')\n",
        "print(f'\\nRank V: \\n{np.linalg.matrix_rank(Vt_full)}')\n",
        "print(f'\\nReconstruct A from full SVD: \\n{U_full @ Sigma_full @ Vt_full}')"
      ],
      "metadata": {
        "colab": {
          "base_uri": "https://localhost:8080/",
          "height": 0
        },
        "id": "GbekBJ3FzvES",
        "outputId": "90fcbacc-f4d6-4849-eeaa-cc0a06b61fa8"
      },
      "execution_count": 10,
      "outputs": [
        {
          "output_type": "stream",
          "name": "stdout",
          "text": [
            "A shape m x n: \n",
            "5 x 3\n",
            "\n",
            "U from full SVD (m x m): \n",
            "[[-0.1836 -0.8887 -0.4201  0.0000 -0.0000]\n",
            " [-0.4488 -0.3044  0.8402  0.0000  0.0000]\n",
            " [-0.7141  0.2799 -0.2801 -0.4082 -0.4082]\n",
            " [-0.3570  0.1399 -0.1400  0.9082 -0.0918]\n",
            " [-0.3570  0.1399 -0.1400 -0.0918  0.9082]]\n",
            "\n",
            "Rank U: \n",
            "5\n",
            "\n",
            "Sigma from full SVD (m x n, same shape as A): \n",
            "[[ 12.9845  0.0000  0.0000]\n",
            " [ 0.0000  0.6351  0.0000]\n",
            " [ 0.0000  0.0000  0.0000]\n",
            " [ 0.0000  0.0000  0.0000]\n",
            " [ 0.0000  0.0000  0.0000]]\n",
            "\n",
            "V from full SVD (n x n): \n",
            "[[-0.5303  0.4677  0.7071]\n",
            " [-0.6615 -0.7500  0.0000]\n",
            " [-0.5303  0.4677 -0.7071]]\n",
            "\n",
            "Rank V: \n",
            "3\n",
            "\n",
            "Reconstruct A from full SVD: \n",
            "[[ 1.0000  2.0000  1.0000]\n",
            " [ 3.0000  4.0000  3.0000]\n",
            " [ 5.0000  6.0000  5.0000]\n",
            " [ 2.5000  3.0000  2.5000]\n",
            " [ 2.5000  3.0000  2.5000]]\n"
          ]
        }
      ]
    },
    {
      "cell_type": "code",
      "source": [],
      "metadata": {
        "id": "rBSJUIby0FlY"
      },
      "execution_count": 10,
      "outputs": []
    }
  ]
}