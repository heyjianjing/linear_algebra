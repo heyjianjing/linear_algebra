{
  "nbformat": 4,
  "nbformat_minor": 0,
  "metadata": {
    "colab": {
      "provenance": []
    },
    "kernelspec": {
      "name": "python3",
      "display_name": "Python 3"
    },
    "language_info": {
      "name": "python"
    }
  },
  "cells": [
    {
      "cell_type": "markdown",
      "source": [
        "#### `Rank` of a matrix"
      ],
      "metadata": {
        "id": "A4SBwbS0YGjA"
      }
    },
    {
      "cell_type": "markdown",
      "source": [
        "For a matrix $A\\in \\mathbf{R}^{m \\times n}$, the `rank` of $A$ is defined as `dimension` of its range\n",
        "\n",
        "\n",
        "$$\\text{rank}(A)=\\dim R(A)$$"
      ],
      "metadata": {
        "id": "nidJ0w3oYKMk"
      }
    },
    {
      "cell_type": "markdown",
      "source": [
        "#### Matrix $A$ and its transpose have the `same` rank"
      ],
      "metadata": {
        "id": "5LrFlFGW7TEW"
      }
    },
    {
      "cell_type": "markdown",
      "source": [
        "We show $\\text{rank}(A)=\\text{rank}(A^T)$, or `column rank` equals `row rank`"
      ],
      "metadata": {
        "id": "eZqaiGJV_rt0"
      }
    },
    {
      "cell_type": "markdown",
      "source": [
        "`First`, assume $A$ has row rank of $r$, that is, each row of $A$ is a `linear combination` of $r$ vectors\n",
        "\n",
        "Then, $A$ can be decomposed as\n",
        "\n",
        "$$A=XY$$\n",
        "\n",
        "where $X\\in \\mathbf{R}^{m \\times r}$, and $Y\\in \\mathbf{R}^{r \\times n}$ and can be expressed as\n",
        "\n",
        "$$Y=\\begin{bmatrix}\\tilde{y_1}^T \\\\ \\tilde{y_2}^T \\\\ ... \\\\\\tilde{y_r}^T\\end{bmatrix}$$\n",
        "\n",
        "where `rows` of $y$, $\\tilde{y_i}^T \\in \\mathbf{R}^n$ is a `basis for rows` of $A$ as each row of $A$ can now be expressed as\n",
        "\n",
        "$$\\tilde{a_i}^T=x_{i, 1}\\tilde{y_1}^T+x_{i, 2}\\tilde{y_2}^T+\\cdots+x_{i, r}\\tilde{y_r}^T$$\n",
        "\n",
        "where $x_{i, j}$ is the `jth` element in `ith` row of $X$, $\\tilde{x_i}^T\\in \\mathbf{R}^r$"
      ],
      "metadata": {
        "id": "rFZrkZffANZc"
      }
    },
    {
      "cell_type": "markdown",
      "source": [
        "$$\\begin{bmatrix} | & - & \\tilde{a_i}^T & - & -\\\\ |& & & & \\\\a_i &&&A&\\\\|&&&&\\end{bmatrix}_{m \\times n}=\\begin{bmatrix} - &  \\tilde{x_i}^T &  -\\\\ &  & \\\\ &X&\\\\&&\\end{bmatrix}_{m \\times r}\\begin{bmatrix} - & - & \\tilde{y_i}^T & - & -\\\\ &&&Y&\\\\&&&&\\end{bmatrix}_{r \\times n}$$"
      ],
      "metadata": {
        "id": "ARhT3nJBC126"
      }
    },
    {
      "cell_type": "markdown",
      "source": [
        "Now, we see each column of $A$ is `linear combination of columns` of $X$ (recall 1st interpretation of matrix multiplication)\n",
        "\n",
        "As a result, $\\boxed{\\text{rank}(A)\\leq r = \\text{rank}(A^T)}$"
      ],
      "metadata": {
        "id": "rc58dFSfE94x"
      }
    },
    {
      "cell_type": "markdown",
      "source": [
        "`Second`, if column rank $\\text{rank}(A)=r$, we can similarly decompose $A$ into $A=XY$, where $X\\in \\mathbf{R}^{m \\times r}$, and $Y\\in \\mathbf{R}^{r \\times n}$, where the `columns` of $X$ are the `basis for columns` of $A$\n",
        "\n",
        "As a result, each row of $A$ is the linear combination of $r$ vectors (that is, $r$ rows in $Y$)\n",
        "\n",
        "Therefore, $\\boxed{\\text{rank}(A^T)\\leq r = \\text{rank}(A)}$"
      ],
      "metadata": {
        "id": "NIQI9LwkGcoQ"
      }
    },
    {
      "cell_type": "markdown",
      "source": [
        "So, row rank and column rank are the same for matrix $A$"
      ],
      "metadata": {
        "id": "vq8E-cpmHHP-"
      }
    },
    {
      "cell_type": "markdown",
      "source": [
        "The decomposition can be done via `QR decomposition` (in future notebook)"
      ],
      "metadata": {
        "id": "L3J_nSDhHjIX"
      }
    },
    {
      "cell_type": "markdown",
      "source": [
        "#### `Full rank` matrices#"
      ],
      "metadata": {
        "id": "Uo5mKfB-ITAL"
      }
    },
    {
      "cell_type": "markdown",
      "source": [
        "* for square matrices, full rank means non-singular\n",
        "* for tall matrices, full rank means `columns` are independent\n",
        "* for fat matrices, full rank means `rows` are independent"
      ],
      "metadata": {
        "id": "F2aiikgGIVj7"
      }
    },
    {
      "cell_type": "markdown",
      "source": [
        "#### `Change of basis`"
      ],
      "metadata": {
        "id": "XYuAkRZnIx1J"
      }
    },
    {
      "cell_type": "markdown",
      "source": [
        "Recap from early notebook\n",
        "\n",
        "Let $T=\\begin{bmatrix}t_1 \\, t_2 \\, \\cdots \\, t_n\\end{bmatrix}$ be another basis for $\\mathbf{R}^n$\n",
        "\n",
        "Then, for $y=Ax$ in $e_i$ basis, its formula for a vector $x_t$ expressed in $t_i$ basis is\n",
        "\n",
        "$$y_t=(T^{-1}AT)x_t$$\n",
        "\n",
        "Essentially, it performs\n",
        "\n",
        "* `Translate` $x_t$ to express in $e_i$ basis\n",
        "* `Transform` according to $y=Ax$\n",
        "* `Translate` output back to express in $t_i$ basis"
      ],
      "metadata": {
        "id": "ualmHNnnI6zz"
      }
    },
    {
      "cell_type": "code",
      "source": [],
      "metadata": {
        "id": "Mw8SeylLK-RK"
      },
      "execution_count": null,
      "outputs": []
    }
  ]
}