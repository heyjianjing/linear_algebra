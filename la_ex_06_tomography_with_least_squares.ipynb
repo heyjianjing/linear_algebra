{
  "nbformat": 4,
  "nbformat_minor": 0,
  "metadata": {
    "colab": {
      "provenance": []
    },
    "kernelspec": {
      "name": "python3",
      "display_name": "Python 3"
    },
    "language_info": {
      "name": "python"
    },
    "gpuClass": "standard"
  },
  "cells": [
    {
      "cell_type": "markdown",
      "source": [
        "#### Tomography"
      ],
      "metadata": {
        "id": "tBgjhWTRP6qg"
      }
    },
    {
      "cell_type": "markdown",
      "source": [
        "X-ray tomography of a cross-section of a body can be considered scanning this cross-section image using rotating parallel X-rays and determine how much each X-ray is attenuated due to interacting with what is inside the body\n",
        "\n",
        "Tomography can be simplified to a least sqaures problem by\n",
        "* discretizing cross-section into an image of discrete `pixels`\n",
        "* `scanning` this image using rotating parallel X-rays\n",
        "* for each X-ray traversing the image, the measurement of its intensity is directly related to its attenuation, which we can compute as sum of pixel intensity of all image pixels, weighted by the length that the ray `intersects` with each pixel\n",
        "\n",
        "Since the measurement is a linear combination of all pixel intensities, we can treat all measurements as a vector `y` of length `n_meas`, establish a measurement matrix `A` with `n_meas` rows and `n_pixel` columns, and flatten the image `x` into a `n_pixel` vector, and solve the least squares problem `y=Ax` to recover `x`"
      ],
      "metadata": {
        "id": "vTSxWMNQQTNL"
      }
    },
    {
      "cell_type": "markdown",
      "source": [
        "#### `Coordinates` of pixels"
      ],
      "metadata": {
        "id": "3PjAa9zyQABf"
      }
    },
    {
      "cell_type": "code",
      "source": [
        "import numpy as np\n",
        "import matplotlib.pyplot as plt\n",
        "from matplotlib.patches import Arc\n",
        "from skimage.data import shepp_logan_phantom\n",
        "from skimage.transform import rescale, resize\n",
        "\n",
        "plt.style.use('dark_background')\n",
        "np.set_printoptions(formatter={'float': '{: 0.1f}'.format})"
      ],
      "metadata": {
        "id": "DG3qNronXxTZ"
      },
      "execution_count": null,
      "outputs": []
    },
    {
      "cell_type": "code",
      "source": [
        "np.random.seed(42)\n",
        "\n",
        "n_grid = 4\n",
        "grid = np.ones((n_grid, n_grid)) * np.array([[1], [2], [3], [4]])\n",
        "print(grid)\n",
        "theta = np.arctan(0.25)\n",
        "d = 0.58\n",
        "\n",
        "fig, ax = plt.subplots()\n",
        "cax = ax.imshow(grid, extent=[0, n_grid, 0, n_grid], origin='upper')\n",
        "\n",
        "ax.plot([0,n_grid],[n_grid/2+0.1, n_grid/2+1.1],'w',linewidth=2)\n",
        "ax.plot([n_grid/2, n_grid/2+1.5],[n_grid/2+0.6, n_grid/2+0.6],'w',linewidth=2)\n",
        "ax.text(n_grid/2+1.2, n_grid/2+0.7, r'$\\theta$', horizontalalignment='center', verticalalignment='center', fontsize=14, color='w')\n",
        "theta_arc = Arc((n_grid/2+0.1, n_grid/2+0.6), 1.5,1.5, theta1=0, theta2=np.rad2deg(theta), color='w', zorder=4)\n",
        "ax.add_patch(theta_arc)\n",
        "ax.plot([n_grid/2, n_grid/2-d*np.sin(theta)],[n_grid/2, n_grid/2+d*np.cos(theta)],'w',linewidth=2)\n",
        "ax.text(n_grid/2, n_grid/2+0.7, r'$x_0, y_0$', horizontalalignment='right', verticalalignment='center', fontsize=14, color='w')\n",
        "\n",
        "\n",
        "ax.set_xticks(np.arange(0, n_grid+1, 1))\n",
        "ax.set_yticks(np.arange(0, n_grid+1, 1))\n",
        "ax.grid(which='both', color='black', linestyle='-', linewidth=2)\n",
        "\n",
        "ax.set_xlabel('x')\n",
        "ax.set_ylabel('y')\n",
        "\n",
        "# plt.gca().invert_yaxis()\n",
        "plt.colorbar(cax)\n",
        "plt.show()"
      ],
      "metadata": {
        "colab": {
          "base_uri": "https://localhost:8080/",
          "height": 526
        },
        "id": "toCR-RuCJ4rL",
        "outputId": "4e8020b3-02af-4832-fc7f-bc11119d3d99"
      },
      "execution_count": null,
      "outputs": [
        {
          "output_type": "stream",
          "name": "stdout",
          "text": [
            "[[ 1.0  1.0  1.0  1.0]\n",
            " [ 2.0  2.0  2.0  2.0]\n",
            " [ 3.0  3.0  3.0  3.0]\n",
            " [ 4.0  4.0  4.0  4.0]]\n"
          ]
        },
        {
          "output_type": "display_data",
          "data": {
            "text/plain": [
              "<Figure size 640x480 with 2 Axes>"
            ],
            "image/png": "[encoded data removed]"
          },
          "metadata": {}
        }
      ]
    },
    {
      "cell_type": "markdown",
      "source": [
        "#### Function to compute length of intersection for each pixel given a ray"
      ],
      "metadata": {
        "id": "d9JJqGZYStzM"
      }
    },
    {
      "cell_type": "code",
      "source": [
        "def get_intersection(d, theta, n):\n",
        "    # For angles in [0, pi/4], no transform needed\n",
        "\n",
        "    # For angles in [pi/4, 3*pi/4], flip along diagonal and transpose result\n",
        "    # Essentially solving for [-pi/4, pi/4]\n",
        "    if np.pi/4 < theta < 3*np.pi/4:\n",
        "        return get_intersection(d, np.pi/2 - theta, n).T\n",
        "\n",
        "    # For angles in [3*pi/4, pi], redefine the line to go in opposite direction\n",
        "    # This converts the problem into [-pi/4, 0], handled below\n",
        "    if theta > np.pi/2:\n",
        "        d = -d\n",
        "        theta = theta - np.pi\n",
        "\n",
        "    # For angles in [-pi/4, 0], flip along w.r.t. x-axis\n",
        "    # Essentially solving for [0, pi/4]\n",
        "    if theta < 0:\n",
        "        return np.flipud(get_intersection(-d, -theta, n))\n",
        "\n",
        "    # Ensure theta is within the valid range [0, pi/4], since it should have been adjusted by now\n",
        "    if theta > np.pi/4 or theta < 0:\n",
        "        print('Invalid angle')\n",
        "        return None\n",
        "\n",
        "    intersect_mat = np.zeros((n, n))\n",
        "\n",
        "    # Projection of center of grid to the ray\n",
        "    x0 = n / 2 - d * np.sin(theta)\n",
        "    y0 = n / 2 + d * np.cos(theta)\n",
        "\n",
        "    # y intercept\n",
        "    y = y0 - (x0 - 0) * np.tan(theta) # where ray intersects left boundary of the grid\n",
        "\n",
        "    # Find the pixel row index where the ray enters the grid (which is not row index of array)\n",
        "    y_idx = int(np.ceil(y)) # 2.1 -> 3 from which pixel does ray enter the grid (index start from 1, so it can be compared to grid size)\n",
        "\n",
        "    # Distance from intecept to boundary with pixel below 2.1 -> 0.1\n",
        "    dy = (y + n) % 1\n",
        "\n",
        "    # Loop through columns\n",
        "    for x_idx in range(n):\n",
        "        dy_next = dy + 1 * np.tan(theta) # where the ray intersects the boundary between current pixel COLUMN and next pixel COLUMN\n",
        "\n",
        "        # When ray enters next column from a pixel that is within the SAME ROW of current pixel\n",
        "        # This means, for current column, the ray passes through a single pixel\n",
        "        if dy_next < 1:\n",
        "            # When current row is within the grid\n",
        "            if 1 <= y_idx <= n:\n",
        "                intersect_mat[n - y_idx, x_idx] = 1 / np.cos(theta)  # Intersection length of current pixel\n",
        "            dy = dy_next  # Move to next iteration with updated distance of intercept to the edge of pixel below\n",
        "\n",
        "        # When ray enters next column from a pixel that is ABOVE the row of current pixel\n",
        "        # This means, for current column, the ray passes through two pixels\n",
        "        # Conditions at beginning limits theta within 0 to pi/4, so a ray cannot pass through more than two pixels in the same column\n",
        "        else:\n",
        "            # When current row is within the grid\n",
        "            if 1 <= y_idx <= n:\n",
        "                intersect_mat[n - y_idx, x_idx] = (1 - dy) / np.sin(theta)  # Intersection length of current pixel\n",
        "\n",
        "            # When the row above is also within the grid\n",
        "            if 1 <= y_idx + 1 <= n:\n",
        "                intersect_mat[n - (y_idx + 1), x_idx] = (dy_next - 1) / np.sin(theta)  # Intersection length of pixel above, note top row of pixel is first row of array\n",
        "\n",
        "            dy = dy_next - 1 # Since the ray intesects next column one row above, we need to substract one to get distance between intecept to pixel below\n",
        "            y_idx += 1  # Also add one to pixel row index\n",
        "\n",
        "    return intersect_mat"
      ],
      "metadata": {
        "id": "ts5FZvJBvlbm"
      },
      "execution_count": null,
      "outputs": []
    },
    {
      "cell_type": "markdown",
      "source": [
        "#### Simulate measurement by applying `get_intersection` for difference offset and angle"
      ],
      "metadata": {
        "id": "tofPQ7m5S1EA"
      }
    },
    {
      "cell_type": "code",
      "source": [
        "def get_measurement(img, n_grid=30, n_ray=35, n_theta=35, sigma=0.7):\n",
        "    # Flatten image into a vector\n",
        "    x = img.flatten()\n",
        "\n",
        "    # Total measurements\n",
        "    n_meas = n_ray * n_theta\n",
        "\n",
        "    y = np.zeros(n_meas)  # measure from each line\n",
        "    d_list = np.zeros(n_meas)  # d of each line\n",
        "    theta_list = np.zeros(n_meas)  # theta of each line\n",
        "\n",
        "    # Loop over each angle and displacement to perform measurements\n",
        "    i=0\n",
        "    intersect_vec_mat = np.empty((n_meas, len(x)))\n",
        "    for i_theta in range(n_theta):\n",
        "        for i_d in range(n_ray):\n",
        "            # Get displacement for equally spaced parallel lines\n",
        "            # Full coverage needs 1.4 * n_grid total span, for angle at pi/4\n",
        "            d_list[i] = 0.7 * n_grid * (i_d - n_ray / 2 - 0.5) / (n_ray / 2)\n",
        "\n",
        "            # Get angle, equally spaced from 0 to pi\n",
        "            theta_list[i] = np.pi * i_theta / n_theta\n",
        "\n",
        "            # Get length of intersection with each pixel (a matrix)\n",
        "            intersect_mat = get_intersection(d_list[i], theta_list[i], n_grid)\n",
        "\n",
        "            # Flatten matrix into vector\n",
        "            intersect_vec = intersect_mat.flatten()\n",
        "\n",
        "            intersect_vec_mat[i] = intersect_vec\n",
        "\n",
        "            # Compute line integral as weighted sum + noise\n",
        "            y[i] = np.dot(intersect_vec, x) + np.random.normal(0, sigma)\n",
        "\n",
        "            i += 1\n",
        "\n",
        "    return y, d_list, theta_list, intersect_vec_mat"
      ],
      "metadata": {
        "id": "0veKuLBGCiQZ"
      },
      "execution_count": null,
      "outputs": []
    },
    {
      "cell_type": "markdown",
      "source": [
        "#### `Regularized` least squares solution to recover image"
      ],
      "metadata": {
        "id": "2UV9stC9S9Vu"
      }
    },
    {
      "cell_type": "markdown",
      "source": [
        "Here, we assume that we have less number of measurements than number of pixels, that is `n_ray * n_theta < n_grid **2`\n",
        "\n",
        "In such case, the least squares problem becomes `underdetermined`, as there are infinite number of possible solutions\n",
        "\n",
        "Therefore, we need to use `regularization` to constrain the solution to the ones that have the desired properties\n",
        "\n",
        "We compare two simple regularizations here\n",
        "* $l_2$ regularization, which says that the `sum of squares` of all pixel intensities should not be too large\n",
        "* Laplacian regularization, which says that each pixel should not be too different from its four `neighbouring pixels` in terms of intensity"
      ],
      "metadata": {
        "id": "oMlxwMHdBcDb"
      }
    },
    {
      "cell_type": "code",
      "source": [
        "n_grid = 40\n",
        "n_ray = 60\n",
        "n_theta = 15\n",
        "sigma = 0.1\n",
        "\n",
        "img = shepp_logan_phantom()\n",
        "img = resize(img, (n_grid, n_grid))\n",
        "\n",
        "y, d_list, theta_list, A = get_measurement(img, n_grid, n_ray, n_theta, sigma)\n",
        "\n",
        "print(y.shape)\n",
        "# print(np.max(y))\n",
        "print(d_list.shape)\n",
        "print(theta_list.shape)\n",
        "print(A.shape)\n",
        "\n",
        "# Least squares with l2 regularization\n",
        "lambda_l2=10\n",
        "x_ls = np.linalg.inv(A.T @ A+lambda_l2*np.eye(A.shape[1])) @ A.T @ y\n",
        "img_ls = x_ls.reshape(n_grid, n_grid)\n",
        "\n",
        "# Least squares with Laplacian regularization\n",
        "# Minimize sum of squared difference of pixels from their 4 neighbours\n",
        "def laplacian_matrix(n_grid):\n",
        "    n_pixel = n_grid ** 2\n",
        "    laplacian_mat = np.zeros((n_pixel, n_pixel))\n",
        "\n",
        "    for i in range(n_pixel):\n",
        "        # Main diagonal of Laplacian matrix\n",
        "        # -4 comes from 2D discrete Laplacian operator\n",
        "        # each pixel is subtracted from its four neighbors\n",
        "        # Main diagonal stores weight of central pixel\n",
        "        # since it's compared to its four neighbors, the value is -4\n",
        "        laplacian_mat[i, i] = -4\n",
        "\n",
        "        # Weights for neighbour to the left and right of central pixel\n",
        "        if i % n_grid != 0: # not for left most pixel\n",
        "            laplacian_mat[i, i - 1] = 1\n",
        "        if (i + 1) % n_grid != 0: # not for right most pixel\n",
        "            laplacian_mat[i, i + 1] = 1\n",
        "\n",
        "        # Weights for neighbour on the top and bottom of central pixel\n",
        "        if i >= n_grid:  # not for top pixel\n",
        "            laplacian_mat[i, i - n_grid] = 1\n",
        "        if i < n_pixel - n_grid:  # not for bottom pixel\n",
        "            laplacian_mat[i, i + n_grid] = 1\n",
        "\n",
        "    return laplacian_mat\n",
        "\n",
        "laplacian_mat = laplacian_matrix(n_grid)\n",
        "lambda_laplace = 10\n",
        "x_laplacian = np.linalg.inv(A.T @ A + lambda_laplace * (laplacian_mat.T @ laplacian_mat)) @ A.T @ y\n",
        "img_laplacian = x_laplacian.reshape(n_grid, n_grid)\n",
        "\n",
        "fig_2, ax_2 = plt.subplots(1, 3, figsize=(15, 5))\n",
        "ax_2[0].imshow(img, cmap='gray')\n",
        "ax_2[0].set_title('Original image')\n",
        "ax_2[1].imshow(img_ls, cmap='gray')\n",
        "ax_2[1].set_title('Reconstruction, L2 regularization')\n",
        "ax_2[2].imshow(img_laplacian, cmap='gray')\n",
        "ax_2[2].set_title('Reconstruction, Laplacian regularization')\n",
        "plt.show()"
      ],
      "metadata": {
        "colab": {
          "base_uri": "https://localhost:8080/",
          "height": 495
        },
        "id": "-czSS6BhCkB_",
        "outputId": "f1129d80-f5c2-4d6d-fc1a-600639bf7de9"
      },
      "execution_count": null,
      "outputs": [
        {
          "output_type": "stream",
          "name": "stdout",
          "text": [
            "(900,)\n",
            "(900,)\n",
            "(900,)\n",
            "(900, 1600)\n"
          ]
        },
        {
          "output_type": "display_data",
          "data": {
            "text/plain": [
              "<Figure size 1500x500 with 3 Axes>"
            ],
            "image/png": "[encoded data removed]"
          },
          "metadata": {}
        }
      ]
    }
  ]
}