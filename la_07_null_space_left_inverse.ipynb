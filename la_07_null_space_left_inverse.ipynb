{
  "nbformat": 4,
  "nbformat_minor": 0,
  "metadata": {
    "colab": {
      "provenance": []
    },
    "kernelspec": {
      "name": "python3",
      "display_name": "Python 3"
    },
    "language_info": {
      "name": "python"
    }
  },
  "cells": [
    {
      "cell_type": "markdown",
      "source": [
        "#### Nullspace of a matrix"
      ],
      "metadata": {
        "id": "A4SBwbS0YGjA"
      }
    },
    {
      "cell_type": "markdown",
      "source": [
        "For a matrix $A\\in \\mathbf{R}^{m \\times n}$, its `nullspace` is defined as\n",
        "\n",
        "$$N(A)=\\{x\\in \\mathbf{R}^n |Ax=0\\}$$"
      ],
      "metadata": {
        "id": "nidJ0w3oYKMk"
      }
    },
    {
      "cell_type": "markdown",
      "source": [
        "* $N(A)$ is set of vectors `mapped to zero` by $Ax$\n",
        "* any vector in $N(A)$ is `orthogonal to rows` of $A$\n",
        "* if $y=Ax$ and $z\\in N(A)$, then $y=A(x+z)$, that is $x$ and $x+z$ are `indistinguishable` from $y$\n",
        "* $0\\in \\mathbf{R}^n$ is always in $N(A)$"
      ],
      "metadata": {
        "id": "mEI5FOktYfYb"
      }
    },
    {
      "cell_type": "markdown",
      "source": [
        "#### Zero nullspace"
      ],
      "metadata": {
        "id": "Z1hkakMIaERY"
      }
    },
    {
      "cell_type": "markdown",
      "source": [
        "$A$ is called `one-to-one` if $N(A)=\\{0\\}$\n",
        "\n",
        "This is equivalent to saying\n",
        "\n",
        "* $x$ can be `uniquely` determined by $y=Ax$\n",
        "* mapping from $x$ to $y$ is `one-to-one`: different $x$ $\\Rightarrow$ different $y$\n",
        "* `columns` of $A$ form `independent` set (hence, a basis for their span)\n",
        "  * If they are not independent, then there exists a column $a_j$ that can be expressed as linear combination of the rest columns $a_j=\\beta_1a_1\\cdots+\\beta_{j-1}a_{j-1}+\\beta_{j+1}a_{j+1}+\\cdots +\\beta_na_n$\n",
        "  * If we take $x=[\\beta_1,\\cdots,\\beta_{j-1}, -1, \\beta_{j+1}, \\cdots, \\beta_n]^T$, we can see that $x\\in N(A)$, so contradiction\n",
        "* $A$ has `left inverse` $B\\in \\mathbf{R}^{n \\times m}$, such that $BA=I$, where $I$ is the identity matrix\n",
        "  * as $By=BAx=x$, $B$ can be considered a `perfect decoder` to retrieve $x$ from $y$ as a linear combination of columns of $B$\n",
        "* $\\det (A^TA)\\neq 0$"
      ],
      "metadata": {
        "id": "CRfjqzZhaG8g"
      }
    },
    {
      "cell_type": "markdown",
      "source": [
        "#### On the 4th statement (left inverse)"
      ],
      "metadata": {
        "id": "1AHZ7cwPrevY"
      }
    },
    {
      "cell_type": "markdown",
      "source": [
        "(1) show $A$ has left inverse $B$ $\\Longrightarrow$ $N(A)=\\{0\\}$"
      ],
      "metadata": {
        "id": "e8oy3Ioyrzdf"
      }
    },
    {
      "cell_type": "markdown",
      "source": [
        "Let $Ax=0$ for some $x$ (this $x$ must exist as $0\\in \\mathbf{R}^n$ is always in nullspace), then\n",
        "\n",
        "$$0=B(Ax)=(BA)x=Ix=x$$\n",
        "\n",
        "This means, if $A$ has a left inverse $B$, the only solution to $Ax=0$ is $x=0$\n",
        "\n",
        "Therefore, $N(A)=\\{0\\}$\n",
        "\n",
        "Linear independent set of columns constrain matrix $A$ to be `tall` or `square`"
      ],
      "metadata": {
        "id": "paGxRPuxr-gf"
      }
    },
    {
      "cell_type": "markdown",
      "source": [
        "(2) show $N(A)=\\{0\\}$  $\\Longrightarrow$ $A$ has left inverse B"
      ],
      "metadata": {
        "id": "__alS8lFtrYT"
      }
    },
    {
      "cell_type": "markdown",
      "source": [
        "We first show that $N(A)=\\{0\\} \\Longrightarrow$ $A^TA$ is invertible, then construct $B$ with $A^TA$"
      ],
      "metadata": {
        "id": "ocHfX-0KwT8K"
      }
    },
    {
      "cell_type": "markdown",
      "source": [
        "Since $N(A)=\\{0\\}$, we know that the only solution to $Ax=0$ is $x=0$\n",
        "\n",
        "And we know $Ax=0 \\Longrightarrow A^TAx=0$ and $A^TAx=0 \\Longrightarrow x^TA^TAx=\\|Ax\\|^2=0 \\Longrightarrow Ax=0$\n",
        "\n",
        "Therefore, $Ax=0$ and $A^TAx=0$ have the `same solution`\n",
        "\n",
        "If $x=0$ is the only solution to $Ax=0$, it must be the only solution to $A^TAx=0$\n",
        "\n",
        "Thus, $A^TA$ is `invertible`"
      ],
      "metadata": {
        "id": "qL3hPqokwVPo"
      }
    },
    {
      "cell_type": "markdown",
      "source": [
        "Next, we construct\n",
        "\n",
        "$$B=(A^TA)^{-1}A^T$$\n",
        "\n",
        "and verify that\n",
        "\n",
        "$$BA=(A^TA)^{-1}A^TA=I$$\n",
        "\n",
        "That is, $B$ is a left inverse of $A$"
      ],
      "metadata": {
        "id": "URKJzTcixRqX"
      }
    },
    {
      "cell_type": "markdown",
      "source": [
        "#### On the 5th statement (determinant)"
      ],
      "metadata": {
        "id": "IAKClBDCdFkS"
      }
    },
    {
      "cell_type": "markdown",
      "source": [
        "(1) show $N(A) = \\{0\\} \\Longrightarrow \\det(A^TA)\\neq 0$"
      ],
      "metadata": {
        "id": "BziQSwqveW4x"
      }
    },
    {
      "cell_type": "markdown",
      "source": [
        "From above, we know $N(A)=\\{0\\} \\Longrightarrow A^TA $ is invertible, therefore, $\\det (A^TA)\\neq 0$"
      ],
      "metadata": {
        "id": "46E3_k5PfCQj"
      }
    },
    {
      "cell_type": "markdown",
      "source": [
        "(2) show $\\det(A^TA)\\neq 0  \\Rightarrow N(A)= \\{0\\}$"
      ],
      "metadata": {
        "id": "PeVNRrA4fyrD"
      }
    },
    {
      "cell_type": "markdown",
      "source": [
        "Since $\\det (A^TA)\\neq 0$, then, $A^TA$ is invertible\n",
        "\n",
        "Therefore, the only solution to $A^TAx=0$ is $x=0$\n",
        "\n",
        "Since solution to $A^TAx=0$ and $Ax=0$ is the same, we can see that $x=0$ must also be the only solution to $Ax=0$\n",
        "\n",
        "So, $N(A)=\\{0\\}$"
      ],
      "metadata": {
        "id": "Pio10rF5aC68"
      }
    },
    {
      "cell_type": "code",
      "source": [],
      "metadata": {
        "id": "25gUmmn9jXeS"
      },
      "execution_count": null,
      "outputs": []
    }
  ]
}