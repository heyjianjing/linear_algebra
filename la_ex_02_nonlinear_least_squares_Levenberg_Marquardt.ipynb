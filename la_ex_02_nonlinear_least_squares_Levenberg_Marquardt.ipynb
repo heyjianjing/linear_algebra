{
  "nbformat": 4,
  "nbformat_minor": 0,
  "metadata": {
    "colab": {
      "provenance": []
    },
    "kernelspec": {
      "name": "python3",
      "display_name": "Python 3"
    },
    "language_info": {
      "name": "python"
    },
    "gpuClass": "standard"
  },
  "cells": [
    {
      "cell_type": "markdown",
      "source": [
        "#### Issue with Gauss-Newton"
      ],
      "metadata": {
        "id": "IeJEkDNecyy8"
      }
    },
    {
      "cell_type": "markdown",
      "source": [
        "The issue with Gauss-Newton is that the method does not check whether the solution to NLLS through linearization is indeed `close to the point of linearization`. As a result, if the solution is further away, then the linearization itself is invalid in the first place"
      ],
      "metadata": {
        "id": "PIRXMs8jdKNb"
      }
    },
    {
      "cell_type": "markdown",
      "source": [
        "As a result, regularization will be used to `penalize` such scenario\n",
        "\n",
        "$$\\lambda_1\\|A_1x-y_1\\|^2+\\lambda_2\\|A_2x-y_2\\|^2+\\cdots+\\lambda_k\\|A_kx-y_k\\|^2$$\n",
        "\n",
        "For which the least squares solution is\n",
        "\n",
        "$$x_{ls}=\\boxed{(\\lambda_1A_1^TA_1+\\lambda_2A_2^TA_2+\\cdots +\\lambda_kA_k^TA_k)^{-1}(\\lambda_1A_1^Ty_1+\\lambda_2A_2^Ty_2+\\cdots +\\lambda_kA_k^Ty_k)}$$\n",
        "\n",
        "One of these algorithms is `Levenberg-Marquardt`, which uses one regularization term"
      ],
      "metadata": {
        "id": "HVO96lhac23m"
      }
    },
    {
      "cell_type": "markdown",
      "source": [
        "#### Levenberg-Marquardt"
      ],
      "metadata": {
        "id": "_6TocEJdrrBo"
      }
    },
    {
      "cell_type": "markdown",
      "source": [
        "* `Guess` for $x^{k}$\n",
        "\n",
        "* `Linearize` $f(x)$ near $x^{k}$\n",
        "$$f(x)\\approx f(x^{k})+Df(x^{k})(x-x^{k})$$\n",
        "where $Df$ is the Jacobian (`tall` matrix): $Df_{ij}=\\frac{\\partial f_i}{\\partial x_j}$, then write in $\\color{orange}{Df(x^{k})}x-\\color{red}{y^{k}}$ form\n",
        "$$\\color{orange}{Df(x^{k})}x-\\color{red}{\\left(Df(x^{k})x^{k}-f(x^{k})\\right)}$$\n",
        "\n",
        "* Rather than minimizing $\\|\\color{orange}{Df(x^{k})}x-\\color{red}{y^{k}}\\|^2$ as in Gauss-Newton, `Levenberg-Marquardt` minimizes\n",
        "$$\\|\\color{orange}{Df(x^{k})}x-\\color{red}{y^{k}}\\|^2+\\mu\\|x-x^{k}\\|^2$$\n",
        "Essentially, the `regularization` term penalizes when the solution $x$ moves further away from $x^{k}$, invalidating the assumption that $x$ is in the vicinity of $x^{k}$\n",
        "\n",
        "\n",
        "* New guess is `regularized` linear least-squares solution\n",
        "$$\\begin{align*}\n",
        "x^{k+1}&=\\left(\\color{orange}{Df(x^{k})}^T \\color{orange}{Df(x^{k})}+\\mu I\\right)^{-1}\\left(\\color{orange}{Df(x^{k})}^T \\color{red}{y^{k}}+\\mu x^{k}\\right) \\\\\n",
        "&=\\left(\\color{orange}{Df(x^{k})}^T \\color{orange}{Df(x^{k})}+\\mu I\\right)^{-1}\\left(\\color{orange}{Df(x^{k})}^T \\color{red}{\\left(Df(x^{k})x^{k}-f(x^{k})\\right)}+\\mu x^{k}\\right) \\\\\n",
        "&=\\left(\\color{orange}{Df(x^{k})}^T \\color{orange}{Df(x^{k})}+\\mu I\\right)^{-1}\\left(\\color{orange}{Df(x^{k})}^T \\color{orange}{Df(x^{k})}x^{k}-\\color{orange}{Df(x^{k})}^Tf(x^{k})+\\mu x^{k}\\right) \\\\\n",
        "&=\\left(\\color{orange}{Df(x^{k})}^T \\color{orange}{Df(x^{k})}+\\mu I\\right)^{-1}\\left(\\left(\\color{orange}{Df(x^{k})}^T \\color{orange}{Df(x^{k})}+\\mu I \\right)x^{k}-\\color{orange}{Df(x^{k})}^Tf(x^{k})\\right) \\\\\n",
        "&=\\boxed{x^{k}-\\left(\\color{orange}{Df(x^{k})}^T \\color{orange}{Df(x^{k})}+\\mu I\\right)^{-1}\\color{orange}{Df(x^{k})}^Tf(x^{k})}\n",
        "\\end{align*}$$\n",
        "\n",
        "* In addition, `Levenberg-Marquardt` will only accept $x^{k+1}$ if it reduces the residual, and the balance term $\\mu$ will be adjusted depending on whether $x^{k+1}$ is accepted or not"
      ],
      "metadata": {
        "id": "RROOVlQSrtHD"
      }
    },
    {
      "cell_type": "markdown",
      "source": [
        "#### Position estimate from ranges example"
      ],
      "metadata": {
        "id": "pd6ObQu6OQns"
      }
    },
    {
      "cell_type": "markdown",
      "source": [
        "Estimate position $x=\\begin{bmatrix}x_1 \\\\x_2\\end{bmatrix}\\in \\mathbf{R}^2$ from approximate distances to beacons at locations $b_1, \\cdots, b_m \\in \\mathbf{R}^2$\n",
        "\n",
        "* measurement at each beacon is $\\rho_i=\\|x-b_i\\|+v_i$\n",
        "* NLLS finds $x$ that minimizes\n",
        "\n",
        "$$\\|f(x)\\|^2=\\sum_{i=1}^m(\\rho_i-\\|x-b_i\\|)^2$$"
      ],
      "metadata": {
        "id": "ESzW_b1MOV1-"
      }
    },
    {
      "cell_type": "markdown",
      "source": [
        "##### Generate data"
      ],
      "metadata": {
        "id": "A9qAIsM7PF2G"
      }
    },
    {
      "cell_type": "code",
      "source": [
        "import numpy as np\n",
        "import matplotlib.pyplot as plt\n",
        "\n",
        "plt.style.use('dark_background')\n",
        "np.set_printoptions(formatter={'float': '{: 0.2e}'.format})"
      ],
      "metadata": {
        "id": "dObwfCnWBzI6"
      },
      "execution_count": null,
      "outputs": []
    },
    {
      "cell_type": "code",
      "source": [
        "np.random.seed(42)\n",
        "\n",
        "# Beacons\n",
        "m_beacons = 10\n",
        "beacon_pos = np.random.rand(m_beacons, 2) * 20\n",
        "\n",
        "# Object\n",
        "obj_pos = np.array([12, 5]) # (2,)\n",
        "\n",
        "# Measured distances with some noise\n",
        "noise = np.random.normal(0, 0.5, m_beacons)  # (10,)\n",
        "diff_vec = beacon_pos - obj_pos\n",
        "rho = np.sqrt(np.sum(diff_vec ** 2, axis=1)) + noise\n",
        "\n",
        "plt.figure(figsize=(6, 6))\n",
        "plt.scatter(beacon_pos[:, 0], beacon_pos[:, 1], c='c', label='Beacons')\n",
        "plt.scatter(obj_pos[0], obj_pos[1], c='r', marker='x', label='Object')\n",
        "plt.legend(loc='upper left')\n",
        "plt.xlabel('x')\n",
        "plt.ylabel('ye')\n",
        "# plt.grid(True)\n",
        "plt.show()\n",
        "\n",
        "print('Beacons:\\n', beacon_pos)\n",
        "print('\\nTrue position:\\n', obj_pos)\n",
        "print('\\nMeasured distances (rho):\\n', rho)\n",
        "print('\\nTrue distances:\\n', np.sqrt(np.sum(diff_vec ** 2, axis=1)))"
      ],
      "metadata": {
        "id": "R50YjyTxhKYS",
        "colab": {
          "base_uri": "https://localhost:8080/",
          "height": 935
        },
        "outputId": "4d041ac9-229e-4e16-d111-25ea9834652b"
      },
      "execution_count": null,
      "outputs": [
        {
          "output_type": "display_data",
          "data": {
            "text/plain": [
              "<Figure size 600x600 with 1 Axes>"
            ],
            "image/png": "[encoded data removed]"
          },
          "metadata": {}
        },
        {
          "output_type": "stream",
          "name": "stdout",
          "text": [
            "Beacons:\n",
            " [[ 7.49e+00  1.90e+01]\n",
            " [ 1.46e+01  1.20e+01]\n",
            " [ 3.12e+00  3.12e+00]\n",
            " [ 1.16e+00  1.73e+01]\n",
            " [ 1.20e+01  1.42e+01]\n",
            " [ 4.12e-01  1.94e+01]\n",
            " [ 1.66e+01  4.25e+00]\n",
            " [ 3.64e+00  3.67e+00]\n",
            " [ 6.08e+00  1.05e+01]\n",
            " [ 8.64e+00  5.82e+00]]\n",
            "\n",
            "True position:\n",
            " [12  5]\n",
            "\n",
            "Measured distances (rho):\n",
            " [ 1.42e+01  7.61e+00  8.62e+00  1.57e+01  9.89e+00  1.84e+01  4.74e+00\n",
            "  7.76e+00  7.80e+00  3.52e+00]\n",
            "\n",
            "True distances:\n",
            " [ 1.47e+01  7.46e+00  9.08e+00  1.64e+01  9.16e+00  1.85e+01  4.71e+00\n",
            "  8.47e+00  8.07e+00  3.46e+00]\n"
          ]
        }
      ]
    },
    {
      "cell_type": "markdown",
      "source": [
        "##### Compute Jacobian"
      ],
      "metadata": {
        "id": "AhXxD03-PIgm"
      }
    },
    {
      "cell_type": "markdown",
      "source": [
        "The residual for the `ith` beacon is expressed as\n",
        "\n",
        "$$\\begin{align*}\n",
        "f_i(x)&=\\rho_i-\\|x-b_i\\| \\\\\n",
        "&=\\rho_i-\\sqrt{(x_1-b_{i1})^2+(x_2-b_{i2})^2} \\\\\n",
        "&=\\rho_i-\\sqrt{d_i}\n",
        "\\end{align*}$$\n",
        "\n",
        "Now, we can compute the Jacobian\n",
        "\n",
        "$$\\begin{align*}Df_{ij}&=\\frac{\\partial f_i}{\\partial x_j} \\\\\n",
        "&=\\frac{\\partial f_i}{\\partial d_i} \\frac{\\partial d_i}{\\partial x_j}\\\\\n",
        "&=-\\frac{1}{2}\\frac{1}{\\sqrt{d_i}}\\cdot 2(x_j-b_{ij})\\\\\n",
        "&=-\\frac{x_j-b_{ij}}{\\sqrt{d_i}}\n",
        "\\end{align*}$$"
      ],
      "metadata": {
        "id": "3mqovGqMPPgi"
      }
    },
    {
      "cell_type": "code",
      "source": [
        "# Compute residual function\n",
        "def residual(x, beacons, rho):\n",
        "    diffs = beacons - x # (10, 2)\n",
        "    # print(diffs.shape)\n",
        "    return rho - np.sqrt(np.sum(diffs ** 2, axis=1)) # (10,)\n",
        "\n",
        "# Compute Jacobian of residuals\n",
        "def jacobian(x, beacons):\n",
        "    diffs = x - beacons # (10, 2)\n",
        "    # print(diffs.shape)\n",
        "    dists = np.sqrt(np.sum(diffs ** 2, axis=1)).reshape(-1, 1) # (10, 1)\n",
        "    # print(dists.shape)\n",
        "    return -diffs / dists # (10, 2)\n",
        "\n",
        "# Test to see whether shapes are correct\n",
        "x_test = np.array([3., 2.])\n",
        "\n",
        "residual_test = residual(x_test, beacon_pos, rho)\n",
        "jacobian_test = jacobian(x_test, beacon_pos)\n",
        "\n",
        "print('Initial residuals shape:', residual_test.shape)\n",
        "print('\\nInitial residuals:\\n', residual_test)\n",
        "print('\\nInitial Jacobian shape:', jacobian_test.shape)\n",
        "print('\\nInitial Jacobian:\\n', jacobian_test)"
      ],
      "metadata": {
        "colab": {
          "base_uri": "https://localhost:8080/"
        },
        "id": "SNQOaEU2Sh_y",
        "outputId": "b4b6bc29-6465-4c1d-8a99-fbd6b6d08db6"
      },
      "execution_count": null,
      "outputs": [
        {
          "output_type": "stream",
          "name": "stdout",
          "text": [
            "Initial residuals shape: (10,)\n",
            "\n",
            "Initial residuals:\n",
            " [-3.38e+00 -7.71e+00  7.50e+00  2.72e-01 -5.25e+00  7.80e-01 -9.09e+00\n",
            "  5.97e+00 -1.24e+00 -3.30e+00]\n",
            "\n",
            "Initial Jacobian shape: (10, 2)\n",
            "\n",
            "Initial Jacobian:\n",
            " [[ 2.55e-01  9.67e-01]\n",
            " [ 7.59e-01  6.51e-01]\n",
            " [ 1.07e-01  9.94e-01]\n",
            " [-1.19e-01  9.93e-01]\n",
            " [ 5.96e-01  8.03e-01]\n",
            " [-1.47e-01  9.89e-01]\n",
            " [ 9.87e-01  1.62e-01]\n",
            " [ 3.57e-01  9.34e-01]\n",
            " [ 3.41e-01  9.40e-01]\n",
            " [ 8.28e-01  5.61e-01]]\n"
          ]
        }
      ]
    },
    {
      "cell_type": "markdown",
      "source": [
        "##### Iterations"
      ],
      "metadata": {
        "id": "rGe5v7x1W7ob"
      }
    },
    {
      "cell_type": "code",
      "source": [
        "max_iterations = 10\n",
        "tolerance = 1e-6\n",
        "lambda_value = 1e-3\n",
        "lambda_factor_down = 0.8\n",
        "lambda_factor_up=1.5\n",
        "\n",
        "# x_est = np.mean(beacon_pos, axis=0)\n",
        "x_est = np.array([14, 18])\n",
        "estimates = [x_est.copy()]\n",
        "\n",
        "for i in range(max_iterations):\n",
        "    f = residual(x_est, beacon_pos, rho)\n",
        "    Df = jacobian(x_est, beacon_pos)\n",
        "\n",
        "    eigenvalues,_ = np.linalg.eigh(Df.T @ Df)\n",
        "    print(f\"\\nIter: {i}, eigenvalues of Df.T @ Df: {eigenvalues}\")\n",
        "\n",
        "    # Levenberg-Marquardt update step\n",
        "    A = Df.T @ Df + lambda_value * np.eye(2)\n",
        "    delta_x = np.linalg.inv(A) @ (Df.T @ f)\n",
        "    new_x_est = x_est - delta_x\n",
        "    new_residual = residual(new_x_est, beacon_pos, rho)\n",
        "    print(f\"Iter: {i}, new residual: {np.sum(new_residual**2)}\")\n",
        "    print(f\"Iter: {i}, old residual: {np.sum(f**2)}\")\n",
        "\n",
        "    # Whether to accept new x\n",
        "    if np.sum(new_residual**2) < np.sum(f**2):\n",
        "        print(f\"Iter: {i}, new x accepted\")\n",
        "        x_est = new_x_est\n",
        "        # If new x accepted, then make lambda smaller\n",
        "        lambda_value *= lambda_factor_down\n",
        "    else:\n",
        "        # Otherwise, make it larger\n",
        "        lambda_value *= lambda_factor_up\n",
        "\n",
        "    # Append new estimate\n",
        "    estimates.append(x_est.copy())\n",
        "\n",
        "    if np.linalg.norm(delta_x) < tolerance:\n",
        "        print(f'Converged after {i+1} iterations')\n",
        "        break\n",
        "\n",
        "# Final estimated position\n",
        "estimated_position = x_est"
      ],
      "metadata": {
        "colab": {
          "base_uri": "https://localhost:8080/"
        },
        "id": "glkv-A09TBWZ",
        "outputId": "152dc7c3-d90f-4142-caf1-a9410275a4cb"
      },
      "execution_count": null,
      "outputs": [
        {
          "output_type": "stream",
          "name": "stdout",
          "text": [
            "\n",
            "Iter: 0, eigenvalues of Df.T @ Df: [ 3.22e+00  6.78e+00]\n",
            "Iter: 0, new residual: 217.34772724821204\n",
            "Iter: 0, old residual: 508.0698576930032\n",
            "Iter: 0, new x accepted\n",
            "\n",
            "Iter: 1, eigenvalues of Df.T @ Df: [ 2.84e+00  7.16e+00]\n",
            "Iter: 1, new residual: 59.76599623320328\n",
            "Iter: 1, old residual: 217.34772724821204\n",
            "Iter: 1, new x accepted\n",
            "\n",
            "Iter: 2, eigenvalues of Df.T @ Df: [ 2.53e+00  7.47e+00]\n",
            "Iter: 2, new residual: 2.0670952795639073\n",
            "Iter: 2, old residual: 59.76599623320328\n",
            "Iter: 2, new x accepted\n",
            "\n",
            "Iter: 3, eigenvalues of Df.T @ Df: [ 3.50e+00  6.50e+00]\n",
            "Iter: 3, new residual: 1.2917742280324163\n",
            "Iter: 3, old residual: 2.0670952795639073\n",
            "Iter: 3, new x accepted\n",
            "\n",
            "Iter: 4, eigenvalues of Df.T @ Df: [ 3.57e+00  6.43e+00]\n",
            "Iter: 4, new residual: 1.2916473621477516\n",
            "Iter: 4, old residual: 1.2917742280324163\n",
            "Iter: 4, new x accepted\n",
            "\n",
            "Iter: 5, eigenvalues of Df.T @ Df: [ 3.57e+00  6.43e+00]\n",
            "Iter: 5, new residual: 1.2916473603801075\n",
            "Iter: 5, old residual: 1.2916473621477516\n",
            "Iter: 5, new x accepted\n",
            "\n",
            "Iter: 6, eigenvalues of Df.T @ Df: [ 3.57e+00  6.43e+00]\n",
            "Iter: 6, new residual: 1.2916473603800172\n",
            "Iter: 6, old residual: 1.2916473603801075\n",
            "Iter: 6, new x accepted\n",
            "Converged after 7 iterations\n"
          ]
        }
      ]
    },
    {
      "cell_type": "code",
      "source": [
        "estimates_array = np.array(estimates)\n",
        "\n",
        "plt.figure(figsize=(6, 6))\n",
        "plt.scatter(beacon_pos[:, 0], beacon_pos[:, 1], c='c', label='Beacons')\n",
        "plt.scatter(obj_pos[0], obj_pos[1],s=40, c='y', marker='x', label='Object', zorder=5)\n",
        "plt.scatter(estimated_position[0], estimated_position[1], c='orange', marker='o', label='Estimated position', zorder=5)\n",
        "\n",
        "# Plot trajectory\n",
        "plt.plot(estimates_array[:, 0], estimates_array[:, 1], '-^', label='Estimate trajectory', color='m')\n",
        "\n",
        "plt.annotate('', xy=(estimates_array[-1, 0], estimates_array[-1, 1]),\n",
        "             xytext=(estimates_array[-2, 0], estimates_array[-2, 1]),\n",
        "             arrowprops=dict(arrowstyle='->', color='m', lw=2))\n",
        "\n",
        "plt.legend(loc='upper left')\n",
        "plt.title('Using Levenberg-Marquardt')\n",
        "plt.xlabel('x')\n",
        "plt.ylabel('y')\n",
        "plt.show()\n",
        "\n",
        "# Output final estimated position\n",
        "print(f'Estimated position: {estimated_position}')\n",
        "print(f'Estimation error: {np.linalg.norm(estimated_position - obj_pos)}')"
      ],
      "metadata": {
        "colab": {
          "base_uri": "https://localhost:8080/",
          "height": 600
        },
        "id": "laZm8zXLZEFZ",
        "outputId": "c1849e1d-ba1c-42f9-9944-955266d8308f"
      },
      "execution_count": null,
      "outputs": [
        {
          "output_type": "display_data",
          "data": {
            "text/plain": [
              "<Figure size 600x600 with 1 Axes>"
            ],
            "image/png": "[encoded data removed]"
          },
          "metadata": {}
        },
        {
          "output_type": "stream",
          "name": "stdout",
          "text": [
            "Estimated position: [ 1.16e+01  4.92e+00]\n",
            "Estimation error: 0.4166318531969591\n"
          ]
        }
      ]
    },
    {
      "cell_type": "code",
      "source": [],
      "metadata": {
        "id": "27Vw44cbe0uA"
      },
      "execution_count": null,
      "outputs": []
    }
  ]
}