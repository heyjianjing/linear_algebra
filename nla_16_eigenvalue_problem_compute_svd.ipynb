{
  "nbformat": 4,
  "nbformat_minor": 0,
  "metadata": {
    "colab": {
      "provenance": []
    },
    "kernelspec": {
      "name": "python3",
      "display_name": "Python 3"
    },
    "language_info": {
      "name": "python"
    }
  },
  "cells": [
    {
      "cell_type": "markdown",
      "source": [
        "#### Computation of SVD"
      ],
      "metadata": {
        "id": "OamUjAHmrhte"
      }
    },
    {
      "cell_type": "markdown",
      "source": [
        "\n",
        "For matrix $A\\in \\mathbf{R}^{m \\times n}$ (tall, square or fat), its SVD is given by\n",
        "\n",
        "$$A=U\\Sigma V^T=\\sum_{i=1}^r\\sigma_i u_i v_i^T$$\n",
        "\n",
        "where\n",
        "* $A\\in \\mathbf{R}^{m \\times n}$, $\\text{rank}(A)=r$\n",
        "* $U\\in \\mathbf{R}^{m \\times r}$, $U^TU=I$\n",
        "* $V\\in \\mathbf{R}^{n \\times r}$, $V^TV=I$\n",
        "* $\\Sigma =\\text{diag}(\\sigma_1, \\cdots, \\sigma_r)$, $\\sigma_1 \\geq\\cdots\\geq \\sigma_r > 0$"
      ],
      "metadata": {
        "id": "SsabkC2B5RcG"
      }
    },
    {
      "cell_type": "markdown",
      "source": [
        "In practice, a two phase approach is often used\n",
        "\n",
        "* #1 Turn $A$ into a bidiagonal matrix $B$\n",
        "* #2 Do SVD on $B$"
      ],
      "metadata": {
        "id": "sr_CmhFHquSr"
      }
    },
    {
      "cell_type": "markdown",
      "source": [
        "#### Phase one"
      ],
      "metadata": {
        "id": "iTZUJ8_Raw2V"
      }
    },
    {
      "cell_type": "markdown",
      "source": [
        "The idea of phase one is to apply alternately Householder reflector on the left and on the right\n",
        "\n",
        "$$\\begin{align*}A:\\begin{bmatrix} \\times & \\times & \\times \\\\\\times & \\times & \\times\\\\\\times & \\times & \\times\\\\\\times & \\times & \\times\\end{bmatrix} &\\rightarrow U_1^TA\\rightarrow \\begin{bmatrix} \\times & \\times & \\times \\\\ 0& \\times & \\times\\\\ 0 & \\times & \\times\\\\ 0 & \\times & \\times\\end{bmatrix}\\rightarrow Q_1^TAV_1\\rightarrow\\begin{bmatrix} \\times & \\times & 0 \\\\ 0& \\times & \\times\\\\ 0 & \\times & \\times\\\\ 0 & \\times & \\times\\end{bmatrix}\\rightarrow Q_2^TQ_1^TAV_1\\rightarrow\\begin{bmatrix} \\times & \\times & 0 \\\\ 0& \\times & \\times\\\\ 0 & 0 & \\times\\\\ 0 & 0 & \\times\\end{bmatrix}\\\\&\n",
        "\\rightarrow Q_3^TQ_2^TQ_1^TAV_1\\rightarrow \\begin{bmatrix} \\times & \\times & 0 \\\\ 0& \\times & \\times\\\\ 0 & 0 & \\times\\\\ 0 & 0 & 0\\end{bmatrix}\\end{align*}$$\n",
        "\n",
        "We cannot turn $A$ into diagonal as right multiplication of Householder reflector would destroy the column just modified"
      ],
      "metadata": {
        "id": "xxo7CONiax2F"
      }
    },
    {
      "cell_type": "code",
      "source": [
        "import matplotlib.pyplot as plt\n",
        "import numpy as np\n",
        "np.set_printoptions(formatter={'float': '{: 0.4f}'.format})\n",
        "\n",
        "plt.style.use('dark_background')\n",
        "# color: https://matplotlib.org/stable/gallery/color/named_colors.htm"
      ],
      "metadata": {
        "id": "64VKzPhM8fWC"
      },
      "execution_count": null,
      "outputs": []
    },
    {
      "cell_type": "code",
      "source": [
        "def bidiagonalization(A):\n",
        "    m, n = A.shape\n",
        "    U_T = np.identity(m)\n",
        "    B = A.copy()\n",
        "    V_T = np.identity(n)\n",
        "\n",
        "    for i in range(min(m, n)):\n",
        "        if i < m:\n",
        "            x = B[i:, i]\n",
        "            if not np.allclose(x[1:], 0):\n",
        "                v = x.copy()\n",
        "                sgn = np.sign(v[0]) if v[0] != 0 else 1.0\n",
        "                v[0] += sgn * np.linalg.norm(x)\n",
        "                v /= np.linalg.norm(v)\n",
        "                # Householder from left\n",
        "                # Same as Householder for QR\n",
        "                B[i:, i:] -= 2 * np.outer(v, v) @ B[i:, i:]\n",
        "                U_T[i:, :] -= 2 * np.outer(v, v) @ U_T[i:, :]\n",
        "\n",
        "        if i < n - 2:\n",
        "            x = B[i, i+1:]\n",
        "            if not np.allclose(x[1:], 0):\n",
        "                v = x.copy()\n",
        "                sgn = np.sign(v[0]) if v[0] != 0 else 1.0\n",
        "                v[0] += sgn * np.linalg.norm(x)\n",
        "                v /= np.linalg.norm(v)\n",
        "                # Householder from right\n",
        "                # B^T = (I-vv^T)B^T, so B = B - B @ (vv^T)\n",
        "                # [i+1:, i:] in B^T will be modified, which is [i:, i+1:] in B\n",
        "                B[i:, i+1:] -= 2 * B[i:, i+1:] @ np.outer(v, v)\n",
        "                # BV, same as V^TB^T, V^T = V^T - (vv^T) @ V^T\n",
        "                # [i+1:, :] in V^T will be modified, same as Householder from left\n",
        "                V_T[i+1:, :] -= 2 * np.outer(v, v) @ V_T[i+1:, :]\n",
        "\n",
        "    # We need U and V_T\n",
        "    return U_T.T, B, V_T"
      ],
      "metadata": {
        "id": "UMOuIHCQtGeT"
      },
      "execution_count": null,
      "outputs": []
    },
    {
      "cell_type": "code",
      "source": [
        "np.random.seed(42)\n",
        "\n",
        "A = np.random.rand(6, 3)\n",
        "U, B, V_T = bidiagonalization(A)\n",
        "\n",
        "print(\"U\\n\", U)\n",
        "print(\"\\nBidiagonal B\\n\", B)\n",
        "print(\"\\nV\\n\", V_T.T)\n",
        "\n",
        "print(\"\\nOrthogonality of U\\n\", U.T @ U)\n",
        "print(\"\\nOrthogonality of V\\n\", V_T @ V_T.T)\n",
        "\n",
        "A_reconstructed = U @ B @ V_T\n",
        "print(\"\\nOriginal A:\\n\", A)\n",
        "print(\"\\nReconstructed A:\\n\", A_reconstructed)\n",
        "print(\"\\nReconstruction error:\", np.linalg.norm(A - A_reconstructed))"
      ],
      "metadata": {
        "colab": {
          "base_uri": "https://localhost:8080/"
        },
        "id": "BdOzZjietrB3",
        "outputId": "4d075b4a-5743-4b99-ade0-1ddc0567abf7"
      },
      "execution_count": null,
      "outputs": [
        {
          "output_type": "stream",
          "name": "stdout",
          "text": [
            "U\n",
            " [[-0.2848  0.5490 -0.3409 -0.5904 -0.1877 -0.3429]\n",
            " [-0.4552 -0.2261 -0.2326  0.2383 -0.7540  0.2497]\n",
            " [-0.0442  0.6377 -0.2695  0.7035  0.1513  0.0314]\n",
            " [-0.5383  0.1637  0.7706  0.1275 -0.0111 -0.2704]\n",
            " [-0.6329 -0.3378 -0.3575  0.0004  0.5978  0.0122]\n",
            " [-0.1394  0.3162  0.1881 -0.2890  0.1260  0.8636]]\n",
            "\n",
            "Bidiagonal B\n",
            " [[-1.3153  1.1643  0.0000]\n",
            " [ 0.0000 -1.4048 -0.4371]\n",
            " [-0.0000  0.0000  0.6834]\n",
            " [-0.0000 -0.0000  0.0000]\n",
            " [ 0.0000 -0.0000  0.0000]\n",
            " [-0.0000  0.0000  0.0000]]\n",
            "\n",
            "V\n",
            " [[ 1.0000  0.0000  0.0000]\n",
            " [ 0.0000 -0.4878 -0.8730]\n",
            " [ 0.0000 -0.8730  0.4878]]\n",
            "\n",
            "Orthogonality of U\n",
            " [[ 1.0000 -0.0000  0.0000 -0.0000 -0.0000 -0.0000]\n",
            " [-0.0000  1.0000 -0.0000  0.0000 -0.0000  0.0000]\n",
            " [ 0.0000 -0.0000  1.0000  0.0000 -0.0000  0.0000]\n",
            " [-0.0000  0.0000  0.0000  1.0000  0.0000 -0.0000]\n",
            " [-0.0000 -0.0000 -0.0000  0.0000  1.0000 -0.0000]\n",
            " [-0.0000  0.0000  0.0000 -0.0000 -0.0000  1.0000]]\n",
            "\n",
            "Orthogonality of V\n",
            " [[ 1.0000  0.0000  0.0000]\n",
            " [ 0.0000  1.0000  0.0000]\n",
            " [ 0.0000  0.0000  1.0000]]\n",
            "\n",
            "Original A:\n",
            " [[ 0.3745  0.9507  0.7320]\n",
            " [ 0.5987  0.1560  0.1560]\n",
            " [ 0.0581  0.8662  0.6011]\n",
            " [ 0.7081  0.0206  0.9699]\n",
            " [ 0.8324  0.2123  0.1818]\n",
            " [ 0.1834  0.3042  0.5248]]\n",
            "\n",
            "Reconstructed A:\n",
            " [[ 0.3745  0.9507  0.7320]\n",
            " [ 0.5987  0.1560  0.1560]\n",
            " [ 0.0581  0.8662  0.6011]\n",
            " [ 0.7081  0.0206  0.9699]\n",
            " [ 0.8324  0.2123  0.1818]\n",
            " [ 0.1834  0.3042  0.5248]]\n",
            "\n",
            "Reconstruction error: 1.0836455303010794e-15\n"
          ]
        }
      ]
    },
    {
      "cell_type": "markdown",
      "source": [
        "#### Phase two (TBA)"
      ],
      "metadata": {
        "id": "GqFz1xmNplLa"
      }
    },
    {
      "cell_type": "code",
      "source": [],
      "metadata": {
        "id": "eZaVl7AGom0F"
      },
      "execution_count": null,
      "outputs": []
    }
  ]
}