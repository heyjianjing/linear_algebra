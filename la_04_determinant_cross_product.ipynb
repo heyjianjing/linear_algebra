{
  "nbformat": 4,
  "nbformat_minor": 0,
  "metadata": {
    "colab": {
      "provenance": []
    },
    "kernelspec": {
      "name": "python3",
      "display_name": "Python 3"
    },
    "language_info": {
      "name": "python"
    }
  },
  "cells": [
    {
      "cell_type": "markdown",
      "source": [
        "#### Concept of determinant"
      ],
      "metadata": {
        "id": "cAvNgUEGZHF1"
      }
    },
    {
      "cell_type": "markdown",
      "source": [
        "Determinant of a matrix $A$ is the `signed scaling factor` of unit square, cube, etc. defined by `basis vectors` $e_i$, before and after transformation induced by $A$\n",
        "\n",
        "The `sign` of determinant is determined using right hand rule"
      ],
      "metadata": {
        "id": "FFUmogHNXZlo"
      }
    },
    {
      "cell_type": "markdown",
      "source": [
        "For example, in 2D, determinant of matrix $A$ is the `area of parallelogram` defined by transformed $e_1$ and $e_2$ after transformation induced by $A$, namely $e'_1$ and $e'_2$\n",
        "\n",
        "If $e'_1$ and $e'_2$ no longer follow right hand rule, then, determinant is negative"
      ],
      "metadata": {
        "id": "VkoKHY0PB4Sd"
      }
    },
    {
      "cell_type": "markdown",
      "source": [
        "#### Relation to cross-product"
      ],
      "metadata": {
        "id": "1J1k4JygTteA"
      }
    },
    {
      "cell_type": "markdown",
      "source": [
        "The cross-product of two vectors\n",
        "\n",
        "$$p=v \\times w$$\n",
        "\n",
        "is a `vector` perpendicular to both per right hand rule and a `length` that equals the `area of parallelogram` defined by $v$ and $w$"
      ],
      "metadata": {
        "id": "IIhrH6eDT6S-"
      }
    },
    {
      "cell_type": "markdown",
      "source": [
        "With this, $p\\cdot x$ computes the `volume of parallelepiped` defined by $x$, $v$, and $w$\n",
        "\n",
        "This is because\n",
        "\n",
        "* $p\\cdot x$ finds the projection length of $x$ onto $p$, scaled by $\\|p\\|$\n",
        "* since $p$ is perpendicular to both $v$ and $w$, the projection length of $x$ in the direction of $p$ is the `height` of the parallelepiped defined by $x$, $v$, and $w$\n",
        "* the scaling factor $\\|p\\|$ is the `area` of parallelogram defined by $v$ and $w$"
      ],
      "metadata": {
        "id": "40SAvPN1anYy"
      }
    },
    {
      "cell_type": "markdown",
      "source": [
        "As a result, $p \\cdot x$ is equivalent to the determinant of matrix whose columns are $x$, $v$, and $w$\n",
        "\n",
        "$$\\begin{bmatrix}p_1\\\\p_2\\\\p_3\\end{bmatrix}\\cdot \\begin{bmatrix}x_1\\\\x_2\\\\x_3\\end{bmatrix}=\\det\\left(\\begin{bmatrix}x_1& v_1 & w_1\\\\x_2& v_2 & w_2\\\\x_3& v_3 & w_3\\end{bmatrix}\\right)$$"
      ],
      "metadata": {
        "id": "zvXSgnngcAqR"
      }
    },
    {
      "cell_type": "code",
      "source": [],
      "metadata": {
        "id": "ipLR5D13U6cA"
      },
      "execution_count": null,
      "outputs": []
    }
  ]
}