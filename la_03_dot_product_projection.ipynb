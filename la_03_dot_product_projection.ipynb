{
  "nbformat": 4,
  "nbformat_minor": 0,
  "metadata": {
    "colab": {
      "provenance": []
    },
    "kernelspec": {
      "name": "python3",
      "display_name": "Python 3"
    },
    "language_info": {
      "name": "python"
    }
  },
  "cells": [
    {
      "cell_type": "markdown",
      "source": [
        "#### Algebraic definition of dot product"
      ],
      "metadata": {
        "id": "cAvNgUEGZHF1"
      }
    },
    {
      "cell_type": "markdown",
      "source": [
        "For\n",
        "\n",
        "$$a=\\begin{bmatrix}a_1\\\\a_2\\\\\\vdots\\\\a_n\\end{bmatrix}, \\, b=\\begin{bmatrix}b_1\\\\b_2\\\\\\vdots\\\\b_n\\end{bmatrix}$$\n",
        "\n",
        "Definition of `dot product` is\n",
        "\n",
        "$$a\\cdot b=\\sum_{i=1}^n a_ib_i$$"
      ],
      "metadata": {
        "id": "FFUmogHNXZlo"
      }
    },
    {
      "cell_type": "markdown",
      "source": [
        "#### Equivalence with projection"
      ],
      "metadata": {
        "id": "1J1k4JygTteA"
      }
    },
    {
      "cell_type": "markdown",
      "source": [
        "First we show\n",
        "\n",
        "$$a\\cdot b =\\|a\\|\\|b\\|\\cos \\theta$$"
      ],
      "metadata": {
        "id": "IIhrH6eDT6S-"
      }
    },
    {
      "cell_type": "markdown",
      "source": [
        "Define a vector $c=a-b$, we have\n",
        "\n",
        "$$\\begin{align*}\n",
        "\\|c\\|^2&=\\sum_{i=1}^n c_i^2\\\\\n",
        "&=c\\cdot c \\\\\n",
        "&=(a-b)\\cdot (a-b)\\\\\n",
        "&=\\sum_{i=1}^n (a_i-b_i)(a_i-b_i) \\\\\n",
        "&=\\sum_{i=1}^n a_i^2+b_i^2-2a_ib_i \\\\\n",
        "&=\\sum_{i=1}^n a_i^2+\\sum_{i=1}^nb_i^2-2\\sum_{i=1}^na_ib_i \\\\\n",
        "&=a\\cdot a+b\\cdot b-2(a\\cdot b)\\\\\n",
        "&=\\|a\\|^2+\\|b\\|^2-2(a\\cdot b)\n",
        "\\end{align*}$$"
      ],
      "metadata": {
        "id": "equWTGQ6UAP7"
      }
    },
    {
      "cell_type": "markdown",
      "source": [
        "On the other hand, by the `law of cosines for triangle`, we have\n",
        "\n",
        "$$\n",
        "\\|c\\|^2=\\|a\\|^2+\\|b\\|^2-2\\|a\\|\\|b\\|\\cos \\theta\n",
        "$$"
      ],
      "metadata": {
        "id": "Vr-6YnfYVmGw"
      }
    },
    {
      "cell_type": "markdown",
      "source": [
        "Therefore\n",
        "\n",
        "$$a\\cdot b = \\|a\\|\\|b\\|\\cos\\theta$$"
      ],
      "metadata": {
        "id": "AgePDvO9Vn4g"
      }
    },
    {
      "cell_type": "markdown",
      "source": [
        "Geometrically, $\\|a\\|\\|b\\|\\cos \\theta$ is the `signed projection length` of vector $a$ in direction of vector $b$ (as $\\cos$ can be positive or negative), `scaled` by $\\|b\\|$"
      ],
      "metadata": {
        "id": "UGN6FPACVH71"
      }
    },
    {
      "cell_type": "code",
      "source": [],
      "metadata": {
        "id": "I_LmsJ04A49Y"
      },
      "execution_count": null,
      "outputs": []
    }
  ]
}