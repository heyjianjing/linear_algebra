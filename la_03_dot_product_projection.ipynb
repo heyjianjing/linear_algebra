{
  "nbformat": 4,
  "nbformat_minor": 0,
  "metadata": {
    "colab": {
      "provenance": []
    },
    "kernelspec": {
      "name": "python3",
      "display_name": "Python 3"
    },
    "language_info": {
      "name": "python"
    }
  },
  "cells": [
    {
      "cell_type": "markdown",
      "source": [
        "#### Algebraic definition of dot product"
      ],
      "metadata": {
        "id": "cAvNgUEGZHF1"
      }
    },
    {
      "cell_type": "markdown",
      "source": [
        "For\n",
        "\n",
        "$$a=\\begin{bmatrix}a_1\\\\a_2\\\\\\vdots\\\\a_n\\end{bmatrix}, \\, b=\\begin{bmatrix}b_1\\\\b_2\\\\\\vdots\\\\b_n\\end{bmatrix}$$\n",
        "\n",
        "Definition of `dot product` is\n",
        "\n",
        "$$a\\cdot b=a^Tb=\\sum_{i=1}^n a_ib_i$$"
      ],
      "metadata": {
        "id": "FFUmogHNXZlo"
      }
    },
    {
      "cell_type": "markdown",
      "source": [
        "#### Equivalence with projection"
      ],
      "metadata": {
        "id": "1J1k4JygTteA"
      }
    },
    {
      "cell_type": "markdown",
      "source": [
        "First we show\n",
        "\n",
        "$$a\\cdot b =\\|a\\|\\|b\\|\\cos \\theta$$"
      ],
      "metadata": {
        "id": "IIhrH6eDT6S-"
      }
    },
    {
      "cell_type": "markdown",
      "source": [
        "Define a vector $c=a-b$, we have\n",
        "\n",
        "$$\\begin{align*}\n",
        "\\|c\\|^2&=\\sum_{i=1}^n c_i^2\\\\\n",
        "&=c\\cdot c \\\\\n",
        "&=(a-b)\\cdot (a-b)\\\\\n",
        "&=\\sum_{i=1}^n (a_i-b_i)(a_i-b_i) \\\\\n",
        "&=\\sum_{i=1}^n a_i^2+b_i^2-2a_ib_i \\\\\n",
        "&=\\sum_{i=1}^n a_i^2+\\sum_{i=1}^nb_i^2-2\\sum_{i=1}^na_ib_i \\\\\n",
        "&=a\\cdot a+b\\cdot b-2(a\\cdot b)\\\\\n",
        "&=\\|a\\|^2+\\|b\\|^2-2(a\\cdot b)\n",
        "\\end{align*}$$"
      ],
      "metadata": {
        "id": "equWTGQ6UAP7"
      }
    },
    {
      "cell_type": "markdown",
      "source": [
        "On the other hand, by the `law of cosines for triangle`, we have\n",
        "\n",
        "$$\n",
        "\\|c\\|^2=\\|a\\|^2+\\|b\\|^2-2\\|a\\|\\|b\\|\\cos \\theta\n",
        "$$"
      ],
      "metadata": {
        "id": "Vr-6YnfYVmGw"
      }
    },
    {
      "cell_type": "markdown",
      "source": [
        "Therefore\n",
        "\n",
        "$$a\\cdot b = \\|a\\|\\|b\\|\\cos\\theta$$"
      ],
      "metadata": {
        "id": "AgePDvO9Vn4g"
      }
    },
    {
      "cell_type": "markdown",
      "source": [
        "$\\|a\\|\\|b\\|\\cos \\theta$ is the `signed projection length` of vector $a$ in direction of vector $b$ (as $\\cos$ can be positive or negative), `scaled` by $\\|b\\|$"
      ],
      "metadata": {
        "id": "UGN6FPACVH71"
      }
    },
    {
      "cell_type": "markdown",
      "source": [
        "#### Projected vector"
      ],
      "metadata": {
        "id": "dhvyRqqMIcs7"
      }
    },
    {
      "cell_type": "markdown",
      "source": [
        "While dot product gives a scaled projection length, geometrically, projection of a vector $b$ onto another vector $a$ is still a `vector` that is a scaled version of $a$, we denote it $ka$ where $k$ is a scalar (see figure below)\n",
        "\n",
        "Since $c=b-ka$, by property of projection, we have\n",
        "\n",
        "$$a^Tc=a^T(b-ka)=0$$\n",
        "\n",
        "and we can solve for $k$\n",
        "\n",
        "$$k=\\frac{a^Tb}{a^Ta}$$\n",
        "\n",
        "Now, we know the projection of $b$ onto $a$ as a vector is expressed as\n",
        "\n",
        "$$\\begin{align*}ka&=\\frac{a^Tb}{a^Ta}a \\\\\n",
        "& \\frac{a^Tb}{a^Ta} \\text{ is a scalar} \\\\\n",
        "&=a\\frac{a^Tb}{a^Ta} \\\\\n",
        "&=\\frac{aa^T}{a^Ta}b \\\\\n",
        "\\end{align*}$$\n",
        "\n",
        "Notice $\\frac{aa^T}{a^Ta}$ is a matrix\n",
        "\n",
        "Therefore, for a vector $b$, $\\frac{aa^T}{a^Ta}$ is the `projection matrix` of the vector onto the direction of $a$"
      ],
      "metadata": {
        "id": "XfauKA2CIfsZ"
      }
    },
    {
      "cell_type": "markdown",
      "source": [
        "What is the projection onto the direction `orthogonal` to $a$, which is $c$ in this case?\n",
        "\n",
        "with $c=b-ka$, we have\n",
        "\n",
        "$$c=b-\\frac{aa^T}{a^Ta}b=\\left(I-\\frac{aa^T}{a^Ta}\\right)b$$\n",
        "\n",
        "Therefore, the projection matrix onto the direction orthogonal to $a$ is $\\left(I-\\frac{aa^T}{a^Ta}\\right)$"
      ],
      "metadata": {
        "id": "B_DmVOgAN0yG"
      }
    },
    {
      "cell_type": "code",
      "source": [
        "import matplotlib.pyplot as plt\n",
        "import numpy as np\n",
        "np.set_printoptions(formatter={'float': '{: 0.4f}'.format})\n",
        "\n",
        "plt.style.use('dark_background')\n",
        "# color: https://matplotlib.org/stable/gallery/color/named_colors.htm"
      ],
      "metadata": {
        "id": "I_LmsJ04A49Y"
      },
      "execution_count": 1,
      "outputs": []
    },
    {
      "cell_type": "code",
      "source": [
        "fig, ax = plt.subplots(figsize=(6, 4))\n",
        "\n",
        "# a\n",
        "ax.plot([0, 1], [0,0], 'y', linewidth=2, zorder=0)\n",
        "ax.arrow(1-0.2, 0, 0.001, 0, head_width=0.1, head_length=0.2, fc='y')\n",
        "ax.text(1, -0.2, '$a$', horizontalalignment='center', verticalalignment='center', fontsize=12, color='y')\n",
        "\n",
        "# b\n",
        "ax.plot([0, 2], [0,1], 'c', linewidth=2, zorder=0)\n",
        "ax.arrow(2-0.2/1, 1-0.2/2, 0.002, 0.001, head_width=0.1, head_length=0.2, fc='c', ec='c')\n",
        "ax.text(2, 1.2, \"$b$\", horizontalalignment='center', verticalalignment='center', fontsize=12, color='c')\n",
        "\n",
        "# component of b in a direction\n",
        "ax.plot([0, 2], [0,0], 'r', linewidth=2, zorder=-3)\n",
        "ax.arrow(2-0.2, 0, 0.001, 0, head_width=0.1, head_length=0.2, fc='r', ec='r')\n",
        "ax.text(2, -0.2, '$ka$', horizontalalignment='center', verticalalignment='center', fontsize=12, color='r')\n",
        "\n",
        "# c\n",
        "ax.plot([2, 2], [0,1], 'limegreen', linewidth=2, zorder=-3)\n",
        "ax.arrow(2, 1-0.2, 0.000, 0.001, head_width=0.1, head_length=0.2, fc='limegreen', ec='limegreen')\n",
        "ax.text(2.2, 0.5, r'$c$', horizontalalignment='center', verticalalignment='center', fontsize=12, color='limegreen')\n",
        "\n",
        "ax.set_xlim(-0.5, 3.5)\n",
        "ax.set_ylim(-0.5, 1.5)\n",
        "ax.set_aspect('equal')\n",
        "\n",
        "ax.grid(True, alpha=0.3)\n",
        "\n",
        "plt.tight_layout()\n",
        "plt.show()"
      ],
      "metadata": {
        "colab": {
          "base_uri": "https://localhost:8080/",
          "height": 319
        },
        "id": "BVdBZ5AuI0Po",
        "outputId": "8c14e704-2b66-495c-fc30-bc1e1ba7550b"
      },
      "execution_count": 9,
      "outputs": [
        {
          "output_type": "display_data",
          "data": {
            "text/plain": [
              "<Figure size 600x400 with 1 Axes>"
            ],
            "image/png": "[encoded data removed]"
          },
          "metadata": {}
        }
      ]
    },
    {
      "cell_type": "code",
      "source": [],
      "metadata": {
        "id": "Mg4dYjZPJG45"
      },
      "execution_count": null,
      "outputs": []
    }
  ]
}